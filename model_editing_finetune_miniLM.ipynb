{
  "cells": [
    {
      "cell_type": "code",
      "execution_count": null,
      "metadata": {
        "id": "QUC7IrBEQthF"
      },
      "outputs": [
        {
          "ename": "",
          "evalue": "",
          "output_type": "error",
          "traceback": [
            "\u001b[1;31mThe file 'random.py' seems to be overriding built in modules and interfering with the startup of the kernel. Consider renaming the file and starting the kernel again.\n",
            "\u001b[1;31mClick <a href='https://aka.ms/kernelFailuresOverridingBuiltInModules'>here</a> for more info."
          ]
        }
      ],
      "source": [
        "\"\"\"\n",
        "This code is our finetuning experiment with IDF alignment & finetuning just the embedding.\n",
        "\"\"\""
      ]
    },
    {
      "cell_type": "code",
      "execution_count": null,
      "metadata": {},
      "outputs": [],
      "source": [
        "SEED = 6"
      ]
    },
    {
      "cell_type": "code",
      "execution_count": null,
      "metadata": {
        "colab": {
          "base_uri": "https://localhost:8080/"
        },
        "id": "GkqBdVYswIuu",
        "outputId": "69be6671-5304-4647-dd9c-47460096e061"
      },
      "outputs": [
        {
          "name": "stdout",
          "output_type": "stream",
          "text": [
            "Drive already mounted at /content/drive; to attempt to forcibly remount, call drive.mount(\"/content/drive\", force_remount=True).\n"
          ]
        }
      ],
      "source": [
        "from google.colab import drive\n",
        "drive.mount('/content/drive')\n",
        "import os\n",
        "root_dir = '/content/drive/My Drive/crossencoder/'\n",
        "os.chdir(root_dir)"
      ]
    },
    {
      "cell_type": "code",
      "execution_count": null,
      "metadata": {
        "colab": {
          "base_uri": "https://localhost:8080/"
        },
        "id": "Xx-v50npPxCV",
        "outputId": "7ca0bdcc-c854-4fdb-a13d-286adac985d4"
      },
      "outputs": [
        {
          "name": "stdout",
          "output_type": "stream",
          "text": [
            "Collecting pytrec_eval\n",
            "  Downloading pytrec_eval-0.5.tar.gz (15 kB)\n",
            "  Preparing metadata (setup.py) ... \u001b[?25l\u001b[?25hdone\n",
            "Building wheels for collected packages: pytrec_eval\n",
            "  Building wheel for pytrec_eval (setup.py) ... \u001b[?25l\u001b[?25hdone\n",
            "  Created wheel for pytrec_eval: filename=pytrec_eval-0.5-cp310-cp310-linux_x86_64.whl size=308214 sha256=e7fb7be117ac388ab50be7e906c3f781b882957f9314b28fce86995160f786c0\n",
            "  Stored in directory: /root/.cache/pip/wheels/51/3a/cd/dcc1ddfc763987d5cb237165d8ac249aa98a23ab90f67317a8\n",
            "Successfully built pytrec_eval\n",
            "Installing collected packages: pytrec_eval\n",
            "Successfully installed pytrec_eval-0.5\n"
          ]
        }
      ],
      "source": [
        "!pip install transformers -q\n",
        "!pip install pytrec_eval  # To evaluate IR models"
      ]
    },
    {
      "cell_type": "code",
      "execution_count": null,
      "metadata": {
        "id": "KRi1VPaJRNzz"
      },
      "outputs": [],
      "source": [
        "import random\n",
        "import torch\n",
        "import torch.nn.functional as F\n",
        "import numpy as np"
      ]
    },
    {
      "cell_type": "code",
      "execution_count": null,
      "metadata": {
        "colab": {
          "base_uri": "https://localhost:8080/"
        },
        "id": "DZm3JdwtRRGB",
        "outputId": "e3b5bc26-11cb-404a-dd84-828d66c71f48"
      },
      "outputs": [
        {
          "data": {
            "text/plain": [
              "<torch._C.Generator at 0x7cef4cdda770>"
            ]
          },
          "execution_count": 6,
          "metadata": {},
          "output_type": "execute_result"
        }
      ],
      "source": [
        "# It is important to fix the so we can reproduce our results and debug without random changes in the result.\n",
        "random.seed(SEED)\n",
        "np.random.seed(SEED)\n",
        "torch.manual_seed(SEED)"
      ]
    },
    {
      "cell_type": "code",
      "execution_count": null,
      "metadata": {
        "colab": {
          "base_uri": "https://localhost:8080/"
        },
        "id": "xCqx4BK7RTOD",
        "outputId": "c51a1004-8b5e-48a9-a415-1b9b2a0aefa2"
      },
      "outputs": [
        {
          "name": "stdout",
          "output_type": "stream",
          "text": [
            "Wed Dec 18 16:18:05 2024       \n",
            "+---------------------------------------------------------------------------------------+\n",
            "| NVIDIA-SMI 535.104.05             Driver Version: 535.104.05   CUDA Version: 12.2     |\n",
            "|-----------------------------------------+----------------------+----------------------+\n",
            "| GPU  Name                 Persistence-M | Bus-Id        Disp.A | Volatile Uncorr. ECC |\n",
            "| Fan  Temp   Perf          Pwr:Usage/Cap |         Memory-Usage | GPU-Util  Compute M. |\n",
            "|                                         |                      |               MIG M. |\n",
            "|=========================================+======================+======================|\n",
            "|   0  NVIDIA A100-SXM4-40GB          Off | 00000000:00:04.0 Off |                    0 |\n",
            "| N/A   36C    P0              46W / 400W |      2MiB / 40960MiB |      0%      Default |\n",
            "|                                         |                      |             Disabled |\n",
            "+-----------------------------------------+----------------------+----------------------+\n",
            "                                                                                         \n",
            "+---------------------------------------------------------------------------------------+\n",
            "| Processes:                                                                            |\n",
            "|  GPU   GI   CI        PID   Type   Process name                            GPU Memory |\n",
            "|        ID   ID                                                             Usage      |\n",
            "|=======================================================================================|\n",
            "|  No running processes found                                                           |\n",
            "+---------------------------------------------------------------------------------------+\n"
          ]
        }
      ],
      "source": [
        "!nvidia-smi"
      ]
    },
    {
      "cell_type": "markdown",
      "metadata": {
        "id": "X0_fOLoCoFUs"
      },
      "source": [
        "# Set up BEIR for evaluation"
      ]
    },
    {
      "cell_type": "code",
      "execution_count": null,
      "metadata": {
        "colab": {
          "base_uri": "https://localhost:8080/"
        },
        "id": "94iopcpFoEbH",
        "outputId": "ac1e88cc-1e84-48cd-ef0e-2c12d0482924"
      },
      "outputs": [
        {
          "name": "stdout",
          "output_type": "stream",
          "text": [
            "Collecting beir\n",
            "  Downloading beir-2.0.0.tar.gz (53 kB)\n",
            "\u001b[?25l     \u001b[90m━━━━━━━━━━━━━━━━━━━━━━━━━━━━━━━━━━━━━━━━\u001b[0m \u001b[32m0.0/53.6 kB\u001b[0m \u001b[31m?\u001b[0m eta \u001b[36m-:--:--\u001b[0m\r\u001b[2K     \u001b[90m━━━━━━━━━━━━━━━━━━━━━━━━━━━━━━━━━━━━━━━━\u001b[0m \u001b[32m53.6/53.6 kB\u001b[0m \u001b[31m2.3 MB/s\u001b[0m eta \u001b[36m0:00:00\u001b[0m\n",
            "\u001b[?25h  Preparing metadata (setup.py) ... \u001b[?25l\u001b[?25hdone\n",
            "Requirement already satisfied: sentence-transformers in /usr/local/lib/python3.10/dist-packages (from beir) (3.2.1)\n",
            "Requirement already satisfied: pytrec_eval in /usr/local/lib/python3.10/dist-packages (from beir) (0.5)\n",
            "Collecting faiss_cpu (from beir)\n",
            "  Downloading faiss_cpu-1.9.0.post1-cp310-cp310-manylinux_2_17_x86_64.manylinux2014_x86_64.whl.metadata (4.4 kB)\n",
            "Collecting elasticsearch==7.9.1 (from beir)\n",
            "  Downloading elasticsearch-7.9.1-py2.py3-none-any.whl.metadata (8.0 kB)\n",
            "Collecting datasets (from beir)\n",
            "  Downloading datasets-3.2.0-py3-none-any.whl.metadata (20 kB)\n",
            "Requirement already satisfied: urllib3>=1.21.1 in /usr/local/lib/python3.10/dist-packages (from elasticsearch==7.9.1->beir) (2.2.3)\n",
            "Requirement already satisfied: certifi in /usr/local/lib/python3.10/dist-packages (from elasticsearch==7.9.1->beir) (2024.8.30)\n",
            "Requirement already satisfied: filelock in /usr/local/lib/python3.10/dist-packages (from datasets->beir) (3.16.1)\n",
            "Requirement already satisfied: numpy>=1.17 in /usr/local/lib/python3.10/dist-packages (from datasets->beir) (1.26.4)\n",
            "Requirement already satisfied: pyarrow>=15.0.0 in /usr/local/lib/python3.10/dist-packages (from datasets->beir) (17.0.0)\n",
            "Collecting dill<0.3.9,>=0.3.0 (from datasets->beir)\n",
            "  Downloading dill-0.3.8-py3-none-any.whl.metadata (10 kB)\n",
            "Requirement already satisfied: pandas in /usr/local/lib/python3.10/dist-packages (from datasets->beir) (2.2.2)\n",
            "Requirement already satisfied: requests>=2.32.2 in /usr/local/lib/python3.10/dist-packages (from datasets->beir) (2.32.3)\n",
            "Requirement already satisfied: tqdm>=4.66.3 in /usr/local/lib/python3.10/dist-packages (from datasets->beir) (4.66.6)\n",
            "Collecting xxhash (from datasets->beir)\n",
            "  Downloading xxhash-3.5.0-cp310-cp310-manylinux_2_17_x86_64.manylinux2014_x86_64.whl.metadata (12 kB)\n",
            "Collecting multiprocess<0.70.17 (from datasets->beir)\n",
            "  Downloading multiprocess-0.70.16-py310-none-any.whl.metadata (7.2 kB)\n",
            "Collecting fsspec<=2024.9.0,>=2023.1.0 (from fsspec[http]<=2024.9.0,>=2023.1.0->datasets->beir)\n",
            "  Downloading fsspec-2024.9.0-py3-none-any.whl.metadata (11 kB)\n",
            "Requirement already satisfied: aiohttp in /usr/local/lib/python3.10/dist-packages (from datasets->beir) (3.11.10)\n",
            "Requirement already satisfied: huggingface-hub>=0.23.0 in /usr/local/lib/python3.10/dist-packages (from datasets->beir) (0.26.5)\n",
            "Requirement already satisfied: packaging in /usr/local/lib/python3.10/dist-packages (from datasets->beir) (24.2)\n",
            "Requirement already satisfied: pyyaml>=5.1 in /usr/local/lib/python3.10/dist-packages (from datasets->beir) (6.0.2)\n",
            "Requirement already satisfied: transformers<5.0.0,>=4.41.0 in /usr/local/lib/python3.10/dist-packages (from sentence-transformers->beir) (4.46.3)\n",
            "Requirement already satisfied: torch>=1.11.0 in /usr/local/lib/python3.10/dist-packages (from sentence-transformers->beir) (2.5.1+cu121)\n",
            "Requirement already satisfied: scikit-learn in /usr/local/lib/python3.10/dist-packages (from sentence-transformers->beir) (1.5.2)\n",
            "Requirement already satisfied: scipy in /usr/local/lib/python3.10/dist-packages (from sentence-transformers->beir) (1.13.1)\n",
            "Requirement already satisfied: Pillow in /usr/local/lib/python3.10/dist-packages (from sentence-transformers->beir) (11.0.0)\n",
            "Requirement already satisfied: aiohappyeyeballs>=2.3.0 in /usr/local/lib/python3.10/dist-packages (from aiohttp->datasets->beir) (2.4.4)\n",
            "Requirement already satisfied: aiosignal>=1.1.2 in /usr/local/lib/python3.10/dist-packages (from aiohttp->datasets->beir) (1.3.2)\n",
            "Requirement already satisfied: async-timeout<6.0,>=4.0 in /usr/local/lib/python3.10/dist-packages (from aiohttp->datasets->beir) (4.0.3)\n",
            "Requirement already satisfied: attrs>=17.3.0 in /usr/local/lib/python3.10/dist-packages (from aiohttp->datasets->beir) (24.2.0)\n",
            "Requirement already satisfied: frozenlist>=1.1.1 in /usr/local/lib/python3.10/dist-packages (from aiohttp->datasets->beir) (1.5.0)\n",
            "Requirement already satisfied: multidict<7.0,>=4.5 in /usr/local/lib/python3.10/dist-packages (from aiohttp->datasets->beir) (6.1.0)\n",
            "Requirement already satisfied: propcache>=0.2.0 in /usr/local/lib/python3.10/dist-packages (from aiohttp->datasets->beir) (0.2.1)\n",
            "Requirement already satisfied: yarl<2.0,>=1.17.0 in /usr/local/lib/python3.10/dist-packages (from aiohttp->datasets->beir) (1.18.3)\n",
            "Requirement already satisfied: typing-extensions>=3.7.4.3 in /usr/local/lib/python3.10/dist-packages (from huggingface-hub>=0.23.0->datasets->beir) (4.12.2)\n",
            "Requirement already satisfied: charset-normalizer<4,>=2 in /usr/local/lib/python3.10/dist-packages (from requests>=2.32.2->datasets->beir) (3.4.0)\n",
            "Requirement already satisfied: idna<4,>=2.5 in /usr/local/lib/python3.10/dist-packages (from requests>=2.32.2->datasets->beir) (3.10)\n",
            "Requirement already satisfied: networkx in /usr/local/lib/python3.10/dist-packages (from torch>=1.11.0->sentence-transformers->beir) (3.4.2)\n",
            "Requirement already satisfied: jinja2 in /usr/local/lib/python3.10/dist-packages (from torch>=1.11.0->sentence-transformers->beir) (3.1.4)\n",
            "Requirement already satisfied: sympy==1.13.1 in /usr/local/lib/python3.10/dist-packages (from torch>=1.11.0->sentence-transformers->beir) (1.13.1)\n",
            "Requirement already satisfied: mpmath<1.4,>=1.1.0 in /usr/local/lib/python3.10/dist-packages (from sympy==1.13.1->torch>=1.11.0->sentence-transformers->beir) (1.3.0)\n",
            "Requirement already satisfied: regex!=2019.12.17 in /usr/local/lib/python3.10/dist-packages (from transformers<5.0.0,>=4.41.0->sentence-transformers->beir) (2024.9.11)\n",
            "Requirement already satisfied: tokenizers<0.21,>=0.20 in /usr/local/lib/python3.10/dist-packages (from transformers<5.0.0,>=4.41.0->sentence-transformers->beir) (0.20.3)\n",
            "Requirement already satisfied: safetensors>=0.4.1 in /usr/local/lib/python3.10/dist-packages (from transformers<5.0.0,>=4.41.0->sentence-transformers->beir) (0.4.5)\n",
            "Requirement already satisfied: python-dateutil>=2.8.2 in /usr/local/lib/python3.10/dist-packages (from pandas->datasets->beir) (2.8.2)\n",
            "Requirement already satisfied: pytz>=2020.1 in /usr/local/lib/python3.10/dist-packages (from pandas->datasets->beir) (2024.2)\n",
            "Requirement already satisfied: tzdata>=2022.7 in /usr/local/lib/python3.10/dist-packages (from pandas->datasets->beir) (2024.2)\n",
            "Requirement already satisfied: joblib>=1.2.0 in /usr/local/lib/python3.10/dist-packages (from scikit-learn->sentence-transformers->beir) (1.4.2)\n",
            "Requirement already satisfied: threadpoolctl>=3.1.0 in /usr/local/lib/python3.10/dist-packages (from scikit-learn->sentence-transformers->beir) (3.5.0)\n",
            "Requirement already satisfied: six>=1.5 in /usr/local/lib/python3.10/dist-packages (from python-dateutil>=2.8.2->pandas->datasets->beir) (1.17.0)\n",
            "Requirement already satisfied: MarkupSafe>=2.0 in /usr/local/lib/python3.10/dist-packages (from jinja2->torch>=1.11.0->sentence-transformers->beir) (3.0.2)\n",
            "Downloading elasticsearch-7.9.1-py2.py3-none-any.whl (219 kB)\n",
            "\u001b[2K   \u001b[90m━━━━━━━━━━━━━━━━━━━━━━━━━━━━━━━━━━━━━━━━\u001b[0m \u001b[32m219.2/219.2 kB\u001b[0m \u001b[31m7.0 MB/s\u001b[0m eta \u001b[36m0:00:00\u001b[0m\n",
            "\u001b[?25hDownloading datasets-3.2.0-py3-none-any.whl (480 kB)\n",
            "\u001b[2K   \u001b[90m━━━━━━━━━━━━━━━━━━━━━━━━━━━━━━━━━━━━━━━━\u001b[0m \u001b[32m480.6/480.6 kB\u001b[0m \u001b[31m20.6 MB/s\u001b[0m eta \u001b[36m0:00:00\u001b[0m\n",
            "\u001b[?25hDownloading faiss_cpu-1.9.0.post1-cp310-cp310-manylinux_2_17_x86_64.manylinux2014_x86_64.whl (27.5 MB)\n",
            "\u001b[2K   \u001b[90m━━━━━━━━━━━━━━━━━━━━━━━━━━━━━━━━━━━━━━━━\u001b[0m \u001b[32m27.5/27.5 MB\u001b[0m \u001b[31m76.0 MB/s\u001b[0m eta \u001b[36m0:00:00\u001b[0m\n",
            "\u001b[?25hDownloading dill-0.3.8-py3-none-any.whl (116 kB)\n",
            "\u001b[2K   \u001b[90m━━━━━━━━━━━━━━━━━━━━━━━━━━━━━━━━━━━━━━━━\u001b[0m \u001b[32m116.3/116.3 kB\u001b[0m \u001b[31m11.5 MB/s\u001b[0m eta \u001b[36m0:00:00\u001b[0m\n",
            "\u001b[?25hDownloading fsspec-2024.9.0-py3-none-any.whl (179 kB)\n",
            "\u001b[2K   \u001b[90m━━━━━━━━━━━━━━━━━━━━━━━━━━━━━━━━━━━━━━━━\u001b[0m \u001b[32m179.3/179.3 kB\u001b[0m \u001b[31m17.4 MB/s\u001b[0m eta \u001b[36m0:00:00\u001b[0m\n",
            "\u001b[?25hDownloading multiprocess-0.70.16-py310-none-any.whl (134 kB)\n",
            "\u001b[2K   \u001b[90m━━━━━━━━━━━━━━━━━━━━━━━━━━━━━━━━━━━━━━━━\u001b[0m \u001b[32m134.8/134.8 kB\u001b[0m \u001b[31m12.8 MB/s\u001b[0m eta \u001b[36m0:00:00\u001b[0m\n",
            "\u001b[?25hDownloading xxhash-3.5.0-cp310-cp310-manylinux_2_17_x86_64.manylinux2014_x86_64.whl (194 kB)\n",
            "\u001b[2K   \u001b[90m━━━━━━━━━━━━━━━━━━━━━━━━━━━━━━━━━━━━━━━━\u001b[0m \u001b[32m194.1/194.1 kB\u001b[0m \u001b[31m17.5 MB/s\u001b[0m eta \u001b[36m0:00:00\u001b[0m\n",
            "\u001b[?25hBuilding wheels for collected packages: beir\n",
            "  Building wheel for beir (setup.py) ... \u001b[?25l\u001b[?25hdone\n",
            "  Created wheel for beir: filename=beir-2.0.0-py3-none-any.whl size=63550 sha256=f48b734dd43debc1ec270e6f3ddf00388bec953c39800f3dde1ff567784b6128\n",
            "  Stored in directory: /root/.cache/pip/wheels/1c/14/96/c606ede3c10e9300ef771a6183af09d389459195ff5f854862\n",
            "Successfully built beir\n",
            "Installing collected packages: xxhash, fsspec, faiss_cpu, elasticsearch, dill, multiprocess, datasets, beir\n",
            "  Attempting uninstall: fsspec\n",
            "    Found existing installation: fsspec 2024.10.0\n",
            "    Uninstalling fsspec-2024.10.0:\n",
            "      Successfully uninstalled fsspec-2024.10.0\n",
            "\u001b[31mERROR: pip's dependency resolver does not currently take into account all the packages that are installed. This behaviour is the source of the following dependency conflicts.\n",
            "gcsfs 2024.10.0 requires fsspec==2024.10.0, but you have fsspec 2024.9.0 which is incompatible.\u001b[0m\u001b[31m\n",
            "\u001b[0mSuccessfully installed beir-2.0.0 datasets-3.2.0 dill-0.3.8 elasticsearch-7.9.1 faiss_cpu-1.9.0.post1 fsspec-2024.9.0 multiprocess-0.70.16 xxhash-3.5.0\n"
          ]
        }
      ],
      "source": [
        "!pip install beir"
      ]
    },
    {
      "cell_type": "code",
      "execution_count": null,
      "metadata": {
        "colab": {
          "base_uri": "https://localhost:8080/",
          "height": 104,
          "referenced_widgets": [
            "75cb7c97847741129ecb534bb258c7a8",
            "720c2e0b8a91428da97c048b554e7b02",
            "aded01f48720493d84f9f9dc1b0a9d53",
            "8c2ce2dd461242a2911377f57544ec20",
            "cdcd377ee9a344b8943da62c84bc1026",
            "d673023d6e964b96a93a56108d387cb7",
            "cdf8a306457a473ab4a86c826f0ae613",
            "78bb84efedb440e99403927a50380d9c",
            "24bc17addc184b61b8e236b868237c39",
            "c478180972114926b89d294db86befee",
            "93fc0947c8b14e449bd9ce12ddd9fe88"
          ]
        },
        "id": "vbmAOAFRoMhg",
        "outputId": "71d9ece7-2218-4451-a385-04ae4230acca"
      },
      "outputs": [
        {
          "name": "stderr",
          "output_type": "stream",
          "text": [
            "/usr/local/lib/python3.10/dist-packages/beir/datasets/data_loader.py:2: TqdmExperimentalWarning: Using `tqdm.autonotebook.tqdm` in notebook mode. Use `tqdm.tqdm` instead to force console mode (e.g. in jupyter console)\n",
            "  from tqdm.autonotebook import tqdm\n"
          ]
        },
        {
          "data": {
            "application/vnd.jupyter.widget-view+json": {
              "model_id": "75cb7c97847741129ecb534bb258c7a8",
              "version_major": 2,
              "version_minor": 0
            },
            "text/plain": [
              "  0%|          | 0/3633 [00:00<?, ?it/s]"
            ]
          },
          "metadata": {},
          "output_type": "display_data"
        }
      ],
      "source": [
        "from beir.datasets.data_loader import GenericDataLoader\n",
        "\n",
        "#data_path = \"datasets/scifact\"\n",
        "DATASET ='nfcorpus'\n",
        "data_path = f\"datasets/{DATASET}\"\n",
        "corpus, queries, qrels = GenericDataLoader(data_path).load(split=\"test\") # or split = \"train\" or \"dev\""
      ]
    },
    {
      "cell_type": "code",
      "execution_count": null,
      "metadata": {
        "colab": {
          "base_uri": "https://localhost:8080/"
        },
        "id": "GQ8fLpSAoOss",
        "outputId": "2bf6c05e-31dd-4aac-e318-38d053c26d63"
      },
      "outputs": [
        {
          "name": "stdout",
          "output_type": "stream",
          "text": [
            "elasticsearch-oss-7.9.2-linux-x86_64.tar.gz: OK\n"
          ]
        }
      ],
      "source": [
        "%%bash\n",
        "\n",
        "wget -q https://artifacts.elastic.co/downloads/elasticsearch/elasticsearch-oss-7.9.2-linux-x86_64.tar.gz\n",
        "wget -q https://artifacts.elastic.co/downloads/elasticsearch/elasticsearch-oss-7.9.2-linux-x86_64.tar.gz.sha512\n",
        "tar -xzf elasticsearch-oss-7.9.2-linux-x86_64.tar.gz\n",
        "sudo chown -R daemon:daemon elasticsearch-7.9.2/\n",
        "shasum -a 512 -c elasticsearch-oss-7.9.2-linux-x86_64.tar.gz.sha512\n",
        "\n"
      ]
    },
    {
      "cell_type": "code",
      "execution_count": null,
      "metadata": {
        "id": "_TkpwgQIoRi1"
      },
      "outputs": [],
      "source": [
        "%%bash --bg\n",
        "\n",
        "sudo -H -u daemon elasticsearch-7.9.2/bin/elasticsearch\n"
      ]
    },
    {
      "cell_type": "code",
      "execution_count": null,
      "metadata": {
        "id": "tOom5rCgoURg"
      },
      "outputs": [],
      "source": [
        "\n",
        "import time\n",
        "\n",
        "# Sleep for few seconds to let the instance start.\n",
        "time.sleep(20)"
      ]
    },
    {
      "cell_type": "code",
      "execution_count": null,
      "metadata": {
        "colab": {
          "base_uri": "https://localhost:8080/"
        },
        "id": "7E9E46UIoViH",
        "outputId": "ca01fb73-4abf-4d97-ac67-27e82e1f6830"
      },
      "outputs": [
        {
          "name": "stdout",
          "output_type": "stream",
          "text": [
            "root        4450    4448  0 16:19 ?        00:00:00 grep elasticsearch\n"
          ]
        }
      ],
      "source": [
        "%%bash\n",
        "\n",
        "ps -ef | grep elasticsearch"
      ]
    },
    {
      "cell_type": "code",
      "execution_count": null,
      "metadata": {
        "colab": {
          "base_uri": "https://localhost:8080/"
        },
        "id": "bknYLyeeoXBS",
        "outputId": "805955d4-aca1-41d3-cba2-453c3d57eed0"
      },
      "outputs": [
        {
          "name": "stderr",
          "output_type": "stream",
          "text": [
            "ERROR:root:Unable to create Index in Elastic Search. Reason: ConnectionError(<urllib3.connection.HTTPConnection object at 0x7cee7559cee0>: Failed to establish a new connection: [Errno 111] Connection refused) caused by: NewConnectionError(<urllib3.connection.HTTPConnection object at 0x7cee7559cee0>: Failed to establish a new connection: [Errno 111] Connection refused)\n",
            "ERROR:root:Unable to create Index in Elastic Search. Reason: ConnectionError(<urllib3.connection.HTTPConnection object at 0x7cee7559cc40>: Failed to establish a new connection: [Errno 111] Connection refused) caused by: NewConnectionError(<urllib3.connection.HTTPConnection object at 0x7cee7559cc40>: Failed to establish a new connection: [Errno 111] Connection refused)\n",
            "  0%|          | 0/3633 [00:00<?, ?docs/s]"
          ]
        },
        {
          "name": "stdout",
          "output_type": "stream",
          "text": [
            "ConnectionError(<urllib3.connection.HTTPConnection object at 0x7cee7559d0c0>: Failed to establish a new connection: [Errno 111] Connection refused) caused by: NewConnectionError(<urllib3.connection.HTTPConnection object at 0x7cee7559d0c0>: Failed to establish a new connection: [Errno 111] Connection refused)\n"
          ]
        }
      ],
      "source": [
        "from beir.retrieval.search.lexical import BM25Search as BM25\n",
        "from beir.retrieval.evaluation import EvaluateRetrieval\n",
        "try:\n",
        "\n",
        "\n",
        "  #### Provide parameters for elastic-search\n",
        "  hostname = \"localhost\"\n",
        "  index_name = f\"{DATASET}\"\n",
        "  initialize = True # True, will delete existing index with same name and reindex all documents\n",
        "\n",
        "  model = BM25(index_name=index_name, hostname=hostname, initialize=initialize)\n",
        "  retriever = EvaluateRetrieval(model)\n",
        "\n",
        "  #### Retrieve dense results (format of results is identical to qrels)\n",
        "  results = retriever.retrieve(corpus, queries)\n",
        "except Exception as e:\n",
        "  print(e)\n"
      ]
    },
    {
      "cell_type": "code",
      "execution_count": null,
      "metadata": {
        "colab": {
          "base_uri": "https://localhost:8080/"
        },
        "id": "7XHU_3InogH6",
        "outputId": "87eb2592-e5e4-4965-caae-0a53b540dee1"
      },
      "outputs": [
        {
          "name": "stderr",
          "output_type": "stream",
          "text": [
            "\r  0%|          | 0/3633 [00:00<?, ?docs/s]\n",
            "ERROR:root:Unable to create Index in Elastic Search. Reason: ConnectionError(<urllib3.connection.HTTPConnection object at 0x7cee87807310>: Failed to establish a new connection: [Errno 111] Connection refused) caused by: NewConnectionError(<urllib3.connection.HTTPConnection object at 0x7cee87807310>: Failed to establish a new connection: [Errno 111] Connection refused)\n",
            "ERROR:root:Unable to create Index in Elastic Search. Reason: ConnectionError(<urllib3.connection.HTTPConnection object at 0x7cee756e5360>: Failed to establish a new connection: [Errno 111] Connection refused) caused by: NewConnectionError(<urllib3.connection.HTTPConnection object at 0x7cee756e5360>: Failed to establish a new connection: [Errno 111] Connection refused)\n"
          ]
        },
        {
          "name": "stdout",
          "output_type": "stream",
          "text": [
            "{'NDCG@1': 0.44968, 'NDCG@3': 0.40253, 'NDCG@5': 0.37705, 'NDCG@10': 0.34281, 'NDCG@100': 0.28939, 'NDCG@1000': 0.32065} {'MAP@1': 0.05936, 'MAP@3': 0.10053, 'MAP@5': 0.11329, 'MAP@10': 0.12969, 'MAP@100': 0.15417, 'MAP@1000': 0.16002} {'Recall@1': 0.05936, 'Recall@3': 0.11319, 'Recall@5': 0.13313, 'Recall@10': 0.16603, 'Recall@100': 0.26023, 'Recall@1000': 0.38996} {'P@1': 0.46753, 'P@3': 0.37771, 'P@5': 0.32273, 'P@10': 0.24708, 'P@100': 0.06828, 'P@1000': 0.01177}\n"
          ]
        }
      ],
      "source": [
        "# Define the file path to load the results from CSV\n",
        "from beir.retrieval.search.lexical import BM25Search as BM25\n",
        "from beir.retrieval.evaluation import EvaluateRetrieval\n",
        "import csv\n",
        "\n",
        "input_file = f\"bm25_results_{DATASET}.csv\"\n",
        "\n",
        "# Initialize an empty dictionary for results\n",
        "results = {}\n",
        "\n",
        "# Load results from CSV\n",
        "with open(input_file, mode=\"r\") as file:\n",
        "    reader = csv.reader(file)\n",
        "    next(reader)  # Skip the header row if it exists\n",
        "    for row in reader:\n",
        "        query_id = row[0]\n",
        "        doc_id = row[1]\n",
        "        score = float(row[2])\n",
        "\n",
        "        # Check if the query_id is already in the results dictionary\n",
        "        if query_id not in results:\n",
        "            results[query_id] = {}\n",
        "\n",
        "        # Add document ID and its score to the query's result\n",
        "        results[query_id][doc_id] = score\n",
        "model = BM25(index_name=index_name, hostname=hostname, initialize=initialize)\n",
        "retriever = EvaluateRetrieval(model)\n",
        "#### Evaluate your retrieval using NDCG@k, MAP@K ...\n",
        "ndcg, _map, recall, precision = retriever.evaluate(qrels, results, retriever.k_values)\n",
        "print(ndcg, _map, recall, precision)"
      ]
    },
    {
      "cell_type": "code",
      "execution_count": null,
      "metadata": {
        "id": "XmJglV-hombL"
      },
      "outputs": [],
      "source": [
        "#align+finetune embedding\n",
        "from transformers import AutoModelForSequenceClassification, AutoTokenizer\n",
        "from transformers import AutoModelForSequenceClassification, AutoTokenizer, Trainer, TrainingArguments, TrainerCallback, TrainerState, TrainerControl\n",
        "from beir.reranking.models import CrossEncoder\n",
        "from beir.reranking import Rerank\n",
        "\n",
        "\n",
        "def evaluate_beir(fine_tuned_model_path,NUM_NEG_SAMPLES):\n",
        "    cross_encoder_model = CrossEncoder(fine_tuned_model_path)\n",
        "    reranker = Rerank(cross_encoder_model, batch_size=128)\n",
        "    # Rerank top-100 results using the reranker provided\n",
        "    rerank_results = reranker.rerank(corpus, queries, results, top_k=20)\n",
        "    #### Evaluate your retrieval using NDCG@k, MAP@K ...\n",
        "    ndcg, _map, recall, precision = EvaluateRetrieval.evaluate(qrels, rerank_results, retriever.k_values)\n",
        "    print(ndcg)\n",
        "    print(_map)\n",
        "    print(recall)\n",
        "    print(precision)\n",
        "    return ndcg['NDCG@1']\n",
        "#best NDCG@1 was 0.653333"
      ]
    },
    {
      "cell_type": "markdown",
      "metadata": {
        "id": "SFmvi5OrOF2m"
      },
      "source": [
        "# **SCIFACT**\n"
      ]
    },
    {
      "cell_type": "code",
      "execution_count": null,
      "metadata": {
        "colab": {
          "base_uri": "https://localhost:8080/",
          "height": 249,
          "referenced_widgets": [
            "1ce756cfa68d4bc5954f77e32bdac2fc",
            "f8e30d1364694ab4bcebc277a6bafce7",
            "3399fc8251674c61ac18e9966d7d7de6",
            "2f5713a8b59c4d0a9bb5e8a14b3cc117",
            "fa2801dc02b446d7b520408358ac7684",
            "e85bba1d0fcc41eaba95b64f8a7995a1",
            "64122b10a5f1405cbc2011960ee9edf5",
            "2c12f02bae6a4802924f7e3910a932b3",
            "638b06f5ea5543feb68cc826da16d976",
            "7cdae7b4b4cb4a44b0fb5dd40b61646f",
            "c5879d5428914af285286498c191eba7",
            "c2ca473f972748158c73c7b98cbceb37",
            "0a4c581e26074c7997cecba14e9c9013",
            "5c15d80105c3439db45839ee83d90791",
            "c8da06d8a6e3420f83b034cc39be3161",
            "ff47c4c9ac5d4821b980020d5e94d44c",
            "62e1680869404703bb0ac0ed94c26bdf",
            "f7df239184754570bd48f33d011d7cc5",
            "377c0d72226341c38556613956446538",
            "c3f2742ec4f743dd84159dc2de0f6e43",
            "eec4b432c7d1412fbc955da8d84b3c2c",
            "4a2802459bc444d788a47c623ade8a54",
            "786f4e938d5a488b9911d210d2a0714a",
            "71e3e1b788a84203a77cc8a5bacef578",
            "cb697483cba442d794870754e6a4c668",
            "994a33589da04091ba89d89e08b1a349",
            "0d3f897c2fb94d86b1d74c30d5438262",
            "1564e4a623644dd88cbf243db467c229",
            "7b96decf3690440fb3bfd26db6fd5cf7",
            "ba1bcb8deb8f4599954f3b83d9cb99fe",
            "47fb9ab401f54632b00ef284c2b3c6d9",
            "830b7650e0474b6dae88c08d2bedf04a",
            "ffa70815efa542fa82d67453754f55ea",
            "c4968d0b64554e729217763c3a7a09b6",
            "e5c888e59ee94b198685dc684745c588",
            "bcd5febfb8dd48c7a2dc9d7c9eb7f5c9",
            "0b00214cd6f34abba8c19e65a7870fe0",
            "5380c9e86bcd4680ae08342df9699a74",
            "412a479c2c8e4692afc79c241bd06fcc",
            "d33498fc530447159f7a27baee88895c",
            "aa08c95013ca47f6b33ef34f010e7fc7",
            "a123fd8770804fd1b49924a1a219da63",
            "104efea0794c452787ae5b3c3703ae11",
            "45d6935ad28247f58f13ce0b989e60dc"
          ]
        },
        "id": "WLTVqWojwi6j",
        "outputId": "c1590d2a-ddc8-4416-ba62-73627e3eac7f"
      },
      "outputs": [
        {
          "name": "stderr",
          "output_type": "stream",
          "text": [
            "/usr/local/lib/python3.10/dist-packages/huggingface_hub/utils/_auth.py:94: UserWarning: \n",
            "The secret `HF_TOKEN` does not exist in your Colab secrets.\n",
            "To authenticate with the Hugging Face Hub, create a token in your settings tab (https://huggingface.co/settings/tokens), set it as secret in your Google Colab and restart your session.\n",
            "You will be able to reuse this secret in all of your notebooks.\n",
            "Please note that authentication is recommended but still optional to access public models or datasets.\n",
            "  warnings.warn(\n"
          ]
        },
        {
          "data": {
            "application/vnd.jupyter.widget-view+json": {
              "model_id": "1ce756cfa68d4bc5954f77e32bdac2fc",
              "version_major": 2,
              "version_minor": 0
            },
            "text/plain": [
              "tokenizer_config.json:   0%|          | 0.00/316 [00:00<?, ?B/s]"
            ]
          },
          "metadata": {},
          "output_type": "display_data"
        },
        {
          "data": {
            "application/vnd.jupyter.widget-view+json": {
              "model_id": "c2ca473f972748158c73c7b98cbceb37",
              "version_major": 2,
              "version_minor": 0
            },
            "text/plain": [
              "config.json:   0%|          | 0.00/791 [00:00<?, ?B/s]"
            ]
          },
          "metadata": {},
          "output_type": "display_data"
        },
        {
          "data": {
            "application/vnd.jupyter.widget-view+json": {
              "model_id": "786f4e938d5a488b9911d210d2a0714a",
              "version_major": 2,
              "version_minor": 0
            },
            "text/plain": [
              "vocab.txt:   0%|          | 0.00/232k [00:00<?, ?B/s]"
            ]
          },
          "metadata": {},
          "output_type": "display_data"
        },
        {
          "data": {
            "application/vnd.jupyter.widget-view+json": {
              "model_id": "c4968d0b64554e729217763c3a7a09b6",
              "version_major": 2,
              "version_minor": 0
            },
            "text/plain": [
              "special_tokens_map.json:   0%|          | 0.00/112 [00:00<?, ?B/s]"
            ]
          },
          "metadata": {},
          "output_type": "display_data"
        }
      ],
      "source": [
        "from transformers import AutoTokenizer, AutoModelForSequenceClassification\n",
        "\n",
        "model_name = \"cross-encoder/ms-marco-MiniLM-L-12-v2\"#''microsoft/MiniLM-L12-H384-uncased' #\"cross-encoder/ms-marco-MiniLM-L-12-v2\"#'\n",
        "tokenizer = AutoTokenizer.from_pretrained(model_name)"
      ]
    },
    {
      "cell_type": "code",
      "execution_count": null,
      "metadata": {
        "id": "gqeyX3S0vZHS"
      },
      "outputs": [],
      "source": [
        "DATASET  = 'nfcorpus'"
      ]
    },
    {
      "cell_type": "code",
      "execution_count": null,
      "metadata": {
        "id": "kMz6Antg_lxk"
      },
      "outputs": [],
      "source": [
        "import pandas as pd\n",
        "import random\n",
        "\n",
        "\n",
        "def make_negative_samples(qrels,output_file_path):\n",
        "    # Combine test and train qrels if needed\n",
        "    # qrels = pd.concat([qrels_test, qrels_train])\n",
        "\n",
        "    # Get all unique corpus IDs for negative sampling\n",
        "    all_corpus_ids = set(qrels['corpus-id'].unique())\n",
        "\n",
        "    # Initialize a list to store the rows for the new .tsv file\n",
        "    rows = []\n",
        "    random.seed(36)\n",
        "\n",
        "    # Loop over each unique query-id\n",
        "    for query_id, group in qrels.groupby('query-id'):\n",
        "        # Get the list of positive corpus IDs for this query-id\n",
        "        positive_ids = group['corpus-id'].tolist()\n",
        "        random.seed(36)\n",
        "        # For each positive corpus-id, sample 3 negative corpus-ids\n",
        "        for pos_id in positive_ids:\n",
        "\n",
        "            # Sample 3 negative corpus-ids (not in the positive set for this query)\n",
        "            negative_ids = random.sample(list(all_corpus_ids - set(positive_ids)), NUM_NEG_SAMPLES)\n",
        "\n",
        "            # Add a new row with query-id, positive-corpus-id, and each negative-corpus-id\n",
        "            for neg_id in negative_ids:\n",
        "                rows.append([query_id, pos_id, neg_id])\n",
        "\n",
        "    # Create a DataFrame and save it as a .tsv file\n",
        "    output_df = pd.DataFrame(rows, columns=['query-id', 'positive-corpus-id', 'negative-corpus-id'])\n",
        "    output_df.to_csv(output_file_path, sep='\\t', index=False)\n",
        "\n",
        "\n",
        "import json\n",
        "import random\n",
        "\n",
        "\n",
        "\n",
        "def serialize_query_passage(query, passage):\n",
        "    return f'Query: {query} Passage: {passage}'\n",
        "\n",
        "def load_corpus(path):\n",
        "\n",
        "    \"\"\"Load the corpus from a JSONL file and return a dictionary mapping corpus-id to passage text.\"\"\"\n",
        "    corpus = {}\n",
        "    with open(path) as f:\n",
        "        for line in f:\n",
        "            entry = json.loads(line)\n",
        "            corpus[entry[\"_id\"]] = entry['text']  # Adjust 'text' to the actual field name in your JSONL file\n",
        "    return corpus\n",
        "\n",
        "def load_queries(path):\n",
        "\n",
        "    \"\"\"Load the queries from a JSONL file and return a dictionary mapping qid to query text.\"\"\"\n",
        "    queries = {}\n",
        "    with open(path) as f:\n",
        "        for line in f:\n",
        "            entry = json.loads(line)\n",
        "            queries[entry[\"_id\"]] = entry['text']  # Adjust 'text' to the actual field name in your JSONL file\n",
        "    return queries\n",
        "\n",
        "def load_examples(path, corpus_path, queries_path, num_neg_samples):\n",
        "    random.seed(36)\n",
        "    \"\"\"Load examples from a TSV file using the loaded queries and corpus data.\"\"\"\n",
        "    # Load corpus and queries data\n",
        "    corpus = load_corpus(corpus_path)\n",
        "    queries = load_queries(queries_path)\n",
        "\n",
        "    x = []\n",
        "    y = []\n",
        "    with open(path) as f:\n",
        "        next(f)  # Skip the first line\n",
        "        for line in f:\n",
        "            qid, pos_id, *_ = line.strip().split('\\t')\n",
        "\n",
        "            # Retrieve the query and positive passage using the IDs\n",
        "            try:\n",
        "              query = queries[qid]\n",
        "              positive_passage = corpus[pos_id]\n",
        "\n",
        "              # Append the positive example\n",
        "              x.append(serialize_query_passage(query, positive_passage))\n",
        "              y.append(True)\n",
        "\n",
        "              # Sample multiple negative corpus IDs\n",
        "              possible_neg_ids = list(corpus.keys() - {pos_id})\n",
        "              negative_ids = random.sample(possible_neg_ids, num_neg_samples)\n",
        "\n",
        "              # Append each negative example\n",
        "              for neg_id in negative_ids:\n",
        "                  negative_passage = corpus[neg_id]\n",
        "                  x.append(serialize_query_passage(query, negative_passage))\n",
        "                  y.append(False)\n",
        "            except KeyError as e:\n",
        "                pass\n",
        "\n",
        "    return x, y\n",
        "\n",
        "\n"
      ]
    },
    {
      "cell_type": "code",
      "execution_count": null,
      "metadata": {
        "colab": {
          "base_uri": "https://localhost:8080/"
        },
        "id": "WhDSGuwlPLKO",
        "outputId": "5ffcae9a-ec47-4836-95fe-0672d73e1f9c"
      },
      "outputs": [
        {
          "name": "stdout",
          "output_type": "stream",
          "text": [
            "Training data loaded from finetune_nfcorpus/3_train_examples.csv\n",
            "Validation data loaded from finetune_nfcorpus/3_valid_examples.csv\n",
            "Number of training examples: 100000\n",
            "Number of validation examples: 10000\n",
            "100000 training examples.\n",
            "10000 valid examples.\n",
            "\n",
            "First 3 training examples:\n",
            "Label: True Input: \"Query: How Contaminated Are Our Children? Passage: Background In the absence of current cumulative dietary exposure assessments, this analysis was conducted to estimate exposure to multiple dietary contaminants for children, who are more vulnerable to toxic exposure than adults. Methods We estimated exposure to multiple food contaminants based on dietary data from preschool-age children (2–4 years, n=207), school-age children (5–7 years, n=157), parents of young children (n=446), and older adults (n=149). We compared exposure estimates for eleven toxic compounds (acrylamide, arsenic, lead, mercury, chlorpyrifos, permethrin, endosulfan, dieldrin, chlordane, DDE, and dioxin) based on self-reported food frequency data by age group. To determine if cancer and non-cancer benchmark levels were exceeded, chemical levels in food were derived from publicly available databases including the Total Diet Study. Results Cancer benchmark levels were exceeded by all children (100%) for arsenic, dieldrin, DDE, and dioxins. Non-cancer benchmarks were exceeded by >95% of preschool-age children for acrylamide and by 10% of preschool-age children for mercury. Preschool-age children had significantly higher estimated intakes of 6 of 11 compounds compared to school-age children (p<0.0001 to p=0.02). Based on self-reported dietary data, the greatest exposure to pesticides from foods included in this analysis were tomatoes, peaches, apples, peppers, grapes, lettuce, broccoli, strawberries, spinach, dairy, pears, green beans, and celery. Conclusions Dietary strategies to reduce exposure to toxic compounds for which cancer and non-cancer benchmarks are exceeded by children vary by compound. These strategies include consuming organically produced dairy and selected fruits and vegetables to reduce pesticide intake, consuming less animal foods (meat, dairy, and fish) to reduce intake of persistent organic pollutants and metals, and consuming lower quantities of chips, cereal, crackers, and other processed carbohydrate foods to reduce acrylamide intake.\"\n",
            "Label: False Input: \"Query: How Contaminated Are Our Children? Passage: BACKGROUND: Treatment of chronic constipation remains challenging with 50% of patients dissatisfied with current therapy. There is an unmet need for natural and safe alternatives. Dried plums (prunes) have been used traditionally for constipation but their efficacy is not known. Aim To assess and compare the effects of dried plums and psyllium in patients with chronic constipation. METHODS: Subjects were enrolled in an 8-week, single-blind, randomised cross-over study. Subjects received either dried plums (50 g b.d., fibre=6 gm/day) or psyllium (11 g b.d., fibre=6 gm/day) for 3 weeks each, in a crossover trial with a 1-week washout period. Subjects maintained a daily symptom and stool diary. Assessments included number of complete spontaneous bowel movements per week, global relief of constipation, stool consistency, straining, tolerability and taste. RESULTS: Forty constipated subjects (m/f=3/37, mean age=38 years) participated. The number of complete spontaneous bowel movements per week (primary outcome measure) and stool consistency scores improved significantly (P<0.05) with dried plums when compared to psyllium. Straining and global constipation symptoms did not differ significantly between treatments (P=N.S.). Dried plums and psyllium were rated as equally palatable and both were safe and well tolerated. CONCLUSION: Dried plums are safe, palatable and more effective than psyllium for the treatment of mild to moderate constipation, and should be considered as a first line therapy. © 2011 Blackwell Publishing Ltd.\"\n",
            "Label: False Input: \"Query: How Contaminated Are Our Children? Passage: Cyanobacteria can generate molecules hazardous to human health, but production of the known cyanotoxins is taxonomically sporadic. For example, members of a few genera produce hepatotoxic microcystins, whereas production of hepatotoxic nodularins appears to be limited to a single genus. Production of known neurotoxins has also been considered phylogenetically unpredictable. We report here that a single neurotoxin, β-N-methylamino-l-alanine, may be produced by all known groups of cyanobacteria, including cyanobacterial symbionts and free-living cyanobacteria. The ubiquity of cyanobacteria in terrestrial, as well as freshwater, brackish, and marine environments, suggests a potential for wide-spread human exposure.\"\n",
            "Label: False Input: \"Query: How Contaminated Are Our Children? Passage: OBJECTIVE: Lifestyle factors are related to mortality. Although much is known about the impact of single factors, the current evidence about the combined effects of lifestyle behaviors on mortality has not yet been systematically compiled. METHOD: We searched Medline, Embase, Global Health, and Somed up to February 2012. Prospective studies were selected if they reported the combined effects of at least three of five lifestyle factors (obesity, alcohol consumption, smoking, diet, and physical activity). The mean effect sizes that certain numbers of combined lifestyle factors have on mortality were compared to the group with the least number of healthy lifestyle factors by meta-analysis. Sensitivity analyses were conducted to explore the robustness of the results. RESULTS: 21 studies (18 cohorts) met the inclusion criteria of which 15 were included in the meta-analysis that comprised 531,804 people with a mean follow-up of 13.24 years. The relative risks decreased proportionate to a higher number of healthy lifestyle factors for all cause mortality. A combination of at least four healthy lifestyle factors is associated with a reduction of the all cause mortality risk by 66% (95% confidence interval 58%-73%). CONCLUSION: Adherence to a healthy lifestyle is associated with a lower risk of mortality. Copyright © 2012. Published by Elsevier Inc.\"\n",
            "Label: True Input: \"Query: How Contaminated Are Our Children? Passage: Background In the absence of current cumulative dietary exposure assessments, this analysis was conducted to estimate exposure to multiple dietary contaminants for children, who are more vulnerable to toxic exposure than adults. Methods We estimated exposure to multiple food contaminants based on dietary data from preschool-age children (2–4 years, n=207), school-age children (5–7 years, n=157), parents of young children (n=446), and older adults (n=149). We compared exposure estimates for eleven toxic compounds (acrylamide, arsenic, lead, mercury, chlorpyrifos, permethrin, endosulfan, dieldrin, chlordane, DDE, and dioxin) based on self-reported food frequency data by age group. To determine if cancer and non-cancer benchmark levels were exceeded, chemical levels in food were derived from publicly available databases including the Total Diet Study. Results Cancer benchmark levels were exceeded by all children (100%) for arsenic, dieldrin, DDE, and dioxins. Non-cancer benchmarks were exceeded by >95% of preschool-age children for acrylamide and by 10% of preschool-age children for mercury. Preschool-age children had significantly higher estimated intakes of 6 of 11 compounds compared to school-age children (p<0.0001 to p=0.02). Based on self-reported dietary data, the greatest exposure to pesticides from foods included in this analysis were tomatoes, peaches, apples, peppers, grapes, lettuce, broccoli, strawberries, spinach, dairy, pears, green beans, and celery. Conclusions Dietary strategies to reduce exposure to toxic compounds for which cancer and non-cancer benchmarks are exceeded by children vary by compound. These strategies include consuming organically produced dairy and selected fruits and vegetables to reduce pesticide intake, consuming less animal foods (meat, dairy, and fish) to reduce intake of persistent organic pollutants and metals, and consuming lower quantities of chips, cereal, crackers, and other processed carbohydrate foods to reduce acrylamide intake.\"\n",
            "Label: False Input: \"Query: How Contaminated Are Our Children? Passage: Agaritine (N-(gamma-L(+)-glutamyl)-4-hydroxymethyl-phenylhydrazine) was identified and quantified by high-pressure liquid chromatography and used as a marker for the occurrence of phenylhydrazine derivatives in the cultivated Agaricus bitorquis and A. garicus hortensis mushrooms. Although relatively high levels of agaritine (around 700 mg kg(-1)) could be found in freshly harvested A. bitorquis from early flushes, samples from supermarkets contained less agaritine. The content of 28 samples varied between 165 and 457 mg kg(-1), on average being 272 +/- 69 mg kg(-1). The highest amounts of agaritine were found in the skin of the cap and in the gills, the lowest being in the stem. There was no significant difference in agaritine content of the two mushroom species in our study. Pronounced reduction in agaritine content was observed during storage of mushrooms in the refrigerator or freezer, as well as during drying of the mushrooms. The degree of reduction was dependent on the length and condition of storage and was usually in the region 20-75%. No reduction in agaritine content was observed during freeze-drying. Depending on the cooking procedure, household processing of cultivated Agaricus mushrooms reduced the agaritine content to various degrees. Boiling extracted around 50% of the agaritine content into the cooking broth within 5min and degraded 20-25% of the original agaritine content of the mushrooms. Prolonged boiling, as when preparing a sauce, reduced the content in the solid mushroom further (around 10% left after 2h). Dry baking of the cultivated mushroom, a process similar to pizza baking, reduced the agaritine content by approximately 25%, whereas frying in oil or butter or deep frying resulted in a more marked reduction (35-70%). Microwave processing of the cultivated mushrooms reduced the agaritine content to one-third of the original level. Thus, the exposure to agaritine was substantially less when consuming processed Agaricus mushrooms as compared with consuming the raw mushrooms. However, it is not yet known to what extent agaritine and other phenylhydrazine derivatives occurring in the cultivated mushroom are degraded into other biologically active compounds during the cooking procedure.\"\n",
            "Label: False Input: \"Query: How Contaminated Are Our Children? Passage: Cow's milk protein (CMP) allergy was investigated in 25 children (age-range 3 months to 11 years) with chronic constipation. A diagnosis of constipation was made on the basis of a history of painful elimination of hard stools for at least 1 month, whether or not associated with a reduced frequency of stools or soiling. The children were evaluated using clinical parameters and the following laboratory tests: total serum immunoglobulin E (IgE); specific IgE (radioallergosorbent test [RAST]) for whole cow's milk, alpha-lactoalbumin, beta-lactoglobulin, and a food group; and skin-prick tests with whole milk, alpha-lactoalbumin, beta-lactoglobulin, and casein. Following the evaluation, the children were submitted to a CMP-free diet for a period of 4 weeks. In seven patients (28%), constipation disappeared during the CMP-free diet and reappeared within 48-72 h following challenge with cow's milk. In two infants a rectal biopsy revealed allergic colitis and they therefore did not undergo the challenge. High serum levels of total IgE were observed in five of the children who showed a clinical improvement (71%), a positive skin-test in two (29%), and detectable specific IgE in two (29%). These results suggest that CMP allergy or intolerance should be considered as a cause of chronic refractory constipation in children, although the underlying mechanism still require further investigation.\"\n",
            "Label: False Input: \"Query: How Contaminated Are Our Children? Passage: The present study investigated the effects of a diet and exercise intervention on known breast cancer (BCa) risk factors, including estrogen, obesity, insulin, and insulin-like growth factor-I (IGF-I), in overweight/obese, postmenopausal women. In addition, using the subjects' pre- and postintervention serum in vitro, serum-stimulated growth and apoptosis of three estrogen receptor-positive BCa cell lines were studied. The women where placed on a low-fat (10-15% kcal), high-fiber (30-40 g per 1,000 kcal/day) diet and attended daily exercise classes for 2 wk. Serum estradiol was reduced in the women on hormone treatment (HT; n = 28) as well as those not on HT (n = 10). Serum insulin and IGF-I were significantly reduced in all women, whereas IGF binding protein-1 was increased significantly. In vitro growth of the BCa cell lines was reduced by 6.6% for the MCF-7 cells, 9.9% for the ZR-75-1 cells, and 18.5% for the T-47D cells. Apoptosis was increased by 20% in the ZR-75-1 cells, 23% in the MCF-7 cells, and 30% in the T-47D cells (n = 12). These results show that a very-low-fat, high-fiber diet combined with daily exercise results in major reductions in risk factors for BCa while subjects remained overweight/obese. These in vivo serum changes slowed the growth and induced apoptosis in serum-stimulated BCa cell lines in vitro.\"\n",
            "Label: True Input: \"Query: How Contaminated Are Our Children? Passage: Background In the absence of current cumulative dietary exposure assessments, this analysis was conducted to estimate exposure to multiple dietary contaminants for children, who are more vulnerable to toxic exposure than adults. Methods We estimated exposure to multiple food contaminants based on dietary data from preschool-age children (2–4 years, n=207), school-age children (5–7 years, n=157), parents of young children (n=446), and older adults (n=149). We compared exposure estimates for eleven toxic compounds (acrylamide, arsenic, lead, mercury, chlorpyrifos, permethrin, endosulfan, dieldrin, chlordane, DDE, and dioxin) based on self-reported food frequency data by age group. To determine if cancer and non-cancer benchmark levels were exceeded, chemical levels in food were derived from publicly available databases including the Total Diet Study. Results Cancer benchmark levels were exceeded by all children (100%) for arsenic, dieldrin, DDE, and dioxins. Non-cancer benchmarks were exceeded by >95% of preschool-age children for acrylamide and by 10% of preschool-age children for mercury. Preschool-age children had significantly higher estimated intakes of 6 of 11 compounds compared to school-age children (p<0.0001 to p=0.02). Based on self-reported dietary data, the greatest exposure to pesticides from foods included in this analysis were tomatoes, peaches, apples, peppers, grapes, lettuce, broccoli, strawberries, spinach, dairy, pears, green beans, and celery. Conclusions Dietary strategies to reduce exposure to toxic compounds for which cancer and non-cancer benchmarks are exceeded by children vary by compound. These strategies include consuming organically produced dairy and selected fruits and vegetables to reduce pesticide intake, consuming less animal foods (meat, dairy, and fish) to reduce intake of persistent organic pollutants and metals, and consuming lower quantities of chips, cereal, crackers, and other processed carbohydrate foods to reduce acrylamide intake.\"\n",
            "Label: False Input: \"Query: How Contaminated Are Our Children? Passage: BACKGROUND AND AIMS: Dietary microparticles, which are bacteria-sized and non-biological, found in the modern Western diet, have been implicated in both the aetiology and pathogenesis of Crohn's disease. Following on from the findings of a previous pilot study, we aimed to confirm whether a reduction in the amount of dietary microparticles facilitates induction of remission in patients with active Crohn's disease, in a single-blind, randomized, multi-centre, placebo controlled trial. METHODS: Eighty-three patients with active Crohn's disease were randomly allocated in a 2 x 2 factorial design to a diet low or normal in microparticles and/or calcium for 16 weeks. All patients received a reducing dose of prednisolone for 6 weeks. Outcome measures were Crohn's disease activity index, Van Hees index, quality of life and a series of objective measures of inflammation including erythrocyte sedimentation rate, C-reactive protein, intestinal permeability and faecal calprotectin. After 16 weeks patients returned to their normal diet and were followed up for a further 36 weeks. RESULTS: Dietary manipulation provided no added effect to corticosteroid treatment on any of the outcome measures during the dietary trial (16 weeks) or follow-up (to 1 year); e.g., for logistic regression of Crohn's disease activity index based rates of remission (P=0.1) and clinical response (P=0.8), in normal versus low microparticle groups. CONCLUSIONS: Our adequately powered and carefully controlled dietary trial found no evidence that reducing microparticle intake aids remission in active Crohn's disease.\"\n",
            "Label: False Input: \"Query: How Contaminated Are Our Children? Passage: Phleboliths, and especially diverticular disease and hiatus hernia, are rarer in developing countries than in economically more developed communities, but all three conditions were as common in Black as in White Americans. This finding suggests that they are due to environmental rather than to genetic causes. A deficient intake of dietary fibre may be the common factor predisposing to these three conditions.\"\n",
            "Label: False Input: \"Query: How Contaminated Are Our Children? Passage: Several risk factors seem to play a role in the development of osteoporosis. Phytate is a naturally occurring compound that is ingested in significant amounts by those with diets rich in whole grains. The aim of this study was to evaluate phytate consumption as a risk factor in osteoporosis. In a first group of 1,473 volunteer subjects, bone mineral density was determined by means of dual radiological absorptiometry in the calcaneus. In a second group of 433 subjects (used for validation of results obtained for the first group), bone mineral density was determined in the lumbar column and the neck of the femur. Subjects were individually interviewed about selected osteoporosis risk factors. Dietary information related to phytate consumption was acquired by questionnaires conducted on two different occasions, the second between 2 and 3 months after performing the first one. One-way analysis of variance or Student's t test was used to determine statistical differences between groups. Bone mineral density increased with increasing phytate consumption. Multivariate linear regression analysis indicated that body weight and low phytate consumption were the risk factors with greatest influence on bone mineral density. Phytate consumption had a protective effect against osteoporosis, suggesting that low phytate consumption should be considered an osteoporosis risk factor.\"\n",
            "Label: True Input: \"Query: How Contaminated Are Our Children? Passage: We investigated whether prenatal exposure from the maternal diet to the toxicants polychlorinated biphenyls (PCBs) and dioxins is associated with the development of immune-related diseases in childhood. Children participating in BraMat, a sub-cohort of the Norwegian Mother and Child Cohort Study (MoBa), were followed in the three first years of life using annual questionnaires (0-3years; n=162, 2-3years; n=180), and blood parameters were examined at three years of age (n=114). The maternal intake of the toxicants was calculated using a validated food frequency questionnaire from MoBa. Maternal exposure to PCBs and dioxins was found to be associated with an increased risk of wheeze and more frequent upper respiratory tract infections. Furthermore, maternal exposure to PCBs and dioxins was found to be associated with reduced antibody response to a measles vaccine. No associations were found between prenatal exposure and immunophenotype data, allergic sensitization and vaccine-induced antibody responses other than measles. Our results suggest that prenatal dietary exposure to PCBs and dioxins may increase the risk of wheeze and the susceptibility to infectious diseases in early childhood. Copyright © 2012 Elsevier Ltd. All rights reserved.\"\n",
            "Label: False Input: \"Query: How Contaminated Are Our Children? Passage: Dietary choline and betaine have been hypothesized to decrease the risk of cancer because of their role as methyl donors in the one-carbon metabolism. However, it remains unknown whether dietary intake of choline and betaine is associated with colorectal cancer risk. We prospectively examined the associations between dietary choline and betaine intake and risk of colorectal cancer in men in the Health Professionals Follow-up Study. We followed 47,302 men and identified a total of 987 incident colorectal cancer cases from 1986 to 2004. We assessed dietary and supplemental choline and betaine intake every four years using a validated semi-quantitative food frequency questionnaire. The Cox proportional hazards model was used to estimate multivariate relative risks (RRs) and 95% confidence intervals (95% CIs). All statistical tests were two-sided. We did not find any statistically significant associations between choline intake or betaine intake and risk of colorectal cancer. Comparing the top quintile with bottom quintile, multivariate RRs (95% CI) were 0.97 (0.79-1.20; Ptrend = 0.87) for choline intake and 0.94 (0.77-1.16; Ptrend = 0.79) for betaine intake. Similarly, we observed no associations between colorectal cancer risk and choline from free choline, glycerophosphocholine, phosphocholine, phosphatidylcholine, or sphingomyelin. Our data do not support that choline and betaine intake is inversely associated with colorectal cancer risk.\"\n",
            "Label: False Input: \"Query: How Contaminated Are Our Children? Passage: Essential tremor (ET) is among the more prevalent neurological disorders, yet prevalence estimates have varied enormously, making it difficult to establish prevalence with precision. We: (1) reviewed the worldwide prevalence of ET in population-based epidemiological studies, (2) derived as precisely as possible an estimate of disease prevalence, and (3) examined trends and important differences across studies. We identified 28 population-based prevalence studies (19 countries). In a meta-analysis, pooled prevalence (all ages) = 0.9%, with statistically significant heterogeneity across studies (I(2) = 99%, P < 0.001). In additional descriptive analyses, crude prevalence (all ages) = 0.4%. Prevalence increased markedly with age, and especially with advanced age. In the meta-analysis, prevalence (age >or= 65 years) = 4.6%, and in additional descriptive analyses, median crude prevalence (age >or= 60-65) = 6.3%. In one study of those age >or= 95 years, crude prevalence = 21.7%. Several studies reported ethnic differences in prevalence, although more studies are needed. Greater than one-third of studies show a gender difference, with most demonstrating a higher prevalence among men. This possible gender preference is interesting given clinical, epidemiological, and pathological associations between ET and Parkinson's disease. Precise prevalence estimates such as those we provide are important because they form the numerical basis for planned public health initiatives, provide data on the background occurrence of disease for family studies, and offer clues about the existence of environmental or underlying biological factors of possible mechanistic importance. (c) 2010 Movement Disorder Society.\"\n",
            "Label: False Input: \"Query: How Contaminated Are Our Children? Passage: Aim: To determine the risk of lung cancer associated with cannabis smoking. Methods: A case-control study of lung cancer in adults ≤55 years of age was conducted in eight district health boards in New Zealand. Cases were identified from the New Zealand Cancer Registry and hospital databases. Controls were randomly selected from the electoral roll, with frequency matching to cases in 5-year age groups and district health boards. Interviewer administered questionnaires were used to assess possible risk factors including cannabis use. The relative risk of lung cancer associated with cannabis smoking was estimated by logistic regression. Results: There were 79 cases of lung cancer and 324 controls. The risk of lung cancer increased 8% (95% CI 2% to 15%) for each joint-year of cannabis smoking, after adjustment for confounding variables including cigarette smoking, and 7% (95% CI 5% to 9%) for each pack-year of cigarette smoking, after adjustment for confounding variables including cannabis smoking. The highest tertile of cannabis use was associated with an increased risk of lung cancer RR=5.7 (95% CI 1.5 to 21.6), after adjustment for confounding variables including cigarette smoking. Conclusions: Long term cannabis use increases the risk of lung cancer in young adults.\"\n",
            "Label: True Input: \"Query: How Contaminated Are Our Children? Passage: We investigated whether prenatal exposure from the maternal diet to the toxicants polychlorinated biphenyls (PCBs) and dioxins is associated with the development of immune-related diseases in childhood. Children participating in BraMat, a sub-cohort of the Norwegian Mother and Child Cohort Study (MoBa), were followed in the three first years of life using annual questionnaires (0-3years; n=162, 2-3years; n=180), and blood parameters were examined at three years of age (n=114). The maternal intake of the toxicants was calculated using a validated food frequency questionnaire from MoBa. Maternal exposure to PCBs and dioxins was found to be associated with an increased risk of wheeze and more frequent upper respiratory tract infections. Furthermore, maternal exposure to PCBs and dioxins was found to be associated with reduced antibody response to a measles vaccine. No associations were found between prenatal exposure and immunophenotype data, allergic sensitization and vaccine-induced antibody responses other than measles. Our results suggest that prenatal dietary exposure to PCBs and dioxins may increase the risk of wheeze and the susceptibility to infectious diseases in early childhood. Copyright © 2012 Elsevier Ltd. All rights reserved.\"\n",
            "Label: False Input: \"Query: How Contaminated Are Our Children? Passage: BACKGROUND: Ultrafine and fine particles are potent adjuvants in antigen-mediated immune responses, and cause inflammation in susceptible individuals. Following recent findings that microparticles accumulate in the phagocytes of intestinal lymphoid aggregates, this study is the first investigation of whether their reduction in the diet improves the symptoms of Crohn's disease. METHODS: In a double blind study, 20 patients with active corticosteroid-treated ileal or ileo-colonic Crohn's disease randomly received either a low microparticle diet (trial group; n = 10) or a control diet (n = 10) for 4 months. Crohn's disease activity index (CDAI) and corticosteroid requirements were compared. RESULTS: One patient in each group was withdrawn. In the trial group there was a progressive decrease in CDAI from entry (392 +/- 25) to month 4 (145 +/- 47) (P = 0.002 vs control group) and seven patients were in remission (CDAI <150). In contrast, the control group had returned to baseline levels (302 +/- 28 on entry and 295 +/- 25 at month 4), with none in remission. Corticosteroid intake was reduced more in the trial group although this did not reach significance. CONCLUSIONS: A low microparticle diet may be effective in the management of ileal Crohn's disease and could explain the efficacy of elemental diets, which similarly are low in microparticles.\"\n",
            "Label: False Input: \"Query: How Contaminated Are Our Children? Passage: To assess the burden of neurocysticercosis (NCC) in California we examined statewide hospital discharge data for 2009. There were 304 cases hospitalized with NCC identified (incidence = 0.8 per 100,000). Cases were mostly Latino (84.9%), slightly more likely to be male than female (men 57.6%, women 42.4%) with an average age of 43.5 years. A majority of cases were hospitalized in Southern California (72.1%) and many were hospitalized in Los Angeles County (44.7%). Men were more likely than women to have severe disease including hydrocephalus (29.7% vs. 18.6%, p = 0.027), resulting in longer hospitalizations (>4 days, 48.0% vs. 32.6%, p = 0.007) that were more costly (charge>$40 thousand men = 46.9% vs. woman = 4.1%, p = 0.026). Six deaths were recorded (2.0%). The total of NCC-related hospital charges exceeded $17 million; estimated hospital costs exceeded $5 million. Neurocysticercosis causes appreciable disease and exacts a considerable economic burden in California. Author Summary Neurocysticercosis (NCC) is considered one of the major neglected infections of poverty in the United States, with mortality studies indicating that California bears the highest burden of this disease. Although NCC is a reportable disease in California, studies indicate that this disease goes largely under-reported, contributing to the lack of information about the disease distribution and burden. In this manuscript, we reviewed the distribution of NCC hospitalizations in California, demographics of those hospitalized and total hospital-related charges for 2009. This study revealed that a majority of persons hospitalized with NCC in California receive their medical service in Southern California hospitals, primarily in the County of Los Angeles. As compared to women hospitalized for this disease, men had a longer and more costly hospitalization with more severe symptoms such as hydrocephalus, a diagnosis suggestive of extraparenchymal infection. The reasons for this difference in NCC severity by gender are not clear, but do not appear to be due to delay in seeking medical care or a language barrier. The intensity of hospital care needed to manage these cases and the sizable NCC hospitalization charge underscores the considerable economic burden this disease presents in California.\"\n",
            "Label: False Input: \"Query: How Contaminated Are Our Children? Passage: Lyme-like illness (also known as southern tick-associated rash illness [STARI] or Masters disease) is vectored by the Lone Star tick (Amblyomma americanum). Lyme-like illness lesions, which are similar to the erythema migrans rash of Lyme disease, tend to have lymphocytic dermal infiltrates. With the exception of Borrelia lonestari, the possible causative agent or agents of Lyme-like illness have not been cultured. More research is needed to fully understand this newly recognized zoonosis. Clinicians are encouraged to increase their knowledge and awareness of this Lyme disease mimic.\"\n",
            "\n",
            "----------------------------------------------------------------------------------------------------\n",
            "\n",
            "First 3 validation examples:\n",
            "Label: True Input: \"Query: currants Passage: Legumes and the polyphenolic compounds present in them have gained a lot of interest due to their beneficial health implications. Dietary polyphenolic compounds, especially flavonoids, exert antioxidant properties and are potent inhibitors of xanthine oxidase (XO) activity. XO is the main contributor of free radicals during exercise but it is also involved in pathogenesis of several diseases such as vascular disorders, cancer and gout. In order to discover new natural, dietary XO inhibitors, some polyphenolic fractions and pure compounds isolated from two legume plant extracts were tested for their effects on XO activity. The fractions isolated from both Vicia faba and Lotus edulis plant extracts were potent inhibitors of XO with IC50 values range from 40–135 µg/mL and 55–260 µg/mL, respectively. All the pure polyphenolic compounds inhibited XO and their Ki values ranged from 13–767 µM. Ten of the compounds followed the non competitive inhibitory model whereas one of them was a competitive inhibitor. These findings indicate that flavonoid isolates from legume plant extracts are novel, natural XO inhibitors. Their mode of action is under investigation in order to examine their potential in drug design for diseases related to overwhelming XO action.\"\n",
            "Label: False Input: \"Query: currants Passage: OBJECTIVE: To compare fracture rates in four diet groups (meat eaters, fish eaters, vegetarians and vegans) in the Oxford cohort of the European Prospective Investigation into Cancer and Nutrition (EPIC-Oxford). DESIGN: Prospective cohort study of self-reported fracture risk at follow-up. SETTING: The United Kingdom. SUBJECTS: A total of 7947 men and 26,749 women aged 20-89 years, including 19,249 meat eaters, 4901 fish eaters, 9420 vegetarians and 1126 vegans, recruited by postal methods and through general practice surgeries. METHODS: Cox regression. RESULTS: Over an average of 5.2 years of follow-up, 343 men and 1555 women reported one or more fractures. Compared with meat eaters, fracture incidence rate ratios in men and women combined adjusted for sex, age and non-dietary factors were 1.01 (95% CI 0.88-1.17) for fish eaters, 1.00 (0.89-1.13) for vegetarians and 1.30 (1.02-1.66) for vegans. After further adjustment for dietary energy and calcium intake the incidence rate ratio among vegans compared with meat eaters was 1.15 (0.89-1.49). Among subjects consuming at least 525 mg/day calcium the corresponding incidence rate ratios were 1.05 (0.90-1.21) for fish eaters, 1.02 (0.90-1.15) for vegetarians and 1.00 (0.69-1.44) for vegans. CONCLUSIONS: In this population, fracture risk was similar for meat eaters, fish eaters and vegetarians. The higher fracture risk in the vegans appeared to be a consequence of their considerably lower mean calcium intake. An adequate calcium intake is essential for bone health, irrespective of dietary preferences. SPONSORSHIP: The EPIC-Oxford study is supported by The Medical Research Council and Cancer Research UK.\"\n",
            "Label: False Input: \"Query: currants Passage: BACKGROUND & AIMS: Increasing evidence suggests that a low folate intake and impaired folate metabolism may be implicated in the development of gastrointestinal cancers. We conducted a systematic review with meta-analysis of epidemiologic studies evaluating the association of folate intake or genetic polymorphisms in 5,10-methylenetetrahydrofolate reductase (MTHFR), a central enzyme in folate metabolism, with risk of esophageal, gastric, or pancreatic cancer. METHODS: A literature search was performed using MEDLINE for studies published through March 2006. Study-specific relative risks were weighted by the inverse of their variance to obtain random-effects summary estimates. RESULTS: The summary relative risks for the highest versus the lowest category of dietary folate intake were 0.66 (95% confidence interval [CI], 0.53-0.83) for esophageal squamous cell carcinoma (4 case-control), 0.50 (95% CI, 0.39-0.65) for esophageal adenocarcinoma (3 case-control), and 0.49 (95% CI, 0.35-0.67) for pancreatic cancer (1 case-control, 4 cohort); there was no heterogeneity among studies. Results on dietary folate intake and risk of gastric cancer (9 case-control, 2 cohort) were inconsistent. In most studies, the MTHFR 677TT (variant) genotype, which is associated with reduced enzyme activity, was associated with an increased risk of esophageal squamous cell carcinoma, gastric cardia adenocarcinoma, noncardia gastric cancer, gastric cancer (all subsites), and pancreatic cancer; all but one of 22 odds ratios were >1, of which 13 estimates were statistically significant. Studies of the MTHFR A1298C polymorphism were limited and inconsistent. CONCLUSIONS: These findings support the hypothesis that folate may play a role in carcinogenesis of the esophagus, stomach, and pancreas.\"\n",
            "Label: False Input: \"Query: currants Passage: Background It is unknown whether individuals at high cardiovascular risk sustain a benefit in cardiovascular disease from increased olive oil consumption. The aim was to assess the association between total olive oil intake, its varieties (extra virgin and common olive oil) and the risk of cardiovascular disease and mortality in a Mediterranean population at high cardiovascular risk. Methods We included 7,216 men and women at high cardiovascular risk, aged 55 to 80 years, from the PREvención con DIeta MEDiterránea (PREDIMED) study, a multicenter, randomized, controlled, clinical trial. Participants were randomized to one of three interventions: Mediterranean Diets supplemented with nuts or extra-virgin olive oil, or a control low-fat diet. The present analysis was conducted as an observational prospective cohort study. The median follow-up was 4.8 years. Cardiovascular disease (stroke, myocardial infarction and cardiovascular death) and mortality were ascertained by medical records and National Death Index. Olive oil consumption was evaluated with validated food frequency questionnaires. Multivariate Cox proportional hazards and generalized estimating equations were used to assess the association between baseline and yearly repeated measurements of olive oil intake, cardiovascular disease and mortality. Results During follow-up, 277 cardiovascular events and 323 deaths occurred. Participants in the highest energy-adjusted tertile of baseline total olive oil and extra-virgin olive oil consumption had 35% (HR: 0.65; 95% CI: 0.47 to 0.89) and 39% (HR: 0.61; 95% CI: 0.44 to 0.85) cardiovascular disease risk reduction, respectively, compared to the reference. Higher baseline total olive oil consumption was associated with 48% (HR: 0.52; 95% CI: 0.29 to 0.93) reduced risk of cardiovascular mortality. For each 10 g/d increase in extra-virgin olive oil consumption, cardiovascular disease and mortality risk decreased by 10% and 7%, respectively. No significant associations were found for cancer and all-cause mortality. The associations between cardiovascular events and extra virgin olive oil intake were significant in the Mediterranean diet intervention groups and not in the control group. Conclusions Olive oil consumption, specifically the extra-virgin variety, is associated with reduced risks of cardiovascular disease and mortality in individuals at high cardiovascular risk. Trial registration This study was registered at controlled-trials.com (http://www.controlled-trials.com/ISRCTN35739639). International Standard Randomized Controlled Trial Number (ISRCTN): 35739639. Registration date: 5 October 2005.\"\n",
            "Label: True Input: \"Query: currants Passage: This investigation determined the efficacy of a tart cherry juice in aiding recovery and reducing muscle damage, inflammation and oxidative stress. Twenty recreational Marathon runners assigned to either consumed cherry juice or placebo for 5 days before, the day of and for 48 h following a Marathon run. Markers of muscle damage (creatine kinase, lactate dehydrogenase, muscle soreness and isometric strength), inflammation [interleukin-6 (IL-6), C-reactive protein (CRP) and uric acid], total antioxidant status (TAS) and oxidative stress [thiobarbituric acid reactive species (TBARS) and protein carbonyls] were examined before and following the race. Isometric strength recovered significantly faster (P=0.024) in the cherry juice group. No other damage indices were significantly different. Inflammation was reduced in the cherry juice group (IL-6, P<0.001; CRP, P<0.01; uric acid, P<0.05). TAS was ~10% greater in the cherry juice than the placebo group for all post-supplementation measures (P<0.05). Protein carbonyls was not different; however, TBARS was lower in the cherry juice than the placebo at 48 h (P<0.05). The cherry juice appears to provide a viable means to aid recovery following strenuous exercise by increasing total antioxidative capacity, reducing inflammation, lipid peroxidation and so aiding in the recovery of muscle function. © 2009 John Wiley & Sons A/S.\"\n",
            "Label: False Input: \"Query: currants Passage: Epidemiological data demonstrate that regular dietary intake of plant-derived foods and beverages reduces the risk of coronary heart disease and stroke. Among many ingredients, cocoa might be an important mediator. Indeed, recent research demonstrates a beneficial effect of cocoa on blood pressure, insulin resistance, and vascular and platelet function. Although still debated, a range of potential mechanisms through which cocoa might exert its benefits on cardiovascular health have been proposed, including activation of nitric oxide and antioxidant and antiinflammatory effects. This review summarizes the available data on the cardiovascular effects of cocoa, outlines potential mechanisms involved in the response to cocoa, and highlights the potential clinical implications associated with its consumption.\"\n",
            "Label: False Input: \"Query: currants Passage: The supraclavicular region is a common site for lymph node metastases. A commonly reported type of nonmalignant (18)F-FDG uptake on PET imaging in the supraclavicular region is \"muscle uptake\" purportedly due to muscle contraction in tense patients during the (18)F-FDG uptake phase. PET/CT offers the unique opportunity to correlate PET findings with CT anatomy in the supraclavicular region. METHODS: Images from the first 359 consecutive clinical whole-body studies (in 347 patients) using (18)F-FDG and a PET/CT scanner (with CT attenuation correction and ordered-subsets expectation maximization [OSEM] reconstruction) were retrospectively reviewed. The supraclavicular region was evaluated for the presence of abnormal uptake on PET images, and the corresponding CT findings were assessed. Three distinct patterns of abnormal (18)F-FDG uptake were noted: pattern A (uptake localizing to supraclavicular area fat [USA-fat], i.e., without corresponding lymph node or muscle uptake on CT), pattern B (uptake localizing to muscle on CT), and pattern C (uptake localizing to lymph nodes or soft-tissue masses on CT). RESULTS: Forty-nine patients (14.1%) (32 female, 17 male; mean age, 51.4 +/- 15.6 y; age range, 12-77 y) showed abnormal (18)F-FDG uptake in the supraclavicular region. Twenty patients (5.8%) had muscle uptake (group B); 15 (4.3%) had definite abnormal lymph nodes (group C). However, 14 patients (4.0%) had USA-fat (group A) and foci of very low Hounsfield units on CT. These foci were also present on (68)Ge attenuation-corrected images (when obtained) and non-attenuation-corrected images. Uptake in USA-fat was typically bilateral and symmetric, intense, more often multifocal than linear, and located in fat on PET/CT. Age was not significantly different for group C versus the 2 other groups. Intensity; mean standardized uptake value, lean (SUV(L MEAN)); or maximum standardized uptake value, lean (SUV(L MAX)), did not allow differentiation between patterns A and C (P > 0.05). Standardized uptake values (SUV(L MAX), 3.1; SUV(L MEAN), 2.1) were significantly lower in group B than in the 2 other groups (P < 0.005). CONCLUSION: So-called muscle uptake in the supraclavicular region may be caused in a significant proportion of cases by an unrelated process we call the USA-fat finding, with (18)F-FDG uptake in tissues of low-Hounsfield (fat) density. This finding most likely reflects an underlying nonpathologic process that we hypothesize to be in foci of brown fat. This intense supraclavicular uptake should be recognized and should not be misinterpreted as a malignant metastatic process or as muscle uptake.\"\n",
            "Label: False Input: \"Query: currants Passage: BACKGROUND: A growing number of preclinical studies have demonstrated that curcumin could be a promising anticancer drug; however, poor bioavailability has been the major obstacle for its clinical application. To overcome this problem, we developed a new form of curcumin (Theracurmin) and reported high plasma curcumin levels could be safely achieved after a single administration of Theracurmin in healthy volunteers. In this study, we aimed to evaluate the safety of repetitive administration of Theracurmin in cancer patients. METHODS: Pancreatic or biliary tract cancer patients who failed standard chemotherapy were eligible for this study. Based on our previous pharmacokinetic study, we selected Theracurmin containing 200 mg of curcumin (Level 1) as a starting dose, and the dose was safely escalated to Level 2, which contained 400 mg of curcumin. Theracurmin was orally administered every day with standard gemcitabine-based chemotherapy. In addition to safety and pharmacokinetics data, NF-κB activity, cytokine levels, efficacy, and quality-of-life score were evaluated. RESULTS: Ten patients were assigned to level 1 and six were to level 2. Peak plasma curcumin levels (median) after Theracurmin administration were 324 ng/mL (range, 47-1,029 ng/mL) at Level 1 and 440 ng/mL (range, 179-1,380 ng/mL) at Level 2. No unexpected adverse events were observed and 3 patients safely continued Theracurmin administration for >9 months. CONCLUSIONS: Repetitive systemic exposure to high concentrations of curcumin achieved by Theracurmin did not increase the incidence of adverse events in cancer patients receiving gemcitabine-based chemotherapy.\"\n",
            "Label: True Input: \"Query: currants Passage: This investigation determined the efficacy of a tart cherry juice in aiding recovery and reducing muscle damage, inflammation and oxidative stress. Twenty recreational Marathon runners assigned to either consumed cherry juice or placebo for 5 days before, the day of and for 48 h following a Marathon run. Markers of muscle damage (creatine kinase, lactate dehydrogenase, muscle soreness and isometric strength), inflammation [interleukin-6 (IL-6), C-reactive protein (CRP) and uric acid], total antioxidant status (TAS) and oxidative stress [thiobarbituric acid reactive species (TBARS) and protein carbonyls] were examined before and following the race. Isometric strength recovered significantly faster (P=0.024) in the cherry juice group. No other damage indices were significantly different. Inflammation was reduced in the cherry juice group (IL-6, P<0.001; CRP, P<0.01; uric acid, P<0.05). TAS was ~10% greater in the cherry juice than the placebo group for all post-supplementation measures (P<0.05). Protein carbonyls was not different; however, TBARS was lower in the cherry juice than the placebo at 48 h (P<0.05). The cherry juice appears to provide a viable means to aid recovery following strenuous exercise by increasing total antioxidative capacity, reducing inflammation, lipid peroxidation and so aiding in the recovery of muscle function. © 2009 John Wiley & Sons A/S.\"\n",
            "Label: False Input: \"Query: currants Passage: Glyphosate surfactant herbicide (GlySH) toxicity is an uncommon poisoning. We report two fatalities involving suicidal ingestion of this herbicide. Both deaths occurred despite early recognition of the serious nature of the poisoning and aggressive treatment. The deaths in this series are analysed in the context of a review of existing literature. Although traditionally regarded as minimally toxic, many deaths have been reported following suicidal ingestion. Severe GlySH toxicity may be refractory even to the most intensive supportive care. The triad of pulmonary oedema, metabolic acidosis and hyperkalaemia portends poor outcome. While containing a carbon phosphorus moiety, GlySH does not exhibit organophosphate toxicity. A clinical guide to assessing severity of GlySH toxicity is proposed and treatment modalities discussed.\"\n",
            "Label: False Input: \"Query: currants Passage: We investigated clinical efficacy of green tea extracts (polyphenon E; poly E and (-)-epigallocatechin-3-gallate [EGCG]) delivered in a form of ointment or capsule in patients with human papilloma virus (HPV) infected cervical lesions. Fifty-one patients with cervical lesions (chronic cervicitis, mild dysplasia, moderate dysplasia and severe dysplasia) were divided into four groups, as compared with 39 untreated patients as a control. Poly E ointment was applied locally to 27 patients twice a week. For oral delivery, a 200 mg of poly E or EGCG capsule was taken orally every day for eight to 12 weeks. In the study, 20 out of 27 patients (74%) under poly E ointment therapy showed a response. Six out of eight patients under poly E ointment plus poly E capsule therapy (75%) showed a response, and three out of six patients (50%) under poly E capsule therapy showed a response. Six out of 10 patients (60%) under EGCG capsule therapy showed a response. Overall, a 69% response rate (35/51) was noted for treatment with green tea extracts, as compared with a 10% response rate (4/39) in untreated controls (P<0.05). Thus, the data collected here demonstrated that green tea extracts in a form of ointment and capsule are effective for treating cervical lesions, suggesting that green tea extracts can be a potential therapy regimen for patients with HPV infected cervical lesions.\"\n",
            "Label: False Input: \"Query: currants Passage: The external surfaces of the body, such as the skin and the gastrointestinal mucosal membrane, are an important line of defence preventing the invasion of microorganisms and their products. Mucosal immune cells, especially intraepithelial lymphocytes, are involved in maintaining the integrity of these epithelial barriers. They contribute towards the tolerance to commensal organisms, which occupy these same sites, and to the immune responses against harmful organisms and their products. The composition of the microbiota is influenced by immune cells as well as external environmental factors, especially the use of antibiotics and diet. There is an increasing appreciation that the microbiota affects systemic immune responses in addition to local immunity. Failure to control the occupancy by microorganisms may result in the disruption of the delicate homeostasis between beneficial and harmful microorganisms and contribute to inflammatory pathologies. This review will discuss some of our current understanding of the impact of immune cells and diet on the microbiota.\"\n",
            "Label: True Input: \"Query: currants Passage: This investigation determined the efficacy of a tart cherry juice in aiding recovery and reducing muscle damage, inflammation and oxidative stress. Twenty recreational Marathon runners assigned to either consumed cherry juice or placebo for 5 days before, the day of and for 48 h following a Marathon run. Markers of muscle damage (creatine kinase, lactate dehydrogenase, muscle soreness and isometric strength), inflammation [interleukin-6 (IL-6), C-reactive protein (CRP) and uric acid], total antioxidant status (TAS) and oxidative stress [thiobarbituric acid reactive species (TBARS) and protein carbonyls] were examined before and following the race. Isometric strength recovered significantly faster (P=0.024) in the cherry juice group. No other damage indices were significantly different. Inflammation was reduced in the cherry juice group (IL-6, P<0.001; CRP, P<0.01; uric acid, P<0.05). TAS was ~10% greater in the cherry juice than the placebo group for all post-supplementation measures (P<0.05). Protein carbonyls was not different; however, TBARS was lower in the cherry juice than the placebo at 48 h (P<0.05). The cherry juice appears to provide a viable means to aid recovery following strenuous exercise by increasing total antioxidative capacity, reducing inflammation, lipid peroxidation and so aiding in the recovery of muscle function. © 2009 John Wiley & Sons A/S.\"\n",
            "Label: False Input: \"Query: currants Passage: Liquid chromatography electrospray ionization mass spectrometry (MS) with a triple quadrupole MS was used to identify known and novel heterocyclic aromatic amines (HAAs) in human urine. The identities of 2-amino-3,8-dimethylimidazo[4,5-f]quinoxaline (8-MeIQx) and 2-amino-1-methyl-6-phenylimidazo[4,5-b]pyridine (PhIP) were confirmed by their product ion spectra. The constant neutral loss scan mode was employed to probe for other analytes in urine that display the transition [M+H]+-->[M+H-CH3*]+*, which is common to HAAs containing an N-methylimidazo moiety, and led to the detection of a previously unreported isomer of 8-MeIQx [Holland, R., et al. (2004) Chem. Res. Toxicol. 17, 1121-1136]. We now report the identification of another novel HAA, 2-amino-1-methylimidazo[4,5-b]quinoline (IQ[4,5-b]), an isomer of the powerful animal carcinogen 2-amino-3-methylimidazo[4,5-f]quinoline (IQ). The amounts of IQ[4,5-b] measured in the urine of human volunteers who consumed grilled beef ranged from 15 to 135% of the ingested dose, while the amounts of 8-MeIQx and PhIP excreted in urine were on average <2% of the ingested dose. Base treatment of urine at 70 degrees C increased the concentrations of 8-MeIQx and PhIP by as much as 6-fold, indicating the presence of phase II conjugates; however, the amount of IQ[4,5-b] increased by more than 100-fold. IQ[4,5-b] was also detected in the urine of vegetarians following base hydrolysis. The formation of IQ[4,5-b], but not IQ, 8-MeIQx, or PhIP, also occurred in urine incubated at 37 degrees C. Creatinine and 2-aminobenzaldehyde are likely precursors of IQ[4,5-b]. The detection of IQ[4,5-b] in the urine of both meat eaters and vegetarians suggests that this HAA may be present in nonmeat staples or that IQ[4,5-b] formation may occur endogenously within the urinary bladder or other biological fluids.\"\n",
            "Label: False Input: \"Query: currants Passage: Current understanding of the use of exclusion diets in the management of asthma in children is limited and controversial. The aim of this study was to examine the effects of excluding eggs and milk on the occurrence of symptoms in children with asthma and involved 22 children aged between three and 14 years clinically diagnosed as having mild to moderate disease. The investigation was single blind and prospective, and parents were given the option of volunteering to join the 'experiment' group, avoiding eggs, milk and their products for eight weeks, or the 'control' group, who consumed their customary food. Thirteen children were recruited to the experimental group and nine to the control group. A trained paediatrician at the beginning and end of the study period assessed the children. A seven-day assessment of food intake was made before, during and immediately after the period of dietary intervention in both groups. A blood sample was taken from each child for determination of food specific antibodies and in those children who could do so, the peak expiratory flow rate (PEFR) was measured. Based on the recommended nutrient intake (RNI), the mean percentage energy intake of the children in the experimental group was significantly lower (p < 0.05) in the experimental group. After the eight-week study period and compared with baseline values, the mean serum anti-ovalbumin IgG and anti-beta lactoglobulin IgG concentrations were statistically significantly reduced (p < 0.05) for both in the experimental group. In contrast, the values for anti-ovalbumin IgG in the control group were significantly increased and those for anti-beta lactoglobulin IgG were practically unchanged. The total IgE values were unchanged in both groups. Over the study period, the PEFR in those children in the experimental group able to perform the test was significantly increased, but no such change was noted in the children in the control group who could do the test. These results suggest that even over the short time period of eight weeks, an egg- and milk-free diet can reduce atopic symptoms and improve lung function in asthmatic children.\"\n",
            "Label: False Input: \"Query: currants Passage: In the 1970s several states in the Great Lakes region became concerned about mercury contamination in lakes and rivers and were the first to issue local fish consumption advisories. In 2001, the Food and Drug Administration (FDA) advised pregnant women, nursing mothers, young children, and women who may become pregnant not to consume shark, swordfish, king mackerel, and tilefish and recommended that these women not exceed 12 ounces of other fish per week. In 2004, FDA reissued this advice jointly with the U.S. Environmental Protection Agency (EPA) and modified it slightly to provide information about consumption of canned tuna and more details about consumption of recreationally caught fish. Though several studies have examined consumers' awareness of the joint FDA and EPA advisory as well as different state advisories, few used representative data. We examined the changes in awareness and knowledge of mercury as a problem in fish using the pooled nationally representative 2001 and 2006 Food Safety Surveys (FSS) with sample sizes of 4482 in 2001 and 2275 in 2006. Our results indicated an increase in consumers' awareness of mercury as a problem in fish (69% in 2001 to 80% in 2006, p<.001). In our regression models, we found that in both years, parents having children less than 5 years of age were more aware of mercury in fish and knowledgeable about the information contained in the national advisories about mercury in fish (p<.01) than other adults. In both 2001 and 2006, women of childbearing age (aged 18-45) were less aware and knowledgeable about this information than other women. However, women of all age groups had larger gains in awareness and knowledge than their male counterparts during this time. Participants' race, education, income, region, fish preparation experiences, having a foodborne illness in the past year, and risk perceptions about the safety of food were significant predictors of their awareness and knowledge. Copyright © 2011 Elsevier Inc. All rights reserved.\"\n",
            "Label: True Input: \"Query: currants Passage: PURPOSE: Age and advanced disease in the fellow eye are the two most important risk factors for age-related macular degeneration (AMD). In this study, the authors investigated the relationship between these variables and the optical density of macular pigment (MP) in a group of subjects from a northern European population. METHODS: The optical density of MP was measured psychophysically in 46 subjects ranging in age from 21 to 81 years with healthy maculae and in 9 healthy eyes known to be at high-risk of AMD because of advanced disease in the fellow eye. Each eye in the latter group was matched with a control eye on the basis of variables believed to be associated with the optical density of MP (iris color, gender, smoking habits, age, and lens density). RESULTS: There was an age-related decline in the optical density of macular pigment among volunteers with no ocular disease (right eye: r(2) = 0.29, P = 0.0006; left eye: r(2) = 0.29, P < 0.0001). Healthy eyes predisposed to AMD had significantly less MP than healthy eyes at no such risk (Wilcoxon's signed rank test: P = 0.015). CONCLUSIONS: The two most important risk factors for AMD are associated with a relative absence of MP. These findings are consistent with the hypothesis that supplemental lutein and zeaxanthin may delay, avert, or modify the course of this disease.\"\n",
            "Label: False Input: \"Query: currants Passage: BACKGROUND: Children from low-income families may be subject to high exposures to polycyclic aromatic hydrocarbons (PAH) which can lead to respiratory disorders. This study aims to establish methods for assessing total PAH exposure of asthmatic and non-asthmatic children from low-income families; to estimate serum PAH concentrations of these children, and to estimate the relative importance of the environmental pathways for PAH exposure. MATERIALS AND METHODS: A total of 75 (61 asthmatic, 14 non-asthmatic) Saudi children 15 years old and below were included to participate in this cross-sectional study. Each participant answered a generalized questionnaire with dietary questions. Serum PAH were measured using HPLC with UV detection. RESULTS: Serum naphthalene and pyrene were significantly elevated among asthmatic children (p-values = 0.007 and 0.01, respectively). Serum acenaphthylene, fluorine and 1,2-benzanthracene, on the other hand, were significantly higher among non-asthmatics (p-values = 0.001, 0.04 and 0.03, respectively). There was a significant correlation between the presence of a smoker in the family and serum concentrations of carbazole, pyrene, 1,2-benzanthracene and benzacephenanthrylene (R = 0.37, 0.45, 0.43, 0.33; p-values = 0.01, 0.0002, 0.003 and 0.025, respectively). Significant correlations were elicited between daily meat intake and serum levels of acenaphthylene, benzopyrene and 1,2-benzanthracene (R = 0.27, 0.27, 0.33; p-values = 0.02 and < 0.001, respectively). CONCLUSION: Among the children, serum PAH were significantly correlated to meat intake as well as presence of smokers at home. Public health awareness should be enhanced by educating parents to take certain precautions at home, such as preventing indoor smoking and reducing the intake of grilled and smoked meat by children so as to decrease their exposure to carcinogenic PAH.\"\n",
            "Label: False Input: \"Query: currants Passage: A retrospective study carried out recently in a large sample of men, close to the general population, has reported a significant and strong decline in sperm concentration and morphology in the whole of France between 1989 and 2005. We studied these trends within each region of France. Data were obtained from the Fivnat database. The study sample comprised male partners of sterile women in whom both tubes were absent or blocked. They were located at the assisted reproductive technology center. A Bayesian spatio-temporal model with parametric time trends, adjusted for age, was used to model overall time trends for each region. The results show that sperm concentration decreased in almost all regions of France. Among them, Aquitaine showed the highest decrease and Midi-Pyrénées had the lowest average for the whole period. Regarding total motility, most regions showed a slight increase while Bourgogne showed a steep and significant decrease. While considering sperm morphology, there was a decrease in most of the regions. The decrease in Aquitaine and Midi-Pyrénées was stronger when compared with the overall trend. In conclusion, a decrease in sperm concentration and morphology, already shown at the French metropolitan territory level, was observed in most regions of France. This is consistent with a global change in environmental exposure, according to the endocrine disruptor hypothesis especially. Indeed, ubiquitary exposure to chemicals has been growing in the general population of France since the 1950s, and the results do not appear to support the lifestyle hypothesis. The highest decreases and lowest values are consistently observed in two proximate regions that are both highly agricultural and densely populated.\"\n",
            "Label: False Input: \"Query: currants Passage: The cooked meat derived genotoxic carcinogen 2-amino-1-methyl-6-phenylimidazo[4,5-b]pyridine (PhIP) induces cancer of the colon, prostate and mammary gland when fed to rats. Epidemiology studies link these tumours to a Western diet and exposure to heterocyclic amines such as PhIP. We have shown that PhIP is also potently estrogenic and have proposed that this hormonal activity contributes to its target site carcinogenicity. We now postulate that the estrogenic properties of PhIP influence metastatic potential. We have used an in vitro assay for cell invasion based upon digestion and migration through a reconstituted basement membrane model. Zymography and immunoblotting were used to confirm PhIP-mediated changes associated with induction of the invasive phenotype. Treatment of the mammary cancer cell lines MCF-7 and T47D with PhIP induces cells to digest and migrate through a reconstituted basement membrane. The response was dose dependent, observed at sub-nanomolar concentrations of PhIP and was inhibited by the antiestrogen ICI 182,780. The PhIP-induced invasive phenotype was associated with expression of cathepsin D, cyclooxygenase-2 and matrix metalloproteinase activity. These findings emphasise the range and potency of the biological activities associated with this cooked meat product and mechanistically support the tissue-specific carcinogenicity of the chemical. Copyright © 2010 Elsevier Ireland Ltd. All rights reserved.\"\n"
          ]
        }
      ],
      "source": [
        "# Set a global seed\n",
        "\"\"\"\n",
        "SEED = 36\n",
        "random.seed(SEED)\n",
        "np.random.seed(SEED)\n",
        "\n",
        "max_train = 100_000\n",
        "max_valid = 10_000\n",
        "\n",
        "NUM_NEG_SAMPLES = 8\n",
        "# Load the qrels data\n",
        "qrels_test = pd.read_csv('datasets/scifact/qrels/test.tsv', sep='\\t', names=['query-id', 'corpus-id', 'score'])\n",
        "qrels_train = pd.read_csv('datasets/scifact/qrels/train.tsv', sep='\\t', names=['query-id', 'corpus-id', 'score'])\n",
        "\n",
        "train_fp = f'datasets/{DATASET}/query_pos_neg_samples_{NUM_NEG_SAMPLES}_train.tsv'\n",
        "test_fp  = f'datasets/{DATASET}/query_pos_neg_samples_{NUM_NEG_SAMPLES}_test.tsv'\n",
        "make_negative_samples(qrels_train,train_fp)\n",
        "make_negative_samples(qrels_test,test_fp)\n",
        "# Load the examples\n",
        "x_train, y_train = load_examples(\n",
        "    train_fp,\n",
        "    'datasets/scifact/corpus.jsonl',\n",
        "    'datasets/scifact/queries.jsonl',\n",
        "    NUM_NEG_SAMPLES\n",
        ")\n",
        "\n",
        "# Assuming you have a similar validation set, load it here (otherwise, initialize empty lists)\n",
        "x_valid, y_valid = load_examples(\n",
        "    test_fp,\n",
        "    f'datasets/{DATASET}/corpus.jsonl',\n",
        "    f'datasets/{DATASET}/queries.jsonl',\n",
        "    NUM_NEG_SAMPLES\n",
        ")\n",
        "\n",
        "x_valid = x_train[-max_valid:]\n",
        "y_valid = y_train[-max_valid:]\n",
        "x_train = x_train[:max_train]\n",
        "y_train = y_train[:max_train]\n",
        "\"\"\"\n",
        "import pandas as pd\n",
        "NUM_NEG_SAMPLES = 3\n",
        "# Define file paths\n",
        "train_csv_path = f'finetune_{DATASET}/{NUM_NEG_SAMPLES}_train_examples.csv'\n",
        "valid_csv_path = f'finetune_{DATASET}/{NUM_NEG_SAMPLES}_valid_examples.csv'\n",
        "\n",
        "# Load training data\n",
        "train_df = pd.read_csv(train_csv_path)\n",
        "x_train = train_df['text'].tolist()\n",
        "y_train = train_df['label'].tolist()\n",
        "print(f\"Training data loaded from {train_csv_path}\")\n",
        "\n",
        "# Load validation data\n",
        "valid_df = pd.read_csv(valid_csv_path)\n",
        "x_valid = valid_df['text'].tolist()\n",
        "y_valid = valid_df['label'].tolist()\n",
        "print(f\"Validation data loaded from {valid_csv_path}\")\n",
        "\n",
        "# Verify loaded data\n",
        "print(f\"Number of training examples: {len(x_train)}\")\n",
        "print(f\"Number of validation examples: {len(x_valid)}\")\n",
        "\n",
        "# Print stats and example outputs\n",
        "print(len(x_train), 'training examples.')\n",
        "print(len(x_valid), 'valid examples.')\n",
        "\n",
        "print('\\nFirst 3 training examples:')\n",
        "for x, y in zip(x_train[:20], y_train[:20]):\n",
        "    print(f'Label: {y} Input: \"{x}\"')\n",
        "\n",
        "print('\\n' + 100 * '-' + '\\n\\nFirst 3 validation examples:')\n",
        "for x, y in zip(x_valid[:20], y_valid[:20]):\n",
        "    print(f'Label: {y} Input: \"{x}\"')"
      ]
    },
    {
      "cell_type": "code",
      "execution_count": null,
      "metadata": {
        "colab": {
          "base_uri": "https://localhost:8080/"
        },
        "id": "nLEfgEKYST0q",
        "outputId": "ff43df19-ae9f-4cb7-819a-db33bc30a648"
      },
      "outputs": [
        {
          "name": "stderr",
          "output_type": "stream",
          "text": [
            "Token indices sequence length is longer than the specified maximum sequence length for this model (526 > 512). Running this sequence through the model will result in indexing errors\n"
          ]
        },
        {
          "name": "stdout",
          "output_type": "stream",
          "text": [
            "Mean length in tokens: 349.35\n",
            "Stdev length in tokens: 142.61\n"
          ]
        }
      ],
      "source": [
        "from transformers import AutoTokenizer, AutoModelForSequenceClassification\n",
        "\n",
        "model_name = \"cross-encoder/ms-marco-MiniLM-L-12-v2\"#''microsoft/MiniLM-L12-H384-uncased' #\"cross-encoder/ms-marco-MiniLM-L-12-v2\"#'\n",
        "tokenizer = AutoTokenizer.from_pretrained(model_name)\n",
        "\n",
        "from statistics import mean, stdev\n",
        "\n",
        "lengths = [len(tokens) for tokens in tokenizer(x_train[:1_000])['input_ids']]\n",
        "print(f'Mean length in tokens: {mean(lengths):0.2f}')\n",
        "print(f'Stdev length in tokens: {stdev(lengths):0.2f}')"
      ]
    },
    {
      "cell_type": "code",
      "execution_count": null,
      "metadata": {
        "id": "jv3guBLSSYtc"
      },
      "outputs": [],
      "source": [
        "# Since the mean passage length is ~380 tokens, a maximum of 460 tokens should be more than enough to acommodate\n",
        "# query+passage tokens in the input.\n",
        "max_length = 430\n",
        "x_train_tokenized = tokenizer(x_train, max_length=max_length, truncation=True)\n",
        "x_valid_tokenized = tokenizer(x_valid, max_length=max_length, truncation=True)"
      ]
    },
    {
      "cell_type": "code",
      "execution_count": null,
      "metadata": {
        "id": "ASFuxSD4U4la"
      },
      "outputs": [],
      "source": [
        "# Since the mean passage length is ~380 tokens, a maximum of 460 tokens should be more than enough to acommodate\n",
        "# query+passage tokens in the input.\n",
        "max_length = 430\n",
        "x_train_tokenized = tokenizer(x_train, max_length=max_length, truncation=True)\n",
        "x_valid_tokenized = tokenizer(x_valid, max_length=max_length, truncation=True)"
      ]
    },
    {
      "cell_type": "code",
      "execution_count": null,
      "metadata": {
        "colab": {
          "base_uri": "https://localhost:8080/"
        },
        "id": "-Z5RBDvCSu5I",
        "outputId": "1163c6cf-5aac-47f4-abf7-929a8a8b8cd2"
      },
      "outputs": [
        {
          "name": "stderr",
          "output_type": "stream",
          "text": [
            "You're using a BertTokenizerFast tokenizer. Please note that with a fast tokenizer, using the `__call__` method is faster than using a method to encode the text followed by a call to the `pad` method to get a padded encoding.\n"
          ]
        }
      ],
      "source": [
        "\n",
        "\n",
        "\n",
        "from torch.utils import data\n",
        "\n",
        "class Dataset(data.Dataset):\n",
        "    def __init__(self, examples, targets=None):\n",
        "        self.examples = examples\n",
        "        self.targets = targets\n",
        "\n",
        "    def __len__(self):\n",
        "        return len(self.examples['input_ids'])\n",
        "\n",
        "    def __getitem__(self, idx):\n",
        "        label = 0.0\n",
        "        if self.targets is not None:\n",
        "            label = float(self.targets[idx])\n",
        "\n",
        "        return {\n",
        "            'input_ids': self.examples['input_ids'][idx],\n",
        "            'attention_mask': self.examples['attention_mask'][idx],\n",
        "            'labels': float(label),\n",
        "        }\n",
        "\n",
        "dataset_train = Dataset(x_train_tokenized, y_train)\n",
        "assert len(dataset_train[0]['input_ids']) > 0\n",
        "assert len(dataset_train[1]['attention_mask']) > 0\n",
        "assert type(dataset_train[2]['labels']) == float\n",
        "\n",
        "dataset_train = Dataset(x_train_tokenized, y_train)\n",
        "dataset_valid = Dataset(x_valid_tokenized, y_valid)\n",
        "\n",
        "from transformers import BatchEncoding\n",
        "\n",
        "def collate_fn(batch):\n",
        "    return BatchEncoding(tokenizer.pad(batch, return_tensors='pt'))\n",
        "\n",
        "\n",
        "\n",
        "generator = torch.Generator()\n",
        "generator.manual_seed(SEED)\n",
        "\n",
        "dataloader_train = data.DataLoader(dataset_train, batch_size=32, shuffle=True, collate_fn=collate_fn,generator=generator)\n",
        "dataloader_valid = data.DataLoader(dataset_valid, batch_size=32, shuffle=False, collate_fn=collate_fn,generator=generator)\n",
        "\n",
        "for batch in dataloader_train:\n",
        "    assert batch['input_ids'].shape[0] <= dataloader_train.batch_size\n",
        "    assert batch['input_ids'].shape[1] <= max_length\n",
        "    break\n"
      ]
    },
    {
      "cell_type": "code",
      "execution_count": null,
      "metadata": {
        "id": "uG5NLMKvSwk7"
      },
      "outputs": [],
      "source": [
        "\n",
        "def evaluate(model, dataloader, set_name):\n",
        "    losses = []\n",
        "    correct = 0\n",
        "    model.eval()\n",
        "    with torch.no_grad():\n",
        "        for batch in tqdm(dataloader, mininterval=0.5, desc=set_name, disable=False):\n",
        "            # Move batch to device\n",
        "            batch = {k: v.to(device) for k, v in batch.items()}\n",
        "\n",
        "            # Forward pass\n",
        "            outputs = model(**batch)\n",
        "\n",
        "            # Apply sigmoid to logits for binary relevance scores\n",
        "            predictions = torch.sigmoid(outputs.logits).squeeze()\n",
        "\n",
        "            # Calculate MSE loss with sigmoid-transformed predictions\n",
        "            loss_val = F.mse_loss(predictions, batch['labels'].float())\n",
        "            losses.append(loss_val.cpu().item())\n",
        "\n",
        "            # Convert probabilities to binary predictions (threshold at 0.5)\n",
        "            preds = (predictions > 0.5).long()\n",
        "\n",
        "            # Calculate accuracy\n",
        "            correct += (preds == batch['labels']).sum().item()\n",
        "\n",
        "    # Print average loss and accuracy\n",
        "    avg_loss = mean(losses)\n",
        "    accuracy = correct / len(dataloader.dataset)\n",
        "    print(f'{set_name} loss: {avg_loss:.3f}; {set_name} accuracy: {accuracy:.3f}')\n",
        "    return avg_loss, accuracy\n"
      ]
    },
    {
      "cell_type": "code",
      "execution_count": null,
      "metadata": {
        "colab": {
          "background_save": true,
          "base_uri": "https://localhost:8080/",
          "height": 165,
          "referenced_widgets": [
            "887699232fad488fb4503f18b92afd28",
            "c28cd18e12094f3cbc34711f6e184379",
            "8cc4ab0815a942cb8ea23377c1013f73",
            "b229311f871d4051a244b480ac5360f3",
            "f0ec1e4f257d404489e7eeecc58034c6",
            "52995d558f22456999b3be2358ec9c88",
            "f94293d93bf7499da49fd8cb154ecb02",
            "ca7fab7d80bb4051a78887070ae93520",
            "7cad6dcbc6344e6e8177b21c13cc0994",
            "fd16589b0df34424bab7c536b7a91f51",
            "4b0b86f6e6ba47d5afe505b1e0a5671e",
            "9e1cc41cbc3240698e6b575a5feb0215",
            "cc06c15c93d44eb8b35fc35d3fef0c8f",
            "4e3f52b16bfc4dccb729070c918aeac1",
            "c0f30ed5f5014e838756c424a224d1e9",
            "041634e5441a41e09c7b0018495b7c3a",
            "ec7c2ab28df14e6aba9c73313fb1515d",
            "96d67ae3f41742198802080bfba139f2",
            "7c31be304a5a4904a6bfa15461ac0b4c",
            "ad37113992a4494ea4ebbbfb3511276d",
            "e0782c61c1494271ab7f0a341b9d8eed",
            "acf7a96f63814714a7d9ecdd6aacd5d3",
            "c8b44bd848b04d13b1afdeb17a34ad2c",
            "c28125058b704138920875f911a205ac",
            "1764723bbbc94a3c91fa96e58e954570",
            "ffe90f937dd141ecae4e70743fdd9bc0",
            "e85033dbb45e459580bf7f3154e106e9",
            "ac370a2abe6a437e9c53bd7c4a0749ce",
            "f9dc3a22f03242a7a78aa29372c955a6",
            "abd7855632ae4e8ab7e34b8656ef9108",
            "ca4e4cc69f5743fc95367bcfcfe389b2",
            "b5e314c1b45e463bb4f1760441b685fb",
            "c88653d015de4111b33979ba07cc477f",
            "7cad956098f2431dba6847f1a0376088",
            "09e6aa4300084e0592bedaf8b4839359",
            "43f90d48f4d6459aba84dae459f6084a",
            "c722ead9a17e4c0ca312919d29a0b22f",
            "090375669ef94d57b4e9306aa88a7bfb",
            "07718fefdcf34e84acc84ba84798b08e",
            "c1d1ef1ca8aa43d39fab395131b2f754",
            "0cd2a5f1f1a547f4b5400c4969ef8ffe",
            "cf369a21a1aa4df3850d06b71ed5f7c1",
            "09931183adb84768b607f4a99458539f",
            "46bbba77157546baad8ea7bbc34212c6",
            "71d23b36b9914288b4a3ce435ab7f8eb",
            "0bf6d720d659453eb12c194026e3422b",
            "5cd01d07a5454660973041d4e7a79fe8",
            "f87f202bdea74195a5bd5f5fe14abb4e",
            "18975ee99dc646989c32e5007e50c8d1",
            "80cda13aa0a74fe9b3e3ce9c07e112fb",
            "afbb3dd5171148efa3261a076e550a05",
            "5c974136972a4907b07511e66b0e2127",
            "e74d26a52e244e2fb72d917184a27a02",
            "f60f34977ee64792a4a17e74f72c48d3",
            "a432fb226561418199edf8c7be7edfbe",
            "d5c87cf7b0c14300b0cf4f5544ba6cd3",
            "8cca2ac336224433a025481174209a91",
            "54fe8a8c0a9645389b732c43d325812e",
            "e7550831fcde4a6294fcff28457908dd",
            "cdda6ba4588a486888ac089ef78a3fad",
            "145c08d37f044ab88e8fde2fead0cc62",
            "9a2793a01fce4406bbbc4ff6edcd05b8",
            "be2870eb95984edb91205d2c5cf9f57e",
            "8e6e3afd42cc4fecb3f20adf2ca7ebf6",
            "209c89678bfc46b2b1e01ff6ba2597ce",
            "5ef287fc7a054749a6839352610b27bc",
            "6dbbe486704c4f8ca2842fb4de7bceba",
            "5846c99136b74b548ee6a01cffc98ae8",
            "593884ce761d4c5288df5d374b4fbe6b",
            "1edff29d906e4ae1a42134df3ed32649",
            "c1bfd00ae01e4ddfb603dea5d17c636d",
            "8e583994501047fd9fe9f0e50299e21f",
            "5ee1608972024f52bd30323abc6bf784",
            "23b74652b67d490a850968eec0f19452",
            "f1371dc3496643ada1bc0617ed1d9427",
            "94712f10aaf044cc98b53cf6b72a4dc0",
            "f55b056d316440cfb81fd13ddc4856b4",
            "aadf6243974e438492f48dc000131874",
            "6b5813b54d9746dd8d710353f0c34d4b",
            "528e62767dc444d9b87a20a05c08d7a6",
            "949205ed015241e28683ec1d600048d3",
            "35339de9f3954e57900d5408bf28c821",
            "503c6d51fd4e4d37bddfece3cad3e4bd",
            "e8a3fa1cbbd9471a976dcd22d9b19015",
            "5a1ed690dee942f5878d7b2cd37628fe",
            "5f8977aafdd44f49b7c80ced94f1e528",
            "467c828ae0d1452b8e1df22f1ffeb505",
            "4d06421c9c0b43b5a6f7e70dd33c7c87",
            "79bb314578f94a4e82b812cc9d6da4c9",
            "4d42b3b4f2c1483cb98eb26a309814ed",
            "672187de94df47f284059b521e9d88e4",
            "661bc4f2d68b4f43bd3ca35b7cece22a",
            "2349e7d2fd7648169678cd7fe1e174cd",
            "2b0b1872946d47cea12607c89c7857e4",
            "3473ebf9d545465d8db412c2df9e5104",
            "ff61ba45dd2444d79f98bd43eece46f4",
            "381f1b28e1504bd5a94048636eb0c3b0",
            "979c1abc3a1d456cadad3c238671499b",
            "9d00ff7a1dfa42a28a64ef8a1499276c",
            "684f345f1cfb4b6c9ad0e78e25846631",
            "900443cea93b407c91097970b1635aea",
            "00f979d97ea64fafaf4128adb3cf8fe8",
            "c4a26b873935416ca0e70f76352a3580",
            "d646d887c26f4128943f1409800377d8",
            "e959747e5636402798cb2ef8ae2e7fc6",
            "6d507d9290c54bf0ac70fa53f0031eb6",
            "a7bdd7dedaee4013960e67b36753e81e",
            "ecc0f7dc89cb471590854c07f0a2f316",
            "40c164bfacac4f45a5f2573951e6067f",
            "523323c6145045fe8148f6d8784b1e6d",
            "3ac019bf853f413d80393d13092298c2",
            "5ceaafd905e84e1786a79ff240d5fd9e",
            "ea5f14e81d3647b1bf318f17ad7e39b7",
            "6876d29b4d3049028a91e97bb7d582fb",
            "787afd5295a34a68bb278a284ee66fb9",
            "350bde31899e463aa67f6e103fccffb3",
            "a25de5b78046434a8e25f0d8cb84fa4e",
            "4e271f8bc326486f9eda0d3011cc335e",
            "51cd26f6f3d04ac8a08b921e2c023876",
            "9f388ab86b25489c91dbd8799c3ccd05",
            "582c9ca14b0b4ccd954811ecda59d53d",
            "3d635863f90c4035b677c3e6256104b2"
          ]
        },
        "id": "vVwxK93cSghl",
        "outputId": "ebb2228a-9b2e-40d6-e482-5f1fcc9f2f77"
      },
      "outputs": [
        {
          "data": {
            "application/vnd.jupyter.widget-view+json": {
              "model_id": "887699232fad488fb4503f18b92afd28",
              "version_major": 2,
              "version_minor": 0
            },
            "text/plain": [
              "model.safetensors:   0%|          | 0.00/133M [00:00<?, ?B/s]"
            ]
          },
          "metadata": {},
          "output_type": "display_data"
        },
        {
          "name": "stdout",
          "output_type": "stream",
          "text": [
            "Parameters: 33360385\n"
          ]
        },
        {
          "data": {
            "application/vnd.jupyter.widget-view+json": {
              "model_id": "9e1cc41cbc3240698e6b575a5feb0215",
              "version_major": 2,
              "version_minor": 0
            },
            "text/plain": [
              "Valid:   0%|          | 0/313 [00:00<?, ?it/s]"
            ]
          },
          "metadata": {},
          "output_type": "display_data"
        },
        {
          "name": "stdout",
          "output_type": "stream",
          "text": [
            "Valid loss: 0.247; Valid accuracy: 0.716\n",
            "Epoch 1/30\n"
          ]
        },
        {
          "data": {
            "application/vnd.jupyter.widget-view+json": {
              "model_id": "c8b44bd848b04d13b1afdeb17a34ad2c",
              "version_major": 2,
              "version_minor": 0
            },
            "text/plain": [
              "Train:   0%|          | 0/3125 [00:00<?, ?it/s]"
            ]
          },
          "metadata": {},
          "output_type": "display_data"
        },
        {
          "name": "stdout",
          "output_type": "stream",
          "text": [
            "Epoch: 1 Training loss: 0.19\n"
          ]
        },
        {
          "data": {
            "application/vnd.jupyter.widget-view+json": {
              "model_id": "7cad956098f2431dba6847f1a0376088",
              "version_major": 2,
              "version_minor": 0
            },
            "text/plain": [
              "Batches:   0%|          | 0/40 [00:00<?, ?it/s]"
            ]
          },
          "metadata": {},
          "output_type": "display_data"
        },
        {
          "name": "stdout",
          "output_type": "stream",
          "text": [
            "{'NDCG@1': 0.49513, 'NDCG@3': 0.43684, 'NDCG@5': 0.39994, 'NDCG@10': 0.35681, 'NDCG@100': 0.25319, 'NDCG@1000': 0.24626}\n",
            "{'MAP@1': 0.06568, 'MAP@3': 0.10886, 'MAP@5': 0.12097, 'MAP@10': 0.13717, 'MAP@100': 0.14761, 'MAP@1000': 0.14761}\n",
            "{'Recall@1': 0.06568, 'Recall@3': 0.11861, 'Recall@5': 0.1368, 'Recall@10': 0.16728, 'Recall@100': 0.19034, 'Recall@1000': 0.19034}\n",
            "{'P@1': 0.51299, 'P@3': 0.40584, 'P@5': 0.33377, 'P@10': 0.24935, 'P@100': 0.03481, 'P@1000': 0.00348}\n",
            "NDCG@1 for epoch 1: 0.4951\n"
          ]
        },
        {
          "data": {
            "application/vnd.jupyter.widget-view+json": {
              "model_id": "09e6aa4300084e0592bedaf8b4839359",
              "version_major": 2,
              "version_minor": 0
            },
            "text/plain": [
              "Valid:   0%|          | 0/313 [00:00<?, ?it/s]"
            ]
          },
          "metadata": {},
          "output_type": "display_data"
        },
        {
          "name": "stdout",
          "output_type": "stream",
          "text": [
            "Valid loss: 0.184; Valid accuracy: 0.753\n",
            "New best model saved with NDCG@1: 0.4951\n",
            "Epoch 2/30\n"
          ]
        },
        {
          "data": {
            "application/vnd.jupyter.widget-view+json": {
              "model_id": "43f90d48f4d6459aba84dae459f6084a",
              "version_major": 2,
              "version_minor": 0
            },
            "text/plain": [
              "Train:   0%|          | 0/3125 [00:00<?, ?it/s]"
            ]
          },
          "metadata": {},
          "output_type": "display_data"
        },
        {
          "name": "stdout",
          "output_type": "stream",
          "text": [
            "Epoch: 2 Training loss: 0.16\n"
          ]
        },
        {
          "data": {
            "application/vnd.jupyter.widget-view+json": {
              "model_id": "c722ead9a17e4c0ca312919d29a0b22f",
              "version_major": 2,
              "version_minor": 0
            },
            "text/plain": [
              "Batches:   0%|          | 0/40 [00:00<?, ?it/s]"
            ]
          },
          "metadata": {},
          "output_type": "display_data"
        },
        {
          "name": "stdout",
          "output_type": "stream",
          "text": [
            "{'NDCG@1': 0.48864, 'NDCG@3': 0.44069, 'NDCG@5': 0.40623, 'NDCG@10': 0.3607, 'NDCG@100': 0.25409, 'NDCG@1000': 0.24716}\n",
            "{'MAP@1': 0.06378, 'MAP@3': 0.10907, 'MAP@5': 0.12315, 'MAP@10': 0.13887, 'MAP@100': 0.14873, 'MAP@1000': 0.14873}\n",
            "{'Recall@1': 0.06378, 'Recall@3': 0.12169, 'Recall@5': 0.14387, 'Recall@10': 0.16892, 'Recall@100': 0.19034, 'Recall@1000': 0.19034}\n",
            "{'P@1': 0.50649, 'P@3': 0.41126, 'P@5': 0.34351, 'P@10': 0.25487, 'P@100': 0.03481, 'P@1000': 0.00348}\n",
            "NDCG@1 for epoch 2: 0.4886\n"
          ]
        },
        {
          "data": {
            "application/vnd.jupyter.widget-view+json": {
              "model_id": "090375669ef94d57b4e9306aa88a7bfb",
              "version_major": 2,
              "version_minor": 0
            },
            "text/plain": [
              "Valid:   0%|          | 0/313 [00:00<?, ?it/s]"
            ]
          },
          "metadata": {},
          "output_type": "display_data"
        },
        {
          "name": "stdout",
          "output_type": "stream",
          "text": [
            "Valid loss: 0.186; Valid accuracy: 0.745\n",
            "Epoch 3/30\n"
          ]
        },
        {
          "data": {
            "application/vnd.jupyter.widget-view+json": {
              "model_id": "07718fefdcf34e84acc84ba84798b08e",
              "version_major": 2,
              "version_minor": 0
            },
            "text/plain": [
              "Train:   0%|          | 0/3125 [00:00<?, ?it/s]"
            ]
          },
          "metadata": {},
          "output_type": "display_data"
        },
        {
          "name": "stdout",
          "output_type": "stream",
          "text": [
            "Epoch: 3 Training loss: 0.13\n"
          ]
        },
        {
          "data": {
            "application/vnd.jupyter.widget-view+json": {
              "model_id": "c1d1ef1ca8aa43d39fab395131b2f754",
              "version_major": 2,
              "version_minor": 0
            },
            "text/plain": [
              "Batches:   0%|          | 0/40 [00:00<?, ?it/s]"
            ]
          },
          "metadata": {},
          "output_type": "display_data"
        },
        {
          "name": "stdout",
          "output_type": "stream",
          "text": [
            "{'NDCG@1': 0.49351, 'NDCG@3': 0.44042, 'NDCG@5': 0.40253, 'NDCG@10': 0.36133, 'NDCG@100': 0.25391, 'NDCG@1000': 0.24695}\n",
            "{'MAP@1': 0.06592, 'MAP@3': 0.10977, 'MAP@5': 0.12326, 'MAP@10': 0.13949, 'MAP@100': 0.14932, 'MAP@1000': 0.14932}\n",
            "{'Recall@1': 0.06592, 'Recall@3': 0.12114, 'Recall@5': 0.14084, 'Recall@10': 0.16917, 'Recall@100': 0.19034, 'Recall@1000': 0.19034}\n",
            "{'P@1': 0.51299, 'P@3': 0.41234, 'P@5': 0.33766, 'P@10': 0.25519, 'P@100': 0.03481, 'P@1000': 0.00348}\n",
            "NDCG@1 for epoch 3: 0.4935\n"
          ]
        },
        {
          "data": {
            "application/vnd.jupyter.widget-view+json": {
              "model_id": "0cd2a5f1f1a547f4b5400c4969ef8ffe",
              "version_major": 2,
              "version_minor": 0
            },
            "text/plain": [
              "Valid:   0%|          | 0/313 [00:00<?, ?it/s]"
            ]
          },
          "metadata": {},
          "output_type": "display_data"
        },
        {
          "name": "stdout",
          "output_type": "stream",
          "text": [
            "Valid loss: 0.187; Valid accuracy: 0.738\n",
            "Epoch 4/30\n"
          ]
        },
        {
          "data": {
            "application/vnd.jupyter.widget-view+json": {
              "model_id": "cf369a21a1aa4df3850d06b71ed5f7c1",
              "version_major": 2,
              "version_minor": 0
            },
            "text/plain": [
              "Train:   0%|          | 0/3125 [00:00<?, ?it/s]"
            ]
          },
          "metadata": {},
          "output_type": "display_data"
        },
        {
          "name": "stdout",
          "output_type": "stream",
          "text": [
            "Epoch: 4 Training loss: 0.11\n"
          ]
        },
        {
          "data": {
            "application/vnd.jupyter.widget-view+json": {
              "model_id": "09931183adb84768b607f4a99458539f",
              "version_major": 2,
              "version_minor": 0
            },
            "text/plain": [
              "Batches:   0%|          | 0/40 [00:00<?, ?it/s]"
            ]
          },
          "metadata": {},
          "output_type": "display_data"
        },
        {
          "name": "stdout",
          "output_type": "stream",
          "text": [
            "{'NDCG@1': 0.48377, 'NDCG@3': 0.43549, 'NDCG@5': 0.40103, 'NDCG@10': 0.35984, 'NDCG@100': 0.25314, 'NDCG@1000': 0.24623}\n",
            "{'MAP@1': 0.06712, 'MAP@3': 0.10818, 'MAP@5': 0.12193, 'MAP@10': 0.13828, 'MAP@100': 0.14834, 'MAP@1000': 0.14834}\n",
            "{'Recall@1': 0.06712, 'Recall@3': 0.12012, 'Recall@5': 0.14216, 'Recall@10': 0.16888, 'Recall@100': 0.19034, 'Recall@1000': 0.19034}\n",
            "{'P@1': 0.49675, 'P@3': 0.40693, 'P@5': 0.33831, 'P@10': 0.25487, 'P@100': 0.03481, 'P@1000': 0.00348}\n",
            "NDCG@1 for epoch 4: 0.4838\n"
          ]
        },
        {
          "data": {
            "application/vnd.jupyter.widget-view+json": {
              "model_id": "46bbba77157546baad8ea7bbc34212c6",
              "version_major": 2,
              "version_minor": 0
            },
            "text/plain": [
              "Valid:   0%|          | 0/313 [00:00<?, ?it/s]"
            ]
          },
          "metadata": {},
          "output_type": "display_data"
        },
        {
          "name": "stdout",
          "output_type": "stream",
          "text": [
            "Valid loss: 0.192; Valid accuracy: 0.745\n",
            "Epoch 5/30\n"
          ]
        },
        {
          "data": {
            "application/vnd.jupyter.widget-view+json": {
              "model_id": "71d23b36b9914288b4a3ce435ab7f8eb",
              "version_major": 2,
              "version_minor": 0
            },
            "text/plain": [
              "Train:   0%|          | 0/3125 [00:00<?, ?it/s]"
            ]
          },
          "metadata": {},
          "output_type": "display_data"
        },
        {
          "name": "stdout",
          "output_type": "stream",
          "text": [
            "Epoch: 5 Training loss: 0.09\n"
          ]
        },
        {
          "data": {
            "application/vnd.jupyter.widget-view+json": {
              "model_id": "0bf6d720d659453eb12c194026e3422b",
              "version_major": 2,
              "version_minor": 0
            },
            "text/plain": [
              "Batches:   0%|          | 0/40 [00:00<?, ?it/s]"
            ]
          },
          "metadata": {},
          "output_type": "display_data"
        },
        {
          "name": "stdout",
          "output_type": "stream",
          "text": [
            "{'NDCG@1': 0.50162, 'NDCG@3': 0.43353, 'NDCG@5': 0.40305, 'NDCG@10': 0.36254, 'NDCG@100': 0.25298, 'NDCG@1000': 0.24596}\n",
            "{'MAP@1': 0.06499, 'MAP@3': 0.10738, 'MAP@5': 0.12125, 'MAP@10': 0.138, 'MAP@100': 0.14796, 'MAP@1000': 0.14796}\n",
            "{'Recall@1': 0.06499, 'Recall@3': 0.11874, 'Recall@5': 0.13998, 'Recall@10': 0.1681, 'Recall@100': 0.19034, 'Recall@1000': 0.19034}\n",
            "{'P@1': 0.51948, 'P@3': 0.39935, 'P@5': 0.33961, 'P@10': 0.25844, 'P@100': 0.03481, 'P@1000': 0.00348}\n",
            "NDCG@1 for epoch 5: 0.5016\n"
          ]
        },
        {
          "data": {
            "application/vnd.jupyter.widget-view+json": {
              "model_id": "5cd01d07a5454660973041d4e7a79fe8",
              "version_major": 2,
              "version_minor": 0
            },
            "text/plain": [
              "Valid:   0%|          | 0/313 [00:00<?, ?it/s]"
            ]
          },
          "metadata": {},
          "output_type": "display_data"
        },
        {
          "name": "stdout",
          "output_type": "stream",
          "text": [
            "Valid loss: 0.205; Valid accuracy: 0.740\n",
            "New best model saved with NDCG@1: 0.5016\n",
            "Epoch 6/30\n"
          ]
        },
        {
          "data": {
            "application/vnd.jupyter.widget-view+json": {
              "model_id": "f87f202bdea74195a5bd5f5fe14abb4e",
              "version_major": 2,
              "version_minor": 0
            },
            "text/plain": [
              "Train:   0%|          | 0/3125 [00:00<?, ?it/s]"
            ]
          },
          "metadata": {},
          "output_type": "display_data"
        },
        {
          "name": "stdout",
          "output_type": "stream",
          "text": [
            "Epoch: 6 Training loss: 0.08\n"
          ]
        },
        {
          "data": {
            "application/vnd.jupyter.widget-view+json": {
              "model_id": "18975ee99dc646989c32e5007e50c8d1",
              "version_major": 2,
              "version_minor": 0
            },
            "text/plain": [
              "Batches:   0%|          | 0/40 [00:00<?, ?it/s]"
            ]
          },
          "metadata": {},
          "output_type": "display_data"
        },
        {
          "name": "stdout",
          "output_type": "stream",
          "text": [
            "{'NDCG@1': 0.48052, 'NDCG@3': 0.43335, 'NDCG@5': 0.40106, 'NDCG@10': 0.35894, 'NDCG@100': 0.24979, 'NDCG@1000': 0.24277}\n",
            "{'MAP@1': 0.05709, 'MAP@3': 0.10397, 'MAP@5': 0.11841, 'MAP@10': 0.13525, 'MAP@100': 0.14456, 'MAP@1000': 0.14456}\n",
            "{'Recall@1': 0.05709, 'Recall@3': 0.11837, 'Recall@5': 0.14072, 'Recall@10': 0.16947, 'Recall@100': 0.19034, 'Recall@1000': 0.19034}\n",
            "{'P@1': 0.49675, 'P@3': 0.40801, 'P@5': 0.34416, 'P@10': 0.25877, 'P@100': 0.03481, 'P@1000': 0.00348}\n",
            "NDCG@1 for epoch 6: 0.4805\n"
          ]
        },
        {
          "data": {
            "application/vnd.jupyter.widget-view+json": {
              "model_id": "80cda13aa0a74fe9b3e3ce9c07e112fb",
              "version_major": 2,
              "version_minor": 0
            },
            "text/plain": [
              "Valid:   0%|          | 0/313 [00:00<?, ?it/s]"
            ]
          },
          "metadata": {},
          "output_type": "display_data"
        },
        {
          "name": "stdout",
          "output_type": "stream",
          "text": [
            "Valid loss: 0.205; Valid accuracy: 0.748\n",
            "Epoch 7/30\n"
          ]
        },
        {
          "data": {
            "application/vnd.jupyter.widget-view+json": {
              "model_id": "afbb3dd5171148efa3261a076e550a05",
              "version_major": 2,
              "version_minor": 0
            },
            "text/plain": [
              "Train:   0%|          | 0/3125 [00:00<?, ?it/s]"
            ]
          },
          "metadata": {},
          "output_type": "display_data"
        },
        {
          "name": "stdout",
          "output_type": "stream",
          "text": [
            "Epoch: 7 Training loss: 0.07\n"
          ]
        },
        {
          "data": {
            "application/vnd.jupyter.widget-view+json": {
              "model_id": "5c974136972a4907b07511e66b0e2127",
              "version_major": 2,
              "version_minor": 0
            },
            "text/plain": [
              "Batches:   0%|          | 0/40 [00:00<?, ?it/s]"
            ]
          },
          "metadata": {},
          "output_type": "display_data"
        },
        {
          "name": "stdout",
          "output_type": "stream",
          "text": [
            "{'NDCG@1': 0.48052, 'NDCG@3': 0.42907, 'NDCG@5': 0.4021, 'NDCG@10': 0.36067, 'NDCG@100': 0.25049, 'NDCG@1000': 0.24356}\n",
            "{'MAP@1': 0.06046, 'MAP@3': 0.10387, 'MAP@5': 0.11972, 'MAP@10': 0.13668, 'MAP@100': 0.14591, 'MAP@1000': 0.14591}\n",
            "{'Recall@1': 0.06046, 'Recall@3': 0.11578, 'Recall@5': 0.14239, 'Recall@10': 0.17011, 'Recall@100': 0.19034, 'Recall@1000': 0.19034}\n",
            "{'P@1': 0.5, 'P@3': 0.4026, 'P@5': 0.34481, 'P@10': 0.26136, 'P@100': 0.03481, 'P@1000': 0.00348}\n",
            "NDCG@1 for epoch 7: 0.4805\n"
          ]
        },
        {
          "data": {
            "application/vnd.jupyter.widget-view+json": {
              "model_id": "e74d26a52e244e2fb72d917184a27a02",
              "version_major": 2,
              "version_minor": 0
            },
            "text/plain": [
              "Valid:   0%|          | 0/313 [00:00<?, ?it/s]"
            ]
          },
          "metadata": {},
          "output_type": "display_data"
        },
        {
          "name": "stdout",
          "output_type": "stream",
          "text": [
            "Valid loss: 0.211; Valid accuracy: 0.742\n",
            "Epoch 8/30\n"
          ]
        },
        {
          "data": {
            "application/vnd.jupyter.widget-view+json": {
              "model_id": "f60f34977ee64792a4a17e74f72c48d3",
              "version_major": 2,
              "version_minor": 0
            },
            "text/plain": [
              "Train:   0%|          | 0/3125 [00:00<?, ?it/s]"
            ]
          },
          "metadata": {},
          "output_type": "display_data"
        },
        {
          "name": "stdout",
          "output_type": "stream",
          "text": [
            "Epoch: 8 Training loss: 0.07\n"
          ]
        },
        {
          "data": {
            "application/vnd.jupyter.widget-view+json": {
              "model_id": "a432fb226561418199edf8c7be7edfbe",
              "version_major": 2,
              "version_minor": 0
            },
            "text/plain": [
              "Batches:   0%|          | 0/40 [00:00<?, ?it/s]"
            ]
          },
          "metadata": {},
          "output_type": "display_data"
        },
        {
          "name": "stdout",
          "output_type": "stream",
          "text": [
            "{'NDCG@1': 0.47403, 'NDCG@3': 0.42786, 'NDCG@5': 0.39715, 'NDCG@10': 0.35701, 'NDCG@100': 0.24816, 'NDCG@1000': 0.2412}\n",
            "{'MAP@1': 0.05801, 'MAP@3': 0.10177, 'MAP@5': 0.11677, 'MAP@10': 0.13388, 'MAP@100': 0.14312, 'MAP@1000': 0.14312}\n",
            "{'Recall@1': 0.05801, 'Recall@3': 0.11639, 'Recall@5': 0.14172, 'Recall@10': 0.16967, 'Recall@100': 0.19034, 'Recall@1000': 0.19034}\n",
            "{'P@1': 0.49026, 'P@3': 0.4026, 'P@5': 0.34091, 'P@10': 0.25909, 'P@100': 0.03481, 'P@1000': 0.00348}\n",
            "NDCG@1 for epoch 8: 0.4740\n"
          ]
        },
        {
          "data": {
            "application/vnd.jupyter.widget-view+json": {
              "model_id": "d5c87cf7b0c14300b0cf4f5544ba6cd3",
              "version_major": 2,
              "version_minor": 0
            },
            "text/plain": [
              "Valid:   0%|          | 0/313 [00:00<?, ?it/s]"
            ]
          },
          "metadata": {},
          "output_type": "display_data"
        },
        {
          "name": "stdout",
          "output_type": "stream",
          "text": [
            "Valid loss: 0.215; Valid accuracy: 0.742\n",
            "Epoch 9/30\n"
          ]
        },
        {
          "data": {
            "application/vnd.jupyter.widget-view+json": {
              "model_id": "8cca2ac336224433a025481174209a91",
              "version_major": 2,
              "version_minor": 0
            },
            "text/plain": [
              "Train:   0%|          | 0/3125 [00:00<?, ?it/s]"
            ]
          },
          "metadata": {},
          "output_type": "display_data"
        },
        {
          "name": "stdout",
          "output_type": "stream",
          "text": [
            "Epoch: 9 Training loss: 0.06\n"
          ]
        },
        {
          "data": {
            "application/vnd.jupyter.widget-view+json": {
              "model_id": "54fe8a8c0a9645389b732c43d325812e",
              "version_major": 2,
              "version_minor": 0
            },
            "text/plain": [
              "Batches:   0%|          | 0/40 [00:00<?, ?it/s]"
            ]
          },
          "metadata": {},
          "output_type": "display_data"
        },
        {
          "name": "stdout",
          "output_type": "stream",
          "text": [
            "{'NDCG@1': 0.50812, 'NDCG@3': 0.43628, 'NDCG@5': 0.40191, 'NDCG@10': 0.36218, 'NDCG@100': 0.25277, 'NDCG@1000': 0.24581}\n",
            "{'MAP@1': 0.06699, 'MAP@3': 0.10846, 'MAP@5': 0.12342, 'MAP@10': 0.1397, 'MAP@100': 0.14931, 'MAP@1000': 0.14931}\n",
            "{'Recall@1': 0.06699, 'Recall@3': 0.11703, 'Recall@5': 0.14111, 'Recall@10': 0.16873, 'Recall@100': 0.19034, 'Recall@1000': 0.19034}\n",
            "{'P@1': 0.52597, 'P@3': 0.40476, 'P@5': 0.34026, 'P@10': 0.25812, 'P@100': 0.03481, 'P@1000': 0.00348}\n",
            "NDCG@1 for epoch 9: 0.5081\n"
          ]
        },
        {
          "data": {
            "application/vnd.jupyter.widget-view+json": {
              "model_id": "e7550831fcde4a6294fcff28457908dd",
              "version_major": 2,
              "version_minor": 0
            },
            "text/plain": [
              "Valid:   0%|          | 0/313 [00:00<?, ?it/s]"
            ]
          },
          "metadata": {},
          "output_type": "display_data"
        },
        {
          "name": "stdout",
          "output_type": "stream",
          "text": [
            "Valid loss: 0.221; Valid accuracy: 0.733\n",
            "New best model saved with NDCG@1: 0.5081\n",
            "Epoch 10/30\n"
          ]
        },
        {
          "data": {
            "application/vnd.jupyter.widget-view+json": {
              "model_id": "cdda6ba4588a486888ac089ef78a3fad",
              "version_major": 2,
              "version_minor": 0
            },
            "text/plain": [
              "Train:   0%|          | 0/3125 [00:00<?, ?it/s]"
            ]
          },
          "metadata": {},
          "output_type": "display_data"
        },
        {
          "name": "stdout",
          "output_type": "stream",
          "text": [
            "Epoch: 10 Training loss: 0.06\n"
          ]
        },
        {
          "data": {
            "application/vnd.jupyter.widget-view+json": {
              "model_id": "145c08d37f044ab88e8fde2fead0cc62",
              "version_major": 2,
              "version_minor": 0
            },
            "text/plain": [
              "Batches:   0%|          | 0/40 [00:00<?, ?it/s]"
            ]
          },
          "metadata": {},
          "output_type": "display_data"
        },
        {
          "name": "stdout",
          "output_type": "stream",
          "text": [
            "{'NDCG@1': 0.48377, 'NDCG@3': 0.43679, 'NDCG@5': 0.40355, 'NDCG@10': 0.35963, 'NDCG@100': 0.252, 'NDCG@1000': 0.24505}\n",
            "{'MAP@1': 0.06279, 'MAP@3': 0.1081, 'MAP@5': 0.12282, 'MAP@10': 0.13839, 'MAP@100': 0.14799, 'MAP@1000': 0.14799}\n",
            "{'Recall@1': 0.06279, 'Recall@3': 0.12205, 'Recall@5': 0.14482, 'Recall@10': 0.16892, 'Recall@100': 0.19034, 'Recall@1000': 0.19034}\n",
            "{'P@1': 0.5, 'P@3': 0.40909, 'P@5': 0.34416, 'P@10': 0.25649, 'P@100': 0.03481, 'P@1000': 0.00348}\n",
            "NDCG@1 for epoch 10: 0.4838\n"
          ]
        },
        {
          "data": {
            "application/vnd.jupyter.widget-view+json": {
              "model_id": "9a2793a01fce4406bbbc4ff6edcd05b8",
              "version_major": 2,
              "version_minor": 0
            },
            "text/plain": [
              "Valid:   0%|          | 0/313 [00:00<?, ?it/s]"
            ]
          },
          "metadata": {},
          "output_type": "display_data"
        },
        {
          "name": "stdout",
          "output_type": "stream",
          "text": [
            "Valid loss: 0.213; Valid accuracy: 0.739\n",
            "Epoch 11/30\n"
          ]
        },
        {
          "data": {
            "application/vnd.jupyter.widget-view+json": {
              "model_id": "be2870eb95984edb91205d2c5cf9f57e",
              "version_major": 2,
              "version_minor": 0
            },
            "text/plain": [
              "Train:   0%|          | 0/3125 [00:00<?, ?it/s]"
            ]
          },
          "metadata": {},
          "output_type": "display_data"
        },
        {
          "name": "stdout",
          "output_type": "stream",
          "text": [
            "Epoch: 11 Training loss: 0.06\n"
          ]
        },
        {
          "data": {
            "application/vnd.jupyter.widget-view+json": {
              "model_id": "8e6e3afd42cc4fecb3f20adf2ca7ebf6",
              "version_major": 2,
              "version_minor": 0
            },
            "text/plain": [
              "Batches:   0%|          | 0/40 [00:00<?, ?it/s]"
            ]
          },
          "metadata": {},
          "output_type": "display_data"
        },
        {
          "name": "stdout",
          "output_type": "stream",
          "text": [
            "{'NDCG@1': 0.48539, 'NDCG@3': 0.43307, 'NDCG@5': 0.4015, 'NDCG@10': 0.35949, 'NDCG@100': 0.25169, 'NDCG@1000': 0.2447}\n",
            "{'MAP@1': 0.06339, 'MAP@3': 0.10888, 'MAP@5': 0.12258, 'MAP@10': 0.13884, 'MAP@100': 0.14837, 'MAP@1000': 0.14837}\n",
            "{'Recall@1': 0.06339, 'Recall@3': 0.122, 'Recall@5': 0.14353, 'Recall@10': 0.16955, 'Recall@100': 0.19034, 'Recall@1000': 0.19034}\n",
            "{'P@1': 0.50325, 'P@3': 0.40584, 'P@5': 0.34156, 'P@10': 0.25714, 'P@100': 0.03481, 'P@1000': 0.00348}\n",
            "NDCG@1 for epoch 11: 0.4854\n"
          ]
        },
        {
          "data": {
            "application/vnd.jupyter.widget-view+json": {
              "model_id": "209c89678bfc46b2b1e01ff6ba2597ce",
              "version_major": 2,
              "version_minor": 0
            },
            "text/plain": [
              "Valid:   0%|          | 0/313 [00:00<?, ?it/s]"
            ]
          },
          "metadata": {},
          "output_type": "display_data"
        },
        {
          "name": "stdout",
          "output_type": "stream",
          "text": [
            "Valid loss: 0.212; Valid accuracy: 0.738\n",
            "Epoch 12/30\n"
          ]
        },
        {
          "data": {
            "application/vnd.jupyter.widget-view+json": {
              "model_id": "5ef287fc7a054749a6839352610b27bc",
              "version_major": 2,
              "version_minor": 0
            },
            "text/plain": [
              "Train:   0%|          | 0/3125 [00:00<?, ?it/s]"
            ]
          },
          "metadata": {},
          "output_type": "display_data"
        },
        {
          "name": "stdout",
          "output_type": "stream",
          "text": [
            "Epoch: 12 Training loss: 0.06\n"
          ]
        },
        {
          "data": {
            "application/vnd.jupyter.widget-view+json": {
              "model_id": "6dbbe486704c4f8ca2842fb4de7bceba",
              "version_major": 2,
              "version_minor": 0
            },
            "text/plain": [
              "Batches:   0%|          | 0/40 [00:00<?, ?it/s]"
            ]
          },
          "metadata": {},
          "output_type": "display_data"
        },
        {
          "name": "stdout",
          "output_type": "stream",
          "text": [
            "{'NDCG@1': 0.47403, 'NDCG@3': 0.4322, 'NDCG@5': 0.40129, 'NDCG@10': 0.35919, 'NDCG@100': 0.25152, 'NDCG@1000': 0.24457}\n",
            "{'MAP@1': 0.06339, 'MAP@3': 0.10777, 'MAP@5': 0.12165, 'MAP@10': 0.138, 'MAP@100': 0.14757, 'MAP@1000': 0.14757}\n",
            "{'Recall@1': 0.06339, 'Recall@3': 0.12236, 'Recall@5': 0.14328, 'Recall@10': 0.16958, 'Recall@100': 0.19034, 'Recall@1000': 0.19034}\n",
            "{'P@1': 0.49026, 'P@3': 0.40693, 'P@5': 0.34286, 'P@10': 0.25682, 'P@100': 0.03481, 'P@1000': 0.00348}\n",
            "NDCG@1 for epoch 12: 0.4740\n"
          ]
        },
        {
          "data": {
            "application/vnd.jupyter.widget-view+json": {
              "model_id": "5846c99136b74b548ee6a01cffc98ae8",
              "version_major": 2,
              "version_minor": 0
            },
            "text/plain": [
              "Valid:   0%|          | 0/313 [00:00<?, ?it/s]"
            ]
          },
          "metadata": {},
          "output_type": "display_data"
        },
        {
          "name": "stdout",
          "output_type": "stream",
          "text": [
            "Valid loss: 0.219; Valid accuracy: 0.740\n",
            "Epoch 13/30\n"
          ]
        },
        {
          "data": {
            "application/vnd.jupyter.widget-view+json": {
              "model_id": "593884ce761d4c5288df5d374b4fbe6b",
              "version_major": 2,
              "version_minor": 0
            },
            "text/plain": [
              "Train:   0%|          | 0/3125 [00:00<?, ?it/s]"
            ]
          },
          "metadata": {},
          "output_type": "display_data"
        },
        {
          "name": "stdout",
          "output_type": "stream",
          "text": [
            "Epoch: 13 Training loss: 0.05\n"
          ]
        },
        {
          "data": {
            "application/vnd.jupyter.widget-view+json": {
              "model_id": "1edff29d906e4ae1a42134df3ed32649",
              "version_major": 2,
              "version_minor": 0
            },
            "text/plain": [
              "Batches:   0%|          | 0/40 [00:00<?, ?it/s]"
            ]
          },
          "metadata": {},
          "output_type": "display_data"
        },
        {
          "name": "stdout",
          "output_type": "stream",
          "text": [
            "{'NDCG@1': 0.48864, 'NDCG@3': 0.42353, 'NDCG@5': 0.39426, 'NDCG@10': 0.3568, 'NDCG@100': 0.24934, 'NDCG@1000': 0.24236}\n",
            "{'MAP@1': 0.06224, 'MAP@3': 0.10369, 'MAP@5': 0.11852, 'MAP@10': 0.13527, 'MAP@100': 0.14523, 'MAP@1000': 0.14523}\n",
            "{'Recall@1': 0.06224, 'Recall@3': 0.11593, 'Recall@5': 0.14052, 'Recall@10': 0.16832, 'Recall@100': 0.19034, 'Recall@1000': 0.19034}\n",
            "{'P@1': 0.50649, 'P@3': 0.39177, 'P@5': 0.33442, 'P@10': 0.25682, 'P@100': 0.03481, 'P@1000': 0.00348}\n",
            "NDCG@1 for epoch 13: 0.4886\n"
          ]
        },
        {
          "data": {
            "application/vnd.jupyter.widget-view+json": {
              "model_id": "c1bfd00ae01e4ddfb603dea5d17c636d",
              "version_major": 2,
              "version_minor": 0
            },
            "text/plain": [
              "Valid:   0%|          | 0/313 [00:00<?, ?it/s]"
            ]
          },
          "metadata": {},
          "output_type": "display_data"
        },
        {
          "name": "stdout",
          "output_type": "stream",
          "text": [
            "Valid loss: 0.217; Valid accuracy: 0.732\n",
            "Epoch 14/30\n"
          ]
        },
        {
          "data": {
            "application/vnd.jupyter.widget-view+json": {
              "model_id": "8e583994501047fd9fe9f0e50299e21f",
              "version_major": 2,
              "version_minor": 0
            },
            "text/plain": [
              "Train:   0%|          | 0/3125 [00:00<?, ?it/s]"
            ]
          },
          "metadata": {},
          "output_type": "display_data"
        },
        {
          "name": "stdout",
          "output_type": "stream",
          "text": [
            "Epoch: 14 Training loss: 0.05\n"
          ]
        },
        {
          "data": {
            "application/vnd.jupyter.widget-view+json": {
              "model_id": "5ee1608972024f52bd30323abc6bf784",
              "version_major": 2,
              "version_minor": 0
            },
            "text/plain": [
              "Batches:   0%|          | 0/40 [00:00<?, ?it/s]"
            ]
          },
          "metadata": {},
          "output_type": "display_data"
        },
        {
          "name": "stdout",
          "output_type": "stream",
          "text": [
            "{'NDCG@1': 0.47078, 'NDCG@3': 0.4251, 'NDCG@5': 0.3977, 'NDCG@10': 0.35604, 'NDCG@100': 0.24793, 'NDCG@1000': 0.24092}\n",
            "{'MAP@1': 0.06011, 'MAP@3': 0.10341, 'MAP@5': 0.11933, 'MAP@10': 0.13543, 'MAP@100': 0.14509, 'MAP@1000': 0.14509}\n",
            "{'Recall@1': 0.06011, 'Recall@3': 0.11417, 'Recall@5': 0.14039, 'Recall@10': 0.16816, 'Recall@100': 0.19034, 'Recall@1000': 0.19034}\n",
            "{'P@1': 0.49026, 'P@3': 0.39935, 'P@5': 0.34091, 'P@10': 0.25812, 'P@100': 0.03481, 'P@1000': 0.00348}\n",
            "NDCG@1 for epoch 14: 0.4708\n"
          ]
        },
        {
          "data": {
            "application/vnd.jupyter.widget-view+json": {
              "model_id": "23b74652b67d490a850968eec0f19452",
              "version_major": 2,
              "version_minor": 0
            },
            "text/plain": [
              "Valid:   0%|          | 0/313 [00:00<?, ?it/s]"
            ]
          },
          "metadata": {},
          "output_type": "display_data"
        },
        {
          "name": "stdout",
          "output_type": "stream",
          "text": [
            "Valid loss: 0.221; Valid accuracy: 0.739\n",
            "Epoch 15/30\n"
          ]
        },
        {
          "data": {
            "application/vnd.jupyter.widget-view+json": {
              "model_id": "f1371dc3496643ada1bc0617ed1d9427",
              "version_major": 2,
              "version_minor": 0
            },
            "text/plain": [
              "Train:   0%|          | 0/3125 [00:00<?, ?it/s]"
            ]
          },
          "metadata": {},
          "output_type": "display_data"
        },
        {
          "name": "stdout",
          "output_type": "stream",
          "text": [
            "Epoch: 15 Training loss: 0.05\n"
          ]
        },
        {
          "data": {
            "application/vnd.jupyter.widget-view+json": {
              "model_id": "94712f10aaf044cc98b53cf6b72a4dc0",
              "version_major": 2,
              "version_minor": 0
            },
            "text/plain": [
              "Batches:   0%|          | 0/40 [00:00<?, ?it/s]"
            ]
          },
          "metadata": {},
          "output_type": "display_data"
        },
        {
          "name": "stdout",
          "output_type": "stream",
          "text": [
            "{'NDCG@1': 0.48701, 'NDCG@3': 0.43279, 'NDCG@5': 0.40196, 'NDCG@10': 0.3586, 'NDCG@100': 0.25077, 'NDCG@1000': 0.24379}\n",
            "{'MAP@1': 0.06202, 'MAP@3': 0.10644, 'MAP@5': 0.12178, 'MAP@10': 0.13722, 'MAP@100': 0.14706, 'MAP@1000': 0.14706}\n",
            "{'Recall@1': 0.06202, 'Recall@3': 0.11787, 'Recall@5': 0.1424, 'Recall@10': 0.16843, 'Recall@100': 0.19034, 'Recall@1000': 0.19034}\n",
            "{'P@1': 0.50649, 'P@3': 0.40476, 'P@5': 0.34286, 'P@10': 0.25714, 'P@100': 0.03481, 'P@1000': 0.00348}\n",
            "NDCG@1 for epoch 15: 0.4870\n"
          ]
        },
        {
          "data": {
            "application/vnd.jupyter.widget-view+json": {
              "model_id": "f55b056d316440cfb81fd13ddc4856b4",
              "version_major": 2,
              "version_minor": 0
            },
            "text/plain": [
              "Valid:   0%|          | 0/313 [00:00<?, ?it/s]"
            ]
          },
          "metadata": {},
          "output_type": "display_data"
        },
        {
          "name": "stdout",
          "output_type": "stream",
          "text": [
            "Valid loss: 0.220; Valid accuracy: 0.745\n",
            "Epoch 16/30\n"
          ]
        },
        {
          "data": {
            "application/vnd.jupyter.widget-view+json": {
              "model_id": "aadf6243974e438492f48dc000131874",
              "version_major": 2,
              "version_minor": 0
            },
            "text/plain": [
              "Train:   0%|          | 0/3125 [00:00<?, ?it/s]"
            ]
          },
          "metadata": {},
          "output_type": "display_data"
        },
        {
          "name": "stdout",
          "output_type": "stream",
          "text": [
            "Epoch: 16 Training loss: 0.05\n"
          ]
        },
        {
          "data": {
            "application/vnd.jupyter.widget-view+json": {
              "model_id": "6b5813b54d9746dd8d710353f0c34d4b",
              "version_major": 2,
              "version_minor": 0
            },
            "text/plain": [
              "Batches:   0%|          | 0/40 [00:00<?, ?it/s]"
            ]
          },
          "metadata": {},
          "output_type": "display_data"
        },
        {
          "name": "stdout",
          "output_type": "stream",
          "text": [
            "{'NDCG@1': 0.48214, 'NDCG@3': 0.42386, 'NDCG@5': 0.39521, 'NDCG@10': 0.35553, 'NDCG@100': 0.2482, 'NDCG@1000': 0.24131}\n",
            "{'MAP@1': 0.0596, 'MAP@3': 0.10292, 'MAP@5': 0.11788, 'MAP@10': 0.1341, 'MAP@100': 0.14423, 'MAP@1000': 0.14423}\n",
            "{'Recall@1': 0.0596, 'Recall@3': 0.11514, 'Recall@5': 0.13951, 'Recall@10': 0.16738, 'Recall@100': 0.19034, 'Recall@1000': 0.19034}\n",
            "{'P@1': 0.5, 'P@3': 0.3961, 'P@5': 0.33831, 'P@10': 0.25779, 'P@100': 0.03481, 'P@1000': 0.00348}\n",
            "NDCG@1 for epoch 16: 0.4821\n"
          ]
        },
        {
          "data": {
            "application/vnd.jupyter.widget-view+json": {
              "model_id": "528e62767dc444d9b87a20a05c08d7a6",
              "version_major": 2,
              "version_minor": 0
            },
            "text/plain": [
              "Valid:   0%|          | 0/313 [00:00<?, ?it/s]"
            ]
          },
          "metadata": {},
          "output_type": "display_data"
        },
        {
          "name": "stdout",
          "output_type": "stream",
          "text": [
            "Valid loss: 0.214; Valid accuracy: 0.745\n",
            "Epoch 17/30\n"
          ]
        },
        {
          "data": {
            "application/vnd.jupyter.widget-view+json": {
              "model_id": "949205ed015241e28683ec1d600048d3",
              "version_major": 2,
              "version_minor": 0
            },
            "text/plain": [
              "Train:   0%|          | 0/3125 [00:00<?, ?it/s]"
            ]
          },
          "metadata": {},
          "output_type": "display_data"
        },
        {
          "name": "stdout",
          "output_type": "stream",
          "text": [
            "Epoch: 17 Training loss: 0.05\n"
          ]
        },
        {
          "data": {
            "application/vnd.jupyter.widget-view+json": {
              "model_id": "35339de9f3954e57900d5408bf28c821",
              "version_major": 2,
              "version_minor": 0
            },
            "text/plain": [
              "Batches:   0%|          | 0/40 [00:00<?, ?it/s]"
            ]
          },
          "metadata": {},
          "output_type": "display_data"
        },
        {
          "name": "stdout",
          "output_type": "stream",
          "text": [
            "{'NDCG@1': 0.49513, 'NDCG@3': 0.43225, 'NDCG@5': 0.40183, 'NDCG@10': 0.35939, 'NDCG@100': 0.25185, 'NDCG@1000': 0.24491}\n",
            "{'MAP@1': 0.06414, 'MAP@3': 0.10757, 'MAP@5': 0.12276, 'MAP@10': 0.13808, 'MAP@100': 0.14789, 'MAP@1000': 0.14789}\n",
            "{'Recall@1': 0.06414, 'Recall@3': 0.11768, 'Recall@5': 0.14158, 'Recall@10': 0.16886, 'Recall@100': 0.19034, 'Recall@1000': 0.19034}\n",
            "{'P@1': 0.51623, 'P@3': 0.40152, 'P@5': 0.34091, 'P@10': 0.25617, 'P@100': 0.03481, 'P@1000': 0.00348}\n",
            "NDCG@1 for epoch 17: 0.4951\n"
          ]
        },
        {
          "data": {
            "application/vnd.jupyter.widget-view+json": {
              "model_id": "503c6d51fd4e4d37bddfece3cad3e4bd",
              "version_major": 2,
              "version_minor": 0
            },
            "text/plain": [
              "Valid:   0%|          | 0/313 [00:00<?, ?it/s]"
            ]
          },
          "metadata": {},
          "output_type": "display_data"
        },
        {
          "name": "stdout",
          "output_type": "stream",
          "text": [
            "Valid loss: 0.219; Valid accuracy: 0.742\n",
            "Epoch 18/30\n"
          ]
        },
        {
          "data": {
            "application/vnd.jupyter.widget-view+json": {
              "model_id": "e8a3fa1cbbd9471a976dcd22d9b19015",
              "version_major": 2,
              "version_minor": 0
            },
            "text/plain": [
              "Train:   0%|          | 0/3125 [00:00<?, ?it/s]"
            ]
          },
          "metadata": {},
          "output_type": "display_data"
        },
        {
          "name": "stdout",
          "output_type": "stream",
          "text": [
            "Epoch: 18 Training loss: 0.05\n"
          ]
        },
        {
          "data": {
            "application/vnd.jupyter.widget-view+json": {
              "model_id": "5a1ed690dee942f5878d7b2cd37628fe",
              "version_major": 2,
              "version_minor": 0
            },
            "text/plain": [
              "Batches:   0%|          | 0/40 [00:00<?, ?it/s]"
            ]
          },
          "metadata": {},
          "output_type": "display_data"
        },
        {
          "name": "stdout",
          "output_type": "stream",
          "text": [
            "{'NDCG@1': 0.49513, 'NDCG@3': 0.42812, 'NDCG@5': 0.39793, 'NDCG@10': 0.35792, 'NDCG@100': 0.24953, 'NDCG@1000': 0.24257}\n",
            "{'MAP@1': 0.06294, 'MAP@3': 0.10316, 'MAP@5': 0.11823, 'MAP@10': 0.13526, 'MAP@100': 0.14493, 'MAP@1000': 0.14493}\n",
            "{'Recall@1': 0.06294, 'Recall@3': 0.11362, 'Recall@5': 0.13717, 'Recall@10': 0.16868, 'Recall@100': 0.19034, 'Recall@1000': 0.19034}\n",
            "{'P@1': 0.51299, 'P@3': 0.39502, 'P@5': 0.33766, 'P@10': 0.25649, 'P@100': 0.03481, 'P@1000': 0.00348}\n",
            "NDCG@1 for epoch 18: 0.4951\n"
          ]
        },
        {
          "data": {
            "application/vnd.jupyter.widget-view+json": {
              "model_id": "5f8977aafdd44f49b7c80ced94f1e528",
              "version_major": 2,
              "version_minor": 0
            },
            "text/plain": [
              "Valid:   0%|          | 0/313 [00:00<?, ?it/s]"
            ]
          },
          "metadata": {},
          "output_type": "display_data"
        },
        {
          "name": "stdout",
          "output_type": "stream",
          "text": [
            "Valid loss: 0.222; Valid accuracy: 0.746\n",
            "Epoch 19/30\n"
          ]
        },
        {
          "data": {
            "application/vnd.jupyter.widget-view+json": {
              "model_id": "467c828ae0d1452b8e1df22f1ffeb505",
              "version_major": 2,
              "version_minor": 0
            },
            "text/plain": [
              "Train:   0%|          | 0/3125 [00:00<?, ?it/s]"
            ]
          },
          "metadata": {},
          "output_type": "display_data"
        },
        {
          "name": "stdout",
          "output_type": "stream",
          "text": [
            "Epoch: 19 Training loss: 0.05\n"
          ]
        },
        {
          "data": {
            "application/vnd.jupyter.widget-view+json": {
              "model_id": "4d06421c9c0b43b5a6f7e70dd33c7c87",
              "version_major": 2,
              "version_minor": 0
            },
            "text/plain": [
              "Batches:   0%|          | 0/40 [00:00<?, ?it/s]"
            ]
          },
          "metadata": {},
          "output_type": "display_data"
        },
        {
          "name": "stdout",
          "output_type": "stream",
          "text": [
            "{'NDCG@1': 0.49838, 'NDCG@3': 0.43551, 'NDCG@5': 0.40297, 'NDCG@10': 0.35982, 'NDCG@100': 0.25128, 'NDCG@1000': 0.2443}\n",
            "{'MAP@1': 0.06125, 'MAP@3': 0.10536, 'MAP@5': 0.1203, 'MAP@10': 0.13609, 'MAP@100': 0.14594, 'MAP@1000': 0.14594}\n",
            "{'Recall@1': 0.06125, 'Recall@3': 0.11806, 'Recall@5': 0.14001, 'Recall@10': 0.16723, 'Recall@100': 0.19034, 'Recall@1000': 0.19034}\n",
            "{'P@1': 0.51299, 'P@3': 0.40368, 'P@5': 0.34221, 'P@10': 0.25779, 'P@100': 0.03481, 'P@1000': 0.00348}\n",
            "NDCG@1 for epoch 19: 0.4984\n"
          ]
        },
        {
          "data": {
            "application/vnd.jupyter.widget-view+json": {
              "model_id": "79bb314578f94a4e82b812cc9d6da4c9",
              "version_major": 2,
              "version_minor": 0
            },
            "text/plain": [
              "Valid:   0%|          | 0/313 [00:00<?, ?it/s]"
            ]
          },
          "metadata": {},
          "output_type": "display_data"
        },
        {
          "name": "stdout",
          "output_type": "stream",
          "text": [
            "Valid loss: 0.217; Valid accuracy: 0.746\n",
            "Epoch 20/30\n"
          ]
        },
        {
          "data": {
            "application/vnd.jupyter.widget-view+json": {
              "model_id": "4d42b3b4f2c1483cb98eb26a309814ed",
              "version_major": 2,
              "version_minor": 0
            },
            "text/plain": [
              "Train:   0%|          | 0/3125 [00:00<?, ?it/s]"
            ]
          },
          "metadata": {},
          "output_type": "display_data"
        },
        {
          "name": "stdout",
          "output_type": "stream",
          "text": [
            "Epoch: 20 Training loss: 0.05\n"
          ]
        },
        {
          "data": {
            "application/vnd.jupyter.widget-view+json": {
              "model_id": "672187de94df47f284059b521e9d88e4",
              "version_major": 2,
              "version_minor": 0
            },
            "text/plain": [
              "Batches:   0%|          | 0/40 [00:00<?, ?it/s]"
            ]
          },
          "metadata": {},
          "output_type": "display_data"
        },
        {
          "name": "stdout",
          "output_type": "stream",
          "text": [
            "{'NDCG@1': 0.48864, 'NDCG@3': 0.42777, 'NDCG@5': 0.39884, 'NDCG@10': 0.3572, 'NDCG@100': 0.24937, 'NDCG@1000': 0.24239}\n",
            "{'MAP@1': 0.06269, 'MAP@3': 0.10347, 'MAP@5': 0.11968, 'MAP@10': 0.13571, 'MAP@100': 0.14556, 'MAP@1000': 0.14556}\n",
            "{'Recall@1': 0.06269, 'Recall@3': 0.11385, 'Recall@5': 0.14005, 'Recall@10': 0.16826, 'Recall@100': 0.19034, 'Recall@1000': 0.19034}\n",
            "{'P@1': 0.50649, 'P@3': 0.39827, 'P@5': 0.34091, 'P@10': 0.25682, 'P@100': 0.03481, 'P@1000': 0.00348}\n",
            "NDCG@1 for epoch 20: 0.4886\n"
          ]
        },
        {
          "data": {
            "application/vnd.jupyter.widget-view+json": {
              "model_id": "661bc4f2d68b4f43bd3ca35b7cece22a",
              "version_major": 2,
              "version_minor": 0
            },
            "text/plain": [
              "Valid:   0%|          | 0/313 [00:00<?, ?it/s]"
            ]
          },
          "metadata": {},
          "output_type": "display_data"
        },
        {
          "name": "stdout",
          "output_type": "stream",
          "text": [
            "Valid loss: 0.223; Valid accuracy: 0.738\n",
            "Epoch 21/30\n"
          ]
        },
        {
          "data": {
            "application/vnd.jupyter.widget-view+json": {
              "model_id": "2349e7d2fd7648169678cd7fe1e174cd",
              "version_major": 2,
              "version_minor": 0
            },
            "text/plain": [
              "Train:   0%|          | 0/3125 [00:00<?, ?it/s]"
            ]
          },
          "metadata": {},
          "output_type": "display_data"
        },
        {
          "name": "stdout",
          "output_type": "stream",
          "text": [
            "Epoch: 21 Training loss: 0.05\n"
          ]
        },
        {
          "data": {
            "application/vnd.jupyter.widget-view+json": {
              "model_id": "2b0b1872946d47cea12607c89c7857e4",
              "version_major": 2,
              "version_minor": 0
            },
            "text/plain": [
              "Batches:   0%|          | 0/40 [00:00<?, ?it/s]"
            ]
          },
          "metadata": {},
          "output_type": "display_data"
        },
        {
          "name": "stdout",
          "output_type": "stream",
          "text": [
            "{'NDCG@1': 0.49188, 'NDCG@3': 0.43351, 'NDCG@5': 0.3995, 'NDCG@10': 0.35869, 'NDCG@100': 0.2513, 'NDCG@1000': 0.24433}\n",
            "{'MAP@1': 0.06718, 'MAP@3': 0.10622, 'MAP@5': 0.12103, 'MAP@10': 0.13681, 'MAP@100': 0.147, 'MAP@1000': 0.147}\n",
            "{'Recall@1': 0.06718, 'Recall@3': 0.11494, 'Recall@5': 0.13904, 'Recall@10': 0.16661, 'Recall@100': 0.19034, 'Recall@1000': 0.19034}\n",
            "{'P@1': 0.50974, 'P@3': 0.40152, 'P@5': 0.33701, 'P@10': 0.25649, 'P@100': 0.03481, 'P@1000': 0.00348}\n",
            "NDCG@1 for epoch 21: 0.4919\n"
          ]
        },
        {
          "data": {
            "application/vnd.jupyter.widget-view+json": {
              "model_id": "3473ebf9d545465d8db412c2df9e5104",
              "version_major": 2,
              "version_minor": 0
            },
            "text/plain": [
              "Valid:   0%|          | 0/313 [00:00<?, ?it/s]"
            ]
          },
          "metadata": {},
          "output_type": "display_data"
        },
        {
          "name": "stdout",
          "output_type": "stream",
          "text": [
            "Valid loss: 0.219; Valid accuracy: 0.742\n",
            "Epoch 22/30\n"
          ]
        },
        {
          "data": {
            "application/vnd.jupyter.widget-view+json": {
              "model_id": "ff61ba45dd2444d79f98bd43eece46f4",
              "version_major": 2,
              "version_minor": 0
            },
            "text/plain": [
              "Train:   0%|          | 0/3125 [00:00<?, ?it/s]"
            ]
          },
          "metadata": {},
          "output_type": "display_data"
        },
        {
          "name": "stdout",
          "output_type": "stream",
          "text": [
            "Epoch: 22 Training loss: 0.05\n"
          ]
        },
        {
          "data": {
            "application/vnd.jupyter.widget-view+json": {
              "model_id": "381f1b28e1504bd5a94048636eb0c3b0",
              "version_major": 2,
              "version_minor": 0
            },
            "text/plain": [
              "Batches:   0%|          | 0/40 [00:00<?, ?it/s]"
            ]
          },
          "metadata": {},
          "output_type": "display_data"
        },
        {
          "name": "stdout",
          "output_type": "stream",
          "text": [
            "{'NDCG@1': 0.5, 'NDCG@3': 0.431, 'NDCG@5': 0.40035, 'NDCG@10': 0.35565, 'NDCG@100': 0.24998, 'NDCG@1000': 0.24295}\n",
            "{'MAP@1': 0.06348, 'MAP@3': 0.10299, 'MAP@5': 0.1187, 'MAP@10': 0.13476, 'MAP@100': 0.14486, 'MAP@1000': 0.14486}\n",
            "{'Recall@1': 0.06348, 'Recall@3': 0.11364, 'Recall@5': 0.13813, 'Recall@10': 0.16699, 'Recall@100': 0.19034, 'Recall@1000': 0.19034}\n",
            "{'P@1': 0.51623, 'P@3': 0.39827, 'P@5': 0.33961, 'P@10': 0.25227, 'P@100': 0.03481, 'P@1000': 0.00348}\n",
            "NDCG@1 for epoch 22: 0.5000\n"
          ]
        },
        {
          "data": {
            "application/vnd.jupyter.widget-view+json": {
              "model_id": "979c1abc3a1d456cadad3c238671499b",
              "version_major": 2,
              "version_minor": 0
            },
            "text/plain": [
              "Valid:   0%|          | 0/313 [00:00<?, ?it/s]"
            ]
          },
          "metadata": {},
          "output_type": "display_data"
        },
        {
          "name": "stdout",
          "output_type": "stream",
          "text": [
            "Valid loss: 0.222; Valid accuracy: 0.748\n",
            "Epoch 23/30\n"
          ]
        },
        {
          "data": {
            "application/vnd.jupyter.widget-view+json": {
              "model_id": "9d00ff7a1dfa42a28a64ef8a1499276c",
              "version_major": 2,
              "version_minor": 0
            },
            "text/plain": [
              "Train:   0%|          | 0/3125 [00:00<?, ?it/s]"
            ]
          },
          "metadata": {},
          "output_type": "display_data"
        },
        {
          "name": "stdout",
          "output_type": "stream",
          "text": [
            "Epoch: 23 Training loss: 0.05\n"
          ]
        },
        {
          "data": {
            "application/vnd.jupyter.widget-view+json": {
              "model_id": "684f345f1cfb4b6c9ad0e78e25846631",
              "version_major": 2,
              "version_minor": 0
            },
            "text/plain": [
              "Batches:   0%|          | 0/40 [00:00<?, ?it/s]"
            ]
          },
          "metadata": {},
          "output_type": "display_data"
        },
        {
          "name": "stdout",
          "output_type": "stream",
          "text": [
            "{'NDCG@1': 0.48864, 'NDCG@3': 0.42817, 'NDCG@5': 0.39382, 'NDCG@10': 0.35607, 'NDCG@100': 0.24967, 'NDCG@1000': 0.24269}\n",
            "{'MAP@1': 0.06118, 'MAP@3': 0.10303, 'MAP@5': 0.11819, 'MAP@10': 0.13475, 'MAP@100': 0.14442, 'MAP@1000': 0.14442}\n",
            "{'Recall@1': 0.06118, 'Recall@3': 0.11458, 'Recall@5': 0.13989, 'Recall@10': 0.16792, 'Recall@100': 0.19034, 'Recall@1000': 0.19034}\n",
            "{'P@1': 0.50649, 'P@3': 0.3961, 'P@5': 0.33312, 'P@10': 0.25617, 'P@100': 0.03481, 'P@1000': 0.00348}\n",
            "NDCG@1 for epoch 23: 0.4886\n"
          ]
        },
        {
          "data": {
            "application/vnd.jupyter.widget-view+json": {
              "model_id": "900443cea93b407c91097970b1635aea",
              "version_major": 2,
              "version_minor": 0
            },
            "text/plain": [
              "Valid:   0%|          | 0/313 [00:00<?, ?it/s]"
            ]
          },
          "metadata": {},
          "output_type": "display_data"
        },
        {
          "name": "stdout",
          "output_type": "stream",
          "text": [
            "Valid loss: 0.222; Valid accuracy: 0.745\n",
            "Epoch 24/30\n"
          ]
        },
        {
          "data": {
            "application/vnd.jupyter.widget-view+json": {
              "model_id": "00f979d97ea64fafaf4128adb3cf8fe8",
              "version_major": 2,
              "version_minor": 0
            },
            "text/plain": [
              "Train:   0%|          | 0/3125 [00:00<?, ?it/s]"
            ]
          },
          "metadata": {},
          "output_type": "display_data"
        },
        {
          "name": "stdout",
          "output_type": "stream",
          "text": [
            "Epoch: 24 Training loss: 0.05\n"
          ]
        },
        {
          "data": {
            "application/vnd.jupyter.widget-view+json": {
              "model_id": "c4a26b873935416ca0e70f76352a3580",
              "version_major": 2,
              "version_minor": 0
            },
            "text/plain": [
              "Batches:   0%|          | 0/40 [00:00<?, ?it/s]"
            ]
          },
          "metadata": {},
          "output_type": "display_data"
        },
        {
          "name": "stdout",
          "output_type": "stream",
          "text": [
            "{'NDCG@1': 0.48539, 'NDCG@3': 0.43456, 'NDCG@5': 0.39762, 'NDCG@10': 0.35689, 'NDCG@100': 0.24911, 'NDCG@1000': 0.24207}\n",
            "{'MAP@1': 0.06054, 'MAP@3': 0.10393, 'MAP@5': 0.11818, 'MAP@10': 0.13442, 'MAP@100': 0.14429, 'MAP@1000': 0.14429}\n",
            "{'Recall@1': 0.06054, 'Recall@3': 0.117, 'Recall@5': 0.14143, 'Recall@10': 0.16737, 'Recall@100': 0.19034, 'Recall@1000': 0.19034}\n",
            "{'P@1': 0.50325, 'P@3': 0.40584, 'P@5': 0.33636, 'P@10': 0.25617, 'P@100': 0.03481, 'P@1000': 0.00348}\n",
            "NDCG@1 for epoch 24: 0.4854\n"
          ]
        },
        {
          "data": {
            "application/vnd.jupyter.widget-view+json": {
              "model_id": "d646d887c26f4128943f1409800377d8",
              "version_major": 2,
              "version_minor": 0
            },
            "text/plain": [
              "Valid:   0%|          | 0/313 [00:00<?, ?it/s]"
            ]
          },
          "metadata": {},
          "output_type": "display_data"
        },
        {
          "name": "stdout",
          "output_type": "stream",
          "text": [
            "Valid loss: 0.221; Valid accuracy: 0.746\n",
            "Epoch 25/30\n"
          ]
        },
        {
          "data": {
            "application/vnd.jupyter.widget-view+json": {
              "model_id": "e959747e5636402798cb2ef8ae2e7fc6",
              "version_major": 2,
              "version_minor": 0
            },
            "text/plain": [
              "Train:   0%|          | 0/3125 [00:00<?, ?it/s]"
            ]
          },
          "metadata": {},
          "output_type": "display_data"
        },
        {
          "name": "stdout",
          "output_type": "stream",
          "text": [
            "Epoch: 25 Training loss: 0.04\n"
          ]
        },
        {
          "data": {
            "application/vnd.jupyter.widget-view+json": {
              "model_id": "6d507d9290c54bf0ac70fa53f0031eb6",
              "version_major": 2,
              "version_minor": 0
            },
            "text/plain": [
              "Batches:   0%|          | 0/40 [00:00<?, ?it/s]"
            ]
          },
          "metadata": {},
          "output_type": "display_data"
        },
        {
          "name": "stdout",
          "output_type": "stream",
          "text": [
            "{'NDCG@1': 0.48701, 'NDCG@3': 0.43121, 'NDCG@5': 0.39649, 'NDCG@10': 0.35692, 'NDCG@100': 0.24937, 'NDCG@1000': 0.24237}\n",
            "{'MAP@1': 0.061, 'MAP@3': 0.10258, 'MAP@5': 0.11744, 'MAP@10': 0.13384, 'MAP@100': 0.1437, 'MAP@1000': 0.1437}\n",
            "{'Recall@1': 0.061, 'Recall@3': 0.11416, 'Recall@5': 0.1395, 'Recall@10': 0.16748, 'Recall@100': 0.19034, 'Recall@1000': 0.19034}\n",
            "{'P@1': 0.50325, 'P@3': 0.39935, 'P@5': 0.33506, 'P@10': 0.25617, 'P@100': 0.03481, 'P@1000': 0.00348}\n",
            "NDCG@1 for epoch 25: 0.4870\n"
          ]
        },
        {
          "data": {
            "application/vnd.jupyter.widget-view+json": {
              "model_id": "a7bdd7dedaee4013960e67b36753e81e",
              "version_major": 2,
              "version_minor": 0
            },
            "text/plain": [
              "Valid:   0%|          | 0/313 [00:00<?, ?it/s]"
            ]
          },
          "metadata": {},
          "output_type": "display_data"
        },
        {
          "name": "stdout",
          "output_type": "stream",
          "text": [
            "Valid loss: 0.222; Valid accuracy: 0.747\n",
            "Epoch 26/30\n"
          ]
        },
        {
          "data": {
            "application/vnd.jupyter.widget-view+json": {
              "model_id": "ecc0f7dc89cb471590854c07f0a2f316",
              "version_major": 2,
              "version_minor": 0
            },
            "text/plain": [
              "Train:   0%|          | 0/3125 [00:00<?, ?it/s]"
            ]
          },
          "metadata": {},
          "output_type": "display_data"
        },
        {
          "name": "stdout",
          "output_type": "stream",
          "text": [
            "Epoch: 26 Training loss: 0.04\n"
          ]
        },
        {
          "data": {
            "application/vnd.jupyter.widget-view+json": {
              "model_id": "40c164bfacac4f45a5f2573951e6067f",
              "version_major": 2,
              "version_minor": 0
            },
            "text/plain": [
              "Batches:   0%|          | 0/40 [00:00<?, ?it/s]"
            ]
          },
          "metadata": {},
          "output_type": "display_data"
        },
        {
          "name": "stdout",
          "output_type": "stream",
          "text": [
            "{'NDCG@1': 0.49026, 'NDCG@3': 0.43141, 'NDCG@5': 0.39641, 'NDCG@10': 0.356, 'NDCG@100': 0.24948, 'NDCG@1000': 0.24248}\n",
            "{'MAP@1': 0.06414, 'MAP@3': 0.10295, 'MAP@5': 0.11765, 'MAP@10': 0.13408, 'MAP@100': 0.1444, 'MAP@1000': 0.1444}\n",
            "{'Recall@1': 0.06414, 'Recall@3': 0.1123, 'Recall@5': 0.13874, 'Recall@10': 0.16645, 'Recall@100': 0.19034, 'Recall@1000': 0.19034}\n",
            "{'P@1': 0.50649, 'P@3': 0.40152, 'P@5': 0.33506, 'P@10': 0.25487, 'P@100': 0.03481, 'P@1000': 0.00348}\n",
            "NDCG@1 for epoch 26: 0.4903\n"
          ]
        },
        {
          "data": {
            "application/vnd.jupyter.widget-view+json": {
              "model_id": "523323c6145045fe8148f6d8784b1e6d",
              "version_major": 2,
              "version_minor": 0
            },
            "text/plain": [
              "Valid:   0%|          | 0/313 [00:00<?, ?it/s]"
            ]
          },
          "metadata": {},
          "output_type": "display_data"
        },
        {
          "name": "stdout",
          "output_type": "stream",
          "text": [
            "Valid loss: 0.221; Valid accuracy: 0.747\n",
            "Epoch 27/30\n"
          ]
        },
        {
          "data": {
            "application/vnd.jupyter.widget-view+json": {
              "model_id": "3ac019bf853f413d80393d13092298c2",
              "version_major": 2,
              "version_minor": 0
            },
            "text/plain": [
              "Train:   0%|          | 0/3125 [00:00<?, ?it/s]"
            ]
          },
          "metadata": {},
          "output_type": "display_data"
        },
        {
          "name": "stdout",
          "output_type": "stream",
          "text": [
            "Epoch: 27 Training loss: 0.04\n"
          ]
        },
        {
          "data": {
            "application/vnd.jupyter.widget-view+json": {
              "model_id": "5ceaafd905e84e1786a79ff240d5fd9e",
              "version_major": 2,
              "version_minor": 0
            },
            "text/plain": [
              "Batches:   0%|          | 0/40 [00:00<?, ?it/s]"
            ]
          },
          "metadata": {},
          "output_type": "display_data"
        },
        {
          "name": "stdout",
          "output_type": "stream",
          "text": [
            "{'NDCG@1': 0.48864, 'NDCG@3': 0.431, 'NDCG@5': 0.39739, 'NDCG@10': 0.35764, 'NDCG@100': 0.25031, 'NDCG@1000': 0.24331}\n",
            "{'MAP@1': 0.06395, 'MAP@3': 0.10586, 'MAP@5': 0.11983, 'MAP@10': 0.13585, 'MAP@100': 0.14595, 'MAP@1000': 0.14595}\n",
            "{'Recall@1': 0.06395, 'Recall@3': 0.11728, 'Recall@5': 0.1405, 'Recall@10': 0.16722, 'Recall@100': 0.19034, 'Recall@1000': 0.19034}\n",
            "{'P@1': 0.50649, 'P@3': 0.40043, 'P@5': 0.33571, 'P@10': 0.25649, 'P@100': 0.03481, 'P@1000': 0.00348}\n",
            "NDCG@1 for epoch 27: 0.4886\n"
          ]
        },
        {
          "data": {
            "application/vnd.jupyter.widget-view+json": {
              "model_id": "ea5f14e81d3647b1bf318f17ad7e39b7",
              "version_major": 2,
              "version_minor": 0
            },
            "text/plain": [
              "Valid:   0%|          | 0/313 [00:00<?, ?it/s]"
            ]
          },
          "metadata": {},
          "output_type": "display_data"
        },
        {
          "name": "stdout",
          "output_type": "stream",
          "text": [
            "Valid loss: 0.222; Valid accuracy: 0.745\n",
            "Epoch 28/30\n"
          ]
        },
        {
          "data": {
            "application/vnd.jupyter.widget-view+json": {
              "model_id": "6876d29b4d3049028a91e97bb7d582fb",
              "version_major": 2,
              "version_minor": 0
            },
            "text/plain": [
              "Train:   0%|          | 0/3125 [00:00<?, ?it/s]"
            ]
          },
          "metadata": {},
          "output_type": "display_data"
        },
        {
          "name": "stdout",
          "output_type": "stream",
          "text": [
            "Epoch: 28 Training loss: 0.04\n"
          ]
        },
        {
          "data": {
            "application/vnd.jupyter.widget-view+json": {
              "model_id": "787afd5295a34a68bb278a284ee66fb9",
              "version_major": 2,
              "version_minor": 0
            },
            "text/plain": [
              "Batches:   0%|          | 0/40 [00:00<?, ?it/s]"
            ]
          },
          "metadata": {},
          "output_type": "display_data"
        },
        {
          "name": "stdout",
          "output_type": "stream",
          "text": [
            "{'NDCG@1': 0.49188, 'NDCG@3': 0.43324, 'NDCG@5': 0.40026, 'NDCG@10': 0.35968, 'NDCG@100': 0.25074, 'NDCG@1000': 0.24374}\n",
            "{'MAP@1': 0.06407, 'MAP@3': 0.10426, 'MAP@5': 0.1196, 'MAP@10': 0.1358, 'MAP@100': 0.14565, 'MAP@1000': 0.14565}\n",
            "{'Recall@1': 0.06407, 'Recall@3': 0.11436, 'Recall@5': 0.1408, 'Recall@10': 0.16891, 'Recall@100': 0.19034, 'Recall@1000': 0.19034}\n",
            "{'P@1': 0.50974, 'P@3': 0.40152, 'P@5': 0.33831, 'P@10': 0.25747, 'P@100': 0.03481, 'P@1000': 0.00348}\n",
            "NDCG@1 for epoch 28: 0.4919\n"
          ]
        },
        {
          "data": {
            "application/vnd.jupyter.widget-view+json": {
              "model_id": "350bde31899e463aa67f6e103fccffb3",
              "version_major": 2,
              "version_minor": 0
            },
            "text/plain": [
              "Valid:   0%|          | 0/313 [00:00<?, ?it/s]"
            ]
          },
          "metadata": {},
          "output_type": "display_data"
        },
        {
          "name": "stdout",
          "output_type": "stream",
          "text": [
            "Valid loss: 0.226; Valid accuracy: 0.748\n",
            "Epoch 29/30\n"
          ]
        },
        {
          "data": {
            "application/vnd.jupyter.widget-view+json": {
              "model_id": "a25de5b78046434a8e25f0d8cb84fa4e",
              "version_major": 2,
              "version_minor": 0
            },
            "text/plain": [
              "Train:   0%|          | 0/3125 [00:00<?, ?it/s]"
            ]
          },
          "metadata": {},
          "output_type": "display_data"
        },
        {
          "name": "stdout",
          "output_type": "stream",
          "text": [
            "Epoch: 29 Training loss: 0.04\n"
          ]
        },
        {
          "data": {
            "application/vnd.jupyter.widget-view+json": {
              "model_id": "4e271f8bc326486f9eda0d3011cc335e",
              "version_major": 2,
              "version_minor": 0
            },
            "text/plain": [
              "Batches:   0%|          | 0/40 [00:00<?, ?it/s]"
            ]
          },
          "metadata": {},
          "output_type": "display_data"
        },
        {
          "name": "stdout",
          "output_type": "stream",
          "text": [
            "{'NDCG@1': 0.48539, 'NDCG@3': 0.43233, 'NDCG@5': 0.40044, 'NDCG@10': 0.35873, 'NDCG@100': 0.25082, 'NDCG@1000': 0.24381}\n",
            "{'MAP@1': 0.06386, 'MAP@3': 0.10601, 'MAP@5': 0.12007, 'MAP@10': 0.13617, 'MAP@100': 0.14624, 'MAP@1000': 0.14624}\n",
            "{'Recall@1': 0.06386, 'Recall@3': 0.11737, 'Recall@5': 0.14058, 'Recall@10': 0.16796, 'Recall@100': 0.19034, 'Recall@1000': 0.19034}\n",
            "{'P@1': 0.50325, 'P@3': 0.4026, 'P@5': 0.33961, 'P@10': 0.25649, 'P@100': 0.03481, 'P@1000': 0.00348}\n",
            "NDCG@1 for epoch 29: 0.4854\n"
          ]
        },
        {
          "data": {
            "application/vnd.jupyter.widget-view+json": {
              "model_id": "51cd26f6f3d04ac8a08b921e2c023876",
              "version_major": 2,
              "version_minor": 0
            },
            "text/plain": [
              "Valid:   0%|          | 0/313 [00:00<?, ?it/s]"
            ]
          },
          "metadata": {},
          "output_type": "display_data"
        },
        {
          "name": "stdout",
          "output_type": "stream",
          "text": [
            "Valid loss: 0.223; Valid accuracy: 0.747\n",
            "Epoch 30/30\n"
          ]
        },
        {
          "data": {
            "application/vnd.jupyter.widget-view+json": {
              "model_id": "9f388ab86b25489c91dbd8799c3ccd05",
              "version_major": 2,
              "version_minor": 0
            },
            "text/plain": [
              "Train:   0%|          | 0/3125 [00:00<?, ?it/s]"
            ]
          },
          "metadata": {},
          "output_type": "display_data"
        },
        {
          "name": "stdout",
          "output_type": "stream",
          "text": [
            "Epoch: 30 Training loss: 0.04\n"
          ]
        },
        {
          "data": {
            "application/vnd.jupyter.widget-view+json": {
              "model_id": "582c9ca14b0b4ccd954811ecda59d53d",
              "version_major": 2,
              "version_minor": 0
            },
            "text/plain": [
              "Batches:   0%|          | 0/40 [00:00<?, ?it/s]"
            ]
          },
          "metadata": {},
          "output_type": "display_data"
        },
        {
          "name": "stdout",
          "output_type": "stream",
          "text": [
            "{'NDCG@1': 0.48214, 'NDCG@3': 0.43083, 'NDCG@5': 0.40088, 'NDCG@10': 0.35957, 'NDCG@100': 0.25038, 'NDCG@1000': 0.24337}\n",
            "{'MAP@1': 0.06354, 'MAP@3': 0.1051, 'MAP@5': 0.11989, 'MAP@10': 0.13608, 'MAP@100': 0.14589, 'MAP@1000': 0.14589}\n",
            "{'Recall@1': 0.06354, 'Recall@3': 0.11618, 'Recall@5': 0.14106, 'Recall@10': 0.16893, 'Recall@100': 0.19034, 'Recall@1000': 0.19034}\n",
            "{'P@1': 0.5, 'P@3': 0.40043, 'P@5': 0.34156, 'P@10': 0.25844, 'P@100': 0.03481, 'P@1000': 0.00348}\n",
            "NDCG@1 for epoch 30: 0.4821\n"
          ]
        },
        {
          "data": {
            "application/vnd.jupyter.widget-view+json": {
              "model_id": "3d635863f90c4035b677c3e6256104b2",
              "version_major": 2,
              "version_minor": 0
            },
            "text/plain": [
              "Valid:   0%|          | 0/313 [00:00<?, ?it/s]"
            ]
          },
          "metadata": {},
          "output_type": "display_data"
        },
        {
          "name": "stdout",
          "output_type": "stream",
          "text": [
            "Valid loss: 0.226; Valid accuracy: 0.746\n",
            "Training complete. Best model saved at: finetune_nfcorpus/neg_samples_3_seed6/best_model_full_weights_NDCG_fixedrandom\n"
          ]
        }
      ],
      "source": [
        "import torch\n",
        "from torch import nn, optim\n",
        "from tqdm.auto import tqdm\n",
        "from transformers import AutoModelForSequenceClassification, get_linear_schedule_with_warmup\n",
        "from statistics import mean\n",
        "import os\n",
        "torch.backends.cudnn.deterministic = True\n",
        "torch.backends.cudnn.benchmark = False\n",
        "\n",
        "# Set the seed for reproducibility\n",
        "\n",
        "random.seed(SEED)\n",
        "np.random.seed(SEED)\n",
        "torch.manual_seed(SEED)\n",
        "torch.cuda.manual_seed_all(SEED)  # if using CUDA\n",
        "\n",
        "# Set up device\n",
        "device = torch.device('cuda' if torch.cuda.is_available() else 'cpu')\n",
        "model = AutoModelForSequenceClassification.from_pretrained(model_name).to(device)\n",
        "\n",
        "print('Parameters:', model.num_parameters())\n",
        "\n",
        "# Training configuration\n",
        "epochs = 30\n",
        "learning_rate = 2e-5  # Adjust as necessary\n",
        "optimizer = optim.AdamW(model.parameters(), lr=learning_rate)\n",
        "num_training_steps = epochs * len(dataloader_train)\n",
        "num_warmup_steps = int(num_training_steps * 0.1)\n",
        "scheduler = get_linear_schedule_with_warmup(optimizer, num_warmup_steps, num_training_steps)\n",
        "\n",
        "# Track the best NDCG score\n",
        "best_ndcg = float(\"-inf\")\n",
        "fine_tuned_model_path = f\"finetune_{DATASET}/neg_samples_{NUM_NEG_SAMPLES}_seed{SEED}/temp_model_epoch_NDCG_full_fixedrandom\"\n",
        "best_model_path = f\"finetune_{DATASET}/neg_samples_{NUM_NEG_SAMPLES}_seed{SEED}/best_model_full_weights_NDCG_fixedrandom\"\n",
        "os.makedirs(fine_tuned_model_path, exist_ok=True)\n",
        "os.makedirs(best_model_path, exist_ok=True)\n",
        "\n",
        "# Initial validation to verify evaluation code\n",
        "evaluate(model=model, dataloader=dataloader_valid, set_name='Valid')\n",
        "\n",
        "# Training loop\n",
        "for epoch in range(epochs):\n",
        "    model.train()\n",
        "    train_losses = []\n",
        "    print(f\"Epoch {epoch + 1}/{epochs}\")\n",
        "\n",
        "    for batch in tqdm(dataloader_train, desc=\"Train\"):\n",
        "        # Move batch to device\n",
        "        batch = {k: v.to(device) for k, v in batch.items()}\n",
        "\n",
        "        # Zero gradients\n",
        "        optimizer.zero_grad()\n",
        "\n",
        "        # Forward pass\n",
        "        outputs = model(**batch)\n",
        "\n",
        "        # Apply sigmoid to logits for binary relevance scores\n",
        "        predictions = torch.sigmoid(outputs.logits).squeeze()\n",
        "\n",
        "        # Calculate MSE loss with sigmoid-transformed predictions\n",
        "        loss = nn.functional.mse_loss(predictions, batch['labels'].float())\n",
        "        train_losses.append(loss.cpu().item())\n",
        "\n",
        "        # Backward pass\n",
        "        loss.backward()\n",
        "        optimizer.step()\n",
        "        scheduler.step()\n",
        "\n",
        "    # Print average training loss for the epoch\n",
        "    avg_train_loss = mean(train_losses)\n",
        "    print(f\"Epoch: {epoch + 1} Training loss: {avg_train_loss:.2f}\")\n",
        "\n",
        "    # Save the model at the end of each epoch\n",
        "    model.save_pretrained(fine_tuned_model_path)\n",
        "    tokenizer.save_pretrained(fine_tuned_model_path)\n",
        "\n",
        "    # Evaluate NDCG using the saved model path\n",
        "    ndcg = evaluate_beir(fine_tuned_model_path, NUM_NEG_SAMPLES=NUM_NEG_SAMPLES)\n",
        "    print(f\"NDCG@1 for epoch {epoch + 1}: {ndcg:.4f}\")\n",
        "    evaluate(model=model, dataloader=dataloader_valid, set_name='Valid')\n",
        "\n",
        "\n",
        "    # Check if this NDCG score is the highest seen so far\n",
        "    if ndcg > best_ndcg:\n",
        "        best_ndcg = ndcg\n",
        "        # Save the model with the highest NDCG\n",
        "        model.save_pretrained(best_model_path)\n",
        "        tokenizer.save_pretrained(best_model_path)\n",
        "        print(f\"New best model saved with NDCG@1: {ndcg:.4f}\")\n",
        "\n",
        "print(\"Training complete. Best model saved at:\", best_model_path)\n"
      ]
    },
    {
      "cell_type": "code",
      "execution_count": null,
      "metadata": {
        "colab": {
          "background_save": true,
          "referenced_widgets": [
            "e5889a141a27454c8cf0906c9122e32a",
            "35cce5511f8244449536f73648994d8b",
            "da39a9a76a8a42359cfa81b97611ffa6",
            "33f65a6e72544b71abbbb10491ad92f8",
            "fea97d2b68bf4742915604bc9c61c78f",
            "cf0d4d17b2b7454c8c9f016d144d318f",
            "147c431031a94db4bfb52c36657fc345",
            "303562fcb044405e9bd09cc2565f6880",
            "5382a1ad74014c0f98b4a617b2873f80",
            "d71c0c653ed14d7c9597efb7e8bed0b2",
            "dfccc2b115524f27a3fba61abaaba70a",
            "880f8037c92242bfbd90f98b9569e1a6",
            "17950a27e40d45d3a41641f95083d00d",
            "91b40ff98a5040999905d0bf41762050",
            "104f71293e1146c19098e382b42b60c5",
            "9a65a7ed060a4a309907bce4a614ed24",
            "a47e9bc524434cbb817d0aeaa25262c1",
            "3ec8e00fc9374cefbff53ea88e3258c2",
            "35594b993a4e4317ac15fd4228b4d938",
            "7865138c658f4fea94d8249a53123f1a",
            "ec8acb3f4fb649848d716edbb348932e",
            "f78340cf05ad4e3fa68ac9f9740567ff",
            "a7797b009ef94b158aa2c7f111075b8c",
            "8f89be2e00f143b9bb5b43835e47bd34",
            "7dad5980b10e4983a2ba3bd3c660633b",
            "13fa3ca184c3411691d0d2fe1442d4a8",
            "283a581c9f654ca1b3532fc1a3d24971",
            "c8eb6c1ba2a9447ab089da259a091bd1",
            "455f0b1824204b42b2ccf42973a8653b",
            "bc794375842d48d289b41d694f48c3e7",
            "85e9c21968844477b07039a6fb219388",
            "267a5a84872d4f03988f685f110c9e70",
            "ce29fadc4e664cfab9b8f81f630e771c",
            "be77a798b7b343858bb92f91327d30a6",
            "97f69af3b8124aa1af409c01b8ec0903",
            "f17acd210d5148598733e442e796f43a",
            "be1646a8bbea41669b082d303065397d",
            "a6319fe5f30849618967bbe57983f957",
            "0996053c7ca24192bb17240f10ac100d",
            "5472371205b14128a615131ef2c114e0",
            "a1a2a48b5d064b29806989c413b002e1",
            "23877623c8f447218a6c1b741e1f415d",
            "c32ed9b92fe5473ab46d59084ef4eab8",
            "ecec1f943fac4b57836002e687da388c",
            "de98ad50605743158bece03061f07e40",
            "56183f6cf05444f1a6be302464812156",
            "3b18d7675b0f485baf53ad9d4cdfa3aa",
            "e7fc5c430edd405fa514f5e2073b594d",
            "cd6662e25772420a89ab86234369e694",
            "15a8ba33038a438083711af93789e408",
            "655339f3eb3a4572a84fb4e5d2f55573",
            "205f6a37b3304060aa4d42d41740ff7f",
            "47b3c59bce8d488e9310c6d40340f650",
            "7c74ed307bde49b396e041f9d7ae0c26",
            "ca89b30416d04cd1ad75d5b29904eee3",
            "b9cfdfa9bdf5488dae236e18e68f9b4c",
            "40ba1948014e4ffcb0eaa8a9ff7f1173",
            "b4ed8f5d9d7f445b89520764eb3d477c",
            "e533c020a4f44488a81c37ae36e47cae",
            "7b67fdb3739f4b6caf5d60cf03a80e09",
            "e59077abf0c745fe9a6b3465894dbcfd",
            "46b8d9d27a6a4ffea974351c5a5033aa",
            "65cfb56de44c467e88251a3790036b4d",
            "a5cf66c6ee8540d1b3b0764a169c41d6",
            "89f46abe421c40a787ba78dba73bd3a0",
            "1a81c97a81b44fdcb6398e3060c5b8f7",
            "195122b229a34e8896eb8980716b4690",
            "f0a31a2f64124fbc8f0121c4459e7d8d",
            "d3a6e7770a754146b15d2fea5f88db62",
            "564e0a1ce45847c697c77952ea512f65",
            "451ea51240f4470699bc60b6ba1b0acd",
            "e13b00cdbff84094b845240a09e7eaa2",
            "033570e4f08749c389ca9ab452864428",
            "f64e03031f7f4690b14c0d91902dc127",
            "aa2d1a13d2404708acbee15c8713e73f",
            "0f9b3efe8329450a8c3d11bf73f9e9c2",
            "93494428ee054e04a3cbb5e2d053f392",
            "aa815fb5b58d49fd978cefb30253df37",
            "6a6fcb73d4704a3e81421db8d98149ae",
            "c31480d1e2e845db91578e57123b1e87",
            "9481c0e5f3f6431ba4cec096afd58742",
            "96ab456a80f94c62836e27cb222b6828",
            "835403a3193a4e6e8803e0bd96a8a672",
            "0fd1a752dd3444a29d4a5eeff7790c19",
            "e787d6bfdc184669ac77dd46d05b6829",
            "c728a5bc656b4b209b9afdb1cf70cd3b",
            "249e6147fa794d52bb60f1494855612b",
            "1686497b538c4f7badcf368e4b19c47b",
            "96d56ebe26534e5186c8080f9bbe3f87",
            "32fc4eb9afec4191aa7cdb1e3a90bf6c",
            "38425843ba274a2d8dc178219182db32"
          ]
        },
        "id": "AvciV-A0N-n_",
        "outputId": "91dfd08d-2cad-4bf4-b2e8-734bee05479c"
      },
      "outputs": [
        {
          "name": "stdout",
          "output_type": "stream",
          "text": [
            "Number of masked elements: 19436\n",
            "Total number of elements in idf_tensor: 30522\n",
            "Trainable Parameters: 11918592\n"
          ]
        },
        {
          "data": {
            "application/vnd.jupyter.widget-view+json": {
              "model_id": "e5889a141a27454c8cf0906c9122e32a",
              "version_major": 2,
              "version_minor": 0
            },
            "text/plain": [
              "Valid:   0%|          | 0/313 [00:00<?, ?it/s]"
            ]
          },
          "metadata": {},
          "output_type": "display_data"
        },
        {
          "name": "stdout",
          "output_type": "stream",
          "text": [
            "Valid loss: 0.243; Valid accuracy: 0.731\n",
            "Epoch 1/30\n"
          ]
        },
        {
          "data": {
            "application/vnd.jupyter.widget-view+json": {
              "model_id": "35cce5511f8244449536f73648994d8b",
              "version_major": 2,
              "version_minor": 0
            },
            "text/plain": [
              "Train:   0%|          | 0/3125 [00:00<?, ?it/s]"
            ]
          },
          "metadata": {},
          "output_type": "display_data"
        },
        {
          "name": "stdout",
          "output_type": "stream",
          "text": [
            "Epoch: 1 Training loss: 0.24\n"
          ]
        },
        {
          "data": {
            "application/vnd.jupyter.widget-view+json": {
              "model_id": "da39a9a76a8a42359cfa81b97611ffa6",
              "version_major": 2,
              "version_minor": 0
            },
            "text/plain": [
              "Batches:   0%|          | 0/40 [00:00<?, ?it/s]"
            ]
          },
          "metadata": {},
          "output_type": "display_data"
        },
        {
          "name": "stdout",
          "output_type": "stream",
          "text": [
            "{'NDCG@1': 0.45617, 'NDCG@3': 0.42528, 'NDCG@5': 0.38807, 'NDCG@10': 0.34962, 'NDCG@100': 0.24823, 'NDCG@1000': 0.24129}\n",
            "{'MAP@1': 0.0599, 'MAP@3': 0.10488, 'MAP@5': 0.11704, 'MAP@10': 0.13334, 'MAP@100': 0.14366, 'MAP@1000': 0.14366}\n",
            "{'Recall@1': 0.0599, 'Recall@3': 0.11651, 'Recall@5': 0.13452, 'Recall@10': 0.16631, 'Recall@100': 0.19034, 'Recall@1000': 0.19034}\n",
            "{'P@1': 0.46753, 'P@3': 0.39935, 'P@5': 0.32727, 'P@10': 0.24805, 'P@100': 0.03481, 'P@1000': 0.00348}\n",
            "NDCG@1 for epoch 1: 0.4562\n"
          ]
        },
        {
          "data": {
            "application/vnd.jupyter.widget-view+json": {
              "model_id": "33f65a6e72544b71abbbb10491ad92f8",
              "version_major": 2,
              "version_minor": 0
            },
            "text/plain": [
              "Valid:   0%|          | 0/313 [00:00<?, ?it/s]"
            ]
          },
          "metadata": {},
          "output_type": "display_data"
        },
        {
          "name": "stdout",
          "output_type": "stream",
          "text": [
            "Valid loss: 0.242; Valid accuracy: 0.715\n",
            "New best model saved with NDCG@1: 0.4562\n",
            "Epoch 2/30\n"
          ]
        },
        {
          "data": {
            "application/vnd.jupyter.widget-view+json": {
              "model_id": "fea97d2b68bf4742915604bc9c61c78f",
              "version_major": 2,
              "version_minor": 0
            },
            "text/plain": [
              "Train:   0%|          | 0/3125 [00:00<?, ?it/s]"
            ]
          },
          "metadata": {},
          "output_type": "display_data"
        },
        {
          "name": "stdout",
          "output_type": "stream",
          "text": [
            "Epoch: 2 Training loss: 0.23\n"
          ]
        },
        {
          "data": {
            "application/vnd.jupyter.widget-view+json": {
              "model_id": "cf0d4d17b2b7454c8c9f016d144d318f",
              "version_major": 2,
              "version_minor": 0
            },
            "text/plain": [
              "Batches:   0%|          | 0/40 [00:00<?, ?it/s]"
            ]
          },
          "metadata": {},
          "output_type": "display_data"
        },
        {
          "name": "stdout",
          "output_type": "stream",
          "text": [
            "{'NDCG@1': 0.45942, 'NDCG@3': 0.42406, 'NDCG@5': 0.38563, 'NDCG@10': 0.34881, 'NDCG@100': 0.24767, 'NDCG@1000': 0.24075}\n",
            "{'MAP@1': 0.0589, 'MAP@3': 0.10401, 'MAP@5': 0.1156, 'MAP@10': 0.13192, 'MAP@100': 0.14245, 'MAP@1000': 0.14245}\n",
            "{'Recall@1': 0.0589, 'Recall@3': 0.11656, 'Recall@5': 0.13356, 'Recall@10': 0.16611, 'Recall@100': 0.19034, 'Recall@1000': 0.19034}\n",
            "{'P@1': 0.47078, 'P@3': 0.39827, 'P@5': 0.32468, 'P@10': 0.24838, 'P@100': 0.03481, 'P@1000': 0.00348}\n",
            "NDCG@1 for epoch 2: 0.4594\n"
          ]
        },
        {
          "data": {
            "application/vnd.jupyter.widget-view+json": {
              "model_id": "147c431031a94db4bfb52c36657fc345",
              "version_major": 2,
              "version_minor": 0
            },
            "text/plain": [
              "Valid:   0%|          | 0/313 [00:00<?, ?it/s]"
            ]
          },
          "metadata": {},
          "output_type": "display_data"
        },
        {
          "name": "stdout",
          "output_type": "stream",
          "text": [
            "Valid loss: 0.231; Valid accuracy: 0.699\n",
            "New best model saved with NDCG@1: 0.4594\n",
            "Epoch 3/30\n"
          ]
        },
        {
          "data": {
            "application/vnd.jupyter.widget-view+json": {
              "model_id": "303562fcb044405e9bd09cc2565f6880",
              "version_major": 2,
              "version_minor": 0
            },
            "text/plain": [
              "Train:   0%|          | 0/3125 [00:00<?, ?it/s]"
            ]
          },
          "metadata": {},
          "output_type": "display_data"
        },
        {
          "name": "stdout",
          "output_type": "stream",
          "text": [
            "Epoch: 3 Training loss: 0.20\n"
          ]
        },
        {
          "data": {
            "application/vnd.jupyter.widget-view+json": {
              "model_id": "5382a1ad74014c0f98b4a617b2873f80",
              "version_major": 2,
              "version_minor": 0
            },
            "text/plain": [
              "Batches:   0%|          | 0/40 [00:00<?, ?it/s]"
            ]
          },
          "metadata": {},
          "output_type": "display_data"
        },
        {
          "name": "stdout",
          "output_type": "stream",
          "text": [
            "{'NDCG@1': 0.46591, 'NDCG@3': 0.42131, 'NDCG@5': 0.38699, 'NDCG@10': 0.34922, 'NDCG@100': 0.24786, 'NDCG@1000': 0.24092}\n",
            "{'MAP@1': 0.0588, 'MAP@3': 0.10297, 'MAP@5': 0.11583, 'MAP@10': 0.13222, 'MAP@100': 0.14256, 'MAP@1000': 0.14256}\n",
            "{'Recall@1': 0.0588, 'Recall@3': 0.11455, 'Recall@5': 0.13503, 'Recall@10': 0.16661, 'Recall@100': 0.19034, 'Recall@1000': 0.19034}\n",
            "{'P@1': 0.47727, 'P@3': 0.39177, 'P@5': 0.32532, 'P@10': 0.24838, 'P@100': 0.03481, 'P@1000': 0.00348}\n",
            "NDCG@1 for epoch 3: 0.4659\n"
          ]
        },
        {
          "data": {
            "application/vnd.jupyter.widget-view+json": {
              "model_id": "d71c0c653ed14d7c9597efb7e8bed0b2",
              "version_major": 2,
              "version_minor": 0
            },
            "text/plain": [
              "Valid:   0%|          | 0/313 [00:00<?, ?it/s]"
            ]
          },
          "metadata": {},
          "output_type": "display_data"
        },
        {
          "name": "stdout",
          "output_type": "stream",
          "text": [
            "Valid loss: 0.216; Valid accuracy: 0.694\n",
            "New best model saved with NDCG@1: 0.4659\n",
            "Epoch 4/30\n"
          ]
        },
        {
          "data": {
            "application/vnd.jupyter.widget-view+json": {
              "model_id": "dfccc2b115524f27a3fba61abaaba70a",
              "version_major": 2,
              "version_minor": 0
            },
            "text/plain": [
              "Train:   0%|          | 0/3125 [00:00<?, ?it/s]"
            ]
          },
          "metadata": {},
          "output_type": "display_data"
        },
        {
          "name": "stdout",
          "output_type": "stream",
          "text": [
            "Epoch: 4 Training loss: 0.18\n"
          ]
        },
        {
          "data": {
            "application/vnd.jupyter.widget-view+json": {
              "model_id": "880f8037c92242bfbd90f98b9569e1a6",
              "version_major": 2,
              "version_minor": 0
            },
            "text/plain": [
              "Batches:   0%|          | 0/40 [00:00<?, ?it/s]"
            ]
          },
          "metadata": {},
          "output_type": "display_data"
        },
        {
          "name": "stdout",
          "output_type": "stream",
          "text": [
            "{'NDCG@1': 0.46266, 'NDCG@3': 0.42216, 'NDCG@5': 0.39024, 'NDCG@10': 0.34948, 'NDCG@100': 0.24816, 'NDCG@1000': 0.24126}\n",
            "{'MAP@1': 0.05914, 'MAP@3': 0.10339, 'MAP@5': 0.11685, 'MAP@10': 0.13238, 'MAP@100': 0.14271, 'MAP@1000': 0.14271}\n",
            "{'Recall@1': 0.05914, 'Recall@3': 0.11508, 'Recall@5': 0.1387, 'Recall@10': 0.1663, 'Recall@100': 0.19034, 'Recall@1000': 0.19034}\n",
            "{'P@1': 0.47403, 'P@3': 0.39502, 'P@5': 0.32922, 'P@10': 0.2487, 'P@100': 0.03481, 'P@1000': 0.00348}\n",
            "NDCG@1 for epoch 4: 0.4627\n"
          ]
        },
        {
          "data": {
            "application/vnd.jupyter.widget-view+json": {
              "model_id": "17950a27e40d45d3a41641f95083d00d",
              "version_major": 2,
              "version_minor": 0
            },
            "text/plain": [
              "Valid:   0%|          | 0/313 [00:00<?, ?it/s]"
            ]
          },
          "metadata": {},
          "output_type": "display_data"
        },
        {
          "name": "stdout",
          "output_type": "stream",
          "text": [
            "Valid loss: 0.199; Valid accuracy: 0.716\n",
            "Epoch 5/30\n"
          ]
        },
        {
          "data": {
            "application/vnd.jupyter.widget-view+json": {
              "model_id": "91b40ff98a5040999905d0bf41762050",
              "version_major": 2,
              "version_minor": 0
            },
            "text/plain": [
              "Train:   0%|          | 0/3125 [00:00<?, ?it/s]"
            ]
          },
          "metadata": {},
          "output_type": "display_data"
        },
        {
          "name": "stdout",
          "output_type": "stream",
          "text": [
            "Epoch: 5 Training loss: 0.16\n"
          ]
        },
        {
          "data": {
            "application/vnd.jupyter.widget-view+json": {
              "model_id": "104f71293e1146c19098e382b42b60c5",
              "version_major": 2,
              "version_minor": 0
            },
            "text/plain": [
              "Batches:   0%|          | 0/40 [00:00<?, ?it/s]"
            ]
          },
          "metadata": {},
          "output_type": "display_data"
        },
        {
          "name": "stdout",
          "output_type": "stream",
          "text": [
            "{'NDCG@1': 0.46104, 'NDCG@3': 0.42267, 'NDCG@5': 0.39058, 'NDCG@10': 0.34866, 'NDCG@100': 0.24808, 'NDCG@1000': 0.24123}\n",
            "{'MAP@1': 0.05887, 'MAP@3': 0.10335, 'MAP@5': 0.11689, 'MAP@10': 0.13216, 'MAP@100': 0.14264, 'MAP@1000': 0.14264}\n",
            "{'Recall@1': 0.05887, 'Recall@3': 0.11518, 'Recall@5': 0.13877, 'Recall@10': 0.16519, 'Recall@100': 0.19034, 'Recall@1000': 0.19034}\n",
            "{'P@1': 0.47403, 'P@3': 0.3961, 'P@5': 0.33052, 'P@10': 0.24805, 'P@100': 0.03481, 'P@1000': 0.00348}\n",
            "NDCG@1 for epoch 5: 0.4610\n"
          ]
        },
        {
          "data": {
            "application/vnd.jupyter.widget-view+json": {
              "model_id": "9a65a7ed060a4a309907bce4a614ed24",
              "version_major": 2,
              "version_minor": 0
            },
            "text/plain": [
              "Valid:   0%|          | 0/313 [00:00<?, ?it/s]"
            ]
          },
          "metadata": {},
          "output_type": "display_data"
        },
        {
          "name": "stdout",
          "output_type": "stream",
          "text": [
            "Valid loss: 0.202; Valid accuracy: 0.703\n",
            "Epoch 6/30\n"
          ]
        },
        {
          "data": {
            "application/vnd.jupyter.widget-view+json": {
              "model_id": "a47e9bc524434cbb817d0aeaa25262c1",
              "version_major": 2,
              "version_minor": 0
            },
            "text/plain": [
              "Train:   0%|          | 0/3125 [00:00<?, ?it/s]"
            ]
          },
          "metadata": {},
          "output_type": "display_data"
        },
        {
          "name": "stdout",
          "output_type": "stream",
          "text": [
            "Epoch: 6 Training loss: 0.15\n"
          ]
        },
        {
          "data": {
            "application/vnd.jupyter.widget-view+json": {
              "model_id": "3ec8e00fc9374cefbff53ea88e3258c2",
              "version_major": 2,
              "version_minor": 0
            },
            "text/plain": [
              "Batches:   0%|          | 0/40 [00:00<?, ?it/s]"
            ]
          },
          "metadata": {},
          "output_type": "display_data"
        },
        {
          "name": "stdout",
          "output_type": "stream",
          "text": [
            "{'NDCG@1': 0.46429, 'NDCG@3': 0.4253, 'NDCG@5': 0.39104, 'NDCG@10': 0.34992, 'NDCG@100': 0.2486, 'NDCG@1000': 0.24172}\n",
            "{'MAP@1': 0.05917, 'MAP@3': 0.10385, 'MAP@5': 0.11714, 'MAP@10': 0.13237, 'MAP@100': 0.14292, 'MAP@1000': 0.14292}\n",
            "{'Recall@1': 0.05917, 'Recall@3': 0.11587, 'Recall@5': 0.13884, 'Recall@10': 0.16508, 'Recall@100': 0.19034, 'Recall@1000': 0.19034}\n",
            "{'P@1': 0.47727, 'P@3': 0.39827, 'P@5': 0.32987, 'P@10': 0.24838, 'P@100': 0.03481, 'P@1000': 0.00348}\n",
            "NDCG@1 for epoch 6: 0.4643\n"
          ]
        },
        {
          "data": {
            "application/vnd.jupyter.widget-view+json": {
              "model_id": "35594b993a4e4317ac15fd4228b4d938",
              "version_major": 2,
              "version_minor": 0
            },
            "text/plain": [
              "Valid:   0%|          | 0/313 [00:00<?, ?it/s]"
            ]
          },
          "metadata": {},
          "output_type": "display_data"
        },
        {
          "name": "stdout",
          "output_type": "stream",
          "text": [
            "Valid loss: 0.202; Valid accuracy: 0.700\n",
            "Epoch 7/30\n"
          ]
        },
        {
          "data": {
            "application/vnd.jupyter.widget-view+json": {
              "model_id": "7865138c658f4fea94d8249a53123f1a",
              "version_major": 2,
              "version_minor": 0
            },
            "text/plain": [
              "Train:   0%|          | 0/3125 [00:00<?, ?it/s]"
            ]
          },
          "metadata": {},
          "output_type": "display_data"
        },
        {
          "name": "stdout",
          "output_type": "stream",
          "text": [
            "Epoch: 7 Training loss: 0.15\n"
          ]
        },
        {
          "data": {
            "application/vnd.jupyter.widget-view+json": {
              "model_id": "ec8acb3f4fb649848d716edbb348932e",
              "version_major": 2,
              "version_minor": 0
            },
            "text/plain": [
              "Batches:   0%|          | 0/40 [00:00<?, ?it/s]"
            ]
          },
          "metadata": {},
          "output_type": "display_data"
        },
        {
          "name": "stdout",
          "output_type": "stream",
          "text": [
            "{'NDCG@1': 0.46753, 'NDCG@3': 0.42283, 'NDCG@5': 0.39078, 'NDCG@10': 0.35055, 'NDCG@100': 0.24876, 'NDCG@1000': 0.24188}\n",
            "{'MAP@1': 0.05912, 'MAP@3': 0.10376, 'MAP@5': 0.11721, 'MAP@10': 0.13257, 'MAP@100': 0.14314, 'MAP@1000': 0.14314}\n",
            "{'Recall@1': 0.05912, 'Recall@3': 0.11511, 'Recall@5': 0.13856, 'Recall@10': 0.16517, 'Recall@100': 0.19034, 'Recall@1000': 0.19034}\n",
            "{'P@1': 0.48052, 'P@3': 0.39502, 'P@5': 0.32922, 'P@10': 0.24935, 'P@100': 0.03481, 'P@1000': 0.00348}\n",
            "NDCG@1 for epoch 7: 0.4675\n"
          ]
        },
        {
          "data": {
            "application/vnd.jupyter.widget-view+json": {
              "model_id": "f78340cf05ad4e3fa68ac9f9740567ff",
              "version_major": 2,
              "version_minor": 0
            },
            "text/plain": [
              "Valid:   0%|          | 0/313 [00:00<?, ?it/s]"
            ]
          },
          "metadata": {},
          "output_type": "display_data"
        },
        {
          "name": "stdout",
          "output_type": "stream",
          "text": [
            "Valid loss: 0.199; Valid accuracy: 0.710\n",
            "New best model saved with NDCG@1: 0.4675\n",
            "Epoch 8/30\n"
          ]
        },
        {
          "data": {
            "application/vnd.jupyter.widget-view+json": {
              "model_id": "a7797b009ef94b158aa2c7f111075b8c",
              "version_major": 2,
              "version_minor": 0
            },
            "text/plain": [
              "Train:   0%|          | 0/3125 [00:00<?, ?it/s]"
            ]
          },
          "metadata": {},
          "output_type": "display_data"
        },
        {
          "name": "stdout",
          "output_type": "stream",
          "text": [
            "Epoch: 8 Training loss: 0.14\n"
          ]
        },
        {
          "data": {
            "application/vnd.jupyter.widget-view+json": {
              "model_id": "8f89be2e00f143b9bb5b43835e47bd34",
              "version_major": 2,
              "version_minor": 0
            },
            "text/plain": [
              "Batches:   0%|          | 0/40 [00:00<?, ?it/s]"
            ]
          },
          "metadata": {},
          "output_type": "display_data"
        },
        {
          "name": "stdout",
          "output_type": "stream",
          "text": [
            "{'NDCG@1': 0.47078, 'NDCG@3': 0.4241, 'NDCG@5': 0.39204, 'NDCG@10': 0.35148, 'NDCG@100': 0.2496, 'NDCG@1000': 0.24272}\n",
            "{'MAP@1': 0.0602, 'MAP@3': 0.10417, 'MAP@5': 0.11759, 'MAP@10': 0.13301, 'MAP@100': 0.14361, 'MAP@1000': 0.14361}\n",
            "{'Recall@1': 0.0602, 'Recall@3': 0.11502, 'Recall@5': 0.13864, 'Recall@10': 0.16522, 'Recall@100': 0.19034, 'Recall@1000': 0.19034}\n",
            "{'P@1': 0.48377, 'P@3': 0.39502, 'P@5': 0.32987, 'P@10': 0.24935, 'P@100': 0.03481, 'P@1000': 0.00348}\n",
            "NDCG@1 for epoch 8: 0.4708\n"
          ]
        },
        {
          "data": {
            "application/vnd.jupyter.widget-view+json": {
              "model_id": "7dad5980b10e4983a2ba3bd3c660633b",
              "version_major": 2,
              "version_minor": 0
            },
            "text/plain": [
              "Valid:   0%|          | 0/313 [00:00<?, ?it/s]"
            ]
          },
          "metadata": {},
          "output_type": "display_data"
        },
        {
          "name": "stdout",
          "output_type": "stream",
          "text": [
            "Valid loss: 0.196; Valid accuracy: 0.717\n",
            "New best model saved with NDCG@1: 0.4708\n",
            "Epoch 9/30\n"
          ]
        },
        {
          "data": {
            "application/vnd.jupyter.widget-view+json": {
              "model_id": "13fa3ca184c3411691d0d2fe1442d4a8",
              "version_major": 2,
              "version_minor": 0
            },
            "text/plain": [
              "Train:   0%|          | 0/3125 [00:00<?, ?it/s]"
            ]
          },
          "metadata": {},
          "output_type": "display_data"
        },
        {
          "name": "stdout",
          "output_type": "stream",
          "text": [
            "Epoch: 9 Training loss: 0.14\n"
          ]
        },
        {
          "data": {
            "application/vnd.jupyter.widget-view+json": {
              "model_id": "283a581c9f654ca1b3532fc1a3d24971",
              "version_major": 2,
              "version_minor": 0
            },
            "text/plain": [
              "Batches:   0%|          | 0/40 [00:00<?, ?it/s]"
            ]
          },
          "metadata": {},
          "output_type": "display_data"
        },
        {
          "name": "stdout",
          "output_type": "stream",
          "text": [
            "{'NDCG@1': 0.47403, 'NDCG@3': 0.42564, 'NDCG@5': 0.39207, 'NDCG@10': 0.35221, 'NDCG@100': 0.24995, 'NDCG@1000': 0.24305}\n",
            "{'MAP@1': 0.06028, 'MAP@3': 0.10433, 'MAP@5': 0.11764, 'MAP@10': 0.13309, 'MAP@100': 0.14375, 'MAP@1000': 0.14375}\n",
            "{'Recall@1': 0.06028, 'Recall@3': 0.11525, 'Recall@5': 0.13845, 'Recall@10': 0.16521, 'Recall@100': 0.19034, 'Recall@1000': 0.19034}\n",
            "{'P@1': 0.48701, 'P@3': 0.3961, 'P@5': 0.32857, 'P@10': 0.24935, 'P@100': 0.03481, 'P@1000': 0.00348}\n",
            "NDCG@1 for epoch 9: 0.4740\n"
          ]
        },
        {
          "data": {
            "application/vnd.jupyter.widget-view+json": {
              "model_id": "c8eb6c1ba2a9447ab089da259a091bd1",
              "version_major": 2,
              "version_minor": 0
            },
            "text/plain": [
              "Valid:   0%|          | 0/313 [00:00<?, ?it/s]"
            ]
          },
          "metadata": {},
          "output_type": "display_data"
        },
        {
          "name": "stdout",
          "output_type": "stream",
          "text": [
            "Valid loss: 0.198; Valid accuracy: 0.712\n",
            "New best model saved with NDCG@1: 0.4740\n",
            "Epoch 10/30\n"
          ]
        },
        {
          "data": {
            "application/vnd.jupyter.widget-view+json": {
              "model_id": "455f0b1824204b42b2ccf42973a8653b",
              "version_major": 2,
              "version_minor": 0
            },
            "text/plain": [
              "Train:   0%|          | 0/3125 [00:00<?, ?it/s]"
            ]
          },
          "metadata": {},
          "output_type": "display_data"
        },
        {
          "name": "stdout",
          "output_type": "stream",
          "text": [
            "Epoch: 10 Training loss: 0.13\n"
          ]
        },
        {
          "data": {
            "application/vnd.jupyter.widget-view+json": {
              "model_id": "bc794375842d48d289b41d694f48c3e7",
              "version_major": 2,
              "version_minor": 0
            },
            "text/plain": [
              "Batches:   0%|          | 0/40 [00:00<?, ?it/s]"
            ]
          },
          "metadata": {},
          "output_type": "display_data"
        },
        {
          "name": "stdout",
          "output_type": "stream",
          "text": [
            "{'NDCG@1': 0.48377, 'NDCG@3': 0.42921, 'NDCG@5': 0.39507, 'NDCG@10': 0.35343, 'NDCG@100': 0.25068, 'NDCG@1000': 0.24373}\n",
            "{'MAP@1': 0.06044, 'MAP@3': 0.10534, 'MAP@5': 0.11806, 'MAP@10': 0.13362, 'MAP@100': 0.14432, 'MAP@1000': 0.14432}\n",
            "{'Recall@1': 0.06044, 'Recall@3': 0.11649, 'Recall@5': 0.13901, 'Recall@10': 0.16518, 'Recall@100': 0.19034, 'Recall@1000': 0.19034}\n",
            "{'P@1': 0.49675, 'P@3': 0.39827, 'P@5': 0.32987, 'P@10': 0.24935, 'P@100': 0.03481, 'P@1000': 0.00348}\n",
            "NDCG@1 for epoch 10: 0.4838\n"
          ]
        },
        {
          "data": {
            "application/vnd.jupyter.widget-view+json": {
              "model_id": "85e9c21968844477b07039a6fb219388",
              "version_major": 2,
              "version_minor": 0
            },
            "text/plain": [
              "Valid:   0%|          | 0/313 [00:00<?, ?it/s]"
            ]
          },
          "metadata": {},
          "output_type": "display_data"
        },
        {
          "name": "stdout",
          "output_type": "stream",
          "text": [
            "Valid loss: 0.197; Valid accuracy: 0.714\n",
            "New best model saved with NDCG@1: 0.4838\n",
            "Epoch 11/30\n"
          ]
        },
        {
          "data": {
            "application/vnd.jupyter.widget-view+json": {
              "model_id": "267a5a84872d4f03988f685f110c9e70",
              "version_major": 2,
              "version_minor": 0
            },
            "text/plain": [
              "Train:   0%|          | 0/3125 [00:00<?, ?it/s]"
            ]
          },
          "metadata": {},
          "output_type": "display_data"
        },
        {
          "name": "stdout",
          "output_type": "stream",
          "text": [
            "Epoch: 11 Training loss: 0.13\n"
          ]
        },
        {
          "data": {
            "application/vnd.jupyter.widget-view+json": {
              "model_id": "ce29fadc4e664cfab9b8f81f630e771c",
              "version_major": 2,
              "version_minor": 0
            },
            "text/plain": [
              "Batches:   0%|          | 0/40 [00:00<?, ?it/s]"
            ]
          },
          "metadata": {},
          "output_type": "display_data"
        },
        {
          "name": "stdout",
          "output_type": "stream",
          "text": [
            "{'NDCG@1': 0.48864, 'NDCG@3': 0.43129, 'NDCG@5': 0.3975, 'NDCG@10': 0.35427, 'NDCG@100': 0.25104, 'NDCG@1000': 0.24407}\n",
            "{'MAP@1': 0.06056, 'MAP@3': 0.10567, 'MAP@5': 0.11869, 'MAP@10': 0.13393, 'MAP@100': 0.14458, 'MAP@1000': 0.14458}\n",
            "{'Recall@1': 0.06056, 'Recall@3': 0.11668, 'Recall@5': 0.14016, 'Recall@10': 0.16528, 'Recall@100': 0.19034, 'Recall@1000': 0.19034}\n",
            "{'P@1': 0.50325, 'P@3': 0.39935, 'P@5': 0.33182, 'P@10': 0.24935, 'P@100': 0.03481, 'P@1000': 0.00348}\n",
            "NDCG@1 for epoch 11: 0.4886\n"
          ]
        },
        {
          "data": {
            "application/vnd.jupyter.widget-view+json": {
              "model_id": "be77a798b7b343858bb92f91327d30a6",
              "version_major": 2,
              "version_minor": 0
            },
            "text/plain": [
              "Valid:   0%|          | 0/313 [00:00<?, ?it/s]"
            ]
          },
          "metadata": {},
          "output_type": "display_data"
        },
        {
          "name": "stdout",
          "output_type": "stream",
          "text": [
            "Valid loss: 0.196; Valid accuracy: 0.716\n",
            "New best model saved with NDCG@1: 0.4886\n",
            "Epoch 12/30\n"
          ]
        },
        {
          "data": {
            "application/vnd.jupyter.widget-view+json": {
              "model_id": "97f69af3b8124aa1af409c01b8ec0903",
              "version_major": 2,
              "version_minor": 0
            },
            "text/plain": [
              "Train:   0%|          | 0/3125 [00:00<?, ?it/s]"
            ]
          },
          "metadata": {},
          "output_type": "display_data"
        },
        {
          "name": "stdout",
          "output_type": "stream",
          "text": [
            "Epoch: 12 Training loss: 0.12\n"
          ]
        },
        {
          "data": {
            "application/vnd.jupyter.widget-view+json": {
              "model_id": "f17acd210d5148598733e442e796f43a",
              "version_major": 2,
              "version_minor": 0
            },
            "text/plain": [
              "Batches:   0%|          | 0/40 [00:00<?, ?it/s]"
            ]
          },
          "metadata": {},
          "output_type": "display_data"
        },
        {
          "name": "stdout",
          "output_type": "stream",
          "text": [
            "{'NDCG@1': 0.48701, 'NDCG@3': 0.42939, 'NDCG@5': 0.39625, 'NDCG@10': 0.35392, 'NDCG@100': 0.25115, 'NDCG@1000': 0.24422}\n",
            "{'MAP@1': 0.06101, 'MAP@3': 0.10571, 'MAP@5': 0.11878, 'MAP@10': 0.13412, 'MAP@100': 0.14476, 'MAP@1000': 0.14476}\n",
            "{'Recall@1': 0.06101, 'Recall@3': 0.11651, 'Recall@5': 0.14011, 'Recall@10': 0.16498, 'Recall@100': 0.19034, 'Recall@1000': 0.19034}\n",
            "{'P@1': 0.50325, 'P@3': 0.39719, 'P@5': 0.33052, 'P@10': 0.24935, 'P@100': 0.03481, 'P@1000': 0.00348}\n",
            "NDCG@1 for epoch 12: 0.4870\n"
          ]
        },
        {
          "data": {
            "application/vnd.jupyter.widget-view+json": {
              "model_id": "be1646a8bbea41669b082d303065397d",
              "version_major": 2,
              "version_minor": 0
            },
            "text/plain": [
              "Valid:   0%|          | 0/313 [00:00<?, ?it/s]"
            ]
          },
          "metadata": {},
          "output_type": "display_data"
        },
        {
          "name": "stdout",
          "output_type": "stream",
          "text": [
            "Valid loss: 0.195; Valid accuracy: 0.717\n",
            "Epoch 13/30\n"
          ]
        },
        {
          "data": {
            "application/vnd.jupyter.widget-view+json": {
              "model_id": "a6319fe5f30849618967bbe57983f957",
              "version_major": 2,
              "version_minor": 0
            },
            "text/plain": [
              "Train:   0%|          | 0/3125 [00:00<?, ?it/s]"
            ]
          },
          "metadata": {},
          "output_type": "display_data"
        },
        {
          "name": "stdout",
          "output_type": "stream",
          "text": [
            "Epoch: 13 Training loss: 0.12\n"
          ]
        },
        {
          "data": {
            "application/vnd.jupyter.widget-view+json": {
              "model_id": "0996053c7ca24192bb17240f10ac100d",
              "version_major": 2,
              "version_minor": 0
            },
            "text/plain": [
              "Batches:   0%|          | 0/40 [00:00<?, ?it/s]"
            ]
          },
          "metadata": {},
          "output_type": "display_data"
        },
        {
          "name": "stdout",
          "output_type": "stream",
          "text": [
            "{'NDCG@1': 0.48701, 'NDCG@3': 0.43266, 'NDCG@5': 0.39741, 'NDCG@10': 0.35479, 'NDCG@100': 0.2514, 'NDCG@1000': 0.24448}\n",
            "{'MAP@1': 0.06107, 'MAP@3': 0.1059, 'MAP@5': 0.1189, 'MAP@10': 0.13429, 'MAP@100': 0.1449, 'MAP@1000': 0.1449}\n",
            "{'Recall@1': 0.06107, 'Recall@3': 0.11668, 'Recall@5': 0.14012, 'Recall@10': 0.16517, 'Recall@100': 0.19034, 'Recall@1000': 0.19034}\n",
            "{'P@1': 0.50325, 'P@3': 0.40152, 'P@5': 0.33117, 'P@10': 0.25, 'P@100': 0.03481, 'P@1000': 0.00348}\n",
            "NDCG@1 for epoch 13: 0.4870\n"
          ]
        },
        {
          "data": {
            "application/vnd.jupyter.widget-view+json": {
              "model_id": "5472371205b14128a615131ef2c114e0",
              "version_major": 2,
              "version_minor": 0
            },
            "text/plain": [
              "Valid:   0%|          | 0/313 [00:00<?, ?it/s]"
            ]
          },
          "metadata": {},
          "output_type": "display_data"
        },
        {
          "name": "stdout",
          "output_type": "stream",
          "text": [
            "Valid loss: 0.195; Valid accuracy: 0.719\n",
            "Epoch 14/30\n"
          ]
        },
        {
          "data": {
            "application/vnd.jupyter.widget-view+json": {
              "model_id": "a1a2a48b5d064b29806989c413b002e1",
              "version_major": 2,
              "version_minor": 0
            },
            "text/plain": [
              "Train:   0%|          | 0/3125 [00:00<?, ?it/s]"
            ]
          },
          "metadata": {},
          "output_type": "display_data"
        },
        {
          "name": "stdout",
          "output_type": "stream",
          "text": [
            "Epoch: 14 Training loss: 0.12\n"
          ]
        },
        {
          "data": {
            "application/vnd.jupyter.widget-view+json": {
              "model_id": "23877623c8f447218a6c1b741e1f415d",
              "version_major": 2,
              "version_minor": 0
            },
            "text/plain": [
              "Batches:   0%|          | 0/40 [00:00<?, ?it/s]"
            ]
          },
          "metadata": {},
          "output_type": "display_data"
        },
        {
          "name": "stdout",
          "output_type": "stream",
          "text": [
            "{'NDCG@1': 0.49351, 'NDCG@3': 0.4352, 'NDCG@5': 0.39879, 'NDCG@10': 0.35541, 'NDCG@100': 0.25148, 'NDCG@1000': 0.2445}\n",
            "{'MAP@1': 0.06078, 'MAP@3': 0.10586, 'MAP@5': 0.11905, 'MAP@10': 0.13423, 'MAP@100': 0.14486, 'MAP@1000': 0.14486}\n",
            "{'Recall@1': 0.06078, 'Recall@3': 0.11693, 'Recall@5': 0.14037, 'Recall@10': 0.16517, 'Recall@100': 0.19034, 'Recall@1000': 0.19034}\n",
            "{'P@1': 0.50974, 'P@3': 0.40368, 'P@5': 0.33182, 'P@10': 0.25, 'P@100': 0.03481, 'P@1000': 0.00348}\n",
            "NDCG@1 for epoch 14: 0.4935\n"
          ]
        },
        {
          "data": {
            "application/vnd.jupyter.widget-view+json": {
              "model_id": "c32ed9b92fe5473ab46d59084ef4eab8",
              "version_major": 2,
              "version_minor": 0
            },
            "text/plain": [
              "Valid:   0%|          | 0/313 [00:00<?, ?it/s]"
            ]
          },
          "metadata": {},
          "output_type": "display_data"
        },
        {
          "name": "stdout",
          "output_type": "stream",
          "text": [
            "Valid loss: 0.196; Valid accuracy: 0.719\n",
            "New best model saved with NDCG@1: 0.4935\n",
            "Epoch 15/30\n"
          ]
        },
        {
          "data": {
            "application/vnd.jupyter.widget-view+json": {
              "model_id": "ecec1f943fac4b57836002e687da388c",
              "version_major": 2,
              "version_minor": 0
            },
            "text/plain": [
              "Train:   0%|          | 0/3125 [00:00<?, ?it/s]"
            ]
          },
          "metadata": {},
          "output_type": "display_data"
        },
        {
          "name": "stdout",
          "output_type": "stream",
          "text": [
            "Epoch: 15 Training loss: 0.11\n"
          ]
        },
        {
          "data": {
            "application/vnd.jupyter.widget-view+json": {
              "model_id": "de98ad50605743158bece03061f07e40",
              "version_major": 2,
              "version_minor": 0
            },
            "text/plain": [
              "Batches:   0%|          | 0/40 [00:00<?, ?it/s]"
            ]
          },
          "metadata": {},
          "output_type": "display_data"
        },
        {
          "name": "stdout",
          "output_type": "stream",
          "text": [
            "{'NDCG@1': 0.49188, 'NDCG@3': 0.43685, 'NDCG@5': 0.39964, 'NDCG@10': 0.35619, 'NDCG@100': 0.2517, 'NDCG@1000': 0.24478}\n",
            "{'MAP@1': 0.06123, 'MAP@3': 0.10588, 'MAP@5': 0.11922, 'MAP@10': 0.13446, 'MAP@100': 0.14504, 'MAP@1000': 0.14504}\n",
            "{'Recall@1': 0.06123, 'Recall@3': 0.1166, 'Recall@5': 0.14041, 'Recall@10': 0.16523, 'Recall@100': 0.19034, 'Recall@1000': 0.19034}\n",
            "{'P@1': 0.50974, 'P@3': 0.40584, 'P@5': 0.33247, 'P@10': 0.25065, 'P@100': 0.03481, 'P@1000': 0.00348}\n",
            "NDCG@1 for epoch 15: 0.4919\n"
          ]
        },
        {
          "data": {
            "application/vnd.jupyter.widget-view+json": {
              "model_id": "56183f6cf05444f1a6be302464812156",
              "version_major": 2,
              "version_minor": 0
            },
            "text/plain": [
              "Valid:   0%|          | 0/313 [00:00<?, ?it/s]"
            ]
          },
          "metadata": {},
          "output_type": "display_data"
        },
        {
          "name": "stdout",
          "output_type": "stream",
          "text": [
            "Valid loss: 0.194; Valid accuracy: 0.725\n",
            "Epoch 16/30\n"
          ]
        },
        {
          "data": {
            "application/vnd.jupyter.widget-view+json": {
              "model_id": "3b18d7675b0f485baf53ad9d4cdfa3aa",
              "version_major": 2,
              "version_minor": 0
            },
            "text/plain": [
              "Train:   0%|          | 0/3125 [00:00<?, ?it/s]"
            ]
          },
          "metadata": {},
          "output_type": "display_data"
        },
        {
          "name": "stdout",
          "output_type": "stream",
          "text": [
            "Epoch: 16 Training loss: 0.11\n"
          ]
        },
        {
          "data": {
            "application/vnd.jupyter.widget-view+json": {
              "model_id": "e7fc5c430edd405fa514f5e2073b594d",
              "version_major": 2,
              "version_minor": 0
            },
            "text/plain": [
              "Batches:   0%|          | 0/40 [00:00<?, ?it/s]"
            ]
          },
          "metadata": {},
          "output_type": "display_data"
        },
        {
          "name": "stdout",
          "output_type": "stream",
          "text": [
            "{'NDCG@1': 0.48377, 'NDCG@3': 0.43205, 'NDCG@5': 0.39819, 'NDCG@10': 0.35489, 'NDCG@100': 0.2509, 'NDCG@1000': 0.24398}\n",
            "{'MAP@1': 0.06048, 'MAP@3': 0.10517, 'MAP@5': 0.11878, 'MAP@10': 0.13388, 'MAP@100': 0.14455, 'MAP@1000': 0.14455}\n",
            "{'Recall@1': 0.06048, 'Recall@3': 0.11625, 'Recall@5': 0.14055, 'Recall@10': 0.16509, 'Recall@100': 0.19034, 'Recall@1000': 0.19034}\n",
            "{'P@1': 0.5, 'P@3': 0.40152, 'P@5': 0.33312, 'P@10': 0.25032, 'P@100': 0.03481, 'P@1000': 0.00348}\n",
            "NDCG@1 for epoch 16: 0.4838\n"
          ]
        },
        {
          "data": {
            "application/vnd.jupyter.widget-view+json": {
              "model_id": "cd6662e25772420a89ab86234369e694",
              "version_major": 2,
              "version_minor": 0
            },
            "text/plain": [
              "Valid:   0%|          | 0/313 [00:00<?, ?it/s]"
            ]
          },
          "metadata": {},
          "output_type": "display_data"
        },
        {
          "name": "stdout",
          "output_type": "stream",
          "text": [
            "Valid loss: 0.195; Valid accuracy: 0.725\n",
            "Epoch 17/30\n"
          ]
        },
        {
          "data": {
            "application/vnd.jupyter.widget-view+json": {
              "model_id": "15a8ba33038a438083711af93789e408",
              "version_major": 2,
              "version_minor": 0
            },
            "text/plain": [
              "Train:   0%|          | 0/3125 [00:00<?, ?it/s]"
            ]
          },
          "metadata": {},
          "output_type": "display_data"
        },
        {
          "name": "stdout",
          "output_type": "stream",
          "text": [
            "Epoch: 17 Training loss: 0.11\n"
          ]
        },
        {
          "data": {
            "application/vnd.jupyter.widget-view+json": {
              "model_id": "655339f3eb3a4572a84fb4e5d2f55573",
              "version_major": 2,
              "version_minor": 0
            },
            "text/plain": [
              "Batches:   0%|          | 0/40 [00:00<?, ?it/s]"
            ]
          },
          "metadata": {},
          "output_type": "display_data"
        },
        {
          "name": "stdout",
          "output_type": "stream",
          "text": [
            "{'NDCG@1': 0.48864, 'NDCG@3': 0.43476, 'NDCG@5': 0.39833, 'NDCG@10': 0.35521, 'NDCG@100': 0.25123, 'NDCG@1000': 0.24429}\n",
            "{'MAP@1': 0.06105, 'MAP@3': 0.10531, 'MAP@5': 0.11889, 'MAP@10': 0.13408, 'MAP@100': 0.14481, 'MAP@1000': 0.14481}\n",
            "{'Recall@1': 0.06105, 'Recall@3': 0.11588, 'Recall@5': 0.13901, 'Recall@10': 0.1651, 'Recall@100': 0.19034, 'Recall@1000': 0.19034}\n",
            "{'P@1': 0.50649, 'P@3': 0.40368, 'P@5': 0.33247, 'P@10': 0.25, 'P@100': 0.03481, 'P@1000': 0.00348}\n",
            "NDCG@1 for epoch 17: 0.4886\n"
          ]
        },
        {
          "data": {
            "application/vnd.jupyter.widget-view+json": {
              "model_id": "205f6a37b3304060aa4d42d41740ff7f",
              "version_major": 2,
              "version_minor": 0
            },
            "text/plain": [
              "Valid:   0%|          | 0/313 [00:00<?, ?it/s]"
            ]
          },
          "metadata": {},
          "output_type": "display_data"
        },
        {
          "name": "stdout",
          "output_type": "stream",
          "text": [
            "Valid loss: 0.195; Valid accuracy: 0.728\n",
            "Epoch 18/30\n"
          ]
        },
        {
          "data": {
            "application/vnd.jupyter.widget-view+json": {
              "model_id": "47b3c59bce8d488e9310c6d40340f650",
              "version_major": 2,
              "version_minor": 0
            },
            "text/plain": [
              "Train:   0%|          | 0/3125 [00:00<?, ?it/s]"
            ]
          },
          "metadata": {},
          "output_type": "display_data"
        },
        {
          "name": "stdout",
          "output_type": "stream",
          "text": [
            "Epoch: 18 Training loss: 0.11\n"
          ]
        },
        {
          "data": {
            "application/vnd.jupyter.widget-view+json": {
              "model_id": "7c74ed307bde49b396e041f9d7ae0c26",
              "version_major": 2,
              "version_minor": 0
            },
            "text/plain": [
              "Batches:   0%|          | 0/40 [00:00<?, ?it/s]"
            ]
          },
          "metadata": {},
          "output_type": "display_data"
        },
        {
          "name": "stdout",
          "output_type": "stream",
          "text": [
            "{'NDCG@1': 0.48214, 'NDCG@3': 0.43511, 'NDCG@5': 0.39813, 'NDCG@10': 0.35414, 'NDCG@100': 0.25104, 'NDCG@1000': 0.24412}\n",
            "{'MAP@1': 0.06076, 'MAP@3': 0.10522, 'MAP@5': 0.11883, 'MAP@10': 0.13385, 'MAP@100': 0.14471, 'MAP@1000': 0.14471}\n",
            "{'Recall@1': 0.06076, 'Recall@3': 0.11597, 'Recall@5': 0.13904, 'Recall@10': 0.16478, 'Recall@100': 0.19034, 'Recall@1000': 0.19034}\n",
            "{'P@1': 0.5, 'P@3': 0.40584, 'P@5': 0.33312, 'P@10': 0.2487, 'P@100': 0.03481, 'P@1000': 0.00348}\n",
            "NDCG@1 for epoch 18: 0.4821\n"
          ]
        },
        {
          "data": {
            "application/vnd.jupyter.widget-view+json": {
              "model_id": "ca89b30416d04cd1ad75d5b29904eee3",
              "version_major": 2,
              "version_minor": 0
            },
            "text/plain": [
              "Valid:   0%|          | 0/313 [00:00<?, ?it/s]"
            ]
          },
          "metadata": {},
          "output_type": "display_data"
        },
        {
          "name": "stdout",
          "output_type": "stream",
          "text": [
            "Valid loss: 0.195; Valid accuracy: 0.726\n",
            "Epoch 19/30\n"
          ]
        },
        {
          "data": {
            "application/vnd.jupyter.widget-view+json": {
              "model_id": "b9cfdfa9bdf5488dae236e18e68f9b4c",
              "version_major": 2,
              "version_minor": 0
            },
            "text/plain": [
              "Train:   0%|          | 0/3125 [00:00<?, ?it/s]"
            ]
          },
          "metadata": {},
          "output_type": "display_data"
        },
        {
          "name": "stdout",
          "output_type": "stream",
          "text": [
            "Epoch: 19 Training loss: 0.11\n"
          ]
        },
        {
          "data": {
            "application/vnd.jupyter.widget-view+json": {
              "model_id": "40ba1948014e4ffcb0eaa8a9ff7f1173",
              "version_major": 2,
              "version_minor": 0
            },
            "text/plain": [
              "Batches:   0%|          | 0/40 [00:00<?, ?it/s]"
            ]
          },
          "metadata": {},
          "output_type": "display_data"
        },
        {
          "name": "stdout",
          "output_type": "stream",
          "text": [
            "{'NDCG@1': 0.48377, 'NDCG@3': 0.43807, 'NDCG@5': 0.39927, 'NDCG@10': 0.35438, 'NDCG@100': 0.25115, 'NDCG@1000': 0.24421}\n",
            "{'MAP@1': 0.06045, 'MAP@3': 0.10532, 'MAP@5': 0.11883, 'MAP@10': 0.1338, 'MAP@100': 0.14475, 'MAP@1000': 0.14475}\n",
            "{'Recall@1': 0.06045, 'Recall@3': 0.11613, 'Recall@5': 0.13908, 'Recall@10': 0.16441, 'Recall@100': 0.19034, 'Recall@1000': 0.19034}\n",
            "{'P@1': 0.5, 'P@3': 0.40909, 'P@5': 0.33377, 'P@10': 0.2487, 'P@100': 0.03481, 'P@1000': 0.00348}\n",
            "NDCG@1 for epoch 19: 0.4838\n"
          ]
        },
        {
          "data": {
            "application/vnd.jupyter.widget-view+json": {
              "model_id": "b4ed8f5d9d7f445b89520764eb3d477c",
              "version_major": 2,
              "version_minor": 0
            },
            "text/plain": [
              "Valid:   0%|          | 0/313 [00:00<?, ?it/s]"
            ]
          },
          "metadata": {},
          "output_type": "display_data"
        },
        {
          "name": "stdout",
          "output_type": "stream",
          "text": [
            "Valid loss: 0.196; Valid accuracy: 0.727\n",
            "Epoch 20/30\n"
          ]
        },
        {
          "data": {
            "application/vnd.jupyter.widget-view+json": {
              "model_id": "e533c020a4f44488a81c37ae36e47cae",
              "version_major": 2,
              "version_minor": 0
            },
            "text/plain": [
              "Train:   0%|          | 0/3125 [00:00<?, ?it/s]"
            ]
          },
          "metadata": {},
          "output_type": "display_data"
        },
        {
          "name": "stdout",
          "output_type": "stream",
          "text": [
            "Epoch: 20 Training loss: 0.10\n"
          ]
        },
        {
          "data": {
            "application/vnd.jupyter.widget-view+json": {
              "model_id": "7b67fdb3739f4b6caf5d60cf03a80e09",
              "version_major": 2,
              "version_minor": 0
            },
            "text/plain": [
              "Batches:   0%|          | 0/40 [00:00<?, ?it/s]"
            ]
          },
          "metadata": {},
          "output_type": "display_data"
        },
        {
          "name": "stdout",
          "output_type": "stream",
          "text": [
            "{'NDCG@1': 0.49351, 'NDCG@3': 0.44067, 'NDCG@5': 0.40157, 'NDCG@10': 0.35534, 'NDCG@100': 0.25171, 'NDCG@1000': 0.24474}\n",
            "{'MAP@1': 0.06136, 'MAP@3': 0.10579, 'MAP@5': 0.11925, 'MAP@10': 0.13415, 'MAP@100': 0.14511, 'MAP@1000': 0.14511}\n",
            "{'Recall@1': 0.06136, 'Recall@3': 0.11625, 'Recall@5': 0.13914, 'Recall@10': 0.16519, 'Recall@100': 0.19034, 'Recall@1000': 0.19034}\n",
            "{'P@1': 0.51299, 'P@3': 0.41017, 'P@5': 0.33571, 'P@10': 0.24838, 'P@100': 0.03481, 'P@1000': 0.00348}\n",
            "NDCG@1 for epoch 20: 0.4935\n"
          ]
        },
        {
          "data": {
            "application/vnd.jupyter.widget-view+json": {
              "model_id": "e59077abf0c745fe9a6b3465894dbcfd",
              "version_major": 2,
              "version_minor": 0
            },
            "text/plain": [
              "Valid:   0%|          | 0/313 [00:00<?, ?it/s]"
            ]
          },
          "metadata": {},
          "output_type": "display_data"
        },
        {
          "name": "stdout",
          "output_type": "stream",
          "text": [
            "Valid loss: 0.196; Valid accuracy: 0.728\n",
            "Epoch 21/30\n"
          ]
        },
        {
          "data": {
            "application/vnd.jupyter.widget-view+json": {
              "model_id": "46b8d9d27a6a4ffea974351c5a5033aa",
              "version_major": 2,
              "version_minor": 0
            },
            "text/plain": [
              "Train:   0%|          | 0/3125 [00:00<?, ?it/s]"
            ]
          },
          "metadata": {},
          "output_type": "display_data"
        },
        {
          "name": "stdout",
          "output_type": "stream",
          "text": [
            "Epoch: 21 Training loss: 0.10\n"
          ]
        },
        {
          "data": {
            "application/vnd.jupyter.widget-view+json": {
              "model_id": "65cfb56de44c467e88251a3790036b4d",
              "version_major": 2,
              "version_minor": 0
            },
            "text/plain": [
              "Batches:   0%|          | 0/40 [00:00<?, ?it/s]"
            ]
          },
          "metadata": {},
          "output_type": "display_data"
        },
        {
          "name": "stdout",
          "output_type": "stream",
          "text": [
            "{'NDCG@1': 0.49351, 'NDCG@3': 0.43828, 'NDCG@5': 0.4011, 'NDCG@10': 0.35521, 'NDCG@100': 0.25175, 'NDCG@1000': 0.24481}\n",
            "{'MAP@1': 0.0615, 'MAP@3': 0.10567, 'MAP@5': 0.11927, 'MAP@10': 0.13426, 'MAP@100': 0.14515, 'MAP@1000': 0.14515}\n",
            "{'Recall@1': 0.0615, 'Recall@3': 0.11604, 'Recall@5': 0.13916, 'Recall@10': 0.16431, 'Recall@100': 0.19034, 'Recall@1000': 0.19034}\n",
            "{'P@1': 0.51299, 'P@3': 0.40693, 'P@5': 0.33571, 'P@10': 0.24838, 'P@100': 0.03481, 'P@1000': 0.00348}\n",
            "NDCG@1 for epoch 21: 0.4935\n"
          ]
        },
        {
          "data": {
            "application/vnd.jupyter.widget-view+json": {
              "model_id": "a5cf66c6ee8540d1b3b0764a169c41d6",
              "version_major": 2,
              "version_minor": 0
            },
            "text/plain": [
              "Valid:   0%|          | 0/313 [00:00<?, ?it/s]"
            ]
          },
          "metadata": {},
          "output_type": "display_data"
        },
        {
          "name": "stdout",
          "output_type": "stream",
          "text": [
            "Valid loss: 0.196; Valid accuracy: 0.725\n",
            "Epoch 22/30\n"
          ]
        },
        {
          "data": {
            "application/vnd.jupyter.widget-view+json": {
              "model_id": "89f46abe421c40a787ba78dba73bd3a0",
              "version_major": 2,
              "version_minor": 0
            },
            "text/plain": [
              "Train:   0%|          | 0/3125 [00:00<?, ?it/s]"
            ]
          },
          "metadata": {},
          "output_type": "display_data"
        },
        {
          "name": "stdout",
          "output_type": "stream",
          "text": [
            "Epoch: 22 Training loss: 0.10\n"
          ]
        },
        {
          "data": {
            "application/vnd.jupyter.widget-view+json": {
              "model_id": "1a81c97a81b44fdcb6398e3060c5b8f7",
              "version_major": 2,
              "version_minor": 0
            },
            "text/plain": [
              "Batches:   0%|          | 0/40 [00:00<?, ?it/s]"
            ]
          },
          "metadata": {},
          "output_type": "display_data"
        },
        {
          "name": "stdout",
          "output_type": "stream",
          "text": [
            "{'NDCG@1': 0.49675, 'NDCG@3': 0.43868, 'NDCG@5': 0.40171, 'NDCG@10': 0.35569, 'NDCG@100': 0.25203, 'NDCG@1000': 0.24508}\n",
            "{'MAP@1': 0.06163, 'MAP@3': 0.10579, 'MAP@5': 0.11945, 'MAP@10': 0.13454, 'MAP@100': 0.14527, 'MAP@1000': 0.14527}\n",
            "{'Recall@1': 0.06163, 'Recall@3': 0.11595, 'Recall@5': 0.13916, 'Recall@10': 0.16448, 'Recall@100': 0.19034, 'Recall@1000': 0.19034}\n",
            "{'P@1': 0.51623, 'P@3': 0.40584, 'P@5': 0.33571, 'P@10': 0.24838, 'P@100': 0.03481, 'P@1000': 0.00348}\n",
            "NDCG@1 for epoch 22: 0.4968\n"
          ]
        },
        {
          "data": {
            "application/vnd.jupyter.widget-view+json": {
              "model_id": "195122b229a34e8896eb8980716b4690",
              "version_major": 2,
              "version_minor": 0
            },
            "text/plain": [
              "Valid:   0%|          | 0/313 [00:00<?, ?it/s]"
            ]
          },
          "metadata": {},
          "output_type": "display_data"
        },
        {
          "name": "stdout",
          "output_type": "stream",
          "text": [
            "Valid loss: 0.199; Valid accuracy: 0.723\n",
            "New best model saved with NDCG@1: 0.4968\n",
            "Epoch 23/30\n"
          ]
        },
        {
          "data": {
            "application/vnd.jupyter.widget-view+json": {
              "model_id": "f0a31a2f64124fbc8f0121c4459e7d8d",
              "version_major": 2,
              "version_minor": 0
            },
            "text/plain": [
              "Train:   0%|          | 0/3125 [00:00<?, ?it/s]"
            ]
          },
          "metadata": {},
          "output_type": "display_data"
        },
        {
          "name": "stdout",
          "output_type": "stream",
          "text": [
            "Epoch: 23 Training loss: 0.10\n"
          ]
        },
        {
          "data": {
            "application/vnd.jupyter.widget-view+json": {
              "model_id": "d3a6e7770a754146b15d2fea5f88db62",
              "version_major": 2,
              "version_minor": 0
            },
            "text/plain": [
              "Batches:   0%|          | 0/40 [00:00<?, ?it/s]"
            ]
          },
          "metadata": {},
          "output_type": "display_data"
        },
        {
          "name": "stdout",
          "output_type": "stream",
          "text": [
            "{'NDCG@1': 0.49675, 'NDCG@3': 0.4401, 'NDCG@5': 0.40129, 'NDCG@10': 0.35574, 'NDCG@100': 0.25207, 'NDCG@1000': 0.24511}\n",
            "{'MAP@1': 0.06163, 'MAP@3': 0.10593, 'MAP@5': 0.11943, 'MAP@10': 0.13459, 'MAP@100': 0.14534, 'MAP@1000': 0.14534}\n",
            "{'Recall@1': 0.06163, 'Recall@3': 0.11614, 'Recall@5': 0.13911, 'Recall@10': 0.16448, 'Recall@100': 0.19034, 'Recall@1000': 0.19034}\n",
            "{'P@1': 0.51623, 'P@3': 0.40801, 'P@5': 0.33506, 'P@10': 0.24838, 'P@100': 0.03481, 'P@1000': 0.00348}\n",
            "NDCG@1 for epoch 23: 0.4968\n"
          ]
        },
        {
          "data": {
            "application/vnd.jupyter.widget-view+json": {
              "model_id": "564e0a1ce45847c697c77952ea512f65",
              "version_major": 2,
              "version_minor": 0
            },
            "text/plain": [
              "Valid:   0%|          | 0/313 [00:00<?, ?it/s]"
            ]
          },
          "metadata": {},
          "output_type": "display_data"
        },
        {
          "name": "stdout",
          "output_type": "stream",
          "text": [
            "Valid loss: 0.198; Valid accuracy: 0.722\n",
            "Epoch 24/30\n"
          ]
        },
        {
          "data": {
            "application/vnd.jupyter.widget-view+json": {
              "model_id": "451ea51240f4470699bc60b6ba1b0acd",
              "version_major": 2,
              "version_minor": 0
            },
            "text/plain": [
              "Train:   0%|          | 0/3125 [00:00<?, ?it/s]"
            ]
          },
          "metadata": {},
          "output_type": "display_data"
        },
        {
          "name": "stdout",
          "output_type": "stream",
          "text": [
            "Epoch: 24 Training loss: 0.10\n"
          ]
        },
        {
          "data": {
            "application/vnd.jupyter.widget-view+json": {
              "model_id": "e13b00cdbff84094b845240a09e7eaa2",
              "version_major": 2,
              "version_minor": 0
            },
            "text/plain": [
              "Batches:   0%|          | 0/40 [00:00<?, ?it/s]"
            ]
          },
          "metadata": {},
          "output_type": "display_data"
        },
        {
          "name": "stdout",
          "output_type": "stream",
          "text": [
            "{'NDCG@1': 0.49026, 'NDCG@3': 0.43802, 'NDCG@5': 0.40036, 'NDCG@10': 0.35508, 'NDCG@100': 0.2519, 'NDCG@1000': 0.24497}\n",
            "{'MAP@1': 0.06145, 'MAP@3': 0.10582, 'MAP@5': 0.11936, 'MAP@10': 0.13446, 'MAP@100': 0.14534, 'MAP@1000': 0.14534}\n",
            "{'Recall@1': 0.06145, 'Recall@3': 0.11612, 'Recall@5': 0.13914, 'Recall@10': 0.16342, 'Recall@100': 0.19034, 'Recall@1000': 0.19034}\n",
            "{'P@1': 0.50974, 'P@3': 0.40693, 'P@5': 0.33506, 'P@10': 0.24838, 'P@100': 0.03481, 'P@1000': 0.00348}\n",
            "NDCG@1 for epoch 24: 0.4903\n"
          ]
        },
        {
          "data": {
            "application/vnd.jupyter.widget-view+json": {
              "model_id": "033570e4f08749c389ca9ab452864428",
              "version_major": 2,
              "version_minor": 0
            },
            "text/plain": [
              "Valid:   0%|          | 0/313 [00:00<?, ?it/s]"
            ]
          },
          "metadata": {},
          "output_type": "display_data"
        },
        {
          "name": "stdout",
          "output_type": "stream",
          "text": [
            "Valid loss: 0.198; Valid accuracy: 0.724\n",
            "Epoch 25/30\n"
          ]
        },
        {
          "data": {
            "application/vnd.jupyter.widget-view+json": {
              "model_id": "f64e03031f7f4690b14c0d91902dc127",
              "version_major": 2,
              "version_minor": 0
            },
            "text/plain": [
              "Train:   0%|          | 0/3125 [00:00<?, ?it/s]"
            ]
          },
          "metadata": {},
          "output_type": "display_data"
        },
        {
          "name": "stdout",
          "output_type": "stream",
          "text": [
            "Epoch: 25 Training loss: 0.10\n"
          ]
        },
        {
          "data": {
            "application/vnd.jupyter.widget-view+json": {
              "model_id": "aa2d1a13d2404708acbee15c8713e73f",
              "version_major": 2,
              "version_minor": 0
            },
            "text/plain": [
              "Batches:   0%|          | 0/40 [00:00<?, ?it/s]"
            ]
          },
          "metadata": {},
          "output_type": "display_data"
        },
        {
          "name": "stdout",
          "output_type": "stream",
          "text": [
            "{'NDCG@1': 0.48701, 'NDCG@3': 0.43736, 'NDCG@5': 0.39889, 'NDCG@10': 0.35428, 'NDCG@100': 0.25154, 'NDCG@1000': 0.24462}\n",
            "{'MAP@1': 0.06125, 'MAP@3': 0.10561, 'MAP@5': 0.119, 'MAP@10': 0.13403, 'MAP@100': 0.14501, 'MAP@1000': 0.14501}\n",
            "{'Recall@1': 0.06125, 'Recall@3': 0.11612, 'Recall@5': 0.13905, 'Recall@10': 0.16333, 'Recall@100': 0.19034, 'Recall@1000': 0.19034}\n",
            "{'P@1': 0.50649, 'P@3': 0.40693, 'P@5': 0.33377, 'P@10': 0.24805, 'P@100': 0.03481, 'P@1000': 0.00348}\n",
            "NDCG@1 for epoch 25: 0.4870\n"
          ]
        },
        {
          "data": {
            "application/vnd.jupyter.widget-view+json": {
              "model_id": "0f9b3efe8329450a8c3d11bf73f9e9c2",
              "version_major": 2,
              "version_minor": 0
            },
            "text/plain": [
              "Valid:   0%|          | 0/313 [00:00<?, ?it/s]"
            ]
          },
          "metadata": {},
          "output_type": "display_data"
        },
        {
          "name": "stdout",
          "output_type": "stream",
          "text": [
            "Valid loss: 0.198; Valid accuracy: 0.725\n",
            "Epoch 26/30\n"
          ]
        },
        {
          "data": {
            "application/vnd.jupyter.widget-view+json": {
              "model_id": "93494428ee054e04a3cbb5e2d053f392",
              "version_major": 2,
              "version_minor": 0
            },
            "text/plain": [
              "Train:   0%|          | 0/3125 [00:00<?, ?it/s]"
            ]
          },
          "metadata": {},
          "output_type": "display_data"
        },
        {
          "name": "stdout",
          "output_type": "stream",
          "text": [
            "Epoch: 26 Training loss: 0.10\n"
          ]
        },
        {
          "data": {
            "application/vnd.jupyter.widget-view+json": {
              "model_id": "aa815fb5b58d49fd978cefb30253df37",
              "version_major": 2,
              "version_minor": 0
            },
            "text/plain": [
              "Batches:   0%|          | 0/40 [00:00<?, ?it/s]"
            ]
          },
          "metadata": {},
          "output_type": "display_data"
        },
        {
          "name": "stdout",
          "output_type": "stream",
          "text": [
            "{'NDCG@1': 0.49026, 'NDCG@3': 0.43736, 'NDCG@5': 0.40018, 'NDCG@10': 0.35479, 'NDCG@100': 0.25164, 'NDCG@1000': 0.24472}\n",
            "{'MAP@1': 0.06139, 'MAP@3': 0.10559, 'MAP@5': 0.1191, 'MAP@10': 0.1341, 'MAP@100': 0.14506, 'MAP@1000': 0.14506}\n",
            "{'Recall@1': 0.06139, 'Recall@3': 0.11609, 'Recall@5': 0.13913, 'Recall@10': 0.16332, 'Recall@100': 0.19034, 'Recall@1000': 0.19034}\n",
            "{'P@1': 0.50974, 'P@3': 0.40584, 'P@5': 0.33506, 'P@10': 0.24838, 'P@100': 0.03481, 'P@1000': 0.00348}\n",
            "NDCG@1 for epoch 26: 0.4903\n"
          ]
        },
        {
          "data": {
            "application/vnd.jupyter.widget-view+json": {
              "model_id": "6a6fcb73d4704a3e81421db8d98149ae",
              "version_major": 2,
              "version_minor": 0
            },
            "text/plain": [
              "Valid:   0%|          | 0/313 [00:00<?, ?it/s]"
            ]
          },
          "metadata": {},
          "output_type": "display_data"
        },
        {
          "name": "stdout",
          "output_type": "stream",
          "text": [
            "Valid loss: 0.198; Valid accuracy: 0.725\n",
            "Epoch 27/30\n"
          ]
        },
        {
          "data": {
            "application/vnd.jupyter.widget-view+json": {
              "model_id": "c31480d1e2e845db91578e57123b1e87",
              "version_major": 2,
              "version_minor": 0
            },
            "text/plain": [
              "Train:   0%|          | 0/3125 [00:00<?, ?it/s]"
            ]
          },
          "metadata": {},
          "output_type": "display_data"
        },
        {
          "name": "stdout",
          "output_type": "stream",
          "text": [
            "Epoch: 27 Training loss: 0.10\n"
          ]
        },
        {
          "data": {
            "application/vnd.jupyter.widget-view+json": {
              "model_id": "9481c0e5f3f6431ba4cec096afd58742",
              "version_major": 2,
              "version_minor": 0
            },
            "text/plain": [
              "Batches:   0%|          | 0/40 [00:00<?, ?it/s]"
            ]
          },
          "metadata": {},
          "output_type": "display_data"
        },
        {
          "name": "stdout",
          "output_type": "stream",
          "text": [
            "{'NDCG@1': 0.49351, 'NDCG@3': 0.43809, 'NDCG@5': 0.40109, 'NDCG@10': 0.35552, 'NDCG@100': 0.2524, 'NDCG@1000': 0.24548}\n",
            "{'MAP@1': 0.06306, 'MAP@3': 0.10643, 'MAP@5': 0.11993, 'MAP@10': 0.13491, 'MAP@100': 0.14587, 'MAP@1000': 0.14587}\n",
            "{'Recall@1': 0.06306, 'Recall@3': 0.11609, 'Recall@5': 0.13922, 'Recall@10': 0.16332, 'Recall@100': 0.19034, 'Recall@1000': 0.19034}\n",
            "{'P@1': 0.51299, 'P@3': 0.40584, 'P@5': 0.33571, 'P@10': 0.24838, 'P@100': 0.03481, 'P@1000': 0.00348}\n",
            "NDCG@1 for epoch 27: 0.4935\n"
          ]
        },
        {
          "data": {
            "application/vnd.jupyter.widget-view+json": {
              "model_id": "96ab456a80f94c62836e27cb222b6828",
              "version_major": 2,
              "version_minor": 0
            },
            "text/plain": [
              "Valid:   0%|          | 0/313 [00:00<?, ?it/s]"
            ]
          },
          "metadata": {},
          "output_type": "display_data"
        },
        {
          "name": "stdout",
          "output_type": "stream",
          "text": [
            "Valid loss: 0.198; Valid accuracy: 0.724\n",
            "Epoch 28/30\n"
          ]
        },
        {
          "data": {
            "application/vnd.jupyter.widget-view+json": {
              "model_id": "835403a3193a4e6e8803e0bd96a8a672",
              "version_major": 2,
              "version_minor": 0
            },
            "text/plain": [
              "Train:   0%|          | 0/3125 [00:00<?, ?it/s]"
            ]
          },
          "metadata": {},
          "output_type": "display_data"
        },
        {
          "name": "stdout",
          "output_type": "stream",
          "text": [
            "Epoch: 28 Training loss: 0.09\n"
          ]
        },
        {
          "data": {
            "application/vnd.jupyter.widget-view+json": {
              "model_id": "0fd1a752dd3444a29d4a5eeff7790c19",
              "version_major": 2,
              "version_minor": 0
            },
            "text/plain": [
              "Batches:   0%|          | 0/40 [00:00<?, ?it/s]"
            ]
          },
          "metadata": {},
          "output_type": "display_data"
        },
        {
          "name": "stdout",
          "output_type": "stream",
          "text": [
            "{'NDCG@1': 0.49351, 'NDCG@3': 0.43713, 'NDCG@5': 0.40087, 'NDCG@10': 0.35556, 'NDCG@100': 0.25235, 'NDCG@1000': 0.24542}\n",
            "{'MAP@1': 0.06306, 'MAP@3': 0.10636, 'MAP@5': 0.1199, 'MAP@10': 0.13488, 'MAP@100': 0.14583, 'MAP@1000': 0.14583}\n",
            "{'Recall@1': 0.06306, 'Recall@3': 0.11604, 'Recall@5': 0.13922, 'Recall@10': 0.16334, 'Recall@100': 0.19034, 'Recall@1000': 0.19034}\n",
            "{'P@1': 0.51299, 'P@3': 0.40476, 'P@5': 0.33571, 'P@10': 0.2487, 'P@100': 0.03481, 'P@1000': 0.00348}\n",
            "NDCG@1 for epoch 28: 0.4935\n"
          ]
        },
        {
          "data": {
            "application/vnd.jupyter.widget-view+json": {
              "model_id": "e787d6bfdc184669ac77dd46d05b6829",
              "version_major": 2,
              "version_minor": 0
            },
            "text/plain": [
              "Valid:   0%|          | 0/313 [00:00<?, ?it/s]"
            ]
          },
          "metadata": {},
          "output_type": "display_data"
        },
        {
          "name": "stdout",
          "output_type": "stream",
          "text": [
            "Valid loss: 0.198; Valid accuracy: 0.725\n",
            "Epoch 29/30\n"
          ]
        },
        {
          "data": {
            "application/vnd.jupyter.widget-view+json": {
              "model_id": "c728a5bc656b4b209b9afdb1cf70cd3b",
              "version_major": 2,
              "version_minor": 0
            },
            "text/plain": [
              "Train:   0%|          | 0/3125 [00:00<?, ?it/s]"
            ]
          },
          "metadata": {},
          "output_type": "display_data"
        },
        {
          "name": "stdout",
          "output_type": "stream",
          "text": [
            "Epoch: 29 Training loss: 0.09\n"
          ]
        },
        {
          "data": {
            "application/vnd.jupyter.widget-view+json": {
              "model_id": "249e6147fa794d52bb60f1494855612b",
              "version_major": 2,
              "version_minor": 0
            },
            "text/plain": [
              "Batches:   0%|          | 0/40 [00:00<?, ?it/s]"
            ]
          },
          "metadata": {},
          "output_type": "display_data"
        },
        {
          "name": "stdout",
          "output_type": "stream",
          "text": [
            "{'NDCG@1': 0.49351, 'NDCG@3': 0.43713, 'NDCG@5': 0.40082, 'NDCG@10': 0.3559, 'NDCG@100': 0.25225, 'NDCG@1000': 0.24532}\n",
            "{'MAP@1': 0.06306, 'MAP@3': 0.10624, 'MAP@5': 0.11972, 'MAP@10': 0.13483, 'MAP@100': 0.14566, 'MAP@1000': 0.14566}\n",
            "{'Recall@1': 0.06306, 'Recall@3': 0.11604, 'Recall@5': 0.13922, 'Recall@10': 0.16393, 'Recall@100': 0.19034, 'Recall@1000': 0.19034}\n",
            "{'P@1': 0.51299, 'P@3': 0.40476, 'P@5': 0.33571, 'P@10': 0.24935, 'P@100': 0.03481, 'P@1000': 0.00348}\n",
            "NDCG@1 for epoch 29: 0.4935\n"
          ]
        },
        {
          "data": {
            "application/vnd.jupyter.widget-view+json": {
              "model_id": "1686497b538c4f7badcf368e4b19c47b",
              "version_major": 2,
              "version_minor": 0
            },
            "text/plain": [
              "Valid:   0%|          | 0/313 [00:00<?, ?it/s]"
            ]
          },
          "metadata": {},
          "output_type": "display_data"
        },
        {
          "name": "stdout",
          "output_type": "stream",
          "text": [
            "Valid loss: 0.198; Valid accuracy: 0.725\n",
            "Epoch 30/30\n"
          ]
        },
        {
          "data": {
            "application/vnd.jupyter.widget-view+json": {
              "model_id": "96d56ebe26534e5186c8080f9bbe3f87",
              "version_major": 2,
              "version_minor": 0
            },
            "text/plain": [
              "Train:   0%|          | 0/3125 [00:00<?, ?it/s]"
            ]
          },
          "metadata": {},
          "output_type": "display_data"
        },
        {
          "name": "stdout",
          "output_type": "stream",
          "text": [
            "Epoch: 30 Training loss: 0.09\n"
          ]
        },
        {
          "data": {
            "application/vnd.jupyter.widget-view+json": {
              "model_id": "32fc4eb9afec4191aa7cdb1e3a90bf6c",
              "version_major": 2,
              "version_minor": 0
            },
            "text/plain": [
              "Batches:   0%|          | 0/40 [00:00<?, ?it/s]"
            ]
          },
          "metadata": {},
          "output_type": "display_data"
        },
        {
          "name": "stdout",
          "output_type": "stream",
          "text": [
            "{'NDCG@1': 0.49351, 'NDCG@3': 0.43713, 'NDCG@5': 0.40082, 'NDCG@10': 0.35579, 'NDCG@100': 0.25225, 'NDCG@1000': 0.24532}\n",
            "{'MAP@1': 0.06306, 'MAP@3': 0.10624, 'MAP@5': 0.11972, 'MAP@10': 0.13481, 'MAP@100': 0.14566, 'MAP@1000': 0.14566}\n",
            "{'Recall@1': 0.06306, 'Recall@3': 0.11604, 'Recall@5': 0.13922, 'Recall@10': 0.16388, 'Recall@100': 0.19034, 'Recall@1000': 0.19034}\n",
            "{'P@1': 0.51299, 'P@3': 0.40476, 'P@5': 0.33571, 'P@10': 0.24903, 'P@100': 0.03481, 'P@1000': 0.00348}\n",
            "NDCG@1 for epoch 30: 0.4935\n"
          ]
        },
        {
          "data": {
            "application/vnd.jupyter.widget-view+json": {
              "model_id": "38425843ba274a2d8dc178219182db32",
              "version_major": 2,
              "version_minor": 0
            },
            "text/plain": [
              "Valid:   0%|          | 0/313 [00:00<?, ?it/s]"
            ]
          },
          "metadata": {},
          "output_type": "display_data"
        },
        {
          "name": "stdout",
          "output_type": "stream",
          "text": [
            "Valid loss: 0.198; Valid accuracy: 0.724\n",
            "Training complete. Best model saved at: finetune_nfcorpus/neg_samples_3_seed6/best_model_ALIGNED_full_NDCG\n"
          ]
        }
      ],
      "source": [
        "import os\n",
        "import torch\n",
        "from torch import nn, optim\n",
        "from tqdm.auto import tqdm\n",
        "from transformers import AutoModelForSequenceClassification, get_linear_schedule_with_warmup\n",
        "from statistics import mean\n",
        "import pandas as pd  # Make sure to import pandas\n",
        "seed = 36\n",
        "random.seed(seed)\n",
        "np.random.seed(seed)\n",
        "torch.manual_seed(seed)\n",
        "torch.cuda.manual_seed_all(seed)  # if using CUDA\n",
        "# Set up device\n",
        "device = torch.device('cuda' if torch.cuda.is_available() else 'cpu')\n",
        "\n",
        "model = AutoModelForSequenceClassification.from_pretrained(model_name).to(device)\n",
        "\n",
        "# Initialize Embedding Weights with SVD-based IDF Modification\n",
        "# Step 1: Extract the original embedding matrix W_E\n",
        "W_E = model.get_input_embeddings().weight.detach().cpu()  # Original embedding matrix W_E\n",
        "\n",
        "# Step 2: Perform SVD on the embedding matrix W_E\n",
        "U, S, Vh = torch.linalg.svd(W_E, full_matrices=False)  # Perform SVD on W_E\n",
        "\n",
        "# Step 3: Load IDF scores and normalize them\n",
        "idf_file_path = f\"{DATASET}_idf_scores.csv\"\n",
        "idf_scores = pd.read_csv(idf_file_path).iloc[:, 1].tolist()  # Assuming IDF values are in the second column\n",
        "idf_tensor = -1 * torch.tensor(idf_scores, dtype=torch.float32)\n",
        "\n",
        "# Create a mask for entries in idf_tensor that are equal to -1.0\n",
        "mask = idf_tensor == -1.0\n",
        "# Count the number of masked elements\n",
        "num_masked_elements = mask.sum().item()\n",
        "print(\"Number of masked elements:\", num_masked_elements)\n",
        "print(\"Total number of elements in idf_tensor:\", idf_tensor.shape[0])\n",
        "\n",
        "# Normalize idf_tensor to match the distribution of the original U[:, 0]\n",
        "original_mean, original_std = U[:, 0].mean(), U[:, 0].std()\n",
        "idf_mean, idf_std = idf_tensor.mean(), idf_tensor.std()\n",
        "normalized_idf_tensor = (idf_tensor - idf_mean) / idf_std * original_std + original_mean\n",
        "\n",
        "# Use the mask to retain original U[:, 0] values for entries where idf_tensor == -1.0\n",
        "normalized_idf_tensor[mask] = U[:, 0][mask]\n",
        "\n",
        "# Set the first column of U to the modified IDF values\n",
        "U[:, 0] = normalized_idf_tensor\n",
        "\n",
        "# Step 4: Reconstruct W_E with the modified U\n",
        "W_E_modified = torch.mm(U, torch.diag(S)) @ Vh  # Reconstruct W_E with modified U\n",
        "model.get_input_embeddings().weight.data = W_E_modified.to(model.device)  # Assign modified W_E back to model\n",
        "\n",
        "# Step 5: Save the modified model and tokenizer if desired\n",
        "modified_model_path = \"modified_cross_encoder_model\"\n",
        "os.makedirs(modified_model_path, exist_ok=True)\n",
        "model.save_pretrained(modified_model_path)\n",
        "\n",
        "# Then start training\n",
        "\n",
        "# Freeze all layers except the embeddings\n",
        "for name, param in model.named_parameters():\n",
        "    if 'embeddings' not in name:  # Freeze all layers except embeddings\n",
        "        param.requires_grad = False\n",
        "\n",
        "# Verify the number of trainable parameters\n",
        "trainable_params = sum(p.numel() for p in model.parameters() if p.requires_grad)\n",
        "print(f'Trainable Parameters: {trainable_params}')\n",
        "\n",
        "# Training configuration\n",
        "epochs = 30\n",
        "learning_rate = 2e-5  # Adjust as necessary\n",
        "optimizer = optim.AdamW(model.parameters(), lr=learning_rate)\n",
        "num_training_steps = epochs * len(dataloader_train)\n",
        "num_warmup_steps = int(num_training_steps * 0.1)\n",
        "scheduler = get_linear_schedule_with_warmup(optimizer, num_warmup_steps, num_training_steps)\n",
        "\n",
        "# Track the best NDCG score\n",
        "best_ndcg = float(\"-inf\")\n",
        "fine_tuned_model_path = f\"finetune_{DATASET}/neg_samples_{NUM_NEG_SAMPLES}_seed{SEED}/temp_model_epoch_NDCG_ALIGNED_full\"\n",
        "best_model_path = f\"finetune_{DATASET}/neg_samples_{NUM_NEG_SAMPLES}_seed{SEED}/best_model_ALIGNED_full_NDCG\"\n",
        "os.makedirs(fine_tuned_model_path, exist_ok=True)\n",
        "os.makedirs(best_model_path, exist_ok=True)\n",
        "\n",
        "# Initial validation to verify evaluation code\n",
        "evaluate(model=model, dataloader=dataloader_valid, set_name='Valid')\n",
        "\n",
        "# Training loop\n",
        "for epoch in range(epochs):\n",
        "    model.train()\n",
        "    train_losses = []\n",
        "    print(f\"Epoch {epoch + 1}/{epochs}\")\n",
        "\n",
        "    for batch in tqdm(dataloader_train, desc=\"Train\"):\n",
        "        # Move batch to device\n",
        "        batch = {k: v.to(device) for k, v in batch.items()}\n",
        "\n",
        "        # Zero gradients\n",
        "        optimizer.zero_grad()\n",
        "\n",
        "        # Forward pass\n",
        "        outputs = model(**batch)\n",
        "\n",
        "        # Apply sigmoid to logits for binary relevance scores\n",
        "        predictions = torch.sigmoid(outputs.logits).squeeze()\n",
        "\n",
        "        # Calculate MSE loss with sigmoid-transformed predictions\n",
        "        loss = nn.functional.mse_loss(predictions, batch['labels'].float())\n",
        "        train_losses.append(loss.cpu().item())\n",
        "\n",
        "        # Backward pass\n",
        "        loss.backward()\n",
        "        optimizer.step()\n",
        "        scheduler.step()\n",
        "\n",
        "    # Print average training loss for the epoch\n",
        "    avg_train_loss = mean(train_losses)\n",
        "    print(f\"Epoch: {epoch + 1} Training loss: {avg_train_loss:.2f}\")\n",
        "\n",
        "    # Save the model at the end of each epoch\n",
        "    model.save_pretrained(fine_tuned_model_path)\n",
        "    tokenizer.save_pretrained(fine_tuned_model_path)\n",
        "\n",
        "    # Evaluate NDCG using the saved model path\n",
        "    ndcg = evaluate_beir(fine_tuned_model_path, NUM_NEG_SAMPLES=NUM_NEG_SAMPLES)\n",
        "    print(f\"NDCG@1 for epoch {epoch + 1}: {ndcg:.4f}\")\n",
        "    evaluate(model=model, dataloader=dataloader_valid, set_name='Valid')\n",
        "\n",
        "\n",
        "    # Check if this NDCG score is the highest seen so far\n",
        "    if ndcg > best_ndcg:\n",
        "        best_ndcg = ndcg\n",
        "        # Save the model with the highest NDCG\n",
        "        model.save_pretrained(best_model_path)\n",
        "        tokenizer.save_pretrained(best_model_path)\n",
        "        print(f\"New best model saved with NDCG@1: {ndcg:.4f}\")\n",
        "\n",
        "print(\"Training complete. Best model saved at:\", best_model_path)"
      ]
    },
    {
      "cell_type": "code",
      "execution_count": null,
      "metadata": {
        "colab": {
          "background_save": true,
          "referenced_widgets": [
            "3dda8bd5fa25485a999b3bfd0461abd1",
            "55646439def74b188f094118cc15a888",
            "fee4660a0c654ee7bb8f3875c000a540",
            "8e934c5e739d4b59b632c98e1f1a6133",
            "4a9e9a7c16694913a37e0947a31a3fc7",
            "589451f1eff1490f8ac73e99ac868970",
            "a0a4be4d980a4c5a8b231f899448406f",
            "7e370ee70dda4f129253cfe305e16bba",
            "6495d2a6149641f69236438c8a71ca43",
            "6dea3401b81940a2b07b233651f49061",
            "575a5c3657ac435ebffb1b4b7e79a6bb",
            "7415c104947747b2af7be2310856e28f",
            "9b279012afef4782aed6b71468181db0",
            "a163d46e4faa490798e303aa2865d02c",
            "751014db5f174a14ae5982f89981ce0b",
            "0f7c849383864af68a824905654d78a1",
            "3febf59680dd4e3dbbc155c970e16b69",
            "1b3fac59f2774d5faaf2d6cf10456d16",
            "0d2f0d21a7db48c091a64ec9194a9215",
            "e963957dbf484a8d9f908d656bacfb6b",
            "d190a0e3d7c3417290e6b865a3272dca",
            "8060d703c70c447f8806c9d11e8d339f",
            "35216f6e4b554c92b3e0ccf06eae08d0",
            "c2ade507e5464999945bc58acee665f6",
            "baf48df20b9f4b228531f0b193117027",
            "5df80e9358cd4a598d27f1f45e9a1870",
            "8f5689f3c7064919b4eaf3875f60fc37",
            "45cd86460da64467bdaca8b154148942",
            "750ff3d722c243438b2c84946c76489e",
            "af85d4900a8f454cb44c8fe0e262ed21",
            "d91cf53a620f4fdabb9b781e890cf6ed",
            "909cfe1544fb4fae9e848b4a87d08088",
            "bfcf6baedc2044728e2eac5ac5979115",
            "7800c6ef991745b185b91bf226943236",
            "e1ea8912b8674af4baeeb06bbb6b4bca",
            "17fc330321dd4d27ab715e411a5135a0",
            "54624429f3cc40fbacc476d1a86cfbbe",
            "36350443ae3e491ea9255eb16275a2c2",
            "f72cd0a0489c4db1bcafe2e140a2b328",
            "afe76c07da1f4a479ebb7710ef1f11b3",
            "68ba8468859d48eb841f439b29d5793b",
            "9a174b9fdacc4dfaac4f559c7d39c98c",
            "88195269e0ac40b59419a207155db557",
            "2ac36d0a7a234f9eab9dd0711af055f3",
            "85ab2606f8624876869c1fc20aa8d36e",
            "4c8d4bb4a3f24ad99fe4b49941027457",
            "9966dde69e9c4ee9af815b38b266e2e7",
            "155e206cd4404c0cba3797c896ab1a44",
            "dfb4f2439fbb450b8b640f2af7cea8e9",
            "a9f2e282f942454caaacfb27dcc0eddb",
            "01fdb86f9d0f4c9ab7eb52f0ec59f8af",
            "b56ef65adb044bb191b6cea45396c88a",
            "0becf9558b954e4eb671fc9bae0d719a",
            "d4059695b4df43f89015e18ee203b284",
            "5cfa51e22701420284d19a81508a6bfd",
            "5b3430a2781b4898b5ed3df1faa30599",
            "85fae152f99645fe910ad8b066296e6b",
            "b4a31657177449fa966eae4d05d2637a",
            "8e093b2b3dc34dd4b0cb1e4d220952f4",
            "9d25739619c349018ce13d32e7e912aa",
            "c3580806cfbd4a3288077ce21d073078"
          ]
        },
        "id": "yyNJ3Buvp6J_",
        "outputId": "0da521c4-1699-40d8-8ba3-e9d465955e0b"
      },
      "outputs": [
        {
          "name": "stdout",
          "output_type": "stream",
          "text": [
            "Parameters: 33360385\n"
          ]
        },
        {
          "data": {
            "application/vnd.jupyter.widget-view+json": {
              "model_id": "3dda8bd5fa25485a999b3bfd0461abd1",
              "version_major": 2,
              "version_minor": 0
            },
            "text/plain": [
              "Valid:   0%|          | 0/313 [00:00<?, ?it/s]"
            ]
          },
          "metadata": {},
          "output_type": "display_data"
        },
        {
          "name": "stdout",
          "output_type": "stream",
          "text": [
            "Valid loss: 0.247; Valid accuracy: 0.716\n",
            "Epoch 1/30\n"
          ]
        },
        {
          "data": {
            "application/vnd.jupyter.widget-view+json": {
              "model_id": "55646439def74b188f094118cc15a888",
              "version_major": 2,
              "version_minor": 0
            },
            "text/plain": [
              "Train:   0%|          | 0/3125 [00:00<?, ?it/s]"
            ]
          },
          "metadata": {},
          "output_type": "display_data"
        },
        {
          "name": "stdout",
          "output_type": "stream",
          "text": [
            "Epoch: 1 Training loss: 0.24\n"
          ]
        },
        {
          "data": {
            "application/vnd.jupyter.widget-view+json": {
              "model_id": "fee4660a0c654ee7bb8f3875c000a540",
              "version_major": 2,
              "version_minor": 0
            },
            "text/plain": [
              "Batches:   0%|          | 0/40 [00:00<?, ?it/s]"
            ]
          },
          "metadata": {},
          "output_type": "display_data"
        },
        {
          "name": "stdout",
          "output_type": "stream",
          "text": [
            "{'NDCG@1': 0.46104, 'NDCG@3': 0.42248, 'NDCG@5': 0.39002, 'NDCG@10': 0.34841, 'NDCG@100': 0.24815, 'NDCG@1000': 0.24127}\n",
            "{'MAP@1': 0.0589, 'MAP@3': 0.10403, 'MAP@5': 0.11825, 'MAP@10': 0.13302, 'MAP@100': 0.1434, 'MAP@1000': 0.1434}\n",
            "{'Recall@1': 0.0589, 'Recall@3': 0.11713, 'Recall@5': 0.13961, 'Recall@10': 0.16632, 'Recall@100': 0.19034, 'Recall@1000': 0.19034}\n",
            "{'P@1': 0.47403, 'P@3': 0.39719, 'P@5': 0.33247, 'P@10': 0.24708, 'P@100': 0.03481, 'P@1000': 0.00348}\n",
            "NDCG@1 for epoch 1: 0.4610\n",
            "New best model saved with NDCG@1: 0.4610\n",
            "Epoch 2/30\n"
          ]
        },
        {
          "data": {
            "application/vnd.jupyter.widget-view+json": {
              "model_id": "8e934c5e739d4b59b632c98e1f1a6133",
              "version_major": 2,
              "version_minor": 0
            },
            "text/plain": [
              "Train:   0%|          | 0/3125 [00:00<?, ?it/s]"
            ]
          },
          "metadata": {},
          "output_type": "display_data"
        },
        {
          "name": "stdout",
          "output_type": "stream",
          "text": [
            "Epoch: 2 Training loss: 0.23\n"
          ]
        },
        {
          "data": {
            "application/vnd.jupyter.widget-view+json": {
              "model_id": "4a9e9a7c16694913a37e0947a31a3fc7",
              "version_major": 2,
              "version_minor": 0
            },
            "text/plain": [
              "Batches:   0%|          | 0/40 [00:00<?, ?it/s]"
            ]
          },
          "metadata": {},
          "output_type": "display_data"
        },
        {
          "name": "stdout",
          "output_type": "stream",
          "text": [
            "{'NDCG@1': 0.46591, 'NDCG@3': 0.4205, 'NDCG@5': 0.38843, 'NDCG@10': 0.34915, 'NDCG@100': 0.24743, 'NDCG@1000': 0.24056}\n",
            "{'MAP@1': 0.05714, 'MAP@3': 0.10293, 'MAP@5': 0.11677, 'MAP@10': 0.13216, 'MAP@100': 0.14232, 'MAP@1000': 0.14232}\n",
            "{'Recall@1': 0.05714, 'Recall@3': 0.1168, 'Recall@5': 0.13905, 'Recall@10': 0.16729, 'Recall@100': 0.19034, 'Recall@1000': 0.19034}\n",
            "{'P@1': 0.47727, 'P@3': 0.39394, 'P@5': 0.32987, 'P@10': 0.24935, 'P@100': 0.03481, 'P@1000': 0.00348}\n",
            "NDCG@1 for epoch 2: 0.4659\n",
            "New best model saved with NDCG@1: 0.4659\n",
            "Epoch 3/30\n"
          ]
        },
        {
          "data": {
            "application/vnd.jupyter.widget-view+json": {
              "model_id": "589451f1eff1490f8ac73e99ac868970",
              "version_major": 2,
              "version_minor": 0
            },
            "text/plain": [
              "Train:   0%|          | 0/3125 [00:00<?, ?it/s]"
            ]
          },
          "metadata": {},
          "output_type": "display_data"
        },
        {
          "name": "stdout",
          "output_type": "stream",
          "text": [
            "Epoch: 3 Training loss: 0.20\n"
          ]
        },
        {
          "data": {
            "application/vnd.jupyter.widget-view+json": {
              "model_id": "a0a4be4d980a4c5a8b231f899448406f",
              "version_major": 2,
              "version_minor": 0
            },
            "text/plain": [
              "Batches:   0%|          | 0/40 [00:00<?, ?it/s]"
            ]
          },
          "metadata": {},
          "output_type": "display_data"
        },
        {
          "name": "stdout",
          "output_type": "stream",
          "text": [
            "{'NDCG@1': 0.46916, 'NDCG@3': 0.4214, 'NDCG@5': 0.38739, 'NDCG@10': 0.34823, 'NDCG@100': 0.24769, 'NDCG@1000': 0.24083}\n",
            "{'MAP@1': 0.05822, 'MAP@3': 0.10309, 'MAP@5': 0.1161, 'MAP@10': 0.1318, 'MAP@100': 0.1423, 'MAP@1000': 0.1423}\n",
            "{'Recall@1': 0.05822, 'Recall@3': 0.11642, 'Recall@5': 0.13863, 'Recall@10': 0.16658, 'Recall@100': 0.19034, 'Recall@1000': 0.19034}\n",
            "{'P@1': 0.48052, 'P@3': 0.39394, 'P@5': 0.32727, 'P@10': 0.24708, 'P@100': 0.03481, 'P@1000': 0.00348}\n",
            "NDCG@1 for epoch 3: 0.4692\n",
            "New best model saved with NDCG@1: 0.4692\n",
            "Epoch 4/30\n"
          ]
        },
        {
          "data": {
            "application/vnd.jupyter.widget-view+json": {
              "model_id": "7e370ee70dda4f129253cfe305e16bba",
              "version_major": 2,
              "version_minor": 0
            },
            "text/plain": [
              "Train:   0%|          | 0/3125 [00:00<?, ?it/s]"
            ]
          },
          "metadata": {},
          "output_type": "display_data"
        },
        {
          "name": "stdout",
          "output_type": "stream",
          "text": [
            "Epoch: 4 Training loss: 0.18\n"
          ]
        },
        {
          "data": {
            "application/vnd.jupyter.widget-view+json": {
              "model_id": "6495d2a6149641f69236438c8a71ca43",
              "version_major": 2,
              "version_minor": 0
            },
            "text/plain": [
              "Batches:   0%|          | 0/40 [00:00<?, ?it/s]"
            ]
          },
          "metadata": {},
          "output_type": "display_data"
        },
        {
          "name": "stdout",
          "output_type": "stream",
          "text": [
            "{'NDCG@1': 0.4724, 'NDCG@3': 0.42193, 'NDCG@5': 0.38751, 'NDCG@10': 0.34865, 'NDCG@100': 0.24792, 'NDCG@1000': 0.24106}\n",
            "{'MAP@1': 0.05819, 'MAP@3': 0.10281, 'MAP@5': 0.11617, 'MAP@10': 0.13193, 'MAP@100': 0.14234, 'MAP@1000': 0.14234}\n",
            "{'Recall@1': 0.05819, 'Recall@3': 0.11612, 'Recall@5': 0.13893, 'Recall@10': 0.16667, 'Recall@100': 0.19034, 'Recall@1000': 0.19034}\n",
            "{'P@1': 0.48377, 'P@3': 0.39286, 'P@5': 0.32727, 'P@10': 0.24773, 'P@100': 0.03481, 'P@1000': 0.00348}\n",
            "NDCG@1 for epoch 4: 0.4724\n",
            "New best model saved with NDCG@1: 0.4724\n",
            "Epoch 5/30\n"
          ]
        },
        {
          "data": {
            "application/vnd.jupyter.widget-view+json": {
              "model_id": "6dea3401b81940a2b07b233651f49061",
              "version_major": 2,
              "version_minor": 0
            },
            "text/plain": [
              "Train:   0%|          | 0/3125 [00:00<?, ?it/s]"
            ]
          },
          "metadata": {},
          "output_type": "display_data"
        },
        {
          "name": "stdout",
          "output_type": "stream",
          "text": [
            "Epoch: 5 Training loss: 0.16\n"
          ]
        },
        {
          "data": {
            "application/vnd.jupyter.widget-view+json": {
              "model_id": "575a5c3657ac435ebffb1b4b7e79a6bb",
              "version_major": 2,
              "version_minor": 0
            },
            "text/plain": [
              "Batches:   0%|          | 0/40 [00:00<?, ?it/s]"
            ]
          },
          "metadata": {},
          "output_type": "display_data"
        },
        {
          "name": "stdout",
          "output_type": "stream",
          "text": [
            "{'NDCG@1': 0.46916, 'NDCG@3': 0.42144, 'NDCG@5': 0.38625, 'NDCG@10': 0.34852, 'NDCG@100': 0.24842, 'NDCG@1000': 0.24161}\n",
            "{'MAP@1': 0.05943, 'MAP@3': 0.10341, 'MAP@5': 0.11639, 'MAP@10': 0.13218, 'MAP@100': 0.14279, 'MAP@1000': 0.14279}\n",
            "{'Recall@1': 0.05943, 'Recall@3': 0.11547, 'Recall@5': 0.13694, 'Recall@10': 0.16566, 'Recall@100': 0.19034, 'Recall@1000': 0.19034}\n",
            "{'P@1': 0.48052, 'P@3': 0.39286, 'P@5': 0.32532, 'P@10': 0.24838, 'P@100': 0.03481, 'P@1000': 0.00348}\n",
            "NDCG@1 for epoch 5: 0.4692\n",
            "Epoch 6/30\n"
          ]
        },
        {
          "data": {
            "application/vnd.jupyter.widget-view+json": {
              "model_id": "7415c104947747b2af7be2310856e28f",
              "version_major": 2,
              "version_minor": 0
            },
            "text/plain": [
              "Train:   0%|          | 0/3125 [00:00<?, ?it/s]"
            ]
          },
          "metadata": {},
          "output_type": "display_data"
        },
        {
          "name": "stdout",
          "output_type": "stream",
          "text": [
            "Epoch: 6 Training loss: 0.15\n"
          ]
        },
        {
          "data": {
            "application/vnd.jupyter.widget-view+json": {
              "model_id": "9b279012afef4782aed6b71468181db0",
              "version_major": 2,
              "version_minor": 0
            },
            "text/plain": [
              "Batches:   0%|          | 0/40 [00:00<?, ?it/s]"
            ]
          },
          "metadata": {},
          "output_type": "display_data"
        },
        {
          "name": "stdout",
          "output_type": "stream",
          "text": [
            "{'NDCG@1': 0.47565, 'NDCG@3': 0.42194, 'NDCG@5': 0.38837, 'NDCG@10': 0.3499, 'NDCG@100': 0.24903, 'NDCG@1000': 0.24217}\n",
            "{'MAP@1': 0.05962, 'MAP@3': 0.10375, 'MAP@5': 0.11682, 'MAP@10': 0.13312, 'MAP@100': 0.14344, 'MAP@1000': 0.14344}\n",
            "{'Recall@1': 0.05962, 'Recall@3': 0.11536, 'Recall@5': 0.13698, 'Recall@10': 0.16616, 'Recall@100': 0.19034, 'Recall@1000': 0.19034}\n",
            "{'P@1': 0.48701, 'P@3': 0.39069, 'P@5': 0.32597, 'P@10': 0.2487, 'P@100': 0.03481, 'P@1000': 0.00348}\n",
            "NDCG@1 for epoch 6: 0.4757\n",
            "New best model saved with NDCG@1: 0.4757\n",
            "Epoch 7/30\n"
          ]
        },
        {
          "data": {
            "application/vnd.jupyter.widget-view+json": {
              "model_id": "a163d46e4faa490798e303aa2865d02c",
              "version_major": 2,
              "version_minor": 0
            },
            "text/plain": [
              "Train:   0%|          | 0/3125 [00:00<?, ?it/s]"
            ]
          },
          "metadata": {},
          "output_type": "display_data"
        },
        {
          "name": "stdout",
          "output_type": "stream",
          "text": [
            "Epoch: 7 Training loss: 0.15\n"
          ]
        },
        {
          "data": {
            "application/vnd.jupyter.widget-view+json": {
              "model_id": "751014db5f174a14ae5982f89981ce0b",
              "version_major": 2,
              "version_minor": 0
            },
            "text/plain": [
              "Batches:   0%|          | 0/40 [00:00<?, ?it/s]"
            ]
          },
          "metadata": {},
          "output_type": "display_data"
        },
        {
          "name": "stdout",
          "output_type": "stream",
          "text": [
            "{'NDCG@1': 0.46591, 'NDCG@3': 0.42105, 'NDCG@5': 0.38697, 'NDCG@10': 0.34876, 'NDCG@100': 0.24867, 'NDCG@1000': 0.24185}\n",
            "{'MAP@1': 0.05929, 'MAP@3': 0.10346, 'MAP@5': 0.11665, 'MAP@10': 0.13285, 'MAP@100': 0.14328, 'MAP@1000': 0.14328}\n",
            "{'Recall@1': 0.05929, 'Recall@3': 0.11508, 'Recall@5': 0.13692, 'Recall@10': 0.16596, 'Recall@100': 0.19034, 'Recall@1000': 0.19034}\n",
            "{'P@1': 0.47727, 'P@3': 0.39069, 'P@5': 0.32532, 'P@10': 0.24773, 'P@100': 0.03481, 'P@1000': 0.00348}\n",
            "NDCG@1 for epoch 7: 0.4659\n",
            "Epoch 8/30\n"
          ]
        },
        {
          "data": {
            "application/vnd.jupyter.widget-view+json": {
              "model_id": "0f7c849383864af68a824905654d78a1",
              "version_major": 2,
              "version_minor": 0
            },
            "text/plain": [
              "Train:   0%|          | 0/3125 [00:00<?, ?it/s]"
            ]
          },
          "metadata": {},
          "output_type": "display_data"
        },
        {
          "name": "stdout",
          "output_type": "stream",
          "text": [
            "Epoch: 8 Training loss: 0.14\n"
          ]
        },
        {
          "data": {
            "application/vnd.jupyter.widget-view+json": {
              "model_id": "3febf59680dd4e3dbbc155c970e16b69",
              "version_major": 2,
              "version_minor": 0
            },
            "text/plain": [
              "Batches:   0%|          | 0/40 [00:00<?, ?it/s]"
            ]
          },
          "metadata": {},
          "output_type": "display_data"
        },
        {
          "name": "stdout",
          "output_type": "stream",
          "text": [
            "{'NDCG@1': 0.46266, 'NDCG@3': 0.42089, 'NDCG@5': 0.38841, 'NDCG@10': 0.34864, 'NDCG@100': 0.24817, 'NDCG@1000': 0.24129}\n",
            "{'MAP@1': 0.05861, 'MAP@3': 0.10303, 'MAP@5': 0.11698, 'MAP@10': 0.13272, 'MAP@100': 0.143, 'MAP@1000': 0.143}\n",
            "{'Recall@1': 0.05861, 'Recall@3': 0.11518, 'Recall@5': 0.13824, 'Recall@10': 0.1662, 'Recall@100': 0.19034, 'Recall@1000': 0.19034}\n",
            "{'P@1': 0.47403, 'P@3': 0.39177, 'P@5': 0.32857, 'P@10': 0.24838, 'P@100': 0.03481, 'P@1000': 0.00348}\n",
            "NDCG@1 for epoch 8: 0.4627\n",
            "Epoch 9/30\n"
          ]
        },
        {
          "data": {
            "application/vnd.jupyter.widget-view+json": {
              "model_id": "1b3fac59f2774d5faaf2d6cf10456d16",
              "version_major": 2,
              "version_minor": 0
            },
            "text/plain": [
              "Train:   0%|          | 0/3125 [00:00<?, ?it/s]"
            ]
          },
          "metadata": {},
          "output_type": "display_data"
        },
        {
          "name": "stdout",
          "output_type": "stream",
          "text": [
            "Epoch: 9 Training loss: 0.14\n"
          ]
        },
        {
          "data": {
            "application/vnd.jupyter.widget-view+json": {
              "model_id": "0d2f0d21a7db48c091a64ec9194a9215",
              "version_major": 2,
              "version_minor": 0
            },
            "text/plain": [
              "Batches:   0%|          | 0/40 [00:00<?, ?it/s]"
            ]
          },
          "metadata": {},
          "output_type": "display_data"
        },
        {
          "name": "stdout",
          "output_type": "stream",
          "text": [
            "{'NDCG@1': 0.46429, 'NDCG@3': 0.42312, 'NDCG@5': 0.38995, 'NDCG@10': 0.34993, 'NDCG@100': 0.24905, 'NDCG@1000': 0.2422}\n",
            "{'MAP@1': 0.05901, 'MAP@3': 0.10342, 'MAP@5': 0.11747, 'MAP@10': 0.13331, 'MAP@100': 0.14351, 'MAP@1000': 0.14351}\n",
            "{'Recall@1': 0.05901, 'Recall@3': 0.11532, 'Recall@5': 0.13824, 'Recall@10': 0.1664, 'Recall@100': 0.19034, 'Recall@1000': 0.19034}\n",
            "{'P@1': 0.47727, 'P@3': 0.39394, 'P@5': 0.32922, 'P@10': 0.24903, 'P@100': 0.03481, 'P@1000': 0.00348}\n",
            "NDCG@1 for epoch 9: 0.4643\n",
            "Epoch 10/30\n"
          ]
        },
        {
          "data": {
            "application/vnd.jupyter.widget-view+json": {
              "model_id": "e963957dbf484a8d9f908d656bacfb6b",
              "version_major": 2,
              "version_minor": 0
            },
            "text/plain": [
              "Train:   0%|          | 0/3125 [00:00<?, ?it/s]"
            ]
          },
          "metadata": {},
          "output_type": "display_data"
        },
        {
          "name": "stdout",
          "output_type": "stream",
          "text": [
            "Epoch: 10 Training loss: 0.13\n"
          ]
        },
        {
          "data": {
            "application/vnd.jupyter.widget-view+json": {
              "model_id": "d190a0e3d7c3417290e6b865a3272dca",
              "version_major": 2,
              "version_minor": 0
            },
            "text/plain": [
              "Batches:   0%|          | 0/40 [00:00<?, ?it/s]"
            ]
          },
          "metadata": {},
          "output_type": "display_data"
        },
        {
          "name": "stdout",
          "output_type": "stream",
          "text": [
            "{'NDCG@1': 0.45942, 'NDCG@3': 0.42422, 'NDCG@5': 0.39025, 'NDCG@10': 0.3503, 'NDCG@100': 0.24898, 'NDCG@1000': 0.24217}\n",
            "{'MAP@1': 0.05881, 'MAP@3': 0.10384, 'MAP@5': 0.11761, 'MAP@10': 0.13376, 'MAP@100': 0.14363, 'MAP@1000': 0.14363}\n",
            "{'Recall@1': 0.05881, 'Recall@3': 0.11607, 'Recall@5': 0.13834, 'Recall@10': 0.16707, 'Recall@100': 0.19034, 'Recall@1000': 0.19034}\n",
            "{'P@1': 0.47403, 'P@3': 0.39719, 'P@5': 0.33117, 'P@10': 0.25, 'P@100': 0.03481, 'P@1000': 0.00348}\n",
            "NDCG@1 for epoch 10: 0.4594\n",
            "Epoch 11/30\n"
          ]
        },
        {
          "data": {
            "application/vnd.jupyter.widget-view+json": {
              "model_id": "8060d703c70c447f8806c9d11e8d339f",
              "version_major": 2,
              "version_minor": 0
            },
            "text/plain": [
              "Train:   0%|          | 0/3125 [00:00<?, ?it/s]"
            ]
          },
          "metadata": {},
          "output_type": "display_data"
        },
        {
          "name": "stdout",
          "output_type": "stream",
          "text": [
            "Epoch: 11 Training loss: 0.13\n"
          ]
        },
        {
          "data": {
            "application/vnd.jupyter.widget-view+json": {
              "model_id": "35216f6e4b554c92b3e0ccf06eae08d0",
              "version_major": 2,
              "version_minor": 0
            },
            "text/plain": [
              "Batches:   0%|          | 0/40 [00:00<?, ?it/s]"
            ]
          },
          "metadata": {},
          "output_type": "display_data"
        },
        {
          "name": "stdout",
          "output_type": "stream",
          "text": [
            "{'NDCG@1': 0.45942, 'NDCG@3': 0.42541, 'NDCG@5': 0.39094, 'NDCG@10': 0.35028, 'NDCG@100': 0.24905, 'NDCG@1000': 0.24223}\n",
            "{'MAP@1': 0.05851, 'MAP@3': 0.10393, 'MAP@5': 0.11789, 'MAP@10': 0.13391, 'MAP@100': 0.14386, 'MAP@1000': 0.14386}\n",
            "{'Recall@1': 0.05851, 'Recall@3': 0.11619, 'Recall@5': 0.13856, 'Recall@10': 0.16694, 'Recall@100': 0.19034, 'Recall@1000': 0.19034}\n",
            "{'P@1': 0.47403, 'P@3': 0.39827, 'P@5': 0.33117, 'P@10': 0.24935, 'P@100': 0.03481, 'P@1000': 0.00348}\n",
            "NDCG@1 for epoch 11: 0.4594\n",
            "Epoch 12/30\n"
          ]
        },
        {
          "data": {
            "application/vnd.jupyter.widget-view+json": {
              "model_id": "c2ade507e5464999945bc58acee665f6",
              "version_major": 2,
              "version_minor": 0
            },
            "text/plain": [
              "Train:   0%|          | 0/3125 [00:00<?, ?it/s]"
            ]
          },
          "metadata": {},
          "output_type": "display_data"
        },
        {
          "name": "stdout",
          "output_type": "stream",
          "text": [
            "Epoch: 12 Training loss: 0.12\n"
          ]
        },
        {
          "data": {
            "application/vnd.jupyter.widget-view+json": {
              "model_id": "baf48df20b9f4b228531f0b193117027",
              "version_major": 2,
              "version_minor": 0
            },
            "text/plain": [
              "Batches:   0%|          | 0/40 [00:00<?, ?it/s]"
            ]
          },
          "metadata": {},
          "output_type": "display_data"
        },
        {
          "name": "stdout",
          "output_type": "stream",
          "text": [
            "{'NDCG@1': 0.46266, 'NDCG@3': 0.42187, 'NDCG@5': 0.39144, 'NDCG@10': 0.34943, 'NDCG@100': 0.24884, 'NDCG@1000': 0.24202}\n",
            "{'MAP@1': 0.05858, 'MAP@3': 0.10357, 'MAP@5': 0.1176, 'MAP@10': 0.13361, 'MAP@100': 0.14366, 'MAP@1000': 0.14366}\n",
            "{'Recall@1': 0.05858, 'Recall@3': 0.1153, 'Recall@5': 0.13861, 'Recall@10': 0.16676, 'Recall@100': 0.19034, 'Recall@1000': 0.19034}\n",
            "{'P@1': 0.47727, 'P@3': 0.39286, 'P@5': 0.33182, 'P@10': 0.24838, 'P@100': 0.03481, 'P@1000': 0.00348}\n",
            "NDCG@1 for epoch 12: 0.4627\n",
            "Epoch 13/30\n"
          ]
        },
        {
          "data": {
            "application/vnd.jupyter.widget-view+json": {
              "model_id": "5df80e9358cd4a598d27f1f45e9a1870",
              "version_major": 2,
              "version_minor": 0
            },
            "text/plain": [
              "Train:   0%|          | 0/3125 [00:00<?, ?it/s]"
            ]
          },
          "metadata": {},
          "output_type": "display_data"
        },
        {
          "name": "stdout",
          "output_type": "stream",
          "text": [
            "Epoch: 13 Training loss: 0.12\n"
          ]
        },
        {
          "data": {
            "application/vnd.jupyter.widget-view+json": {
              "model_id": "8f5689f3c7064919b4eaf3875f60fc37",
              "version_major": 2,
              "version_minor": 0
            },
            "text/plain": [
              "Batches:   0%|          | 0/40 [00:00<?, ?it/s]"
            ]
          },
          "metadata": {},
          "output_type": "display_data"
        },
        {
          "name": "stdout",
          "output_type": "stream",
          "text": [
            "{'NDCG@1': 0.46266, 'NDCG@3': 0.42248, 'NDCG@5': 0.39125, 'NDCG@10': 0.35052, 'NDCG@100': 0.24897, 'NDCG@1000': 0.24215}\n",
            "{'MAP@1': 0.05858, 'MAP@3': 0.1036, 'MAP@5': 0.11767, 'MAP@10': 0.13382, 'MAP@100': 0.1438, 'MAP@1000': 0.1438}\n",
            "{'Recall@1': 0.05858, 'Recall@3': 0.11528, 'Recall@5': 0.1386, 'Recall@10': 0.16603, 'Recall@100': 0.19034, 'Recall@1000': 0.19034}\n",
            "{'P@1': 0.47727, 'P@3': 0.39394, 'P@5': 0.33117, 'P@10': 0.25, 'P@100': 0.03481, 'P@1000': 0.00348}\n",
            "NDCG@1 for epoch 13: 0.4627\n",
            "Epoch 14/30\n"
          ]
        },
        {
          "data": {
            "application/vnd.jupyter.widget-view+json": {
              "model_id": "45cd86460da64467bdaca8b154148942",
              "version_major": 2,
              "version_minor": 0
            },
            "text/plain": [
              "Train:   0%|          | 0/3125 [00:00<?, ?it/s]"
            ]
          },
          "metadata": {},
          "output_type": "display_data"
        },
        {
          "name": "stdout",
          "output_type": "stream",
          "text": [
            "Epoch: 14 Training loss: 0.12\n"
          ]
        },
        {
          "data": {
            "application/vnd.jupyter.widget-view+json": {
              "model_id": "750ff3d722c243438b2c84946c76489e",
              "version_major": 2,
              "version_minor": 0
            },
            "text/plain": [
              "Batches:   0%|          | 0/40 [00:00<?, ?it/s]"
            ]
          },
          "metadata": {},
          "output_type": "display_data"
        },
        {
          "name": "stdout",
          "output_type": "stream",
          "text": [
            "{'NDCG@1': 0.46591, 'NDCG@3': 0.42076, 'NDCG@5': 0.39104, 'NDCG@10': 0.35029, 'NDCG@100': 0.24894, 'NDCG@1000': 0.24212}\n",
            "{'MAP@1': 0.05872, 'MAP@3': 0.10312, 'MAP@5': 0.11754, 'MAP@10': 0.13367, 'MAP@100': 0.14373, 'MAP@1000': 0.14373}\n",
            "{'Recall@1': 0.05872, 'Recall@3': 0.11455, 'Recall@5': 0.13851, 'Recall@10': 0.16596, 'Recall@100': 0.19034, 'Recall@1000': 0.19034}\n",
            "{'P@1': 0.48052, 'P@3': 0.39069, 'P@5': 0.33052, 'P@10': 0.24968, 'P@100': 0.03481, 'P@1000': 0.00348}\n",
            "NDCG@1 for epoch 14: 0.4659\n",
            "Epoch 15/30\n"
          ]
        },
        {
          "data": {
            "application/vnd.jupyter.widget-view+json": {
              "model_id": "af85d4900a8f454cb44c8fe0e262ed21",
              "version_major": 2,
              "version_minor": 0
            },
            "text/plain": [
              "Train:   0%|          | 0/3125 [00:00<?, ?it/s]"
            ]
          },
          "metadata": {},
          "output_type": "display_data"
        },
        {
          "name": "stdout",
          "output_type": "stream",
          "text": [
            "Epoch: 15 Training loss: 0.12\n"
          ]
        },
        {
          "data": {
            "application/vnd.jupyter.widget-view+json": {
              "model_id": "d91cf53a620f4fdabb9b781e890cf6ed",
              "version_major": 2,
              "version_minor": 0
            },
            "text/plain": [
              "Batches:   0%|          | 0/40 [00:00<?, ?it/s]"
            ]
          },
          "metadata": {},
          "output_type": "display_data"
        },
        {
          "name": "stdout",
          "output_type": "stream",
          "text": [
            "{'NDCG@1': 0.45942, 'NDCG@3': 0.4197, 'NDCG@5': 0.39163, 'NDCG@10': 0.3502, 'NDCG@100': 0.24863, 'NDCG@1000': 0.24181}\n",
            "{'MAP@1': 0.05828, 'MAP@3': 0.1039, 'MAP@5': 0.1179, 'MAP@10': 0.13365, 'MAP@100': 0.14371, 'MAP@1000': 0.14371}\n",
            "{'Recall@1': 0.05828, 'Recall@3': 0.11778, 'Recall@5': 0.1393, 'Recall@10': 0.1661, 'Recall@100': 0.19034, 'Recall@1000': 0.19034}\n",
            "{'P@1': 0.47403, 'P@3': 0.38961, 'P@5': 0.33312, 'P@10': 0.25032, 'P@100': 0.03481, 'P@1000': 0.00348}\n",
            "NDCG@1 for epoch 15: 0.4594\n",
            "Epoch 16/30\n"
          ]
        },
        {
          "data": {
            "application/vnd.jupyter.widget-view+json": {
              "model_id": "909cfe1544fb4fae9e848b4a87d08088",
              "version_major": 2,
              "version_minor": 0
            },
            "text/plain": [
              "Train:   0%|          | 0/3125 [00:00<?, ?it/s]"
            ]
          },
          "metadata": {},
          "output_type": "display_data"
        },
        {
          "name": "stdout",
          "output_type": "stream",
          "text": [
            "Epoch: 16 Training loss: 0.11\n"
          ]
        },
        {
          "data": {
            "application/vnd.jupyter.widget-view+json": {
              "model_id": "bfcf6baedc2044728e2eac5ac5979115",
              "version_major": 2,
              "version_minor": 0
            },
            "text/plain": [
              "Batches:   0%|          | 0/40 [00:00<?, ?it/s]"
            ]
          },
          "metadata": {},
          "output_type": "display_data"
        },
        {
          "name": "stdout",
          "output_type": "stream",
          "text": [
            "{'NDCG@1': 0.46591, 'NDCG@3': 0.42212, 'NDCG@5': 0.39243, 'NDCG@10': 0.3508, 'NDCG@100': 0.24943, 'NDCG@1000': 0.24261}\n",
            "{'MAP@1': 0.05904, 'MAP@3': 0.10456, 'MAP@5': 0.11847, 'MAP@10': 0.13416, 'MAP@100': 0.14429, 'MAP@1000': 0.14429}\n",
            "{'Recall@1': 0.05904, 'Recall@3': 0.11798, 'Recall@5': 0.13926, 'Recall@10': 0.16601, 'Recall@100': 0.19034, 'Recall@1000': 0.19034}\n",
            "{'P@1': 0.48052, 'P@3': 0.39069, 'P@5': 0.33247, 'P@10': 0.25, 'P@100': 0.03481, 'P@1000': 0.00348}\n",
            "NDCG@1 for epoch 16: 0.4659\n",
            "Epoch 17/30\n"
          ]
        },
        {
          "data": {
            "application/vnd.jupyter.widget-view+json": {
              "model_id": "7800c6ef991745b185b91bf226943236",
              "version_major": 2,
              "version_minor": 0
            },
            "text/plain": [
              "Train:   0%|          | 0/3125 [00:00<?, ?it/s]"
            ]
          },
          "metadata": {},
          "output_type": "display_data"
        },
        {
          "name": "stdout",
          "output_type": "stream",
          "text": [
            "Epoch: 17 Training loss: 0.11\n"
          ]
        },
        {
          "data": {
            "application/vnd.jupyter.widget-view+json": {
              "model_id": "e1ea8912b8674af4baeeb06bbb6b4bca",
              "version_major": 2,
              "version_minor": 0
            },
            "text/plain": [
              "Batches:   0%|          | 0/40 [00:00<?, ?it/s]"
            ]
          },
          "metadata": {},
          "output_type": "display_data"
        },
        {
          "name": "stdout",
          "output_type": "stream",
          "text": [
            "{'NDCG@1': 0.46266, 'NDCG@3': 0.42212, 'NDCG@5': 0.39307, 'NDCG@10': 0.3509, 'NDCG@100': 0.24926, 'NDCG@1000': 0.24244}\n",
            "{'MAP@1': 0.05875, 'MAP@3': 0.1045, 'MAP@5': 0.11831, 'MAP@10': 0.13407, 'MAP@100': 0.14422, 'MAP@1000': 0.14422}\n",
            "{'Recall@1': 0.05875, 'Recall@3': 0.11806, 'Recall@5': 0.13909, 'Recall@10': 0.16607, 'Recall@100': 0.19034, 'Recall@1000': 0.19034}\n",
            "{'P@1': 0.47727, 'P@3': 0.39177, 'P@5': 0.33377, 'P@10': 0.25032, 'P@100': 0.03481, 'P@1000': 0.00348}\n",
            "NDCG@1 for epoch 17: 0.4627\n",
            "Epoch 18/30\n"
          ]
        },
        {
          "data": {
            "application/vnd.jupyter.widget-view+json": {
              "model_id": "17fc330321dd4d27ab715e411a5135a0",
              "version_major": 2,
              "version_minor": 0
            },
            "text/plain": [
              "Train:   0%|          | 0/3125 [00:00<?, ?it/s]"
            ]
          },
          "metadata": {},
          "output_type": "display_data"
        },
        {
          "name": "stdout",
          "output_type": "stream",
          "text": [
            "Epoch: 18 Training loss: 0.11\n"
          ]
        },
        {
          "data": {
            "application/vnd.jupyter.widget-view+json": {
              "model_id": "54624429f3cc40fbacc476d1a86cfbbe",
              "version_major": 2,
              "version_minor": 0
            },
            "text/plain": [
              "Batches:   0%|          | 0/40 [00:00<?, ?it/s]"
            ]
          },
          "metadata": {},
          "output_type": "display_data"
        },
        {
          "name": "stdout",
          "output_type": "stream",
          "text": [
            "{'NDCG@1': 0.46266, 'NDCG@3': 0.42078, 'NDCG@5': 0.39371, 'NDCG@10': 0.35155, 'NDCG@100': 0.24947, 'NDCG@1000': 0.24267}\n",
            "{'MAP@1': 0.05875, 'MAP@3': 0.10484, 'MAP@5': 0.11906, 'MAP@10': 0.13469, 'MAP@100': 0.14473, 'MAP@1000': 0.14473}\n",
            "{'Recall@1': 0.05875, 'Recall@3': 0.11792, 'Recall@5': 0.1397, 'Recall@10': 0.16633, 'Recall@100': 0.19034, 'Recall@1000': 0.19034}\n",
            "{'P@1': 0.47727, 'P@3': 0.39069, 'P@5': 0.33506, 'P@10': 0.25162, 'P@100': 0.03481, 'P@1000': 0.00348}\n",
            "NDCG@1 for epoch 18: 0.4627\n",
            "Epoch 19/30\n"
          ]
        },
        {
          "data": {
            "application/vnd.jupyter.widget-view+json": {
              "model_id": "36350443ae3e491ea9255eb16275a2c2",
              "version_major": 2,
              "version_minor": 0
            },
            "text/plain": [
              "Train:   0%|          | 0/3125 [00:00<?, ?it/s]"
            ]
          },
          "metadata": {},
          "output_type": "display_data"
        },
        {
          "name": "stdout",
          "output_type": "stream",
          "text": [
            "Epoch: 19 Training loss: 0.11\n"
          ]
        },
        {
          "data": {
            "application/vnd.jupyter.widget-view+json": {
              "model_id": "f72cd0a0489c4db1bcafe2e140a2b328",
              "version_major": 2,
              "version_minor": 0
            },
            "text/plain": [
              "Batches:   0%|          | 0/40 [00:00<?, ?it/s]"
            ]
          },
          "metadata": {},
          "output_type": "display_data"
        },
        {
          "name": "stdout",
          "output_type": "stream",
          "text": [
            "{'NDCG@1': 0.46916, 'NDCG@3': 0.42069, 'NDCG@5': 0.39492, 'NDCG@10': 0.35247, 'NDCG@100': 0.24949, 'NDCG@1000': 0.24267}\n",
            "{'MAP@1': 0.05887, 'MAP@3': 0.10427, 'MAP@5': 0.11896, 'MAP@10': 0.13467, 'MAP@100': 0.14459, 'MAP@1000': 0.14459}\n",
            "{'Recall@1': 0.05887, 'Recall@3': 0.11658, 'Recall@5': 0.13983, 'Recall@10': 0.16649, 'Recall@100': 0.19034, 'Recall@1000': 0.19034}\n",
            "{'P@1': 0.48377, 'P@3': 0.38961, 'P@5': 0.33636, 'P@10': 0.25227, 'P@100': 0.03481, 'P@1000': 0.00348}\n",
            "NDCG@1 for epoch 19: 0.4692\n",
            "Epoch 20/30\n"
          ]
        },
        {
          "data": {
            "application/vnd.jupyter.widget-view+json": {
              "model_id": "afe76c07da1f4a479ebb7710ef1f11b3",
              "version_major": 2,
              "version_minor": 0
            },
            "text/plain": [
              "Train:   0%|          | 0/3125 [00:00<?, ?it/s]"
            ]
          },
          "metadata": {},
          "output_type": "display_data"
        },
        {
          "name": "stdout",
          "output_type": "stream",
          "text": [
            "Epoch: 20 Training loss: 0.10\n"
          ]
        },
        {
          "data": {
            "application/vnd.jupyter.widget-view+json": {
              "model_id": "68ba8468859d48eb841f439b29d5793b",
              "version_major": 2,
              "version_minor": 0
            },
            "text/plain": [
              "Batches:   0%|          | 0/40 [00:00<?, ?it/s]"
            ]
          },
          "metadata": {},
          "output_type": "display_data"
        },
        {
          "name": "stdout",
          "output_type": "stream",
          "text": [
            "{'NDCG@1': 0.46916, 'NDCG@3': 0.42135, 'NDCG@5': 0.39391, 'NDCG@10': 0.3525, 'NDCG@100': 0.24951, 'NDCG@1000': 0.2427}\n",
            "{'MAP@1': 0.05887, 'MAP@3': 0.10427, 'MAP@5': 0.11873, 'MAP@10': 0.13461, 'MAP@100': 0.14455, 'MAP@1000': 0.14455}\n",
            "{'Recall@1': 0.05887, 'Recall@3': 0.11663, 'Recall@5': 0.13946, 'Recall@10': 0.16649, 'Recall@100': 0.19034, 'Recall@1000': 0.19034}\n",
            "{'P@1': 0.48377, 'P@3': 0.39069, 'P@5': 0.33442, 'P@10': 0.25227, 'P@100': 0.03481, 'P@1000': 0.00348}\n",
            "NDCG@1 for epoch 20: 0.4692\n",
            "Epoch 21/30\n"
          ]
        },
        {
          "data": {
            "application/vnd.jupyter.widget-view+json": {
              "model_id": "9a174b9fdacc4dfaac4f559c7d39c98c",
              "version_major": 2,
              "version_minor": 0
            },
            "text/plain": [
              "Train:   0%|          | 0/3125 [00:00<?, ?it/s]"
            ]
          },
          "metadata": {},
          "output_type": "display_data"
        },
        {
          "name": "stdout",
          "output_type": "stream",
          "text": [
            "Epoch: 21 Training loss: 0.10\n"
          ]
        },
        {
          "data": {
            "application/vnd.jupyter.widget-view+json": {
              "model_id": "88195269e0ac40b59419a207155db557",
              "version_major": 2,
              "version_minor": 0
            },
            "text/plain": [
              "Batches:   0%|          | 0/40 [00:00<?, ?it/s]"
            ]
          },
          "metadata": {},
          "output_type": "display_data"
        },
        {
          "name": "stdout",
          "output_type": "stream",
          "text": [
            "{'NDCG@1': 0.46916, 'NDCG@3': 0.42343, 'NDCG@5': 0.39251, 'NDCG@10': 0.35256, 'NDCG@100': 0.24942, 'NDCG@1000': 0.2426}\n",
            "{'MAP@1': 0.05887, 'MAP@3': 0.10427, 'MAP@5': 0.11877, 'MAP@10': 0.13454, 'MAP@100': 0.14443, 'MAP@1000': 0.14443}\n",
            "{'Recall@1': 0.05887, 'Recall@3': 0.11689, 'Recall@5': 0.13962, 'Recall@10': 0.16654, 'Recall@100': 0.19034, 'Recall@1000': 0.19034}\n",
            "{'P@1': 0.48377, 'P@3': 0.39394, 'P@5': 0.33312, 'P@10': 0.2526, 'P@100': 0.03481, 'P@1000': 0.00348}\n",
            "NDCG@1 for epoch 21: 0.4692\n",
            "Epoch 22/30\n"
          ]
        },
        {
          "data": {
            "application/vnd.jupyter.widget-view+json": {
              "model_id": "2ac36d0a7a234f9eab9dd0711af055f3",
              "version_major": 2,
              "version_minor": 0
            },
            "text/plain": [
              "Train:   0%|          | 0/3125 [00:00<?, ?it/s]"
            ]
          },
          "metadata": {},
          "output_type": "display_data"
        },
        {
          "name": "stdout",
          "output_type": "stream",
          "text": [
            "Epoch: 22 Training loss: 0.10\n"
          ]
        },
        {
          "data": {
            "application/vnd.jupyter.widget-view+json": {
              "model_id": "85ab2606f8624876869c1fc20aa8d36e",
              "version_major": 2,
              "version_minor": 0
            },
            "text/plain": [
              "Batches:   0%|          | 0/40 [00:00<?, ?it/s]"
            ]
          },
          "metadata": {},
          "output_type": "display_data"
        },
        {
          "name": "stdout",
          "output_type": "stream",
          "text": [
            "{'NDCG@1': 0.4724, 'NDCG@3': 0.4239, 'NDCG@5': 0.39486, 'NDCG@10': 0.35255, 'NDCG@100': 0.24964, 'NDCG@1000': 0.24282}\n",
            "{'MAP@1': 0.059, 'MAP@3': 0.10463, 'MAP@5': 0.11906, 'MAP@10': 0.13469, 'MAP@100': 0.14464, 'MAP@1000': 0.14464}\n",
            "{'Recall@1': 0.059, 'Recall@3': 0.11736, 'Recall@5': 0.13998, 'Recall@10': 0.16644, 'Recall@100': 0.19034, 'Recall@1000': 0.19034}\n",
            "{'P@1': 0.48701, 'P@3': 0.39394, 'P@5': 0.33636, 'P@10': 0.25195, 'P@100': 0.03481, 'P@1000': 0.00348}\n",
            "NDCG@1 for epoch 22: 0.4724\n",
            "Epoch 23/30\n"
          ]
        },
        {
          "data": {
            "application/vnd.jupyter.widget-view+json": {
              "model_id": "4c8d4bb4a3f24ad99fe4b49941027457",
              "version_major": 2,
              "version_minor": 0
            },
            "text/plain": [
              "Train:   0%|          | 0/3125 [00:00<?, ?it/s]"
            ]
          },
          "metadata": {},
          "output_type": "display_data"
        },
        {
          "name": "stdout",
          "output_type": "stream",
          "text": [
            "Epoch: 23 Training loss: 0.10\n"
          ]
        },
        {
          "data": {
            "application/vnd.jupyter.widget-view+json": {
              "model_id": "9966dde69e9c4ee9af815b38b266e2e7",
              "version_major": 2,
              "version_minor": 0
            },
            "text/plain": [
              "Batches:   0%|          | 0/40 [00:00<?, ?it/s]"
            ]
          },
          "metadata": {},
          "output_type": "display_data"
        },
        {
          "name": "stdout",
          "output_type": "stream",
          "text": [
            "{'NDCG@1': 0.4724, 'NDCG@3': 0.42381, 'NDCG@5': 0.39478, 'NDCG@10': 0.35267, 'NDCG@100': 0.24966, 'NDCG@1000': 0.24284}\n",
            "{'MAP@1': 0.059, 'MAP@3': 0.10438, 'MAP@5': 0.11867, 'MAP@10': 0.13454, 'MAP@100': 0.14454, 'MAP@1000': 0.14454}\n",
            "{'Recall@1': 0.059, 'Recall@3': 0.11703, 'Recall@5': 0.13938, 'Recall@10': 0.1664, 'Recall@100': 0.19034, 'Recall@1000': 0.19034}\n",
            "{'P@1': 0.48701, 'P@3': 0.39394, 'P@5': 0.33571, 'P@10': 0.25195, 'P@100': 0.03481, 'P@1000': 0.00348}\n",
            "NDCG@1 for epoch 23: 0.4724\n",
            "Epoch 24/30\n"
          ]
        },
        {
          "data": {
            "application/vnd.jupyter.widget-view+json": {
              "model_id": "155e206cd4404c0cba3797c896ab1a44",
              "version_major": 2,
              "version_minor": 0
            },
            "text/plain": [
              "Train:   0%|          | 0/3125 [00:00<?, ?it/s]"
            ]
          },
          "metadata": {},
          "output_type": "display_data"
        },
        {
          "name": "stdout",
          "output_type": "stream",
          "text": [
            "Epoch: 24 Training loss: 0.10\n"
          ]
        },
        {
          "data": {
            "application/vnd.jupyter.widget-view+json": {
              "model_id": "dfb4f2439fbb450b8b640f2af7cea8e9",
              "version_major": 2,
              "version_minor": 0
            },
            "text/plain": [
              "Batches:   0%|          | 0/40 [00:00<?, ?it/s]"
            ]
          },
          "metadata": {},
          "output_type": "display_data"
        },
        {
          "name": "stdout",
          "output_type": "stream",
          "text": [
            "{'NDCG@1': 0.4724, 'NDCG@3': 0.42158, 'NDCG@5': 0.39307, 'NDCG@10': 0.35134, 'NDCG@100': 0.24898, 'NDCG@1000': 0.24216}\n",
            "{'MAP@1': 0.059, 'MAP@3': 0.10298, 'MAP@5': 0.1173, 'MAP@10': 0.13356, 'MAP@100': 0.14374, 'MAP@1000': 0.14374}\n",
            "{'Recall@1': 0.059, 'Recall@3': 0.11344, 'Recall@5': 0.13831, 'Recall@10': 0.16582, 'Recall@100': 0.19034, 'Recall@1000': 0.19034}\n",
            "{'P@1': 0.48701, 'P@3': 0.39177, 'P@5': 0.33442, 'P@10': 0.25097, 'P@100': 0.03481, 'P@1000': 0.00348}\n",
            "NDCG@1 for epoch 24: 0.4724\n",
            "Epoch 25/30\n"
          ]
        },
        {
          "data": {
            "application/vnd.jupyter.widget-view+json": {
              "model_id": "a9f2e282f942454caaacfb27dcc0eddb",
              "version_major": 2,
              "version_minor": 0
            },
            "text/plain": [
              "Train:   0%|          | 0/3125 [00:00<?, ?it/s]"
            ]
          },
          "metadata": {},
          "output_type": "display_data"
        },
        {
          "name": "stdout",
          "output_type": "stream",
          "text": [
            "Epoch: 25 Training loss: 0.10\n"
          ]
        },
        {
          "data": {
            "application/vnd.jupyter.widget-view+json": {
              "model_id": "01fdb86f9d0f4c9ab7eb52f0ec59f8af",
              "version_major": 2,
              "version_minor": 0
            },
            "text/plain": [
              "Batches:   0%|          | 0/40 [00:00<?, ?it/s]"
            ]
          },
          "metadata": {},
          "output_type": "display_data"
        },
        {
          "name": "stdout",
          "output_type": "stream",
          "text": [
            "{'NDCG@1': 0.4724, 'NDCG@3': 0.4208, 'NDCG@5': 0.39342, 'NDCG@10': 0.35153, 'NDCG@100': 0.24902, 'NDCG@1000': 0.2422}\n",
            "{'MAP@1': 0.059, 'MAP@3': 0.10291, 'MAP@5': 0.11738, 'MAP@10': 0.13366, 'MAP@100': 0.14383, 'MAP@1000': 0.14383}\n",
            "{'Recall@1': 0.059, 'Recall@3': 0.11355, 'Recall@5': 0.13838, 'Recall@10': 0.16582, 'Recall@100': 0.19034, 'Recall@1000': 0.19034}\n",
            "{'P@1': 0.48701, 'P@3': 0.39177, 'P@5': 0.33506, 'P@10': 0.2513, 'P@100': 0.03481, 'P@1000': 0.00348}\n",
            "NDCG@1 for epoch 25: 0.4724\n",
            "Epoch 26/30\n"
          ]
        },
        {
          "data": {
            "application/vnd.jupyter.widget-view+json": {
              "model_id": "b56ef65adb044bb191b6cea45396c88a",
              "version_major": 2,
              "version_minor": 0
            },
            "text/plain": [
              "Train:   0%|          | 0/3125 [00:00<?, ?it/s]"
            ]
          },
          "metadata": {},
          "output_type": "display_data"
        },
        {
          "name": "stdout",
          "output_type": "stream",
          "text": [
            "Epoch: 26 Training loss: 0.10\n"
          ]
        },
        {
          "data": {
            "application/vnd.jupyter.widget-view+json": {
              "model_id": "0becf9558b954e4eb671fc9bae0d719a",
              "version_major": 2,
              "version_minor": 0
            },
            "text/plain": [
              "Batches:   0%|          | 0/40 [00:00<?, ?it/s]"
            ]
          },
          "metadata": {},
          "output_type": "display_data"
        },
        {
          "name": "stdout",
          "output_type": "stream",
          "text": [
            "{'NDCG@1': 0.4724, 'NDCG@3': 0.42257, 'NDCG@5': 0.39389, 'NDCG@10': 0.35196, 'NDCG@100': 0.24936, 'NDCG@1000': 0.24255}\n",
            "{'MAP@1': 0.059, 'MAP@3': 0.10333, 'MAP@5': 0.11772, 'MAP@10': 0.13399, 'MAP@100': 0.14416, 'MAP@1000': 0.14416}\n",
            "{'Recall@1': 0.059, 'Recall@3': 0.11385, 'Recall@5': 0.13834, 'Recall@10': 0.16583, 'Recall@100': 0.19034, 'Recall@1000': 0.19034}\n",
            "{'P@1': 0.48701, 'P@3': 0.39394, 'P@5': 0.33506, 'P@10': 0.2513, 'P@100': 0.03481, 'P@1000': 0.00348}\n",
            "NDCG@1 for epoch 26: 0.4724\n",
            "Epoch 27/30\n"
          ]
        },
        {
          "data": {
            "application/vnd.jupyter.widget-view+json": {
              "model_id": "d4059695b4df43f89015e18ee203b284",
              "version_major": 2,
              "version_minor": 0
            },
            "text/plain": [
              "Train:   0%|          | 0/3125 [00:00<?, ?it/s]"
            ]
          },
          "metadata": {},
          "output_type": "display_data"
        },
        {
          "name": "stdout",
          "output_type": "stream",
          "text": [
            "Epoch: 27 Training loss: 0.10\n"
          ]
        },
        {
          "data": {
            "application/vnd.jupyter.widget-view+json": {
              "model_id": "5cfa51e22701420284d19a81508a6bfd",
              "version_major": 2,
              "version_minor": 0
            },
            "text/plain": [
              "Batches:   0%|          | 0/40 [00:00<?, ?it/s]"
            ]
          },
          "metadata": {},
          "output_type": "display_data"
        },
        {
          "name": "stdout",
          "output_type": "stream",
          "text": [
            "{'NDCG@1': 0.4724, 'NDCG@3': 0.42237, 'NDCG@5': 0.3945, 'NDCG@10': 0.35205, 'NDCG@100': 0.24941, 'NDCG@1000': 0.2426}\n",
            "{'MAP@1': 0.059, 'MAP@3': 0.10363, 'MAP@5': 0.11815, 'MAP@10': 0.1341, 'MAP@100': 0.14428, 'MAP@1000': 0.14428}\n",
            "{'Recall@1': 0.059, 'Recall@3': 0.11421, 'Recall@5': 0.13898, 'Recall@10': 0.16579, 'Recall@100': 0.19034, 'Recall@1000': 0.19034}\n",
            "{'P@1': 0.48701, 'P@3': 0.39394, 'P@5': 0.33636, 'P@10': 0.2513, 'P@100': 0.03481, 'P@1000': 0.00348}\n",
            "NDCG@1 for epoch 27: 0.4724\n",
            "Epoch 28/30\n"
          ]
        },
        {
          "data": {
            "application/vnd.jupyter.widget-view+json": {
              "model_id": "5b3430a2781b4898b5ed3df1faa30599",
              "version_major": 2,
              "version_minor": 0
            },
            "text/plain": [
              "Train:   0%|          | 0/3125 [00:00<?, ?it/s]"
            ]
          },
          "metadata": {},
          "output_type": "display_data"
        },
        {
          "name": "stdout",
          "output_type": "stream",
          "text": [
            "Epoch: 28 Training loss: 0.10\n"
          ]
        },
        {
          "data": {
            "application/vnd.jupyter.widget-view+json": {
              "model_id": "85fae152f99645fe910ad8b066296e6b",
              "version_major": 2,
              "version_minor": 0
            },
            "text/plain": [
              "Batches:   0%|          | 0/40 [00:00<?, ?it/s]"
            ]
          },
          "metadata": {},
          "output_type": "display_data"
        },
        {
          "name": "stdout",
          "output_type": "stream",
          "text": [
            "{'NDCG@1': 0.47727, 'NDCG@3': 0.42438, 'NDCG@5': 0.39533, 'NDCG@10': 0.35309, 'NDCG@100': 0.2497, 'NDCG@1000': 0.24288}\n",
            "{'MAP@1': 0.05926, 'MAP@3': 0.10382, 'MAP@5': 0.11817, 'MAP@10': 0.13427, 'MAP@100': 0.14428, 'MAP@1000': 0.14428}\n",
            "{'Recall@1': 0.05926, 'Recall@3': 0.11428, 'Recall@5': 0.13902, 'Recall@10': 0.16636, 'Recall@100': 0.19034, 'Recall@1000': 0.19034}\n",
            "{'P@1': 0.49351, 'P@3': 0.39502, 'P@5': 0.33636, 'P@10': 0.25195, 'P@100': 0.03481, 'P@1000': 0.00348}\n",
            "NDCG@1 for epoch 28: 0.4773\n",
            "New best model saved with NDCG@1: 0.4773\n",
            "Epoch 29/30\n"
          ]
        },
        {
          "data": {
            "application/vnd.jupyter.widget-view+json": {
              "model_id": "b4a31657177449fa966eae4d05d2637a",
              "version_major": 2,
              "version_minor": 0
            },
            "text/plain": [
              "Train:   0%|          | 0/3125 [00:00<?, ?it/s]"
            ]
          },
          "metadata": {},
          "output_type": "display_data"
        },
        {
          "name": "stdout",
          "output_type": "stream",
          "text": [
            "Epoch: 29 Training loss: 0.10\n"
          ]
        },
        {
          "data": {
            "application/vnd.jupyter.widget-view+json": {
              "model_id": "8e093b2b3dc34dd4b0cb1e4d220952f4",
              "version_major": 2,
              "version_minor": 0
            },
            "text/plain": [
              "Batches:   0%|          | 0/40 [00:00<?, ?it/s]"
            ]
          },
          "metadata": {},
          "output_type": "display_data"
        },
        {
          "name": "stdout",
          "output_type": "stream",
          "text": [
            "{'NDCG@1': 0.47727, 'NDCG@3': 0.42438, 'NDCG@5': 0.39538, 'NDCG@10': 0.35293, 'NDCG@100': 0.24972, 'NDCG@1000': 0.2429}\n",
            "{'MAP@1': 0.05926, 'MAP@3': 0.10382, 'MAP@5': 0.11818, 'MAP@10': 0.13426, 'MAP@100': 0.1443, 'MAP@1000': 0.1443}\n",
            "{'Recall@1': 0.05926, 'Recall@3': 0.11428, 'Recall@5': 0.13902, 'Recall@10': 0.16633, 'Recall@100': 0.19034, 'Recall@1000': 0.19034}\n",
            "{'P@1': 0.49351, 'P@3': 0.39502, 'P@5': 0.33636, 'P@10': 0.25162, 'P@100': 0.03481, 'P@1000': 0.00348}\n",
            "NDCG@1 for epoch 29: 0.4773\n",
            "Epoch 30/30\n"
          ]
        },
        {
          "data": {
            "application/vnd.jupyter.widget-view+json": {
              "model_id": "9d25739619c349018ce13d32e7e912aa",
              "version_major": 2,
              "version_minor": 0
            },
            "text/plain": [
              "Train:   0%|          | 0/3125 [00:00<?, ?it/s]"
            ]
          },
          "metadata": {},
          "output_type": "display_data"
        },
        {
          "name": "stdout",
          "output_type": "stream",
          "text": [
            "Epoch: 30 Training loss: 0.09\n"
          ]
        },
        {
          "data": {
            "application/vnd.jupyter.widget-view+json": {
              "model_id": "c3580806cfbd4a3288077ce21d073078",
              "version_major": 2,
              "version_minor": 0
            },
            "text/plain": [
              "Batches:   0%|          | 0/40 [00:00<?, ?it/s]"
            ]
          },
          "metadata": {},
          "output_type": "display_data"
        },
        {
          "name": "stdout",
          "output_type": "stream",
          "text": [
            "{'NDCG@1': 0.47727, 'NDCG@3': 0.42438, 'NDCG@5': 0.39538, 'NDCG@10': 0.35293, 'NDCG@100': 0.24972, 'NDCG@1000': 0.2429}\n",
            "{'MAP@1': 0.05926, 'MAP@3': 0.10382, 'MAP@5': 0.11818, 'MAP@10': 0.13426, 'MAP@100': 0.1443, 'MAP@1000': 0.1443}\n",
            "{'Recall@1': 0.05926, 'Recall@3': 0.11428, 'Recall@5': 0.13902, 'Recall@10': 0.16633, 'Recall@100': 0.19034, 'Recall@1000': 0.19034}\n",
            "{'P@1': 0.49351, 'P@3': 0.39502, 'P@5': 0.33636, 'P@10': 0.25162, 'P@100': 0.03481, 'P@1000': 0.00348}\n",
            "NDCG@1 for epoch 30: 0.4773\n",
            "Training complete. Best model saved at: finetune_nfcorpus/neg_samples_3_seed6/best_model_embedding_only_NDCG\n"
          ]
        }
      ],
      "source": [
        "\n",
        "import torch\n",
        "from torch import nn, optim\n",
        "from tqdm.auto import tqdm\n",
        "from transformers import AutoModelForSequenceClassification, get_linear_schedule_with_warmup\n",
        "from statistics import mean\n",
        "import os\n",
        "# Set the seed for reproducibility\n",
        "torch.backends.cudnn.deterministic = True\n",
        "torch.backends.cudnn.benchmark = False\n",
        "\n",
        "random.seed(SEED)\n",
        "np.random.seed(SEED)\n",
        "torch.manual_seed(SEED)\n",
        "torch.cuda.manual_seed_all(SEED)  # if using CUDA\n",
        "\n",
        "# Set up device\n",
        "device = torch.device('cuda' if torch.cuda.is_available() else 'cpu')\n",
        "model = AutoModelForSequenceClassification.from_pretrained(model_name).to(device)\n",
        "# Freeze all layers except the embeddings\n",
        "for name, param in model.named_parameters():\n",
        "    if 'embeddings' not in name:  # Freeze all layers except embeddings\n",
        "        param.requires_grad = False\n",
        "\n",
        "print('Parameters:', model.num_parameters())\n",
        "\n",
        "# Training configuration\n",
        "epochs =30\n",
        "learning_rate = 2e-5  # Adjust as necessary\n",
        "optimizer = optim.AdamW(model.parameters(), lr=learning_rate)\n",
        "num_training_steps = epochs * len(dataloader_train)\n",
        "num_warmup_steps = int(num_training_steps * 0.1)\n",
        "scheduler = get_linear_schedule_with_warmup(optimizer, num_warmup_steps, num_training_steps)\n",
        "\n",
        "# Track the best NDCG score\n",
        "best_ndcg = float(\"-inf\")\n",
        "fine_tuned_model_path = f\"finetune_{DATASET}/neg_samples_{NUM_NEG_SAMPLES}_seed{SEED}/temp_model_epoch_NDCG_embedding_only\"\n",
        "best_model_path = f\"finetune_{DATASET}/neg_samples_{NUM_NEG_SAMPLES}_seed{SEED}/best_model_embedding_only_NDCG\"\n",
        "os.makedirs(fine_tuned_model_path, exist_ok=True)\n",
        "os.makedirs(best_model_path, exist_ok=True)\n",
        "\n",
        "# Initial validation to verify evaluation code\n",
        "evaluate(model=model, dataloader=dataloader_valid, set_name='Valid')\n",
        "\n",
        "# Training loop\n",
        "for epoch in range(epochs):\n",
        "    model.train()\n",
        "    train_losses = []\n",
        "    print(f\"Epoch {epoch + 1}/{epochs}\")\n",
        "\n",
        "    for batch in tqdm(dataloader_train, desc=\"Train\"):\n",
        "        # Move batch to device\n",
        "        batch = {k: v.to(device) for k, v in batch.items()}\n",
        "\n",
        "        # Zero gradients\n",
        "        optimizer.zero_grad()\n",
        "\n",
        "        # Forward pass\n",
        "        outputs = model(**batch)\n",
        "\n",
        "        # Apply sigmoid to logits for binary relevance scores\n",
        "        predictions = torch.sigmoid(outputs.logits).squeeze()\n",
        "\n",
        "        # Calculate MSE loss with sigmoid-transformed predictions\n",
        "        loss = nn.functional.mse_loss(predictions, batch['labels'].float())\n",
        "        train_losses.append(loss.cpu().item())\n",
        "\n",
        "        # Backward pass\n",
        "        loss.backward()\n",
        "        optimizer.step()\n",
        "        scheduler.step()\n",
        "\n",
        "    # Print average training loss for the epoch\n",
        "    avg_train_loss = mean(train_losses)\n",
        "    print(f\"Epoch: {epoch + 1} Training loss: {avg_train_loss:.2f}\")\n",
        "\n",
        "    # Save the model at the end of each epoch\n",
        "    model.save_pretrained(fine_tuned_model_path)\n",
        "    tokenizer.save_pretrained(fine_tuned_model_path)\n",
        "\n",
        "    # Evaluate NDCG using the saved model path\n",
        "    ndcg = evaluate_beir(fine_tuned_model_path, NUM_NEG_SAMPLES=NUM_NEG_SAMPLES)\n",
        "    print(f\"NDCG@1 for epoch {epoch + 1}: {ndcg:.4f}\")\n",
        "\n",
        "    # Check if this NDCG score is the highest seen so far\n",
        "    if ndcg > best_ndcg:\n",
        "        best_ndcg = ndcg\n",
        "        # Save the model with the highest NDCG\n",
        "        model.save_pretrained(best_model_path)\n",
        "        tokenizer.save_pretrained(best_model_path)\n",
        "        print(f\"New best model saved with NDCG@1: {ndcg:.4f}\")\n",
        "\n",
        "print(\"Training complete. Best model saved at:\", best_model_path)\n"
      ]
    },
    {
      "cell_type": "markdown",
      "metadata": {
        "id": "aeDsRUeUyRSE"
      },
      "source": [
        "# IDF-ALIGNMENT + FINETUNING SCIFACT"
      ]
    },
    {
      "cell_type": "code",
      "execution_count": null,
      "metadata": {
        "colab": {
          "background_save": true,
          "referenced_widgets": [
            "e2ad6b7f09cb4ef38138f6b5e4a03d2e",
            "4da85ebaf2ec4a859c1da74023e18949",
            "75d0ec4a88014b54ad756f09556cedac",
            "5f6c08d94e1b46c89bc611f959f66413",
            "1155c85c9dda4773ab4a4b595395d78d",
            "df69db566e284def856a45e473427697",
            "4437f682e59643c88a4c6e9bad550ec1",
            "4f45795a10be4f1a9f2bb447f1542b58",
            "0fac248321704780a9ea3df10859338a",
            "472c652a47564d1d804474fb5c41320b",
            "0648a0371a8545cc99d06fb1c85d87ff",
            "d3408035a2e54f7494e8fff32354d7ad",
            "f3069fe3e6f644c6a38d786f99605fe0",
            "50502fbb31be4b619fb6022bb1107fe3",
            "c517a3ccdfde42f7a935c895759a5739",
            "d97579f3e4d840b0bc64d96f831e5a48",
            "eff3d5fa7fb2445dad722ca47f7fbc02",
            "b065c0019a81498bae7f7ee863a80738",
            "dc1f559cc016471782c271cdb0b7521b",
            "8b4e45704e1940ea83393dfe211b763b",
            "eeb659f928dc4273930aedf5a6feb6c5",
            "6b3c7000d22441eeb70903bece1c3c66",
            "6fea5271ab864be8b3067bbac9434126",
            "bbc06a0207df40698d7f820da6ec4ae1",
            "aeb19856ca32404e9b9b9470b02f75c6",
            "9523185b98df45fda7bef0bed88528e6",
            "cbcc6f35127945eab33e5e924eb15ac2",
            "b3641571bff4481187845abbd67415d0",
            "ac323cb25f7542b8882f78f5a783a8a0",
            "52e866f2845143c9a63182c3e6f539aa",
            "f10d5573a3574529a8b85790734dfb7a",
            "c2591d202bd543f3996b214303f7d5d6",
            "5c977c53291e4354948adfb880e69f02",
            "efa20640a128483aa16cd7ba459c3c9a",
            "aa43e012b5ed4c7f8e06c12f2031f691",
            "5d36fd6f6a124cceae583cb98bd2a6f2",
            "5285c552eff04c7a9aa26e6060aa5428",
            "e918c14b22c940a5a1d8589435eb9f14",
            "bebd799ef8274aa8a71bc1dd0ec9417d",
            "33e0d096b2324b608f187ee8abe4615d",
            "9ad67f622d614aff880bf546bb707be4",
            "afc0841da3db46ddb481526d99985827",
            "4048b0f75d2f4d89a8d69620d8682d6d",
            "b9c8d04bd7074b5b87da0791604b9977",
            "f5f0016bdfe740078988cbdc2da92df9",
            "5fbe0e7bd2724cf3a2c599e03323066f",
            "74dc551dbd774e15948898024db0d149",
            "1c8690d6c7964a2489047e9a5ff609b6",
            "a2239fc31b8a485586aa14b85a6e9b9c",
            "d08dae76332749118ac73f1551bedf0c",
            "4cab668b8a9049c68f107f8feff57bb2",
            "ede027afdfb54345b6dec4255c8265eb",
            "3cd4c7a9562248bbaea309f5d2ae7a32",
            "e27a5f00ef3e49dc9f704d73bc84d577",
            "06f0822a4bb54f72866b61a6fa17b7e0",
            "adf2d5da18824c10ab05f1751dee9ecc",
            "c93e22a3faa84503861c4da17c311844",
            "d3e8e452e6cf4e5b8a9c2b442ab7b1f0",
            "cc11fe4b93404452bdfb92520e74edfc",
            "91649fc7f9504d7cbeb5fa73326aa047",
            "e1a6537e99fc45308ac7bae6858fab94",
            "3f339ed1b336433a8f2d5da2b0ba6deb",
            "b2e78fef3727440dab25f10fe878f1d8",
            "01deda7a32c7490d98ff9517764de2a6",
            "6c3e07ff699243bd881f6ecfea4ea7f0",
            "1a69eb2acab2481096768fac7e10754f",
            "528986d096b347b2b44937e58184aaca",
            "b7f0a6eb44034d9a9f4702192b57a81b",
            "2ca7b91f0d944f619a735675faf300eb",
            "e18f37c573084a3bba5aed61fcf07419",
            "0b2251df24c742faaf56df3ab4a13135",
            "524550e31c9d4c29b3ff6955ee4b0399",
            "d0af01b9293149e5b069610a2214a06f",
            "d11dfccb37d848fd85e96a8045252fd8",
            "45666ecf0ad14a4195253d3e7bd656b4",
            "7021bf63213d401fa7415484427a4c07",
            "35ab5a8ce3d24fbfa01b5156cba07914",
            "1b75939368c9416f981608c1c2118877",
            "c61479e353f848eb9ae83362c6595903",
            "8d2ecc15bec84e6a90d5d3f50e0137d4",
            "c9b275db79e742898c8bbd7773cac086",
            "974dedca09644ea6bb5ea8f2d149f3e3",
            "aaa03f43681e4f9594f251379e1edf36",
            "bb49712cd24d4889be1d4ab3c1d6c6c5",
            "13d165bb3f514306a85241a48ee95aae",
            "0fd74324f1984d54890514816bd7aad1",
            "2fa9f948169745e6aa68ec15751a8823",
            "138618e534ec4c45bc710b316abdb29d",
            "e1e3df18ec054326be9dc7b8583661ee",
            "6effb39c06c240feb54d22db9123bc65",
            "30603ab9a23f4e04ba70c7ceafbfcc18"
          ]
        },
        "id": "kH_MY8wzyZop",
        "outputId": "93d9c269-2065-4c9b-8d5e-c429db5d15a8"
      },
      "outputs": [
        {
          "name": "stdout",
          "output_type": "stream",
          "text": [
            "Number of masked elements: 19436\n",
            "Total number of elements in idf_tensor: 30522\n",
            "Trainable Parameters: 11918592\n"
          ]
        },
        {
          "data": {
            "application/vnd.jupyter.widget-view+json": {
              "model_id": "e2ad6b7f09cb4ef38138f6b5e4a03d2e",
              "version_major": 2,
              "version_minor": 0
            },
            "text/plain": [
              "Valid:   0%|          | 0/313 [00:00<?, ?it/s]"
            ]
          },
          "metadata": {},
          "output_type": "display_data"
        },
        {
          "name": "stdout",
          "output_type": "stream",
          "text": [
            "Valid loss: 0.243; Valid accuracy: 0.731\n",
            "Epoch 1/30\n"
          ]
        },
        {
          "data": {
            "application/vnd.jupyter.widget-view+json": {
              "model_id": "4da85ebaf2ec4a859c1da74023e18949",
              "version_major": 2,
              "version_minor": 0
            },
            "text/plain": [
              "Train:   0%|          | 0/3125 [00:00<?, ?it/s]"
            ]
          },
          "metadata": {},
          "output_type": "display_data"
        },
        {
          "name": "stdout",
          "output_type": "stream",
          "text": [
            "Epoch: 1 Training loss: 0.24\n"
          ]
        },
        {
          "data": {
            "application/vnd.jupyter.widget-view+json": {
              "model_id": "75d0ec4a88014b54ad756f09556cedac",
              "version_major": 2,
              "version_minor": 0
            },
            "text/plain": [
              "Batches:   0%|          | 0/40 [00:00<?, ?it/s]"
            ]
          },
          "metadata": {},
          "output_type": "display_data"
        },
        {
          "name": "stdout",
          "output_type": "stream",
          "text": [
            "{'NDCG@1': 0.45617, 'NDCG@3': 0.42452, 'NDCG@5': 0.38781, 'NDCG@10': 0.3497, 'NDCG@100': 0.24807, 'NDCG@1000': 0.24113}\n",
            "{'MAP@1': 0.0599, 'MAP@3': 0.10452, 'MAP@5': 0.11624, 'MAP@10': 0.13308, 'MAP@100': 0.14338, 'MAP@1000': 0.14338}\n",
            "{'Recall@1': 0.0599, 'Recall@3': 0.11596, 'Recall@5': 0.13352, 'Recall@10': 0.16632, 'Recall@100': 0.19034, 'Recall@1000': 0.19034}\n",
            "{'P@1': 0.46753, 'P@3': 0.39827, 'P@5': 0.32727, 'P@10': 0.24838, 'P@100': 0.03481, 'P@1000': 0.00348}\n",
            "NDCG@1 for epoch 1: 0.4562\n"
          ]
        },
        {
          "data": {
            "application/vnd.jupyter.widget-view+json": {
              "model_id": "5f6c08d94e1b46c89bc611f959f66413",
              "version_major": 2,
              "version_minor": 0
            },
            "text/plain": [
              "Valid:   0%|          | 0/313 [00:00<?, ?it/s]"
            ]
          },
          "metadata": {},
          "output_type": "display_data"
        },
        {
          "name": "stdout",
          "output_type": "stream",
          "text": [
            "Valid loss: 0.242; Valid accuracy: 0.714\n",
            "New best model saved with NDCG@1: 0.4562\n",
            "Epoch 2/30\n"
          ]
        },
        {
          "data": {
            "application/vnd.jupyter.widget-view+json": {
              "model_id": "1155c85c9dda4773ab4a4b595395d78d",
              "version_major": 2,
              "version_minor": 0
            },
            "text/plain": [
              "Train:   0%|          | 0/3125 [00:00<?, ?it/s]"
            ]
          },
          "metadata": {},
          "output_type": "display_data"
        },
        {
          "name": "stdout",
          "output_type": "stream",
          "text": [
            "Epoch: 2 Training loss: 0.23\n"
          ]
        },
        {
          "data": {
            "application/vnd.jupyter.widget-view+json": {
              "model_id": "df69db566e284def856a45e473427697",
              "version_major": 2,
              "version_minor": 0
            },
            "text/plain": [
              "Batches:   0%|          | 0/40 [00:00<?, ?it/s]"
            ]
          },
          "metadata": {},
          "output_type": "display_data"
        },
        {
          "name": "stdout",
          "output_type": "stream",
          "text": [
            "{'NDCG@1': 0.46266, 'NDCG@3': 0.42662, 'NDCG@5': 0.38728, 'NDCG@10': 0.34924, 'NDCG@100': 0.24803, 'NDCG@1000': 0.24111}\n",
            "{'MAP@1': 0.05906, 'MAP@3': 0.10426, 'MAP@5': 0.11583, 'MAP@10': 0.13206, 'MAP@100': 0.14262, 'MAP@1000': 0.14262}\n",
            "{'Recall@1': 0.05906, 'Recall@3': 0.11671, 'Recall@5': 0.13355, 'Recall@10': 0.16603, 'Recall@100': 0.19034, 'Recall@1000': 0.19034}\n",
            "{'P@1': 0.47403, 'P@3': 0.40043, 'P@5': 0.32597, 'P@10': 0.24805, 'P@100': 0.03481, 'P@1000': 0.00348}\n",
            "NDCG@1 for epoch 2: 0.4627\n"
          ]
        },
        {
          "data": {
            "application/vnd.jupyter.widget-view+json": {
              "model_id": "4437f682e59643c88a4c6e9bad550ec1",
              "version_major": 2,
              "version_minor": 0
            },
            "text/plain": [
              "Valid:   0%|          | 0/313 [00:00<?, ?it/s]"
            ]
          },
          "metadata": {},
          "output_type": "display_data"
        },
        {
          "name": "stdout",
          "output_type": "stream",
          "text": [
            "Valid loss: 0.230; Valid accuracy: 0.691\n",
            "New best model saved with NDCG@1: 0.4627\n",
            "Epoch 3/30\n"
          ]
        },
        {
          "data": {
            "application/vnd.jupyter.widget-view+json": {
              "model_id": "4f45795a10be4f1a9f2bb447f1542b58",
              "version_major": 2,
              "version_minor": 0
            },
            "text/plain": [
              "Train:   0%|          | 0/3125 [00:00<?, ?it/s]"
            ]
          },
          "metadata": {},
          "output_type": "display_data"
        },
        {
          "name": "stdout",
          "output_type": "stream",
          "text": [
            "Epoch: 3 Training loss: 0.20\n"
          ]
        },
        {
          "data": {
            "application/vnd.jupyter.widget-view+json": {
              "model_id": "0fac248321704780a9ea3df10859338a",
              "version_major": 2,
              "version_minor": 0
            },
            "text/plain": [
              "Batches:   0%|          | 0/40 [00:00<?, ?it/s]"
            ]
          },
          "metadata": {},
          "output_type": "display_data"
        },
        {
          "name": "stdout",
          "output_type": "stream",
          "text": [
            "{'NDCG@1': 0.47565, 'NDCG@3': 0.42407, 'NDCG@5': 0.38917, 'NDCG@10': 0.35027, 'NDCG@100': 0.24849, 'NDCG@1000': 0.24154}\n",
            "{'MAP@1': 0.05969, 'MAP@3': 0.10322, 'MAP@5': 0.11639, 'MAP@10': 0.13242, 'MAP@100': 0.14292, 'MAP@1000': 0.14292}\n",
            "{'Recall@1': 0.05969, 'Recall@3': 0.11451, 'Recall@5': 0.13524, 'Recall@10': 0.16611, 'Recall@100': 0.19034, 'Recall@1000': 0.19034}\n",
            "{'P@1': 0.48701, 'P@3': 0.39394, 'P@5': 0.32727, 'P@10': 0.24805, 'P@100': 0.03481, 'P@1000': 0.00348}\n",
            "NDCG@1 for epoch 3: 0.4757\n"
          ]
        },
        {
          "data": {
            "application/vnd.jupyter.widget-view+json": {
              "model_id": "472c652a47564d1d804474fb5c41320b",
              "version_major": 2,
              "version_minor": 0
            },
            "text/plain": [
              "Valid:   0%|          | 0/313 [00:00<?, ?it/s]"
            ]
          },
          "metadata": {},
          "output_type": "display_data"
        },
        {
          "name": "stdout",
          "output_type": "stream",
          "text": [
            "Valid loss: 0.205; Valid accuracy: 0.712\n",
            "New best model saved with NDCG@1: 0.4757\n",
            "Epoch 4/30\n"
          ]
        },
        {
          "data": {
            "application/vnd.jupyter.widget-view+json": {
              "model_id": "0648a0371a8545cc99d06fb1c85d87ff",
              "version_major": 2,
              "version_minor": 0
            },
            "text/plain": [
              "Train:   0%|          | 0/3125 [00:00<?, ?it/s]"
            ]
          },
          "metadata": {},
          "output_type": "display_data"
        },
        {
          "name": "stdout",
          "output_type": "stream",
          "text": [
            "Epoch: 4 Training loss: 0.17\n"
          ]
        },
        {
          "data": {
            "application/vnd.jupyter.widget-view+json": {
              "model_id": "d3408035a2e54f7494e8fff32354d7ad",
              "version_major": 2,
              "version_minor": 0
            },
            "text/plain": [
              "Batches:   0%|          | 0/40 [00:00<?, ?it/s]"
            ]
          },
          "metadata": {},
          "output_type": "display_data"
        },
        {
          "name": "stdout",
          "output_type": "stream",
          "text": [
            "{'NDCG@1': 0.47727, 'NDCG@3': 0.42339, 'NDCG@5': 0.39046, 'NDCG@10': 0.35052, 'NDCG@100': 0.24855, 'NDCG@1000': 0.24163}\n",
            "{'MAP@1': 0.0597, 'MAP@3': 0.10318, 'MAP@5': 0.11678, 'MAP@10': 0.13218, 'MAP@100': 0.14266, 'MAP@1000': 0.14266}\n",
            "{'Recall@1': 0.0597, 'Recall@3': 0.11449, 'Recall@5': 0.13866, 'Recall@10': 0.16621, 'Recall@100': 0.19034, 'Recall@1000': 0.19034}\n",
            "{'P@1': 0.49026, 'P@3': 0.39286, 'P@5': 0.32857, 'P@10': 0.2487, 'P@100': 0.03481, 'P@1000': 0.00348}\n",
            "NDCG@1 for epoch 4: 0.4773\n"
          ]
        },
        {
          "data": {
            "application/vnd.jupyter.widget-view+json": {
              "model_id": "f3069fe3e6f644c6a38d786f99605fe0",
              "version_major": 2,
              "version_minor": 0
            },
            "text/plain": [
              "Valid:   0%|          | 0/313 [00:00<?, ?it/s]"
            ]
          },
          "metadata": {},
          "output_type": "display_data"
        },
        {
          "name": "stdout",
          "output_type": "stream",
          "text": [
            "Valid loss: 0.198; Valid accuracy: 0.717\n",
            "New best model saved with NDCG@1: 0.4773\n",
            "Epoch 5/30\n"
          ]
        },
        {
          "data": {
            "application/vnd.jupyter.widget-view+json": {
              "model_id": "50502fbb31be4b619fb6022bb1107fe3",
              "version_major": 2,
              "version_minor": 0
            },
            "text/plain": [
              "Train:   0%|          | 0/3125 [00:00<?, ?it/s]"
            ]
          },
          "metadata": {},
          "output_type": "display_data"
        },
        {
          "name": "stdout",
          "output_type": "stream",
          "text": [
            "Epoch: 5 Training loss: 0.16\n"
          ]
        },
        {
          "data": {
            "application/vnd.jupyter.widget-view+json": {
              "model_id": "c517a3ccdfde42f7a935c895759a5739",
              "version_major": 2,
              "version_minor": 0
            },
            "text/plain": [
              "Batches:   0%|          | 0/40 [00:00<?, ?it/s]"
            ]
          },
          "metadata": {},
          "output_type": "display_data"
        },
        {
          "name": "stdout",
          "output_type": "stream",
          "text": [
            "{'NDCG@1': 0.47078, 'NDCG@3': 0.4219, 'NDCG@5': 0.39101, 'NDCG@10': 0.35021, 'NDCG@100': 0.24816, 'NDCG@1000': 0.24123}\n",
            "{'MAP@1': 0.05806, 'MAP@3': 0.1028, 'MAP@5': 0.11649, 'MAP@10': 0.13175, 'MAP@100': 0.14229, 'MAP@1000': 0.14229}\n",
            "{'Recall@1': 0.05806, 'Recall@3': 0.11432, 'Recall@5': 0.1388, 'Recall@10': 0.1657, 'Recall@100': 0.19034, 'Recall@1000': 0.19034}\n",
            "{'P@1': 0.48377, 'P@3': 0.39069, 'P@5': 0.32987, 'P@10': 0.2487, 'P@100': 0.03481, 'P@1000': 0.00348}\n",
            "NDCG@1 for epoch 5: 0.4708\n"
          ]
        },
        {
          "data": {
            "application/vnd.jupyter.widget-view+json": {
              "model_id": "d97579f3e4d840b0bc64d96f831e5a48",
              "version_major": 2,
              "version_minor": 0
            },
            "text/plain": [
              "Valid:   0%|          | 0/313 [00:00<?, ?it/s]"
            ]
          },
          "metadata": {},
          "output_type": "display_data"
        },
        {
          "name": "stdout",
          "output_type": "stream",
          "text": [
            "Valid loss: 0.195; Valid accuracy: 0.718\n",
            "Epoch 6/30\n"
          ]
        },
        {
          "data": {
            "application/vnd.jupyter.widget-view+json": {
              "model_id": "eff3d5fa7fb2445dad722ca47f7fbc02",
              "version_major": 2,
              "version_minor": 0
            },
            "text/plain": [
              "Train:   0%|          | 0/3125 [00:00<?, ?it/s]"
            ]
          },
          "metadata": {},
          "output_type": "display_data"
        },
        {
          "name": "stdout",
          "output_type": "stream",
          "text": [
            "Epoch: 6 Training loss: 0.15\n"
          ]
        },
        {
          "data": {
            "application/vnd.jupyter.widget-view+json": {
              "model_id": "b065c0019a81498bae7f7ee863a80738",
              "version_major": 2,
              "version_minor": 0
            },
            "text/plain": [
              "Batches:   0%|          | 0/40 [00:00<?, ?it/s]"
            ]
          },
          "metadata": {},
          "output_type": "display_data"
        },
        {
          "name": "stdout",
          "output_type": "stream",
          "text": [
            "{'NDCG@1': 0.48377, 'NDCG@3': 0.42473, 'NDCG@5': 0.39081, 'NDCG@10': 0.35203, 'NDCG@100': 0.24958, 'NDCG@1000': 0.24264}\n",
            "{'MAP@1': 0.05974, 'MAP@3': 0.10376, 'MAP@5': 0.11678, 'MAP@10': 0.13285, 'MAP@100': 0.1433, 'MAP@1000': 0.1433}\n",
            "{'Recall@1': 0.05974, 'Recall@3': 0.11436, 'Recall@5': 0.13717, 'Recall@10': 0.16619, 'Recall@100': 0.19034, 'Recall@1000': 0.19034}\n",
            "{'P@1': 0.49675, 'P@3': 0.39177, 'P@5': 0.32662, 'P@10': 0.24903, 'P@100': 0.03481, 'P@1000': 0.00348}\n",
            "NDCG@1 for epoch 6: 0.4838\n"
          ]
        },
        {
          "data": {
            "application/vnd.jupyter.widget-view+json": {
              "model_id": "dc1f559cc016471782c271cdb0b7521b",
              "version_major": 2,
              "version_minor": 0
            },
            "text/plain": [
              "Valid:   0%|          | 0/313 [00:00<?, ?it/s]"
            ]
          },
          "metadata": {},
          "output_type": "display_data"
        },
        {
          "name": "stdout",
          "output_type": "stream",
          "text": [
            "Valid loss: 0.197; Valid accuracy: 0.714\n",
            "New best model saved with NDCG@1: 0.4838\n",
            "Epoch 7/30\n"
          ]
        },
        {
          "data": {
            "application/vnd.jupyter.widget-view+json": {
              "model_id": "8b4e45704e1940ea83393dfe211b763b",
              "version_major": 2,
              "version_minor": 0
            },
            "text/plain": [
              "Train:   0%|          | 0/3125 [00:00<?, ?it/s]"
            ]
          },
          "metadata": {},
          "output_type": "display_data"
        },
        {
          "name": "stdout",
          "output_type": "stream",
          "text": [
            "Epoch: 7 Training loss: 0.15\n"
          ]
        },
        {
          "data": {
            "application/vnd.jupyter.widget-view+json": {
              "model_id": "eeb659f928dc4273930aedf5a6feb6c5",
              "version_major": 2,
              "version_minor": 0
            },
            "text/plain": [
              "Batches:   0%|          | 0/40 [00:00<?, ?it/s]"
            ]
          },
          "metadata": {},
          "output_type": "display_data"
        },
        {
          "name": "stdout",
          "output_type": "stream",
          "text": [
            "{'NDCG@1': 0.48701, 'NDCG@3': 0.42387, 'NDCG@5': 0.39082, 'NDCG@10': 0.35252, 'NDCG@100': 0.24967, 'NDCG@1000': 0.24272}\n",
            "{'MAP@1': 0.05981, 'MAP@3': 0.10364, 'MAP@5': 0.11668, 'MAP@10': 0.13293, 'MAP@100': 0.14338, 'MAP@1000': 0.14338}\n",
            "{'Recall@1': 0.05981, 'Recall@3': 0.11423, 'Recall@5': 0.13699, 'Recall@10': 0.16552, 'Recall@100': 0.19034, 'Recall@1000': 0.19034}\n",
            "{'P@1': 0.5, 'P@3': 0.38961, 'P@5': 0.32597, 'P@10': 0.25, 'P@100': 0.03481, 'P@1000': 0.00348}\n",
            "NDCG@1 for epoch 7: 0.4870\n"
          ]
        },
        {
          "data": {
            "application/vnd.jupyter.widget-view+json": {
              "model_id": "6b3c7000d22441eeb70903bece1c3c66",
              "version_major": 2,
              "version_minor": 0
            },
            "text/plain": [
              "Valid:   0%|          | 0/313 [00:00<?, ?it/s]"
            ]
          },
          "metadata": {},
          "output_type": "display_data"
        },
        {
          "name": "stdout",
          "output_type": "stream",
          "text": [
            "Valid loss: 0.197; Valid accuracy: 0.712\n",
            "New best model saved with NDCG@1: 0.4870\n",
            "Epoch 8/30\n"
          ]
        },
        {
          "data": {
            "application/vnd.jupyter.widget-view+json": {
              "model_id": "6fea5271ab864be8b3067bbac9434126",
              "version_major": 2,
              "version_minor": 0
            },
            "text/plain": [
              "Train:   0%|          | 0/3125 [00:00<?, ?it/s]"
            ]
          },
          "metadata": {},
          "output_type": "display_data"
        },
        {
          "name": "stdout",
          "output_type": "stream",
          "text": [
            "Epoch: 8 Training loss: 0.14\n"
          ]
        },
        {
          "data": {
            "application/vnd.jupyter.widget-view+json": {
              "model_id": "bbc06a0207df40698d7f820da6ec4ae1",
              "version_major": 2,
              "version_minor": 0
            },
            "text/plain": [
              "Batches:   0%|          | 0/40 [00:00<?, ?it/s]"
            ]
          },
          "metadata": {},
          "output_type": "display_data"
        },
        {
          "name": "stdout",
          "output_type": "stream",
          "text": [
            "{'NDCG@1': 0.48701, 'NDCG@3': 0.42493, 'NDCG@5': 0.39213, 'NDCG@10': 0.35197, 'NDCG@100': 0.24971, 'NDCG@1000': 0.24276}\n",
            "{'MAP@1': 0.05973, 'MAP@3': 0.10352, 'MAP@5': 0.11721, 'MAP@10': 0.1329, 'MAP@100': 0.14357, 'MAP@1000': 0.14357}\n",
            "{'Recall@1': 0.05973, 'Recall@3': 0.11369, 'Recall@5': 0.13773, 'Recall@10': 0.16505, 'Recall@100': 0.19034, 'Recall@1000': 0.19034}\n",
            "{'P@1': 0.5, 'P@3': 0.39069, 'P@5': 0.32727, 'P@10': 0.24838, 'P@100': 0.03481, 'P@1000': 0.00348}\n",
            "NDCG@1 for epoch 8: 0.4870\n"
          ]
        },
        {
          "data": {
            "application/vnd.jupyter.widget-view+json": {
              "model_id": "aeb19856ca32404e9b9b9470b02f75c6",
              "version_major": 2,
              "version_minor": 0
            },
            "text/plain": [
              "Valid:   0%|          | 0/313 [00:00<?, ?it/s]"
            ]
          },
          "metadata": {},
          "output_type": "display_data"
        },
        {
          "name": "stdout",
          "output_type": "stream",
          "text": [
            "Valid loss: 0.199; Valid accuracy: 0.710\n",
            "Epoch 9/30\n"
          ]
        },
        {
          "data": {
            "application/vnd.jupyter.widget-view+json": {
              "model_id": "9523185b98df45fda7bef0bed88528e6",
              "version_major": 2,
              "version_minor": 0
            },
            "text/plain": [
              "Train:   0%|          | 0/3125 [00:00<?, ?it/s]"
            ]
          },
          "metadata": {},
          "output_type": "display_data"
        },
        {
          "name": "stdout",
          "output_type": "stream",
          "text": [
            "Epoch: 9 Training loss: 0.13\n"
          ]
        },
        {
          "data": {
            "application/vnd.jupyter.widget-view+json": {
              "model_id": "cbcc6f35127945eab33e5e924eb15ac2",
              "version_major": 2,
              "version_minor": 0
            },
            "text/plain": [
              "Batches:   0%|          | 0/40 [00:00<?, ?it/s]"
            ]
          },
          "metadata": {},
          "output_type": "display_data"
        },
        {
          "name": "stdout",
          "output_type": "stream",
          "text": [
            "{'NDCG@1': 0.48377, 'NDCG@3': 0.42605, 'NDCG@5': 0.39207, 'NDCG@10': 0.35156, 'NDCG@100': 0.2497, 'NDCG@1000': 0.24272}\n",
            "{'MAP@1': 0.05967, 'MAP@3': 0.10396, 'MAP@5': 0.11735, 'MAP@10': 0.13297, 'MAP@100': 0.14365, 'MAP@1000': 0.14365}\n",
            "{'Recall@1': 0.05967, 'Recall@3': 0.11443, 'Recall@5': 0.1378, 'Recall@10': 0.16506, 'Recall@100': 0.19034, 'Recall@1000': 0.19034}\n",
            "{'P@1': 0.49675, 'P@3': 0.39394, 'P@5': 0.32792, 'P@10': 0.24805, 'P@100': 0.03481, 'P@1000': 0.00348}\n",
            "NDCG@1 for epoch 9: 0.4838\n"
          ]
        },
        {
          "data": {
            "application/vnd.jupyter.widget-view+json": {
              "model_id": "b3641571bff4481187845abbd67415d0",
              "version_major": 2,
              "version_minor": 0
            },
            "text/plain": [
              "Valid:   0%|          | 0/313 [00:00<?, ?it/s]"
            ]
          },
          "metadata": {},
          "output_type": "display_data"
        },
        {
          "name": "stdout",
          "output_type": "stream",
          "text": [
            "Valid loss: 0.196; Valid accuracy: 0.717\n",
            "Epoch 10/30\n"
          ]
        },
        {
          "data": {
            "application/vnd.jupyter.widget-view+json": {
              "model_id": "ac323cb25f7542b8882f78f5a783a8a0",
              "version_major": 2,
              "version_minor": 0
            },
            "text/plain": [
              "Train:   0%|          | 0/3125 [00:00<?, ?it/s]"
            ]
          },
          "metadata": {},
          "output_type": "display_data"
        },
        {
          "name": "stdout",
          "output_type": "stream",
          "text": [
            "Epoch: 10 Training loss: 0.13\n"
          ]
        },
        {
          "data": {
            "application/vnd.jupyter.widget-view+json": {
              "model_id": "52e866f2845143c9a63182c3e6f539aa",
              "version_major": 2,
              "version_minor": 0
            },
            "text/plain": [
              "Batches:   0%|          | 0/40 [00:00<?, ?it/s]"
            ]
          },
          "metadata": {},
          "output_type": "display_data"
        },
        {
          "name": "stdout",
          "output_type": "stream",
          "text": [
            "{'NDCG@1': 0.48377, 'NDCG@3': 0.42488, 'NDCG@5': 0.39495, 'NDCG@10': 0.35307, 'NDCG@100': 0.25024, 'NDCG@1000': 0.24325}\n",
            "{'MAP@1': 0.06043, 'MAP@3': 0.10422, 'MAP@5': 0.11796, 'MAP@10': 0.13359, 'MAP@100': 0.14415, 'MAP@1000': 0.14415}\n",
            "{'Recall@1': 0.06043, 'Recall@3': 0.11423, 'Recall@5': 0.13813, 'Recall@10': 0.16565, 'Recall@100': 0.19034, 'Recall@1000': 0.19034}\n",
            "{'P@1': 0.49675, 'P@3': 0.39177, 'P@5': 0.33247, 'P@10': 0.24903, 'P@100': 0.03481, 'P@1000': 0.00348}\n",
            "NDCG@1 for epoch 10: 0.4838\n"
          ]
        },
        {
          "data": {
            "application/vnd.jupyter.widget-view+json": {
              "model_id": "f10d5573a3574529a8b85790734dfb7a",
              "version_major": 2,
              "version_minor": 0
            },
            "text/plain": [
              "Valid:   0%|          | 0/313 [00:00<?, ?it/s]"
            ]
          },
          "metadata": {},
          "output_type": "display_data"
        },
        {
          "name": "stdout",
          "output_type": "stream",
          "text": [
            "Valid loss: 0.197; Valid accuracy: 0.720\n",
            "Epoch 11/30\n"
          ]
        },
        {
          "data": {
            "application/vnd.jupyter.widget-view+json": {
              "model_id": "c2591d202bd543f3996b214303f7d5d6",
              "version_major": 2,
              "version_minor": 0
            },
            "text/plain": [
              "Train:   0%|          | 0/3125 [00:00<?, ?it/s]"
            ]
          },
          "metadata": {},
          "output_type": "display_data"
        },
        {
          "name": "stdout",
          "output_type": "stream",
          "text": [
            "Epoch: 11 Training loss: 0.13\n"
          ]
        },
        {
          "data": {
            "application/vnd.jupyter.widget-view+json": {
              "model_id": "5c977c53291e4354948adfb880e69f02",
              "version_major": 2,
              "version_minor": 0
            },
            "text/plain": [
              "Batches:   0%|          | 0/40 [00:00<?, ?it/s]"
            ]
          },
          "metadata": {},
          "output_type": "display_data"
        },
        {
          "name": "stdout",
          "output_type": "stream",
          "text": [
            "{'NDCG@1': 0.48377, 'NDCG@3': 0.42612, 'NDCG@5': 0.39484, 'NDCG@10': 0.35339, 'NDCG@100': 0.25048, 'NDCG@1000': 0.24349}\n",
            "{'MAP@1': 0.06043, 'MAP@3': 0.1044, 'MAP@5': 0.11808, 'MAP@10': 0.13383, 'MAP@100': 0.14436, 'MAP@1000': 0.14436}\n",
            "{'Recall@1': 0.06043, 'Recall@3': 0.11472, 'Recall@5': 0.1382, 'Recall@10': 0.16571, 'Recall@100': 0.19034, 'Recall@1000': 0.19034}\n",
            "{'P@1': 0.49675, 'P@3': 0.39286, 'P@5': 0.33182, 'P@10': 0.24935, 'P@100': 0.03481, 'P@1000': 0.00348}\n",
            "NDCG@1 for epoch 11: 0.4838\n"
          ]
        },
        {
          "data": {
            "application/vnd.jupyter.widget-view+json": {
              "model_id": "efa20640a128483aa16cd7ba459c3c9a",
              "version_major": 2,
              "version_minor": 0
            },
            "text/plain": [
              "Valid:   0%|          | 0/313 [00:00<?, ?it/s]"
            ]
          },
          "metadata": {},
          "output_type": "display_data"
        },
        {
          "name": "stdout",
          "output_type": "stream",
          "text": [
            "Valid loss: 0.197; Valid accuracy: 0.718\n",
            "Epoch 12/30\n"
          ]
        },
        {
          "data": {
            "application/vnd.jupyter.widget-view+json": {
              "model_id": "aa43e012b5ed4c7f8e06c12f2031f691",
              "version_major": 2,
              "version_minor": 0
            },
            "text/plain": [
              "Train:   0%|          | 0/3125 [00:00<?, ?it/s]"
            ]
          },
          "metadata": {},
          "output_type": "display_data"
        },
        {
          "name": "stdout",
          "output_type": "stream",
          "text": [
            "Epoch: 12 Training loss: 0.12\n"
          ]
        },
        {
          "data": {
            "application/vnd.jupyter.widget-view+json": {
              "model_id": "5d36fd6f6a124cceae583cb98bd2a6f2",
              "version_major": 2,
              "version_minor": 0
            },
            "text/plain": [
              "Batches:   0%|          | 0/40 [00:00<?, ?it/s]"
            ]
          },
          "metadata": {},
          "output_type": "display_data"
        },
        {
          "name": "stdout",
          "output_type": "stream",
          "text": [
            "{'NDCG@1': 0.48701, 'NDCG@3': 0.42952, 'NDCG@5': 0.3979, 'NDCG@10': 0.35394, 'NDCG@100': 0.25103, 'NDCG@1000': 0.24404}\n",
            "{'MAP@1': 0.06075, 'MAP@3': 0.10481, 'MAP@5': 0.11859, 'MAP@10': 0.13401, 'MAP@100': 0.1446, 'MAP@1000': 0.1446}\n",
            "{'Recall@1': 0.06075, 'Recall@3': 0.11516, 'Recall@5': 0.13901, 'Recall@10': 0.16563, 'Recall@100': 0.19034, 'Recall@1000': 0.19034}\n",
            "{'P@1': 0.5, 'P@3': 0.39719, 'P@5': 0.33506, 'P@10': 0.24903, 'P@100': 0.03481, 'P@1000': 0.00348}\n",
            "NDCG@1 for epoch 12: 0.4870\n"
          ]
        },
        {
          "data": {
            "application/vnd.jupyter.widget-view+json": {
              "model_id": "5285c552eff04c7a9aa26e6060aa5428",
              "version_major": 2,
              "version_minor": 0
            },
            "text/plain": [
              "Valid:   0%|          | 0/313 [00:00<?, ?it/s]"
            ]
          },
          "metadata": {},
          "output_type": "display_data"
        },
        {
          "name": "stdout",
          "output_type": "stream",
          "text": [
            "Valid loss: 0.196; Valid accuracy: 0.716\n",
            "Epoch 13/30\n"
          ]
        },
        {
          "data": {
            "application/vnd.jupyter.widget-view+json": {
              "model_id": "e918c14b22c940a5a1d8589435eb9f14",
              "version_major": 2,
              "version_minor": 0
            },
            "text/plain": [
              "Train:   0%|          | 0/3125 [00:00<?, ?it/s]"
            ]
          },
          "metadata": {},
          "output_type": "display_data"
        },
        {
          "name": "stdout",
          "output_type": "stream",
          "text": [
            "Epoch: 13 Training loss: 0.12\n"
          ]
        },
        {
          "data": {
            "application/vnd.jupyter.widget-view+json": {
              "model_id": "bebd799ef8274aa8a71bc1dd0ec9417d",
              "version_major": 2,
              "version_minor": 0
            },
            "text/plain": [
              "Batches:   0%|          | 0/40 [00:00<?, ?it/s]"
            ]
          },
          "metadata": {},
          "output_type": "display_data"
        },
        {
          "name": "stdout",
          "output_type": "stream",
          "text": [
            "{'NDCG@1': 0.48052, 'NDCG@3': 0.42682, 'NDCG@5': 0.39682, 'NDCG@10': 0.35309, 'NDCG@100': 0.2504, 'NDCG@1000': 0.24338}\n",
            "{'MAP@1': 0.06037, 'MAP@3': 0.10446, 'MAP@5': 0.11821, 'MAP@10': 0.13348, 'MAP@100': 0.14424, 'MAP@1000': 0.14424}\n",
            "{'Recall@1': 0.06037, 'Recall@3': 0.11479, 'Recall@5': 0.13901, 'Recall@10': 0.16481, 'Recall@100': 0.19034, 'Recall@1000': 0.19034}\n",
            "{'P@1': 0.49351, 'P@3': 0.39502, 'P@5': 0.33506, 'P@10': 0.24903, 'P@100': 0.03481, 'P@1000': 0.00348}\n",
            "NDCG@1 for epoch 13: 0.4805\n"
          ]
        },
        {
          "data": {
            "application/vnd.jupyter.widget-view+json": {
              "model_id": "33e0d096b2324b608f187ee8abe4615d",
              "version_major": 2,
              "version_minor": 0
            },
            "text/plain": [
              "Valid:   0%|          | 0/313 [00:00<?, ?it/s]"
            ]
          },
          "metadata": {},
          "output_type": "display_data"
        },
        {
          "name": "stdout",
          "output_type": "stream",
          "text": [
            "Valid loss: 0.198; Valid accuracy: 0.716\n",
            "Epoch 14/30\n"
          ]
        },
        {
          "data": {
            "application/vnd.jupyter.widget-view+json": {
              "model_id": "9ad67f622d614aff880bf546bb707be4",
              "version_major": 2,
              "version_minor": 0
            },
            "text/plain": [
              "Train:   0%|          | 0/3125 [00:00<?, ?it/s]"
            ]
          },
          "metadata": {},
          "output_type": "display_data"
        },
        {
          "name": "stdout",
          "output_type": "stream",
          "text": [
            "Epoch: 14 Training loss: 0.12\n"
          ]
        },
        {
          "data": {
            "application/vnd.jupyter.widget-view+json": {
              "model_id": "afc0841da3db46ddb481526d99985827",
              "version_major": 2,
              "version_minor": 0
            },
            "text/plain": [
              "Batches:   0%|          | 0/40 [00:00<?, ?it/s]"
            ]
          },
          "metadata": {},
          "output_type": "display_data"
        },
        {
          "name": "stdout",
          "output_type": "stream",
          "text": [
            "{'NDCG@1': 0.48377, 'NDCG@3': 0.42686, 'NDCG@5': 0.3953, 'NDCG@10': 0.35364, 'NDCG@100': 0.25037, 'NDCG@1000': 0.24336}\n",
            "{'MAP@1': 0.06044, 'MAP@3': 0.10411, 'MAP@5': 0.11796, 'MAP@10': 0.13339, 'MAP@100': 0.14416, 'MAP@1000': 0.14416}\n",
            "{'Recall@1': 0.06044, 'Recall@3': 0.11435, 'Recall@5': 0.13879, 'Recall@10': 0.16486, 'Recall@100': 0.19034, 'Recall@1000': 0.19034}\n",
            "{'P@1': 0.49675, 'P@3': 0.39394, 'P@5': 0.33182, 'P@10': 0.24968, 'P@100': 0.03481, 'P@1000': 0.00348}\n",
            "NDCG@1 for epoch 14: 0.4838\n"
          ]
        },
        {
          "data": {
            "application/vnd.jupyter.widget-view+json": {
              "model_id": "4048b0f75d2f4d89a8d69620d8682d6d",
              "version_major": 2,
              "version_minor": 0
            },
            "text/plain": [
              "Valid:   0%|          | 0/313 [00:00<?, ?it/s]"
            ]
          },
          "metadata": {},
          "output_type": "display_data"
        },
        {
          "name": "stdout",
          "output_type": "stream",
          "text": [
            "Valid loss: 0.198; Valid accuracy: 0.715\n",
            "Epoch 15/30\n"
          ]
        },
        {
          "data": {
            "application/vnd.jupyter.widget-view+json": {
              "model_id": "b9c8d04bd7074b5b87da0791604b9977",
              "version_major": 2,
              "version_minor": 0
            },
            "text/plain": [
              "Train:   0%|          | 0/3125 [00:00<?, ?it/s]"
            ]
          },
          "metadata": {},
          "output_type": "display_data"
        },
        {
          "name": "stdout",
          "output_type": "stream",
          "text": [
            "Epoch: 15 Training loss: 0.11\n"
          ]
        },
        {
          "data": {
            "application/vnd.jupyter.widget-view+json": {
              "model_id": "f5f0016bdfe740078988cbdc2da92df9",
              "version_major": 2,
              "version_minor": 0
            },
            "text/plain": [
              "Batches:   0%|          | 0/40 [00:00<?, ?it/s]"
            ]
          },
          "metadata": {},
          "output_type": "display_data"
        },
        {
          "name": "stdout",
          "output_type": "stream",
          "text": [
            "{'NDCG@1': 0.48377, 'NDCG@3': 0.42692, 'NDCG@5': 0.39517, 'NDCG@10': 0.35398, 'NDCG@100': 0.25057, 'NDCG@1000': 0.24357}\n",
            "{'MAP@1': 0.06044, 'MAP@3': 0.1043, 'MAP@5': 0.11795, 'MAP@10': 0.13374, 'MAP@100': 0.1444, 'MAP@1000': 0.1444}\n",
            "{'Recall@1': 0.06044, 'Recall@3': 0.11435, 'Recall@5': 0.1368, 'Recall@10': 0.16499, 'Recall@100': 0.19034, 'Recall@1000': 0.19034}\n",
            "{'P@1': 0.49675, 'P@3': 0.39394, 'P@5': 0.33182, 'P@10': 0.25, 'P@100': 0.03481, 'P@1000': 0.00348}\n",
            "NDCG@1 for epoch 15: 0.4838\n"
          ]
        },
        {
          "data": {
            "application/vnd.jupyter.widget-view+json": {
              "model_id": "5fbe0e7bd2724cf3a2c599e03323066f",
              "version_major": 2,
              "version_minor": 0
            },
            "text/plain": [
              "Valid:   0%|          | 0/313 [00:00<?, ?it/s]"
            ]
          },
          "metadata": {},
          "output_type": "display_data"
        },
        {
          "name": "stdout",
          "output_type": "stream",
          "text": [
            "Valid loss: 0.198; Valid accuracy: 0.711\n",
            "Epoch 16/30\n"
          ]
        },
        {
          "data": {
            "application/vnd.jupyter.widget-view+json": {
              "model_id": "74dc551dbd774e15948898024db0d149",
              "version_major": 2,
              "version_minor": 0
            },
            "text/plain": [
              "Train:   0%|          | 0/3125 [00:00<?, ?it/s]"
            ]
          },
          "metadata": {},
          "output_type": "display_data"
        },
        {
          "name": "stdout",
          "output_type": "stream",
          "text": [
            "Epoch: 16 Training loss: 0.11\n"
          ]
        },
        {
          "data": {
            "application/vnd.jupyter.widget-view+json": {
              "model_id": "1c8690d6c7964a2489047e9a5ff609b6",
              "version_major": 2,
              "version_minor": 0
            },
            "text/plain": [
              "Batches:   0%|          | 0/40 [00:00<?, ?it/s]"
            ]
          },
          "metadata": {},
          "output_type": "display_data"
        },
        {
          "name": "stdout",
          "output_type": "stream",
          "text": [
            "{'NDCG@1': 0.48052, 'NDCG@3': 0.42645, 'NDCG@5': 0.39688, 'NDCG@10': 0.35484, 'NDCG@100': 0.25042, 'NDCG@1000': 0.24341}\n",
            "{'MAP@1': 0.06041, 'MAP@3': 0.10399, 'MAP@5': 0.11805, 'MAP@10': 0.13394, 'MAP@100': 0.14426, 'MAP@1000': 0.14426}\n",
            "{'Recall@1': 0.06041, 'Recall@3': 0.11416, 'Recall@5': 0.13771, 'Recall@10': 0.16562, 'Recall@100': 0.19034, 'Recall@1000': 0.19034}\n",
            "{'P@1': 0.49351, 'P@3': 0.39394, 'P@5': 0.33506, 'P@10': 0.25162, 'P@100': 0.03481, 'P@1000': 0.00348}\n",
            "NDCG@1 for epoch 16: 0.4805\n"
          ]
        },
        {
          "data": {
            "application/vnd.jupyter.widget-view+json": {
              "model_id": "a2239fc31b8a485586aa14b85a6e9b9c",
              "version_major": 2,
              "version_minor": 0
            },
            "text/plain": [
              "Valid:   0%|          | 0/313 [00:00<?, ?it/s]"
            ]
          },
          "metadata": {},
          "output_type": "display_data"
        },
        {
          "name": "stdout",
          "output_type": "stream",
          "text": [
            "Valid loss: 0.199; Valid accuracy: 0.714\n",
            "Epoch 17/30\n"
          ]
        },
        {
          "data": {
            "application/vnd.jupyter.widget-view+json": {
              "model_id": "d08dae76332749118ac73f1551bedf0c",
              "version_major": 2,
              "version_minor": 0
            },
            "text/plain": [
              "Train:   0%|          | 0/3125 [00:00<?, ?it/s]"
            ]
          },
          "metadata": {},
          "output_type": "display_data"
        },
        {
          "name": "stdout",
          "output_type": "stream",
          "text": [
            "Epoch: 17 Training loss: 0.11\n"
          ]
        },
        {
          "data": {
            "application/vnd.jupyter.widget-view+json": {
              "model_id": "4cab668b8a9049c68f107f8feff57bb2",
              "version_major": 2,
              "version_minor": 0
            },
            "text/plain": [
              "Batches:   0%|          | 0/40 [00:00<?, ?it/s]"
            ]
          },
          "metadata": {},
          "output_type": "display_data"
        },
        {
          "name": "stdout",
          "output_type": "stream",
          "text": [
            "{'NDCG@1': 0.48377, 'NDCG@3': 0.42633, 'NDCG@5': 0.3962, 'NDCG@10': 0.3549, 'NDCG@100': 0.25043, 'NDCG@1000': 0.24342}\n",
            "{'MAP@1': 0.06057, 'MAP@3': 0.10399, 'MAP@5': 0.11795, 'MAP@10': 0.13383, 'MAP@100': 0.14421, 'MAP@1000': 0.14421}\n",
            "{'Recall@1': 0.06057, 'Recall@3': 0.11419, 'Recall@5': 0.1376, 'Recall@10': 0.16567, 'Recall@100': 0.19034, 'Recall@1000': 0.19034}\n",
            "{'P@1': 0.5, 'P@3': 0.39394, 'P@5': 0.33377, 'P@10': 0.25162, 'P@100': 0.03481, 'P@1000': 0.00348}\n",
            "NDCG@1 for epoch 17: 0.4838\n"
          ]
        },
        {
          "data": {
            "application/vnd.jupyter.widget-view+json": {
              "model_id": "ede027afdfb54345b6dec4255c8265eb",
              "version_major": 2,
              "version_minor": 0
            },
            "text/plain": [
              "Valid:   0%|          | 0/313 [00:00<?, ?it/s]"
            ]
          },
          "metadata": {},
          "output_type": "display_data"
        },
        {
          "name": "stdout",
          "output_type": "stream",
          "text": [
            "Valid loss: 0.199; Valid accuracy: 0.717\n",
            "Epoch 18/30\n"
          ]
        },
        {
          "data": {
            "application/vnd.jupyter.widget-view+json": {
              "model_id": "3cd4c7a9562248bbaea309f5d2ae7a32",
              "version_major": 2,
              "version_minor": 0
            },
            "text/plain": [
              "Train:   0%|          | 0/3125 [00:00<?, ?it/s]"
            ]
          },
          "metadata": {},
          "output_type": "display_data"
        },
        {
          "name": "stdout",
          "output_type": "stream",
          "text": [
            "Epoch: 18 Training loss: 0.11\n"
          ]
        },
        {
          "data": {
            "application/vnd.jupyter.widget-view+json": {
              "model_id": "e27a5f00ef3e49dc9f704d73bc84d577",
              "version_major": 2,
              "version_minor": 0
            },
            "text/plain": [
              "Batches:   0%|          | 0/40 [00:00<?, ?it/s]"
            ]
          },
          "metadata": {},
          "output_type": "display_data"
        },
        {
          "name": "stdout",
          "output_type": "stream",
          "text": [
            "{'NDCG@1': 0.48052, 'NDCG@3': 0.42597, 'NDCG@5': 0.39605, 'NDCG@10': 0.3545, 'NDCG@100': 0.25042, 'NDCG@1000': 0.24344}\n",
            "{'MAP@1': 0.06055, 'MAP@3': 0.10402, 'MAP@5': 0.11792, 'MAP@10': 0.1339, 'MAP@100': 0.1443, 'MAP@1000': 0.1443}\n",
            "{'Recall@1': 0.06055, 'Recall@3': 0.11419, 'Recall@5': 0.13742, 'Recall@10': 0.16557, 'Recall@100': 0.19034, 'Recall@1000': 0.19034}\n",
            "{'P@1': 0.49675, 'P@3': 0.39394, 'P@5': 0.33377, 'P@10': 0.2513, 'P@100': 0.03481, 'P@1000': 0.00348}\n",
            "NDCG@1 for epoch 18: 0.4805\n"
          ]
        },
        {
          "data": {
            "application/vnd.jupyter.widget-view+json": {
              "model_id": "06f0822a4bb54f72866b61a6fa17b7e0",
              "version_major": 2,
              "version_minor": 0
            },
            "text/plain": [
              "Valid:   0%|          | 0/313 [00:00<?, ?it/s]"
            ]
          },
          "metadata": {},
          "output_type": "display_data"
        },
        {
          "name": "stdout",
          "output_type": "stream",
          "text": [
            "Valid loss: 0.198; Valid accuracy: 0.722\n",
            "Epoch 19/30\n"
          ]
        },
        {
          "data": {
            "application/vnd.jupyter.widget-view+json": {
              "model_id": "adf2d5da18824c10ab05f1751dee9ecc",
              "version_major": 2,
              "version_minor": 0
            },
            "text/plain": [
              "Train:   0%|          | 0/3125 [00:00<?, ?it/s]"
            ]
          },
          "metadata": {},
          "output_type": "display_data"
        },
        {
          "name": "stdout",
          "output_type": "stream",
          "text": [
            "Epoch: 19 Training loss: 0.10\n"
          ]
        },
        {
          "data": {
            "application/vnd.jupyter.widget-view+json": {
              "model_id": "c93e22a3faa84503861c4da17c311844",
              "version_major": 2,
              "version_minor": 0
            },
            "text/plain": [
              "Batches:   0%|          | 0/40 [00:00<?, ?it/s]"
            ]
          },
          "metadata": {},
          "output_type": "display_data"
        },
        {
          "name": "stdout",
          "output_type": "stream",
          "text": [
            "{'NDCG@1': 0.48052, 'NDCG@3': 0.42581, 'NDCG@5': 0.39703, 'NDCG@10': 0.35474, 'NDCG@100': 0.25046, 'NDCG@1000': 0.24347}\n",
            "{'MAP@1': 0.06032, 'MAP@3': 0.10359, 'MAP@5': 0.11831, 'MAP@10': 0.13394, 'MAP@100': 0.1443, 'MAP@1000': 0.1443}\n",
            "{'Recall@1': 0.06032, 'Recall@3': 0.11371, 'Recall@5': 0.13925, 'Recall@10': 0.16645, 'Recall@100': 0.19034, 'Recall@1000': 0.19034}\n",
            "{'P@1': 0.49675, 'P@3': 0.39286, 'P@5': 0.33377, 'P@10': 0.25065, 'P@100': 0.03481, 'P@1000': 0.00348}\n",
            "NDCG@1 for epoch 19: 0.4805\n"
          ]
        },
        {
          "data": {
            "application/vnd.jupyter.widget-view+json": {
              "model_id": "d3e8e452e6cf4e5b8a9c2b442ab7b1f0",
              "version_major": 2,
              "version_minor": 0
            },
            "text/plain": [
              "Valid:   0%|          | 0/313 [00:00<?, ?it/s]"
            ]
          },
          "metadata": {},
          "output_type": "display_data"
        },
        {
          "name": "stdout",
          "output_type": "stream",
          "text": [
            "Valid loss: 0.199; Valid accuracy: 0.718\n",
            "Epoch 20/30\n"
          ]
        },
        {
          "data": {
            "application/vnd.jupyter.widget-view+json": {
              "model_id": "cc11fe4b93404452bdfb92520e74edfc",
              "version_major": 2,
              "version_minor": 0
            },
            "text/plain": [
              "Train:   0%|          | 0/3125 [00:00<?, ?it/s]"
            ]
          },
          "metadata": {},
          "output_type": "display_data"
        },
        {
          "name": "stdout",
          "output_type": "stream",
          "text": [
            "Epoch: 20 Training loss: 0.10\n"
          ]
        },
        {
          "data": {
            "application/vnd.jupyter.widget-view+json": {
              "model_id": "91649fc7f9504d7cbeb5fa73326aa047",
              "version_major": 2,
              "version_minor": 0
            },
            "text/plain": [
              "Batches:   0%|          | 0/40 [00:00<?, ?it/s]"
            ]
          },
          "metadata": {},
          "output_type": "display_data"
        },
        {
          "name": "stdout",
          "output_type": "stream",
          "text": [
            "{'NDCG@1': 0.48052, 'NDCG@3': 0.42609, 'NDCG@5': 0.39706, 'NDCG@10': 0.35473, 'NDCG@100': 0.25053, 'NDCG@1000': 0.24354}\n",
            "{'MAP@1': 0.06032, 'MAP@3': 0.10361, 'MAP@5': 0.11843, 'MAP@10': 0.13396, 'MAP@100': 0.14438, 'MAP@1000': 0.14438}\n",
            "{'Recall@1': 0.06032, 'Recall@3': 0.11371, 'Recall@5': 0.13925, 'Recall@10': 0.16556, 'Recall@100': 0.19034, 'Recall@1000': 0.19034}\n",
            "{'P@1': 0.49675, 'P@3': 0.39394, 'P@5': 0.33377, 'P@10': 0.25097, 'P@100': 0.03481, 'P@1000': 0.00348}\n",
            "NDCG@1 for epoch 20: 0.4805\n"
          ]
        },
        {
          "data": {
            "application/vnd.jupyter.widget-view+json": {
              "model_id": "e1a6537e99fc45308ac7bae6858fab94",
              "version_major": 2,
              "version_minor": 0
            },
            "text/plain": [
              "Valid:   0%|          | 0/313 [00:00<?, ?it/s]"
            ]
          },
          "metadata": {},
          "output_type": "display_data"
        },
        {
          "name": "stdout",
          "output_type": "stream",
          "text": [
            "Valid loss: 0.198; Valid accuracy: 0.724\n",
            "Epoch 21/30\n"
          ]
        },
        {
          "data": {
            "application/vnd.jupyter.widget-view+json": {
              "model_id": "3f339ed1b336433a8f2d5da2b0ba6deb",
              "version_major": 2,
              "version_minor": 0
            },
            "text/plain": [
              "Train:   0%|          | 0/3125 [00:00<?, ?it/s]"
            ]
          },
          "metadata": {},
          "output_type": "display_data"
        },
        {
          "name": "stdout",
          "output_type": "stream",
          "text": [
            "Epoch: 21 Training loss: 0.10\n"
          ]
        },
        {
          "data": {
            "application/vnd.jupyter.widget-view+json": {
              "model_id": "b2e78fef3727440dab25f10fe878f1d8",
              "version_major": 2,
              "version_minor": 0
            },
            "text/plain": [
              "Batches:   0%|          | 0/40 [00:00<?, ?it/s]"
            ]
          },
          "metadata": {},
          "output_type": "display_data"
        },
        {
          "name": "stdout",
          "output_type": "stream",
          "text": [
            "{'NDCG@1': 0.48052, 'NDCG@3': 0.42501, 'NDCG@5': 0.39611, 'NDCG@10': 0.35455, 'NDCG@100': 0.25033, 'NDCG@1000': 0.24335}\n",
            "{'MAP@1': 0.06032, 'MAP@3': 0.10361, 'MAP@5': 0.11825, 'MAP@10': 0.13383, 'MAP@100': 0.14424, 'MAP@1000': 0.14424}\n",
            "{'Recall@1': 0.06032, 'Recall@3': 0.11377, 'Recall@5': 0.13925, 'Recall@10': 0.16558, 'Recall@100': 0.19034, 'Recall@1000': 0.19034}\n",
            "{'P@1': 0.49675, 'P@3': 0.39286, 'P@5': 0.33377, 'P@10': 0.2513, 'P@100': 0.03481, 'P@1000': 0.00348}\n",
            "NDCG@1 for epoch 21: 0.4805\n"
          ]
        },
        {
          "data": {
            "application/vnd.jupyter.widget-view+json": {
              "model_id": "01deda7a32c7490d98ff9517764de2a6",
              "version_major": 2,
              "version_minor": 0
            },
            "text/plain": [
              "Valid:   0%|          | 0/313 [00:00<?, ?it/s]"
            ]
          },
          "metadata": {},
          "output_type": "display_data"
        },
        {
          "name": "stdout",
          "output_type": "stream",
          "text": [
            "Valid loss: 0.198; Valid accuracy: 0.725\n",
            "Epoch 22/30\n"
          ]
        },
        {
          "data": {
            "application/vnd.jupyter.widget-view+json": {
              "model_id": "6c3e07ff699243bd881f6ecfea4ea7f0",
              "version_major": 2,
              "version_minor": 0
            },
            "text/plain": [
              "Train:   0%|          | 0/3125 [00:00<?, ?it/s]"
            ]
          },
          "metadata": {},
          "output_type": "display_data"
        },
        {
          "name": "stdout",
          "output_type": "stream",
          "text": [
            "Epoch: 22 Training loss: 0.10\n"
          ]
        },
        {
          "data": {
            "application/vnd.jupyter.widget-view+json": {
              "model_id": "1a69eb2acab2481096768fac7e10754f",
              "version_major": 2,
              "version_minor": 0
            },
            "text/plain": [
              "Batches:   0%|          | 0/40 [00:00<?, ?it/s]"
            ]
          },
          "metadata": {},
          "output_type": "display_data"
        },
        {
          "name": "stdout",
          "output_type": "stream",
          "text": [
            "{'NDCG@1': 0.48214, 'NDCG@3': 0.42567, 'NDCG@5': 0.3966, 'NDCG@10': 0.35447, 'NDCG@100': 0.2503, 'NDCG@1000': 0.24332}\n",
            "{'MAP@1': 0.06036, 'MAP@3': 0.10359, 'MAP@5': 0.1183, 'MAP@10': 0.13387, 'MAP@100': 0.1443, 'MAP@1000': 0.1443}\n",
            "{'Recall@1': 0.06036, 'Recall@3': 0.1137, 'Recall@5': 0.13925, 'Recall@10': 0.16556, 'Recall@100': 0.19034, 'Recall@1000': 0.19034}\n",
            "{'P@1': 0.5, 'P@3': 0.39394, 'P@5': 0.33377, 'P@10': 0.25097, 'P@100': 0.03481, 'P@1000': 0.00348}\n",
            "NDCG@1 for epoch 22: 0.4821\n"
          ]
        },
        {
          "data": {
            "application/vnd.jupyter.widget-view+json": {
              "model_id": "528986d096b347b2b44937e58184aaca",
              "version_major": 2,
              "version_minor": 0
            },
            "text/plain": [
              "Valid:   0%|          | 0/313 [00:00<?, ?it/s]"
            ]
          },
          "metadata": {},
          "output_type": "display_data"
        },
        {
          "name": "stdout",
          "output_type": "stream",
          "text": [
            "Valid loss: 0.200; Valid accuracy: 0.720\n",
            "Epoch 23/30\n"
          ]
        },
        {
          "data": {
            "application/vnd.jupyter.widget-view+json": {
              "model_id": "b7f0a6eb44034d9a9f4702192b57a81b",
              "version_major": 2,
              "version_minor": 0
            },
            "text/plain": [
              "Train:   0%|          | 0/3125 [00:00<?, ?it/s]"
            ]
          },
          "metadata": {},
          "output_type": "display_data"
        },
        {
          "name": "stdout",
          "output_type": "stream",
          "text": [
            "Epoch: 23 Training loss: 0.10\n"
          ]
        },
        {
          "data": {
            "application/vnd.jupyter.widget-view+json": {
              "model_id": "2ca7b91f0d944f619a735675faf300eb",
              "version_major": 2,
              "version_minor": 0
            },
            "text/plain": [
              "Batches:   0%|          | 0/40 [00:00<?, ?it/s]"
            ]
          },
          "metadata": {},
          "output_type": "display_data"
        },
        {
          "name": "stdout",
          "output_type": "stream",
          "text": [
            "{'NDCG@1': 0.4789, 'NDCG@3': 0.42709, 'NDCG@5': 0.39607, 'NDCG@10': 0.35386, 'NDCG@100': 0.24998, 'NDCG@1000': 0.24299}\n",
            "{'MAP@1': 0.06004, 'MAP@3': 0.10388, 'MAP@5': 0.11823, 'MAP@10': 0.13376, 'MAP@100': 0.14424, 'MAP@1000': 0.14424}\n",
            "{'Recall@1': 0.06004, 'Recall@3': 0.11457, 'Recall@5': 0.13919, 'Recall@10': 0.16452, 'Recall@100': 0.19034, 'Recall@1000': 0.19034}\n",
            "{'P@1': 0.49675, 'P@3': 0.39719, 'P@5': 0.33312, 'P@10': 0.25097, 'P@100': 0.03481, 'P@1000': 0.00348}\n",
            "NDCG@1 for epoch 23: 0.4789\n"
          ]
        },
        {
          "data": {
            "application/vnd.jupyter.widget-view+json": {
              "model_id": "e18f37c573084a3bba5aed61fcf07419",
              "version_major": 2,
              "version_minor": 0
            },
            "text/plain": [
              "Valid:   0%|          | 0/313 [00:00<?, ?it/s]"
            ]
          },
          "metadata": {},
          "output_type": "display_data"
        },
        {
          "name": "stdout",
          "output_type": "stream",
          "text": [
            "Valid loss: 0.199; Valid accuracy: 0.724\n",
            "Epoch 24/30\n"
          ]
        },
        {
          "data": {
            "application/vnd.jupyter.widget-view+json": {
              "model_id": "0b2251df24c742faaf56df3ab4a13135",
              "version_major": 2,
              "version_minor": 0
            },
            "text/plain": [
              "Train:   0%|          | 0/3125 [00:00<?, ?it/s]"
            ]
          },
          "metadata": {},
          "output_type": "display_data"
        },
        {
          "name": "stdout",
          "output_type": "stream",
          "text": [
            "Epoch: 24 Training loss: 0.10\n"
          ]
        },
        {
          "data": {
            "application/vnd.jupyter.widget-view+json": {
              "model_id": "524550e31c9d4c29b3ff6955ee4b0399",
              "version_major": 2,
              "version_minor": 0
            },
            "text/plain": [
              "Batches:   0%|          | 0/40 [00:00<?, ?it/s]"
            ]
          },
          "metadata": {},
          "output_type": "display_data"
        },
        {
          "name": "stdout",
          "output_type": "stream",
          "text": [
            "{'NDCG@1': 0.48214, 'NDCG@3': 0.42686, 'NDCG@5': 0.39648, 'NDCG@10': 0.35428, 'NDCG@100': 0.2505, 'NDCG@1000': 0.24352}\n",
            "{'MAP@1': 0.06166, 'MAP@3': 0.10449, 'MAP@5': 0.11885, 'MAP@10': 0.13443, 'MAP@100': 0.14489, 'MAP@1000': 0.14489}\n",
            "{'Recall@1': 0.06166, 'Recall@3': 0.11455, 'Recall@5': 0.13919, 'Recall@10': 0.16455, 'Recall@100': 0.19034, 'Recall@1000': 0.19034}\n",
            "{'P@1': 0.5, 'P@3': 0.3961, 'P@5': 0.33312, 'P@10': 0.25097, 'P@100': 0.03481, 'P@1000': 0.00348}\n",
            "NDCG@1 for epoch 24: 0.4821\n"
          ]
        },
        {
          "data": {
            "application/vnd.jupyter.widget-view+json": {
              "model_id": "d0af01b9293149e5b069610a2214a06f",
              "version_major": 2,
              "version_minor": 0
            },
            "text/plain": [
              "Valid:   0%|          | 0/313 [00:00<?, ?it/s]"
            ]
          },
          "metadata": {},
          "output_type": "display_data"
        },
        {
          "name": "stdout",
          "output_type": "stream",
          "text": [
            "Valid loss: 0.200; Valid accuracy: 0.721\n",
            "Epoch 25/30\n"
          ]
        },
        {
          "data": {
            "application/vnd.jupyter.widget-view+json": {
              "model_id": "d11dfccb37d848fd85e96a8045252fd8",
              "version_major": 2,
              "version_minor": 0
            },
            "text/plain": [
              "Train:   0%|          | 0/3125 [00:00<?, ?it/s]"
            ]
          },
          "metadata": {},
          "output_type": "display_data"
        },
        {
          "name": "stdout",
          "output_type": "stream",
          "text": [
            "Epoch: 25 Training loss: 0.10\n"
          ]
        },
        {
          "data": {
            "application/vnd.jupyter.widget-view+json": {
              "model_id": "45666ecf0ad14a4195253d3e7bd656b4",
              "version_major": 2,
              "version_minor": 0
            },
            "text/plain": [
              "Batches:   0%|          | 0/40 [00:00<?, ?it/s]"
            ]
          },
          "metadata": {},
          "output_type": "display_data"
        },
        {
          "name": "stdout",
          "output_type": "stream",
          "text": [
            "{'NDCG@1': 0.48214, 'NDCG@3': 0.42859, 'NDCG@5': 0.39671, 'NDCG@10': 0.35462, 'NDCG@100': 0.2506, 'NDCG@1000': 0.24361}\n",
            "{'MAP@1': 0.06166, 'MAP@3': 0.10468, 'MAP@5': 0.11875, 'MAP@10': 0.13447, 'MAP@100': 0.14491, 'MAP@1000': 0.14491}\n",
            "{'Recall@1': 0.06166, 'Recall@3': 0.11488, 'Recall@5': 0.13892, 'Recall@10': 0.16459, 'Recall@100': 0.19034, 'Recall@1000': 0.19034}\n",
            "{'P@1': 0.5, 'P@3': 0.39827, 'P@5': 0.33312, 'P@10': 0.2513, 'P@100': 0.03481, 'P@1000': 0.00348}\n",
            "NDCG@1 for epoch 25: 0.4821\n"
          ]
        },
        {
          "data": {
            "application/vnd.jupyter.widget-view+json": {
              "model_id": "7021bf63213d401fa7415484427a4c07",
              "version_major": 2,
              "version_minor": 0
            },
            "text/plain": [
              "Valid:   0%|          | 0/313 [00:00<?, ?it/s]"
            ]
          },
          "metadata": {},
          "output_type": "display_data"
        },
        {
          "name": "stdout",
          "output_type": "stream",
          "text": [
            "Valid loss: 0.200; Valid accuracy: 0.721\n",
            "Epoch 26/30\n"
          ]
        },
        {
          "data": {
            "application/vnd.jupyter.widget-view+json": {
              "model_id": "35ab5a8ce3d24fbfa01b5156cba07914",
              "version_major": 2,
              "version_minor": 0
            },
            "text/plain": [
              "Train:   0%|          | 0/3125 [00:00<?, ?it/s]"
            ]
          },
          "metadata": {},
          "output_type": "display_data"
        },
        {
          "name": "stdout",
          "output_type": "stream",
          "text": [
            "Epoch: 26 Training loss: 0.10\n"
          ]
        },
        {
          "data": {
            "application/vnd.jupyter.widget-view+json": {
              "model_id": "1b75939368c9416f981608c1c2118877",
              "version_major": 2,
              "version_minor": 0
            },
            "text/plain": [
              "Batches:   0%|          | 0/40 [00:00<?, ?it/s]"
            ]
          },
          "metadata": {},
          "output_type": "display_data"
        },
        {
          "name": "stdout",
          "output_type": "stream",
          "text": [
            "{'NDCG@1': 0.48539, 'NDCG@3': 0.42839, 'NDCG@5': 0.39746, 'NDCG@10': 0.3553, 'NDCG@100': 0.25085, 'NDCG@1000': 0.24387}\n",
            "{'MAP@1': 0.06189, 'MAP@3': 0.10465, 'MAP@5': 0.11884, 'MAP@10': 0.13455, 'MAP@100': 0.14496, 'MAP@1000': 0.14496}\n",
            "{'Recall@1': 0.06189, 'Recall@3': 0.11468, 'Recall@5': 0.13896, 'Recall@10': 0.16467, 'Recall@100': 0.19034, 'Recall@1000': 0.19034}\n",
            "{'P@1': 0.50325, 'P@3': 0.39719, 'P@5': 0.33377, 'P@10': 0.25195, 'P@100': 0.03481, 'P@1000': 0.00348}\n",
            "NDCG@1 for epoch 26: 0.4854\n"
          ]
        },
        {
          "data": {
            "application/vnd.jupyter.widget-view+json": {
              "model_id": "c61479e353f848eb9ae83362c6595903",
              "version_major": 2,
              "version_minor": 0
            },
            "text/plain": [
              "Valid:   0%|          | 0/313 [00:00<?, ?it/s]"
            ]
          },
          "metadata": {},
          "output_type": "display_data"
        },
        {
          "name": "stdout",
          "output_type": "stream",
          "text": [
            "Valid loss: 0.200; Valid accuracy: 0.724\n",
            "Epoch 27/30\n"
          ]
        },
        {
          "data": {
            "application/vnd.jupyter.widget-view+json": {
              "model_id": "8d2ecc15bec84e6a90d5d3f50e0137d4",
              "version_major": 2,
              "version_minor": 0
            },
            "text/plain": [
              "Train:   0%|          | 0/3125 [00:00<?, ?it/s]"
            ]
          },
          "metadata": {},
          "output_type": "display_data"
        },
        {
          "name": "stdout",
          "output_type": "stream",
          "text": [
            "Epoch: 27 Training loss: 0.09\n"
          ]
        },
        {
          "data": {
            "application/vnd.jupyter.widget-view+json": {
              "model_id": "c9b275db79e742898c8bbd7773cac086",
              "version_major": 2,
              "version_minor": 0
            },
            "text/plain": [
              "Batches:   0%|          | 0/40 [00:00<?, ?it/s]"
            ]
          },
          "metadata": {},
          "output_type": "display_data"
        },
        {
          "name": "stdout",
          "output_type": "stream",
          "text": [
            "{'NDCG@1': 0.48214, 'NDCG@3': 0.42725, 'NDCG@5': 0.39684, 'NDCG@10': 0.3549, 'NDCG@100': 0.25045, 'NDCG@1000': 0.24347}\n",
            "{'MAP@1': 0.06166, 'MAP@3': 0.10446, 'MAP@5': 0.11873, 'MAP@10': 0.13447, 'MAP@100': 0.1448, 'MAP@1000': 0.1448}\n",
            "{'Recall@1': 0.06166, 'Recall@3': 0.11458, 'Recall@5': 0.139, 'Recall@10': 0.16489, 'Recall@100': 0.19034, 'Recall@1000': 0.19034}\n",
            "{'P@1': 0.5, 'P@3': 0.3961, 'P@5': 0.33377, 'P@10': 0.25227, 'P@100': 0.03481, 'P@1000': 0.00348}\n",
            "NDCG@1 for epoch 27: 0.4821\n"
          ]
        },
        {
          "data": {
            "application/vnd.jupyter.widget-view+json": {
              "model_id": "974dedca09644ea6bb5ea8f2d149f3e3",
              "version_major": 2,
              "version_minor": 0
            },
            "text/plain": [
              "Valid:   0%|          | 0/313 [00:00<?, ?it/s]"
            ]
          },
          "metadata": {},
          "output_type": "display_data"
        },
        {
          "name": "stdout",
          "output_type": "stream",
          "text": [
            "Valid loss: 0.200; Valid accuracy: 0.721\n",
            "Epoch 28/30\n"
          ]
        },
        {
          "data": {
            "application/vnd.jupyter.widget-view+json": {
              "model_id": "aaa03f43681e4f9594f251379e1edf36",
              "version_major": 2,
              "version_minor": 0
            },
            "text/plain": [
              "Train:   0%|          | 0/3125 [00:00<?, ?it/s]"
            ]
          },
          "metadata": {},
          "output_type": "display_data"
        },
        {
          "name": "stdout",
          "output_type": "stream",
          "text": [
            "Epoch: 28 Training loss: 0.09\n"
          ]
        },
        {
          "data": {
            "application/vnd.jupyter.widget-view+json": {
              "model_id": "bb49712cd24d4889be1d4ab3c1d6c6c5",
              "version_major": 2,
              "version_minor": 0
            },
            "text/plain": [
              "Batches:   0%|          | 0/40 [00:00<?, ?it/s]"
            ]
          },
          "metadata": {},
          "output_type": "display_data"
        },
        {
          "name": "stdout",
          "output_type": "stream",
          "text": [
            "{'NDCG@1': 0.48214, 'NDCG@3': 0.42781, 'NDCG@5': 0.39635, 'NDCG@10': 0.35484, 'NDCG@100': 0.25047, 'NDCG@1000': 0.2435}\n",
            "{'MAP@1': 0.06166, 'MAP@3': 0.10459, 'MAP@5': 0.11875, 'MAP@10': 0.13451, 'MAP@100': 0.14484, 'MAP@1000': 0.14484}\n",
            "{'Recall@1': 0.06166, 'Recall@3': 0.11478, 'Recall@5': 0.13894, 'Recall@10': 0.16489, 'Recall@100': 0.19034, 'Recall@1000': 0.19034}\n",
            "{'P@1': 0.5, 'P@3': 0.39719, 'P@5': 0.33312, 'P@10': 0.25227, 'P@100': 0.03481, 'P@1000': 0.00348}\n",
            "NDCG@1 for epoch 28: 0.4821\n"
          ]
        },
        {
          "data": {
            "application/vnd.jupyter.widget-view+json": {
              "model_id": "13d165bb3f514306a85241a48ee95aae",
              "version_major": 2,
              "version_minor": 0
            },
            "text/plain": [
              "Valid:   0%|          | 0/313 [00:00<?, ?it/s]"
            ]
          },
          "metadata": {},
          "output_type": "display_data"
        },
        {
          "name": "stdout",
          "output_type": "stream",
          "text": [
            "Valid loss: 0.199; Valid accuracy: 0.723\n",
            "Epoch 29/30\n"
          ]
        },
        {
          "data": {
            "application/vnd.jupyter.widget-view+json": {
              "model_id": "0fd74324f1984d54890514816bd7aad1",
              "version_major": 2,
              "version_minor": 0
            },
            "text/plain": [
              "Train:   0%|          | 0/3125 [00:00<?, ?it/s]"
            ]
          },
          "metadata": {},
          "output_type": "display_data"
        },
        {
          "name": "stdout",
          "output_type": "stream",
          "text": [
            "Epoch: 29 Training loss: 0.09\n"
          ]
        },
        {
          "data": {
            "application/vnd.jupyter.widget-view+json": {
              "model_id": "2fa9f948169745e6aa68ec15751a8823",
              "version_major": 2,
              "version_minor": 0
            },
            "text/plain": [
              "Batches:   0%|          | 0/40 [00:00<?, ?it/s]"
            ]
          },
          "metadata": {},
          "output_type": "display_data"
        },
        {
          "name": "stdout",
          "output_type": "stream",
          "text": [
            "{'NDCG@1': 0.48214, 'NDCG@3': 0.42705, 'NDCG@5': 0.39668, 'NDCG@10': 0.3548, 'NDCG@100': 0.25042, 'NDCG@1000': 0.24344}\n",
            "{'MAP@1': 0.06166, 'MAP@3': 0.10446, 'MAP@5': 0.1187, 'MAP@10': 0.13446, 'MAP@100': 0.14479, 'MAP@1000': 0.14479}\n",
            "{'Recall@1': 0.06166, 'Recall@3': 0.11458, 'Recall@5': 0.13896, 'Recall@10': 0.16489, 'Recall@100': 0.19034, 'Recall@1000': 0.19034}\n",
            "{'P@1': 0.5, 'P@3': 0.3961, 'P@5': 0.33377, 'P@10': 0.25227, 'P@100': 0.03481, 'P@1000': 0.00348}\n",
            "NDCG@1 for epoch 29: 0.4821\n"
          ]
        },
        {
          "data": {
            "application/vnd.jupyter.widget-view+json": {
              "model_id": "138618e534ec4c45bc710b316abdb29d",
              "version_major": 2,
              "version_minor": 0
            },
            "text/plain": [
              "Valid:   0%|          | 0/313 [00:00<?, ?it/s]"
            ]
          },
          "metadata": {},
          "output_type": "display_data"
        },
        {
          "name": "stdout",
          "output_type": "stream",
          "text": [
            "Valid loss: 0.200; Valid accuracy: 0.721\n",
            "Epoch 30/30\n"
          ]
        },
        {
          "data": {
            "application/vnd.jupyter.widget-view+json": {
              "model_id": "e1e3df18ec054326be9dc7b8583661ee",
              "version_major": 2,
              "version_minor": 0
            },
            "text/plain": [
              "Train:   0%|          | 0/3125 [00:00<?, ?it/s]"
            ]
          },
          "metadata": {},
          "output_type": "display_data"
        },
        {
          "name": "stdout",
          "output_type": "stream",
          "text": [
            "Epoch: 30 Training loss: 0.09\n"
          ]
        },
        {
          "data": {
            "application/vnd.jupyter.widget-view+json": {
              "model_id": "6effb39c06c240feb54d22db9123bc65",
              "version_major": 2,
              "version_minor": 0
            },
            "text/plain": [
              "Batches:   0%|          | 0/40 [00:00<?, ?it/s]"
            ]
          },
          "metadata": {},
          "output_type": "display_data"
        },
        {
          "name": "stdout",
          "output_type": "stream",
          "text": [
            "{'NDCG@1': 0.48214, 'NDCG@3': 0.42705, 'NDCG@5': 0.39668, 'NDCG@10': 0.35488, 'NDCG@100': 0.25042, 'NDCG@1000': 0.24344}\n",
            "{'MAP@1': 0.06166, 'MAP@3': 0.10446, 'MAP@5': 0.1187, 'MAP@10': 0.13445, 'MAP@100': 0.14479, 'MAP@1000': 0.14479}\n",
            "{'Recall@1': 0.06166, 'Recall@3': 0.11458, 'Recall@5': 0.13896, 'Recall@10': 0.16489, 'Recall@100': 0.19034, 'Recall@1000': 0.19034}\n",
            "{'P@1': 0.5, 'P@3': 0.3961, 'P@5': 0.33377, 'P@10': 0.25227, 'P@100': 0.03481, 'P@1000': 0.00348}\n",
            "NDCG@1 for epoch 30: 0.4821\n"
          ]
        },
        {
          "data": {
            "application/vnd.jupyter.widget-view+json": {
              "model_id": "30603ab9a23f4e04ba70c7ceafbfcc18",
              "version_major": 2,
              "version_minor": 0
            },
            "text/plain": [
              "Valid:   0%|          | 0/313 [00:00<?, ?it/s]"
            ]
          },
          "metadata": {},
          "output_type": "display_data"
        },
        {
          "name": "stdout",
          "output_type": "stream",
          "text": [
            "Valid loss: 0.200; Valid accuracy: 0.722\n",
            "Training complete. Best model saved at: finetune_nfcorpus/neg_samples_3_seed6/best_model_ALIGNED_embedding_only_NDCG\n"
          ]
        }
      ],
      "source": [
        "import os\n",
        "import torch\n",
        "from torch import nn, optim\n",
        "from tqdm.auto import tqdm\n",
        "from transformers import AutoModelForSequenceClassification, get_linear_schedule_with_warmup\n",
        "from statistics import mean\n",
        "import pandas as pd  # Make sure to import pandas\n",
        "seed = 36\n",
        "random.seed(seed)\n",
        "np.random.seed(seed)\n",
        "torch.manual_seed(seed)\n",
        "torch.cuda.manual_seed_all(seed)  # if using CUDA\n",
        "# Set up device\n",
        "device = torch.device('cuda' if torch.cuda.is_available() else 'cpu')\n",
        "\n",
        "model = AutoModelForSequenceClassification.from_pretrained(model_name).to(device)\n",
        "\n",
        "# Initialize Embedding Weights with SVD-based IDF Modification\n",
        "# Step 1: Extract the original embedding matrix W_E\n",
        "W_E = model.get_input_embeddings().weight.detach().cpu()  # Original embedding matrix W_E\n",
        "\n",
        "# Step 2: Perform SVD on the embedding matrix W_E\n",
        "U, S, Vh = torch.linalg.svd(W_E, full_matrices=False)  # Perform SVD on W_E\n",
        "\n",
        "# Step 3: Load IDF scores and normalize them\n",
        "idf_file_path = f\"{DATASET}_idf_scores.csv\"\n",
        "idf_scores = pd.read_csv(idf_file_path).iloc[:, 1].tolist()  # Assuming IDF values are in the second column\n",
        "idf_tensor = -1 * torch.tensor(idf_scores, dtype=torch.float32)\n",
        "\n",
        "# Create a mask for entries in idf_tensor that are equal to -1.0\n",
        "mask = idf_tensor == -1.0\n",
        "# Count the number of masked elements\n",
        "num_masked_elements = mask.sum().item()\n",
        "print(\"Number of masked elements:\", num_masked_elements)\n",
        "print(\"Total number of elements in idf_tensor:\", idf_tensor.shape[0])\n",
        "\n",
        "# Normalize idf_tensor to match the distribution of the original U[:, 0]\n",
        "original_mean, original_std = U[:, 0].mean(), U[:, 0].std()\n",
        "idf_mean, idf_std = idf_tensor.mean(), idf_tensor.std()\n",
        "normalized_idf_tensor = (idf_tensor - idf_mean) / idf_std * original_std + original_mean\n",
        "\n",
        "# Use the mask to retain original U[:, 0] values for entries where idf_tensor == -1.0\n",
        "normalized_idf_tensor[mask] = U[:, 0][mask]\n",
        "\n",
        "# Set the first column of U to the modified IDF values\n",
        "U[:, 0] = normalized_idf_tensor\n",
        "\n",
        "# Step 4: Reconstruct W_E with the modified U\n",
        "W_E_modified = torch.mm(U, torch.diag(S)) @ Vh  # Reconstruct W_E with modified U\n",
        "model.get_input_embeddings().weight.data = W_E_modified.to(model.device)  # Assign modified W_E back to model\n",
        "\n",
        "# Step 5: Save the modified model and tokenizer if desired\n",
        "modified_model_path = \"modified_cross_encoder_model\"\n",
        "os.makedirs(modified_model_path, exist_ok=True)\n",
        "model.save_pretrained(modified_model_path)\n",
        "\n",
        "# Then start training\n",
        "\n",
        "# Freeze all layers except the embeddings\n",
        "for name, param in model.named_parameters():\n",
        "    if 'embeddings' not in name:  # Freeze all layers except embeddings\n",
        "        param.requires_grad = False\n",
        "\n",
        "# Verify the number of trainable parameters\n",
        "trainable_params = sum(p.numel() for p in model.parameters() if p.requires_grad)\n",
        "print(f'Trainable Parameters: {trainable_params}')\n",
        "\n",
        "# Training configuration\n",
        "epochs =30\n",
        "learning_rate = 2e-5  # Adjust as necessary\n",
        "optimizer = optim.AdamW(model.parameters(), lr=learning_rate)\n",
        "num_training_steps = epochs * len(dataloader_train)\n",
        "num_warmup_steps = int(num_training_steps * 0.1)\n",
        "scheduler = get_linear_schedule_with_warmup(optimizer, num_warmup_steps, num_training_steps)\n",
        "\n",
        "# Track the best NDCG score\n",
        "best_ndcg = float(\"-inf\")\n",
        "fine_tuned_model_path = f\"finetune_{DATASET}/neg_samples_{NUM_NEG_SAMPLES}_seed{SEED}/temp_model_epoch_NDCG_ALIGNED_embedding_only\"\n",
        "best_model_path = f\"finetune_{DATASET}/neg_samples_{NUM_NEG_SAMPLES}_seed{SEED}/best_model_ALIGNED_embedding_only_NDCG\"\n",
        "os.makedirs(fine_tuned_model_path, exist_ok=True)\n",
        "os.makedirs(best_model_path, exist_ok=True)\n",
        "\n",
        "# Initial validation to verify evaluation code\n",
        "evaluate(model=model, dataloader=dataloader_valid, set_name='Valid')\n",
        "\n",
        "# Training loop\n",
        "for epoch in range(epochs):\n",
        "    model.train()\n",
        "    train_losses = []\n",
        "    print(f\"Epoch {epoch + 1}/{epochs}\")\n",
        "\n",
        "    for batch in tqdm(dataloader_train, desc=\"Train\"):\n",
        "        # Move batch to device\n",
        "        batch = {k: v.to(device) for k, v in batch.items()}\n",
        "\n",
        "        # Zero gradients\n",
        "        optimizer.zero_grad()\n",
        "\n",
        "        # Forward pass\n",
        "        outputs = model(**batch)\n",
        "\n",
        "        # Apply sigmoid to logits for binary relevance scores\n",
        "        predictions = torch.sigmoid(outputs.logits).squeeze()\n",
        "\n",
        "        # Calculate MSE loss with sigmoid-transformed predictions\n",
        "        loss = nn.functional.mse_loss(predictions, batch['labels'].float())\n",
        "        train_losses.append(loss.cpu().item())\n",
        "\n",
        "        # Backward pass\n",
        "        loss.backward()\n",
        "        optimizer.step()\n",
        "        scheduler.step()\n",
        "    # Print average training loss for the epoch\n",
        "    avg_train_loss = mean(train_losses)\n",
        "    print(f\"Epoch: {epoch + 1} Training loss: {avg_train_loss:.2f}\")\n",
        "\n",
        "    # Save the model at the end of each epoch\n",
        "    model.save_pretrained(fine_tuned_model_path)\n",
        "    tokenizer.save_pretrained(fine_tuned_model_path)\n",
        "\n",
        "    # Evaluate NDCG using the saved model path\n",
        "    ndcg = evaluate_beir(fine_tuned_model_path, NUM_NEG_SAMPLES=NUM_NEG_SAMPLES)\n",
        "    print(f\"NDCG@1 for epoch {epoch + 1}: {ndcg:.4f}\")\n",
        "    evaluate(model=model, dataloader=dataloader_valid, set_name='Valid')\n",
        "\n",
        "\n",
        "    # Check if this NDCG score is the highest seen so far\n",
        "    if ndcg > best_ndcg:\n",
        "        best_ndcg = ndcg\n",
        "        # Save the model with the highest NDCG\n",
        "        model.save_pretrained(best_model_path)\n",
        "        tokenizer.save_pretrained(best_model_path)\n",
        "        print(f\"New best model saved with NDCG@1: {ndcg:.4f}\")\n",
        "\n",
        "print(\"Training complete. Best model saved at:\", best_model_path)\n"
      ]
    },
    {
      "cell_type": "code",
      "execution_count": null,
      "metadata": {
        "colab": {
          "background_save": true
        },
        "id": "8bv4hLdKX14Q"
      },
      "outputs": [],
      "source": [
        "\n"
      ]
    },
    {
      "cell_type": "code",
      "execution_count": null,
      "metadata": {
        "colab": {
          "background_save": true
        },
        "id": "zlJQXGHi4Rhm",
        "outputId": "0b7fcba5-7405-4965-a540-f87830ce1938"
      },
      "outputs": [
        {
          "data": {
            "application/vnd.google.colaboratory.intrinsic+json": {
              "type": "string"
            },
            "text/plain": [
              "'\\nimport torch\\nfrom torch import nn, optim\\nfrom tqdm.auto import tqdm\\nfrom transformers import AutoModelForSequenceClassification, get_linear_schedule_with_warmup\\nfrom statistics import mean\\nimport os\\ntorch.backends.cudnn.deterministic = True\\ntorch.backends.cudnn.benchmark = False\\nseed = SEED\\nrandom.seed(seed)\\nnp.random.seed(seed)\\ntorch.manual_seed(seed)\\ntorch.cuda.manual_seed_all(seed)  # if using CUDA\\n# Set up device\\ndevice = torch.device(\\'cuda\\' if torch.cuda.is_available() else \\'cpu\\')\\n\\nmodel = AutoModelForSequenceClassification.from_pretrained(model_name).to(device)\\n\\n# Initialize Embedding Weights with SVD-based IDF Modification\\n# Step 1: Extract the original embedding matrix W_E\\nW_E = model.get_input_embeddings().weight.detach().cpu()  # Original embedding matrix W_E\\n\\n# Step 2: Perform SVD on the embedding matrix W_E\\nU, S, Vh = torch.linalg.svd(W_E, full_matrices=False)  # Perform SVD on W_E\\n\\n# Step 3: Load IDF scores and normalize them\\nidf_file_path = f\"{DATASET}_idf_scores.csv\"\\nidf_scores = pd.read_csv(idf_file_path).iloc[:, 1].tolist()  # Assuming IDF values are in the second column\\nidf_tensor = -1 * torch.tensor(idf_scores, dtype=torch.float32)\\n\\n# Create a mask for entries in idf_tensor that are equal to -1.0\\nmask = idf_tensor == -1.0\\n# Count the number of masked elements\\nnum_masked_elements = mask.sum().item()\\nprint(\"Number of masked elements:\", num_masked_elements)\\nprint(\"Total number of elements in idf_tensor:\", idf_tensor.shape[0])\\n\\n# Normalize idf_tensor to match the distribution of the original U[:, 0]\\noriginal_mean, original_std = U[:, 0].mean(), U[:, 0].std()\\nidf_mean, idf_std = idf_tensor.mean(), idf_tensor.std()\\nnormalized_idf_tensor = (idf_tensor - idf_mean) / idf_std * original_std + original_mean\\n\\n# Use the mask to retain original U[:, 0] values for entries where idf_tensor == -1.0\\nnormalized_idf_tensor[mask] = U[:, 0][mask]\\n\\n# Set the first column of U to the modified IDF values\\nU[:, 0] = normalized_idf_tensor\\n\\n# Step 4: Reconstruct W_E with the modified U\\nW_E_modified = torch.mm(U, torch.diag(S)) @ Vh  # Reconstruct W_E with modified U\\nmodel.get_input_embeddings().weight.data = W_E_modified.to(model.device)  # Assign modified W_E back to model\\n\\n# Step 5: Save the modified model and tokenizer if desired\\nmodified_model_path = \"modified_cross_encoder_model\"\\nos.makedirs(modified_model_path, exist_ok=True)\\nmodel.save_pretrained(modified_model_path)\\n\\ntrainable_params = sum(p.numel() for p in model.parameters() if p.requires_grad)\\nprint(f\\'Trainable Parameters: {trainable_params}\\')\\n\\n# Training configuration\\nepochs = 10\\nlearning_rate = 2e-5  # Adjust as necessary for training embeddings\\noptimizer = optim.AdamW(filter(lambda p: p.requires_grad, model.parameters()), lr=learning_rate)  # Optimizer only for trainable params\\nnum_training_steps = epochs * len(dataloader_train)\\nnum_warmup_steps = int(num_training_steps * 0.1)\\nscheduler = get_linear_schedule_with_warmup(optimizer, num_warmup_steps, num_training_steps)\\n\\n# Track the best validation loss\\nbest_val_loss = float(\"inf\")\\nbest_model_path = f\"finetune_{DATASET}/neg_samples_{NUM_NEG_SAMPLES}_seed{SEED}/best_model_aligned_full_NDCG_fixedrandom\"  # Path to save the best model\\n# Track the best NDCG score\\nbest_ndcg = float(\"-inf\")\\nfine_tuned_model_path = f\"finetune_{DATASET}/neg_samples_{NUM_NEG_SAMPLES}_seed{SEED}/temp_model_epoch_NDCG_aligned_full_fixedrandom\"\\n\\nos.makedirs(best_model_path, exist_ok=True)\\n# Initial validation\\nevaluate(model=model, dataloader=dataloader_valid, set_name=\\'Valid\\')\\n\\n# Training loop\\nfor epoch in range(epochs):\\n    model.train()\\n    train_losses = []\\n    print(f\"Epoch {epoch + 1}/{epochs}\")\\n\\n    for batch in tqdm(dataloader_train, desc=\"Train\"):\\n        # Move batch to device\\n        batch = {k: v.to(device) for k, v in batch.items()}\\n\\n        # Zero gradients\\n        optimizer.zero_grad()\\n\\n        # Forward pass\\n        outputs = model(**batch)\\n\\n        # Apply sigmoid to logits for binary relevance scores\\n        predictions = torch.sigmoid(outputs.logits).squeeze()\\n\\n        # Calculate MSE loss with sigmoid-transformed predictions\\n        loss = nn.functional.mse_loss(predictions, batch[\\'labels\\'].float())\\n        train_losses.append(loss.cpu().item())\\n\\n        # Backward pass\\n        loss.backward()\\n        optimizer.step()\\n        scheduler.step()\\n\\n    # Print average training loss for the epoch\\n    avg_train_loss = mean(train_losses)\\n    print(f\"Epoch: {epoch + 1} Training loss: {avg_train_loss:.2f}\")\\n\\n    # Save the model at the end of each epoch\\n    model.save_pretrained(fine_tuned_model_path)\\n    tokenizer.save_pretrained(fine_tuned_model_path)\\n\\n    # Evaluate NDCG using the saved model path\\n    ndcg = evaluate_beir(fine_tuned_model_path, NUM_NEG_SAMPLES=NUM_NEG_SAMPLES)\\n    print(f\"NDCG@1 for epoch {epoch + 1}: {ndcg:.4f}\")\\n    evaluate(model=model, dataloader=dataloader_valid, set_name=\\'Valid\\')\\n\\n\\n    # Check if this NDCG score is the highest seen so far\\n    if ndcg > best_ndcg:\\n        best_ndcg = ndcg\\n        # Save the model with the highest NDCG\\n        model.save_pretrained(best_model_path)\\n        tokenizer.save_pretrained(best_model_path)\\n        print(f\"New best model saved with NDCG@1: {ndcg:.4f}\")\\n\\nprint(\"Training complete. Best model saved at:\", best_model_path)\\n'"
            ]
          },
          "execution_count": 30,
          "metadata": {},
          "output_type": "execute_result"
        }
      ],
      "source": [
        "\"\"\"\n",
        "import torch\n",
        "from torch import nn, optim\n",
        "from tqdm.auto import tqdm\n",
        "from transformers import AutoModelForSequenceClassification, get_linear_schedule_with_warmup\n",
        "from statistics import mean\n",
        "import os\n",
        "torch.backends.cudnn.deterministic = True\n",
        "torch.backends.cudnn.benchmark = False\n",
        "seed = SEED\n",
        "random.seed(seed)\n",
        "np.random.seed(seed)\n",
        "torch.manual_seed(seed)\n",
        "torch.cuda.manual_seed_all(seed)  # if using CUDA\n",
        "# Set up device\n",
        "device = torch.device('cuda' if torch.cuda.is_available() else 'cpu')\n",
        "\n",
        "model = AutoModelForSequenceClassification.from_pretrained(model_name).to(device)\n",
        "\n",
        "# Initialize Embedding Weights with SVD-based IDF Modification\n",
        "# Step 1: Extract the original embedding matrix W_E\n",
        "W_E = model.get_input_embeddings().weight.detach().cpu()  # Original embedding matrix W_E\n",
        "\n",
        "# Step 2: Perform SVD on the embedding matrix W_E\n",
        "U, S, Vh = torch.linalg.svd(W_E, full_matrices=False)  # Perform SVD on W_E\n",
        "\n",
        "# Step 3: Load IDF scores and normalize them\n",
        "idf_file_path = f\"{DATASET}_idf_scores.csv\"\n",
        "idf_scores = pd.read_csv(idf_file_path).iloc[:, 1].tolist()  # Assuming IDF values are in the second column\n",
        "idf_tensor = -1 * torch.tensor(idf_scores, dtype=torch.float32)\n",
        "\n",
        "# Create a mask for entries in idf_tensor that are equal to -1.0\n",
        "mask = idf_tensor == -1.0\n",
        "# Count the number of masked elements\n",
        "num_masked_elements = mask.sum().item()\n",
        "print(\"Number of masked elements:\", num_masked_elements)\n",
        "print(\"Total number of elements in idf_tensor:\", idf_tensor.shape[0])\n",
        "\n",
        "# Normalize idf_tensor to match the distribution of the original U[:, 0]\n",
        "original_mean, original_std = U[:, 0].mean(), U[:, 0].std()\n",
        "idf_mean, idf_std = idf_tensor.mean(), idf_tensor.std()\n",
        "normalized_idf_tensor = (idf_tensor - idf_mean) / idf_std * original_std + original_mean\n",
        "\n",
        "# Use the mask to retain original U[:, 0] values for entries where idf_tensor == -1.0\n",
        "normalized_idf_tensor[mask] = U[:, 0][mask]\n",
        "\n",
        "# Set the first column of U to the modified IDF values\n",
        "U[:, 0] = normalized_idf_tensor\n",
        "\n",
        "# Step 4: Reconstruct W_E with the modified U\n",
        "W_E_modified = torch.mm(U, torch.diag(S)) @ Vh  # Reconstruct W_E with modified U\n",
        "model.get_input_embeddings().weight.data = W_E_modified.to(model.device)  # Assign modified W_E back to model\n",
        "\n",
        "# Step 5: Save the modified model and tokenizer if desired\n",
        "modified_model_path = \"modified_cross_encoder_model\"\n",
        "os.makedirs(modified_model_path, exist_ok=True)\n",
        "model.save_pretrained(modified_model_path)\n",
        "\n",
        "trainable_params = sum(p.numel() for p in model.parameters() if p.requires_grad)\n",
        "print(f'Trainable Parameters: {trainable_params}')\n",
        "\n",
        "# Training configuration\n",
        "epochs = 10\n",
        "learning_rate = 2e-5  # Adjust as necessary for training embeddings\n",
        "optimizer = optim.AdamW(filter(lambda p: p.requires_grad, model.parameters()), lr=learning_rate)  # Optimizer only for trainable params\n",
        "num_training_steps = epochs * len(dataloader_train)\n",
        "num_warmup_steps = int(num_training_steps * 0.1)\n",
        "scheduler = get_linear_schedule_with_warmup(optimizer, num_warmup_steps, num_training_steps)\n",
        "\n",
        "# Track the best validation loss\n",
        "best_val_loss = float(\"inf\")\n",
        "best_model_path = f\"finetune_{DATASET}/neg_samples_{NUM_NEG_SAMPLES}_seed{SEED}/best_model_aligned_full_NDCG_fixedrandom\"  # Path to save the best model\n",
        "# Track the best NDCG score\n",
        "best_ndcg = float(\"-inf\")\n",
        "fine_tuned_model_path = f\"finetune_{DATASET}/neg_samples_{NUM_NEG_SAMPLES}_seed{SEED}/temp_model_epoch_NDCG_aligned_full_fixedrandom\"\n",
        "\n",
        "os.makedirs(best_model_path, exist_ok=True)\n",
        "# Initial validation\n",
        "evaluate(model=model, dataloader=dataloader_valid, set_name='Valid')\n",
        "\n",
        "# Training loop\n",
        "for epoch in range(epochs):\n",
        "    model.train()\n",
        "    train_losses = []\n",
        "    print(f\"Epoch {epoch + 1}/{epochs}\")\n",
        "\n",
        "    for batch in tqdm(dataloader_train, desc=\"Train\"):\n",
        "        # Move batch to device\n",
        "        batch = {k: v.to(device) for k, v in batch.items()}\n",
        "\n",
        "        # Zero gradients\n",
        "        optimizer.zero_grad()\n",
        "\n",
        "        # Forward pass\n",
        "        outputs = model(**batch)\n",
        "\n",
        "        # Apply sigmoid to logits for binary relevance scores\n",
        "        predictions = torch.sigmoid(outputs.logits).squeeze()\n",
        "\n",
        "        # Calculate MSE loss with sigmoid-transformed predictions\n",
        "        loss = nn.functional.mse_loss(predictions, batch['labels'].float())\n",
        "        train_losses.append(loss.cpu().item())\n",
        "\n",
        "        # Backward pass\n",
        "        loss.backward()\n",
        "        optimizer.step()\n",
        "        scheduler.step()\n",
        "\n",
        "    # Print average training loss for the epoch\n",
        "    avg_train_loss = mean(train_losses)\n",
        "    print(f\"Epoch: {epoch + 1} Training loss: {avg_train_loss:.2f}\")\n",
        "\n",
        "    # Save the model at the end of each epoch\n",
        "    model.save_pretrained(fine_tuned_model_path)\n",
        "    tokenizer.save_pretrained(fine_tuned_model_path)\n",
        "\n",
        "    # Evaluate NDCG using the saved model path\n",
        "    ndcg = evaluate_beir(fine_tuned_model_path, NUM_NEG_SAMPLES=NUM_NEG_SAMPLES)\n",
        "    print(f\"NDCG@1 for epoch {epoch + 1}: {ndcg:.4f}\")\n",
        "    evaluate(model=model, dataloader=dataloader_valid, set_name='Valid')\n",
        "\n",
        "\n",
        "    # Check if this NDCG score is the highest seen so far\n",
        "    if ndcg > best_ndcg:\n",
        "        best_ndcg = ndcg\n",
        "        # Save the model with the highest NDCG\n",
        "        model.save_pretrained(best_model_path)\n",
        "        tokenizer.save_pretrained(best_model_path)\n",
        "        print(f\"New best model saved with NDCG@1: {ndcg:.4f}\")\n",
        "\n",
        "print(\"Training complete. Best model saved at:\", best_model_path)\n",
        "\"\"\""
      ]
    },
    {
      "cell_type": "code",
      "execution_count": null,
      "metadata": {
        "colab": {
          "background_save": true
        },
        "id": "FRe3GAZiKpNn",
        "outputId": "16221111-cc4d-4941-8264-04c995dd0417"
      },
      "outputs": [
        {
          "data": {
            "application/vnd.google.colaboratory.intrinsic+json": {
              "type": "string"
            },
            "text/plain": [
              "'\\nimport torch\\nfrom torch import nn, optim\\nfrom tqdm.auto import tqdm\\nfrom transformers import AutoModelForSequenceClassification, get_linear_schedule_with_warmup\\nfrom statistics import mean\\nimport os\\ntorch.backends.cudnn.deterministic = True\\ntorch.backends.cudnn.benchmark = False\\nseed = SEED\\nrandom.seed(seed)\\nnp.random.seed(seed)\\ntorch.manual_seed(seed)\\ntorch.cuda.manual_seed_all(seed)  # if using CUDA\\n# Set up device\\ndevice = torch.device(\\'cuda\\' if torch.cuda.is_available() else \\'cpu\\')\\n\\nmodel = AutoModelForSequenceClassification.from_pretrained(model_name).to(device)\\n\\n# Initialize Embedding Weights with SVD-based IDF Modification\\n# Step 1: Extract the original embedding matrix W_E\\nW_E = model.get_input_embeddings().weight.detach().cpu()  # Original embedding matrix W_E\\n\\n# Step 2: Perform SVD on the embedding matrix W_E\\nU, S, Vh = torch.linalg.svd(W_E, full_matrices=False)  # Perform SVD on W_E\\n\\n# Step 3: Load IDF scores and normalize them\\nidf_file_path = f\"{DATASET}_idf_scores.csv\"\\nidf_scores = pd.read_csv(idf_file_path).iloc[:, 1].tolist()  # Assuming IDF values are in the second column\\nidf_tensor = -1 * torch.tensor(idf_scores, dtype=torch.float32)\\n\\n# Create a mask for entries in idf_tensor that are equal to -1.0\\nmask = idf_tensor == -1.0\\n# Count the number of masked elements\\nnum_masked_elements = mask.sum().item()\\nprint(\"Number of masked elements:\", num_masked_elements)\\nprint(\"Total number of elements in idf_tensor:\", idf_tensor.shape[0])\\n\\n# Normalize idf_tensor to match the distribution of the original U[:, 0]\\noriginal_mean, original_std = U[:, 0].mean(), U[:, 0].std()\\nidf_mean, idf_std = idf_tensor.mean(), idf_tensor.std()\\nnormalized_idf_tensor = (idf_tensor - idf_mean) / idf_std * original_std + original_mean\\n\\n# Use the mask to retain original U[:, 0] values for entries where idf_tensor == -1.0\\nnormalized_idf_tensor[mask] = U[:, 0][mask]\\n\\n# Set the first column of U to the modified IDF values\\nU[:, 0] = normalized_idf_tensor\\n\\n# Step 4: Reconstruct W_E with the modified U\\nW_E_modified = torch.mm(U, torch.diag(S)) @ Vh  # Reconstruct W_E with modified U\\nmodel.get_input_embeddings().weight.data = W_E_modified.to(model.device)  # Assign modified W_E back to model\\n\\n# Step 5: Save the modified model and tokenizer if desired\\nmodified_model_path = \"modified_cross_encoder_model\"\\nos.makedirs(modified_model_path, exist_ok=True)\\nmodel.save_pretrained(modified_model_path)\\n\\n# Then start training\\n\\n# Freeze all layers except the embeddings\\nfor name, param in model.named_parameters():\\n    if \\'embeddings\\' not in name:  # Freeze all layers except embeddings\\n        param.requires_grad = False\\n\\n# Verify the number of trainable parameters\\ntrainable_params = sum(p.numel() for p in model.parameters() if p.requires_grad)\\nprint(f\\'Trainable Parameters: {trainable_params}\\')\\n\\n# Training configuration\\nepochs = 10\\nlearning_rate = 2e-5  # Adjust as necessary for training embeddings\\noptimizer = optim.AdamW(filter(lambda p: p.requires_grad, model.parameters()), lr=learning_rate)  # Optimizer only for trainable params\\nnum_training_steps = epochs * len(dataloader_train)\\nnum_warmup_steps = int(num_training_steps * 0.1)\\nscheduler = get_linear_schedule_with_warmup(optimizer, num_warmup_steps, num_training_steps)\\n\\n# Track the best validation loss\\nbest_val_loss = float(\"inf\")\\nbest_model_path = f\"finetune_{DATASET}/neg_samples_{NUM_NEG_SAMPLES}_seed{SEED}/best_model_aligned_embedding_NDCG_fixedrandom\"  # Path to save the best model\\n# Track the best NDCG score\\nbest_ndcg = float(\"-inf\")\\nfine_tuned_model_path = f\"finetune_{DATASET}/neg_samples_{NUM_NEG_SAMPLES}_seed{SEED}/temp_model_epoch_NDCG_aligned_embedding_fixedrandom\"\\n\\nos.makedirs(best_model_path, exist_ok=True)\\n# Initial validation\\nevaluate(model=model, dataloader=dataloader_valid, set_name=\\'Valid\\')\\n\\n# Training loop\\nfor epoch in range(epochs):\\n    model.train()\\n    train_losses = []\\n    print(f\"Epoch {epoch + 1}/{epochs}\")\\n\\n    for batch in tqdm(dataloader_train, desc=\"Train\"):\\n        # Move batch to device\\n        batch = {k: v.to(device) for k, v in batch.items()}\\n\\n        # Zero gradients\\n        optimizer.zero_grad()\\n\\n        # Forward pass\\n        outputs = model(**batch)\\n\\n        # Apply sigmoid to logits for binary relevance scores\\n        predictions = torch.sigmoid(outputs.logits).squeeze()\\n\\n        # Calculate MSE loss with sigmoid-transformed predictions\\n        loss = nn.functional.mse_loss(predictions, batch[\\'labels\\'].float())\\n        train_losses.append(loss.cpu().item())\\n\\n        # Backward pass\\n        loss.backward()\\n        optimizer.step()\\n        scheduler.step()\\n\\n    # Print average training loss for the epoch\\n    avg_train_loss = mean(train_losses)\\n    print(f\"Epoch: {epoch + 1} Training loss: {avg_train_loss:.2f}\")\\n\\n    # Save the model at the end of each epoch\\n    model.save_pretrained(fine_tuned_model_path)\\n    tokenizer.save_pretrained(fine_tuned_model_path)\\n\\n    # Evaluate NDCG using the saved model path\\n    ndcg = evaluate_beir(fine_tuned_model_path, NUM_NEG_SAMPLES=NUM_NEG_SAMPLES)\\n    print(f\"NDCG@1 for epoch {epoch + 1}: {ndcg:.4f}\")\\n    evaluate(model=model, dataloader=dataloader_valid, set_name=\\'Valid\\')\\n\\n\\n    # Check if this NDCG score is the highest seen so far\\n    if ndcg > best_ndcg:\\n        best_ndcg = ndcg\\n        # Save the model with the highest NDCG\\n        model.save_pretrained(best_model_path)\\n        tokenizer.save_pretrained(best_model_path)\\n        print(f\"New best model saved with NDCG@1: {ndcg:.4f}\")\\n\\nprint(\"Training complete. Best model saved at:\", best_model_path)\\n'"
            ]
          },
          "execution_count": 31,
          "metadata": {},
          "output_type": "execute_result"
        }
      ],
      "source": [
        "\"\"\"\n",
        "import torch\n",
        "from torch import nn, optim\n",
        "from tqdm.auto import tqdm\n",
        "from transformers import AutoModelForSequenceClassification, get_linear_schedule_with_warmup\n",
        "from statistics import mean\n",
        "import os\n",
        "torch.backends.cudnn.deterministic = True\n",
        "torch.backends.cudnn.benchmark = False\n",
        "seed = SEED\n",
        "random.seed(seed)\n",
        "np.random.seed(seed)\n",
        "torch.manual_seed(seed)\n",
        "torch.cuda.manual_seed_all(seed)  # if using CUDA\n",
        "# Set up device\n",
        "device = torch.device('cuda' if torch.cuda.is_available() else 'cpu')\n",
        "\n",
        "model = AutoModelForSequenceClassification.from_pretrained(model_name).to(device)\n",
        "\n",
        "# Initialize Embedding Weights with SVD-based IDF Modification\n",
        "# Step 1: Extract the original embedding matrix W_E\n",
        "W_E = model.get_input_embeddings().weight.detach().cpu()  # Original embedding matrix W_E\n",
        "\n",
        "# Step 2: Perform SVD on the embedding matrix W_E\n",
        "U, S, Vh = torch.linalg.svd(W_E, full_matrices=False)  # Perform SVD on W_E\n",
        "\n",
        "# Step 3: Load IDF scores and normalize them\n",
        "idf_file_path = f\"{DATASET}_idf_scores.csv\"\n",
        "idf_scores = pd.read_csv(idf_file_path).iloc[:, 1].tolist()  # Assuming IDF values are in the second column\n",
        "idf_tensor = -1 * torch.tensor(idf_scores, dtype=torch.float32)\n",
        "\n",
        "# Create a mask for entries in idf_tensor that are equal to -1.0\n",
        "mask = idf_tensor == -1.0\n",
        "# Count the number of masked elements\n",
        "num_masked_elements = mask.sum().item()\n",
        "print(\"Number of masked elements:\", num_masked_elements)\n",
        "print(\"Total number of elements in idf_tensor:\", idf_tensor.shape[0])\n",
        "\n",
        "# Normalize idf_tensor to match the distribution of the original U[:, 0]\n",
        "original_mean, original_std = U[:, 0].mean(), U[:, 0].std()\n",
        "idf_mean, idf_std = idf_tensor.mean(), idf_tensor.std()\n",
        "normalized_idf_tensor = (idf_tensor - idf_mean) / idf_std * original_std + original_mean\n",
        "\n",
        "# Use the mask to retain original U[:, 0] values for entries where idf_tensor == -1.0\n",
        "normalized_idf_tensor[mask] = U[:, 0][mask]\n",
        "\n",
        "# Set the first column of U to the modified IDF values\n",
        "U[:, 0] = normalized_idf_tensor\n",
        "\n",
        "# Step 4: Reconstruct W_E with the modified U\n",
        "W_E_modified = torch.mm(U, torch.diag(S)) @ Vh  # Reconstruct W_E with modified U\n",
        "model.get_input_embeddings().weight.data = W_E_modified.to(model.device)  # Assign modified W_E back to model\n",
        "\n",
        "# Step 5: Save the modified model and tokenizer if desired\n",
        "modified_model_path = \"modified_cross_encoder_model\"\n",
        "os.makedirs(modified_model_path, exist_ok=True)\n",
        "model.save_pretrained(modified_model_path)\n",
        "\n",
        "# Then start training\n",
        "\n",
        "# Freeze all layers except the embeddings\n",
        "for name, param in model.named_parameters():\n",
        "    if 'embeddings' not in name:  # Freeze all layers except embeddings\n",
        "        param.requires_grad = False\n",
        "\n",
        "# Verify the number of trainable parameters\n",
        "trainable_params = sum(p.numel() for p in model.parameters() if p.requires_grad)\n",
        "print(f'Trainable Parameters: {trainable_params}')\n",
        "\n",
        "# Training configuration\n",
        "epochs = 10\n",
        "learning_rate = 2e-5  # Adjust as necessary for training embeddings\n",
        "optimizer = optim.AdamW(filter(lambda p: p.requires_grad, model.parameters()), lr=learning_rate)  # Optimizer only for trainable params\n",
        "num_training_steps = epochs * len(dataloader_train)\n",
        "num_warmup_steps = int(num_training_steps * 0.1)\n",
        "scheduler = get_linear_schedule_with_warmup(optimizer, num_warmup_steps, num_training_steps)\n",
        "\n",
        "# Track the best validation loss\n",
        "best_val_loss = float(\"inf\")\n",
        "best_model_path = f\"finetune_{DATASET}/neg_samples_{NUM_NEG_SAMPLES}_seed{SEED}/best_model_aligned_embedding_NDCG_fixedrandom\"  # Path to save the best model\n",
        "# Track the best NDCG score\n",
        "best_ndcg = float(\"-inf\")\n",
        "fine_tuned_model_path = f\"finetune_{DATASET}/neg_samples_{NUM_NEG_SAMPLES}_seed{SEED}/temp_model_epoch_NDCG_aligned_embedding_fixedrandom\"\n",
        "\n",
        "os.makedirs(best_model_path, exist_ok=True)\n",
        "# Initial validation\n",
        "evaluate(model=model, dataloader=dataloader_valid, set_name='Valid')\n",
        "\n",
        "# Training loop\n",
        "for epoch in range(epochs):\n",
        "    model.train()\n",
        "    train_losses = []\n",
        "    print(f\"Epoch {epoch + 1}/{epochs}\")\n",
        "\n",
        "    for batch in tqdm(dataloader_train, desc=\"Train\"):\n",
        "        # Move batch to device\n",
        "        batch = {k: v.to(device) for k, v in batch.items()}\n",
        "\n",
        "        # Zero gradients\n",
        "        optimizer.zero_grad()\n",
        "\n",
        "        # Forward pass\n",
        "        outputs = model(**batch)\n",
        "\n",
        "        # Apply sigmoid to logits for binary relevance scores\n",
        "        predictions = torch.sigmoid(outputs.logits).squeeze()\n",
        "\n",
        "        # Calculate MSE loss with sigmoid-transformed predictions\n",
        "        loss = nn.functional.mse_loss(predictions, batch['labels'].float())\n",
        "        train_losses.append(loss.cpu().item())\n",
        "\n",
        "        # Backward pass\n",
        "        loss.backward()\n",
        "        optimizer.step()\n",
        "        scheduler.step()\n",
        "\n",
        "    # Print average training loss for the epoch\n",
        "    avg_train_loss = mean(train_losses)\n",
        "    print(f\"Epoch: {epoch + 1} Training loss: {avg_train_loss:.2f}\")\n",
        "\n",
        "    # Save the model at the end of each epoch\n",
        "    model.save_pretrained(fine_tuned_model_path)\n",
        "    tokenizer.save_pretrained(fine_tuned_model_path)\n",
        "\n",
        "    # Evaluate NDCG using the saved model path\n",
        "    ndcg = evaluate_beir(fine_tuned_model_path, NUM_NEG_SAMPLES=NUM_NEG_SAMPLES)\n",
        "    print(f\"NDCG@1 for epoch {epoch + 1}: {ndcg:.4f}\")\n",
        "    evaluate(model=model, dataloader=dataloader_valid, set_name='Valid')\n",
        "\n",
        "\n",
        "    # Check if this NDCG score is the highest seen so far\n",
        "    if ndcg > best_ndcg:\n",
        "        best_ndcg = ndcg\n",
        "        # Save the model with the highest NDCG\n",
        "        model.save_pretrained(best_model_path)\n",
        "        tokenizer.save_pretrained(best_model_path)\n",
        "        print(f\"New best model saved with NDCG@1: {ndcg:.4f}\")\n",
        "\n",
        "print(\"Training complete. Best model saved at:\", best_model_path)\n",
        "\"\"\""
      ]
    }
  ],
  "metadata": {
    "accelerator": "GPU",
    "colab": {
      "gpuType": "A100",
      "machine_shape": "hm",
      "provenance": []
    },
    "kernelspec": {
      "display_name": "tensor_env",
      "language": "python",
      "name": "python3"
    },
    "language_info": {
      "name": "python",
      "version": "3.10.12"
    },
    "widgets": {
      "application/vnd.jupyter.widget-state+json": {
        "041634e5441a41e09c7b0018495b7c3a": {
          "model_module": "@jupyter-widgets/base",
          "model_module_version": "1.2.0",
          "model_name": "LayoutModel",
          "state": {
            "_model_module": "@jupyter-widgets/base",
            "_model_module_version": "1.2.0",
            "_model_name": "LayoutModel",
            "_view_count": null,
            "_view_module": "@jupyter-widgets/base",
            "_view_module_version": "1.2.0",
            "_view_name": "LayoutView",
            "align_content": null,
            "align_items": null,
            "align_self": null,
            "border": null,
            "bottom": null,
            "display": null,
            "flex": null,
            "flex_flow": null,
            "grid_area": null,
            "grid_auto_columns": null,
            "grid_auto_flow": null,
            "grid_auto_rows": null,
            "grid_column": null,
            "grid_gap": null,
            "grid_row": null,
            "grid_template_areas": null,
            "grid_template_columns": null,
            "grid_template_rows": null,
            "height": null,
            "justify_content": null,
            "justify_items": null,
            "left": null,
            "margin": null,
            "max_height": null,
            "max_width": null,
            "min_height": null,
            "min_width": null,
            "object_fit": null,
            "object_position": null,
            "order": null,
            "overflow": null,
            "overflow_x": null,
            "overflow_y": null,
            "padding": null,
            "right": null,
            "top": null,
            "visibility": null,
            "width": null
          }
        },
        "0a4c581e26074c7997cecba14e9c9013": {
          "model_module": "@jupyter-widgets/controls",
          "model_module_version": "1.5.0",
          "model_name": "HTMLModel",
          "state": {
            "_dom_classes": [],
            "_model_module": "@jupyter-widgets/controls",
            "_model_module_version": "1.5.0",
            "_model_name": "HTMLModel",
            "_view_count": null,
            "_view_module": "@jupyter-widgets/controls",
            "_view_module_version": "1.5.0",
            "_view_name": "HTMLView",
            "description": "",
            "description_tooltip": null,
            "layout": "IPY_MODEL_62e1680869404703bb0ac0ed94c26bdf",
            "placeholder": "​",
            "style": "IPY_MODEL_f7df239184754570bd48f33d011d7cc5",
            "value": "config.json: 100%"
          }
        },
        "0b00214cd6f34abba8c19e65a7870fe0": {
          "model_module": "@jupyter-widgets/controls",
          "model_module_version": "1.5.0",
          "model_name": "HTMLModel",
          "state": {
            "_dom_classes": [],
            "_model_module": "@jupyter-widgets/controls",
            "_model_module_version": "1.5.0",
            "_model_name": "HTMLModel",
            "_view_count": null,
            "_view_module": "@jupyter-widgets/controls",
            "_view_module_version": "1.5.0",
            "_view_name": "HTMLView",
            "description": "",
            "description_tooltip": null,
            "layout": "IPY_MODEL_104efea0794c452787ae5b3c3703ae11",
            "placeholder": "​",
            "style": "IPY_MODEL_45d6935ad28247f58f13ce0b989e60dc",
            "value": " 112/112 [00:00&lt;00:00, 10.3kB/s]"
          }
        },
        "0d3f897c2fb94d86b1d74c30d5438262": {
          "model_module": "@jupyter-widgets/base",
          "model_module_version": "1.2.0",
          "model_name": "LayoutModel",
          "state": {
            "_model_module": "@jupyter-widgets/base",
            "_model_module_version": "1.2.0",
            "_model_name": "LayoutModel",
            "_view_count": null,
            "_view_module": "@jupyter-widgets/base",
            "_view_module_version": "1.2.0",
            "_view_name": "LayoutView",
            "align_content": null,
            "align_items": null,
            "align_self": null,
            "border": null,
            "bottom": null,
            "display": null,
            "flex": null,
            "flex_flow": null,
            "grid_area": null,
            "grid_auto_columns": null,
            "grid_auto_flow": null,
            "grid_auto_rows": null,
            "grid_column": null,
            "grid_gap": null,
            "grid_row": null,
            "grid_template_areas": null,
            "grid_template_columns": null,
            "grid_template_rows": null,
            "height": null,
            "justify_content": null,
            "justify_items": null,
            "left": null,
            "margin": null,
            "max_height": null,
            "max_width": null,
            "min_height": null,
            "min_width": null,
            "object_fit": null,
            "object_position": null,
            "order": null,
            "overflow": null,
            "overflow_x": null,
            "overflow_y": null,
            "padding": null,
            "right": null,
            "top": null,
            "visibility": null,
            "width": null
          }
        },
        "104efea0794c452787ae5b3c3703ae11": {
          "model_module": "@jupyter-widgets/base",
          "model_module_version": "1.2.0",
          "model_name": "LayoutModel",
          "state": {
            "_model_module": "@jupyter-widgets/base",
            "_model_module_version": "1.2.0",
            "_model_name": "LayoutModel",
            "_view_count": null,
            "_view_module": "@jupyter-widgets/base",
            "_view_module_version": "1.2.0",
            "_view_name": "LayoutView",
            "align_content": null,
            "align_items": null,
            "align_self": null,
            "border": null,
            "bottom": null,
            "display": null,
            "flex": null,
            "flex_flow": null,
            "grid_area": null,
            "grid_auto_columns": null,
            "grid_auto_flow": null,
            "grid_auto_rows": null,
            "grid_column": null,
            "grid_gap": null,
            "grid_row": null,
            "grid_template_areas": null,
            "grid_template_columns": null,
            "grid_template_rows": null,
            "height": null,
            "justify_content": null,
            "justify_items": null,
            "left": null,
            "margin": null,
            "max_height": null,
            "max_width": null,
            "min_height": null,
            "min_width": null,
            "object_fit": null,
            "object_position": null,
            "order": null,
            "overflow": null,
            "overflow_x": null,
            "overflow_y": null,
            "padding": null,
            "right": null,
            "top": null,
            "visibility": null,
            "width": null
          }
        },
        "1564e4a623644dd88cbf243db467c229": {
          "model_module": "@jupyter-widgets/base",
          "model_module_version": "1.2.0",
          "model_name": "LayoutModel",
          "state": {
            "_model_module": "@jupyter-widgets/base",
            "_model_module_version": "1.2.0",
            "_model_name": "LayoutModel",
            "_view_count": null,
            "_view_module": "@jupyter-widgets/base",
            "_view_module_version": "1.2.0",
            "_view_name": "LayoutView",
            "align_content": null,
            "align_items": null,
            "align_self": null,
            "border": null,
            "bottom": null,
            "display": null,
            "flex": null,
            "flex_flow": null,
            "grid_area": null,
            "grid_auto_columns": null,
            "grid_auto_flow": null,
            "grid_auto_rows": null,
            "grid_column": null,
            "grid_gap": null,
            "grid_row": null,
            "grid_template_areas": null,
            "grid_template_columns": null,
            "grid_template_rows": null,
            "height": null,
            "justify_content": null,
            "justify_items": null,
            "left": null,
            "margin": null,
            "max_height": null,
            "max_width": null,
            "min_height": null,
            "min_width": null,
            "object_fit": null,
            "object_position": null,
            "order": null,
            "overflow": null,
            "overflow_x": null,
            "overflow_y": null,
            "padding": null,
            "right": null,
            "top": null,
            "visibility": null,
            "width": null
          }
        },
        "1764723bbbc94a3c91fa96e58e954570": {
          "model_module": "@jupyter-widgets/controls",
          "model_module_version": "1.5.0",
          "model_name": "FloatProgressModel",
          "state": {
            "_dom_classes": [],
            "_model_module": "@jupyter-widgets/controls",
            "_model_module_version": "1.5.0",
            "_model_name": "FloatProgressModel",
            "_view_count": null,
            "_view_module": "@jupyter-widgets/controls",
            "_view_module_version": "1.5.0",
            "_view_name": "ProgressView",
            "bar_style": "",
            "description": "",
            "description_tooltip": null,
            "layout": "IPY_MODEL_abd7855632ae4e8ab7e34b8656ef9108",
            "max": 3125,
            "min": 0,
            "orientation": "horizontal",
            "style": "IPY_MODEL_ca4e4cc69f5743fc95367bcfcfe389b2",
            "value": 170
          }
        },
        "1ce756cfa68d4bc5954f77e32bdac2fc": {
          "model_module": "@jupyter-widgets/controls",
          "model_module_version": "1.5.0",
          "model_name": "HBoxModel",
          "state": {
            "_dom_classes": [],
            "_model_module": "@jupyter-widgets/controls",
            "_model_module_version": "1.5.0",
            "_model_name": "HBoxModel",
            "_view_count": null,
            "_view_module": "@jupyter-widgets/controls",
            "_view_module_version": "1.5.0",
            "_view_name": "HBoxView",
            "box_style": "",
            "children": [
              "IPY_MODEL_f8e30d1364694ab4bcebc277a6bafce7",
              "IPY_MODEL_3399fc8251674c61ac18e9966d7d7de6",
              "IPY_MODEL_2f5713a8b59c4d0a9bb5e8a14b3cc117"
            ],
            "layout": "IPY_MODEL_fa2801dc02b446d7b520408358ac7684"
          }
        },
        "24bc17addc184b61b8e236b868237c39": {
          "model_module": "@jupyter-widgets/controls",
          "model_module_version": "1.5.0",
          "model_name": "ProgressStyleModel",
          "state": {
            "_model_module": "@jupyter-widgets/controls",
            "_model_module_version": "1.5.0",
            "_model_name": "ProgressStyleModel",
            "_view_count": null,
            "_view_module": "@jupyter-widgets/base",
            "_view_module_version": "1.2.0",
            "_view_name": "StyleView",
            "bar_color": null,
            "description_width": ""
          }
        },
        "2c12f02bae6a4802924f7e3910a932b3": {
          "model_module": "@jupyter-widgets/base",
          "model_module_version": "1.2.0",
          "model_name": "LayoutModel",
          "state": {
            "_model_module": "@jupyter-widgets/base",
            "_model_module_version": "1.2.0",
            "_model_name": "LayoutModel",
            "_view_count": null,
            "_view_module": "@jupyter-widgets/base",
            "_view_module_version": "1.2.0",
            "_view_name": "LayoutView",
            "align_content": null,
            "align_items": null,
            "align_self": null,
            "border": null,
            "bottom": null,
            "display": null,
            "flex": null,
            "flex_flow": null,
            "grid_area": null,
            "grid_auto_columns": null,
            "grid_auto_flow": null,
            "grid_auto_rows": null,
            "grid_column": null,
            "grid_gap": null,
            "grid_row": null,
            "grid_template_areas": null,
            "grid_template_columns": null,
            "grid_template_rows": null,
            "height": null,
            "justify_content": null,
            "justify_items": null,
            "left": null,
            "margin": null,
            "max_height": null,
            "max_width": null,
            "min_height": null,
            "min_width": null,
            "object_fit": null,
            "object_position": null,
            "order": null,
            "overflow": null,
            "overflow_x": null,
            "overflow_y": null,
            "padding": null,
            "right": null,
            "top": null,
            "visibility": null,
            "width": null
          }
        },
        "2f5713a8b59c4d0a9bb5e8a14b3cc117": {
          "model_module": "@jupyter-widgets/controls",
          "model_module_version": "1.5.0",
          "model_name": "HTMLModel",
          "state": {
            "_dom_classes": [],
            "_model_module": "@jupyter-widgets/controls",
            "_model_module_version": "1.5.0",
            "_model_name": "HTMLModel",
            "_view_count": null,
            "_view_module": "@jupyter-widgets/controls",
            "_view_module_version": "1.5.0",
            "_view_name": "HTMLView",
            "description": "",
            "description_tooltip": null,
            "layout": "IPY_MODEL_7cdae7b4b4cb4a44b0fb5dd40b61646f",
            "placeholder": "​",
            "style": "IPY_MODEL_c5879d5428914af285286498c191eba7",
            "value": " 316/316 [00:00&lt;00:00, 23.6kB/s]"
          }
        },
        "3399fc8251674c61ac18e9966d7d7de6": {
          "model_module": "@jupyter-widgets/controls",
          "model_module_version": "1.5.0",
          "model_name": "FloatProgressModel",
          "state": {
            "_dom_classes": [],
            "_model_module": "@jupyter-widgets/controls",
            "_model_module_version": "1.5.0",
            "_model_name": "FloatProgressModel",
            "_view_count": null,
            "_view_module": "@jupyter-widgets/controls",
            "_view_module_version": "1.5.0",
            "_view_name": "ProgressView",
            "bar_style": "success",
            "description": "",
            "description_tooltip": null,
            "layout": "IPY_MODEL_2c12f02bae6a4802924f7e3910a932b3",
            "max": 316,
            "min": 0,
            "orientation": "horizontal",
            "style": "IPY_MODEL_638b06f5ea5543feb68cc826da16d976",
            "value": 316
          }
        },
        "377c0d72226341c38556613956446538": {
          "model_module": "@jupyter-widgets/base",
          "model_module_version": "1.2.0",
          "model_name": "LayoutModel",
          "state": {
            "_model_module": "@jupyter-widgets/base",
            "_model_module_version": "1.2.0",
            "_model_name": "LayoutModel",
            "_view_count": null,
            "_view_module": "@jupyter-widgets/base",
            "_view_module_version": "1.2.0",
            "_view_name": "LayoutView",
            "align_content": null,
            "align_items": null,
            "align_self": null,
            "border": null,
            "bottom": null,
            "display": null,
            "flex": null,
            "flex_flow": null,
            "grid_area": null,
            "grid_auto_columns": null,
            "grid_auto_flow": null,
            "grid_auto_rows": null,
            "grid_column": null,
            "grid_gap": null,
            "grid_row": null,
            "grid_template_areas": null,
            "grid_template_columns": null,
            "grid_template_rows": null,
            "height": null,
            "justify_content": null,
            "justify_items": null,
            "left": null,
            "margin": null,
            "max_height": null,
            "max_width": null,
            "min_height": null,
            "min_width": null,
            "object_fit": null,
            "object_position": null,
            "order": null,
            "overflow": null,
            "overflow_x": null,
            "overflow_y": null,
            "padding": null,
            "right": null,
            "top": null,
            "visibility": null,
            "width": null
          }
        },
        "412a479c2c8e4692afc79c241bd06fcc": {
          "model_module": "@jupyter-widgets/base",
          "model_module_version": "1.2.0",
          "model_name": "LayoutModel",
          "state": {
            "_model_module": "@jupyter-widgets/base",
            "_model_module_version": "1.2.0",
            "_model_name": "LayoutModel",
            "_view_count": null,
            "_view_module": "@jupyter-widgets/base",
            "_view_module_version": "1.2.0",
            "_view_name": "LayoutView",
            "align_content": null,
            "align_items": null,
            "align_self": null,
            "border": null,
            "bottom": null,
            "display": null,
            "flex": null,
            "flex_flow": null,
            "grid_area": null,
            "grid_auto_columns": null,
            "grid_auto_flow": null,
            "grid_auto_rows": null,
            "grid_column": null,
            "grid_gap": null,
            "grid_row": null,
            "grid_template_areas": null,
            "grid_template_columns": null,
            "grid_template_rows": null,
            "height": null,
            "justify_content": null,
            "justify_items": null,
            "left": null,
            "margin": null,
            "max_height": null,
            "max_width": null,
            "min_height": null,
            "min_width": null,
            "object_fit": null,
            "object_position": null,
            "order": null,
            "overflow": null,
            "overflow_x": null,
            "overflow_y": null,
            "padding": null,
            "right": null,
            "top": null,
            "visibility": null,
            "width": null
          }
        },
        "45d6935ad28247f58f13ce0b989e60dc": {
          "model_module": "@jupyter-widgets/controls",
          "model_module_version": "1.5.0",
          "model_name": "DescriptionStyleModel",
          "state": {
            "_model_module": "@jupyter-widgets/controls",
            "_model_module_version": "1.5.0",
            "_model_name": "DescriptionStyleModel",
            "_view_count": null,
            "_view_module": "@jupyter-widgets/base",
            "_view_module_version": "1.2.0",
            "_view_name": "StyleView",
            "description_width": ""
          }
        },
        "47fb9ab401f54632b00ef284c2b3c6d9": {
          "model_module": "@jupyter-widgets/controls",
          "model_module_version": "1.5.0",
          "model_name": "ProgressStyleModel",
          "state": {
            "_model_module": "@jupyter-widgets/controls",
            "_model_module_version": "1.5.0",
            "_model_name": "ProgressStyleModel",
            "_view_count": null,
            "_view_module": "@jupyter-widgets/base",
            "_view_module_version": "1.2.0",
            "_view_name": "StyleView",
            "bar_color": null,
            "description_width": ""
          }
        },
        "4a2802459bc444d788a47c623ade8a54": {
          "model_module": "@jupyter-widgets/controls",
          "model_module_version": "1.5.0",
          "model_name": "DescriptionStyleModel",
          "state": {
            "_model_module": "@jupyter-widgets/controls",
            "_model_module_version": "1.5.0",
            "_model_name": "DescriptionStyleModel",
            "_view_count": null,
            "_view_module": "@jupyter-widgets/base",
            "_view_module_version": "1.2.0",
            "_view_name": "StyleView",
            "description_width": ""
          }
        },
        "4b0b86f6e6ba47d5afe505b1e0a5671e": {
          "model_module": "@jupyter-widgets/controls",
          "model_module_version": "1.5.0",
          "model_name": "DescriptionStyleModel",
          "state": {
            "_model_module": "@jupyter-widgets/controls",
            "_model_module_version": "1.5.0",
            "_model_name": "DescriptionStyleModel",
            "_view_count": null,
            "_view_module": "@jupyter-widgets/base",
            "_view_module_version": "1.2.0",
            "_view_name": "StyleView",
            "description_width": ""
          }
        },
        "4e3f52b16bfc4dccb729070c918aeac1": {
          "model_module": "@jupyter-widgets/controls",
          "model_module_version": "1.5.0",
          "model_name": "FloatProgressModel",
          "state": {
            "_dom_classes": [],
            "_model_module": "@jupyter-widgets/controls",
            "_model_module_version": "1.5.0",
            "_model_name": "FloatProgressModel",
            "_view_count": null,
            "_view_module": "@jupyter-widgets/controls",
            "_view_module_version": "1.5.0",
            "_view_name": "ProgressView",
            "bar_style": "success",
            "description": "",
            "description_tooltip": null,
            "layout": "IPY_MODEL_7c31be304a5a4904a6bfa15461ac0b4c",
            "max": 313,
            "min": 0,
            "orientation": "horizontal",
            "style": "IPY_MODEL_ad37113992a4494ea4ebbbfb3511276d",
            "value": 313
          }
        },
        "52995d558f22456999b3be2358ec9c88": {
          "model_module": "@jupyter-widgets/base",
          "model_module_version": "1.2.0",
          "model_name": "LayoutModel",
          "state": {
            "_model_module": "@jupyter-widgets/base",
            "_model_module_version": "1.2.0",
            "_model_name": "LayoutModel",
            "_view_count": null,
            "_view_module": "@jupyter-widgets/base",
            "_view_module_version": "1.2.0",
            "_view_name": "LayoutView",
            "align_content": null,
            "align_items": null,
            "align_self": null,
            "border": null,
            "bottom": null,
            "display": null,
            "flex": null,
            "flex_flow": null,
            "grid_area": null,
            "grid_auto_columns": null,
            "grid_auto_flow": null,
            "grid_auto_rows": null,
            "grid_column": null,
            "grid_gap": null,
            "grid_row": null,
            "grid_template_areas": null,
            "grid_template_columns": null,
            "grid_template_rows": null,
            "height": null,
            "justify_content": null,
            "justify_items": null,
            "left": null,
            "margin": null,
            "max_height": null,
            "max_width": null,
            "min_height": null,
            "min_width": null,
            "object_fit": null,
            "object_position": null,
            "order": null,
            "overflow": null,
            "overflow_x": null,
            "overflow_y": null,
            "padding": null,
            "right": null,
            "top": null,
            "visibility": null,
            "width": null
          }
        },
        "5380c9e86bcd4680ae08342df9699a74": {
          "model_module": "@jupyter-widgets/base",
          "model_module_version": "1.2.0",
          "model_name": "LayoutModel",
          "state": {
            "_model_module": "@jupyter-widgets/base",
            "_model_module_version": "1.2.0",
            "_model_name": "LayoutModel",
            "_view_count": null,
            "_view_module": "@jupyter-widgets/base",
            "_view_module_version": "1.2.0",
            "_view_name": "LayoutView",
            "align_content": null,
            "align_items": null,
            "align_self": null,
            "border": null,
            "bottom": null,
            "display": null,
            "flex": null,
            "flex_flow": null,
            "grid_area": null,
            "grid_auto_columns": null,
            "grid_auto_flow": null,
            "grid_auto_rows": null,
            "grid_column": null,
            "grid_gap": null,
            "grid_row": null,
            "grid_template_areas": null,
            "grid_template_columns": null,
            "grid_template_rows": null,
            "height": null,
            "justify_content": null,
            "justify_items": null,
            "left": null,
            "margin": null,
            "max_height": null,
            "max_width": null,
            "min_height": null,
            "min_width": null,
            "object_fit": null,
            "object_position": null,
            "order": null,
            "overflow": null,
            "overflow_x": null,
            "overflow_y": null,
            "padding": null,
            "right": null,
            "top": null,
            "visibility": null,
            "width": null
          }
        },
        "5c15d80105c3439db45839ee83d90791": {
          "model_module": "@jupyter-widgets/controls",
          "model_module_version": "1.5.0",
          "model_name": "FloatProgressModel",
          "state": {
            "_dom_classes": [],
            "_model_module": "@jupyter-widgets/controls",
            "_model_module_version": "1.5.0",
            "_model_name": "FloatProgressModel",
            "_view_count": null,
            "_view_module": "@jupyter-widgets/controls",
            "_view_module_version": "1.5.0",
            "_view_name": "ProgressView",
            "bar_style": "success",
            "description": "",
            "description_tooltip": null,
            "layout": "IPY_MODEL_377c0d72226341c38556613956446538",
            "max": 791,
            "min": 0,
            "orientation": "horizontal",
            "style": "IPY_MODEL_c3f2742ec4f743dd84159dc2de0f6e43",
            "value": 791
          }
        },
        "62e1680869404703bb0ac0ed94c26bdf": {
          "model_module": "@jupyter-widgets/base",
          "model_module_version": "1.2.0",
          "model_name": "LayoutModel",
          "state": {
            "_model_module": "@jupyter-widgets/base",
            "_model_module_version": "1.2.0",
            "_model_name": "LayoutModel",
            "_view_count": null,
            "_view_module": "@jupyter-widgets/base",
            "_view_module_version": "1.2.0",
            "_view_name": "LayoutView",
            "align_content": null,
            "align_items": null,
            "align_self": null,
            "border": null,
            "bottom": null,
            "display": null,
            "flex": null,
            "flex_flow": null,
            "grid_area": null,
            "grid_auto_columns": null,
            "grid_auto_flow": null,
            "grid_auto_rows": null,
            "grid_column": null,
            "grid_gap": null,
            "grid_row": null,
            "grid_template_areas": null,
            "grid_template_columns": null,
            "grid_template_rows": null,
            "height": null,
            "justify_content": null,
            "justify_items": null,
            "left": null,
            "margin": null,
            "max_height": null,
            "max_width": null,
            "min_height": null,
            "min_width": null,
            "object_fit": null,
            "object_position": null,
            "order": null,
            "overflow": null,
            "overflow_x": null,
            "overflow_y": null,
            "padding": null,
            "right": null,
            "top": null,
            "visibility": null,
            "width": null
          }
        },
        "638b06f5ea5543feb68cc826da16d976": {
          "model_module": "@jupyter-widgets/controls",
          "model_module_version": "1.5.0",
          "model_name": "ProgressStyleModel",
          "state": {
            "_model_module": "@jupyter-widgets/controls",
            "_model_module_version": "1.5.0",
            "_model_name": "ProgressStyleModel",
            "_view_count": null,
            "_view_module": "@jupyter-widgets/base",
            "_view_module_version": "1.2.0",
            "_view_name": "StyleView",
            "bar_color": null,
            "description_width": ""
          }
        },
        "64122b10a5f1405cbc2011960ee9edf5": {
          "model_module": "@jupyter-widgets/controls",
          "model_module_version": "1.5.0",
          "model_name": "DescriptionStyleModel",
          "state": {
            "_model_module": "@jupyter-widgets/controls",
            "_model_module_version": "1.5.0",
            "_model_name": "DescriptionStyleModel",
            "_view_count": null,
            "_view_module": "@jupyter-widgets/base",
            "_view_module_version": "1.2.0",
            "_view_name": "StyleView",
            "description_width": ""
          }
        },
        "71e3e1b788a84203a77cc8a5bacef578": {
          "model_module": "@jupyter-widgets/controls",
          "model_module_version": "1.5.0",
          "model_name": "HTMLModel",
          "state": {
            "_dom_classes": [],
            "_model_module": "@jupyter-widgets/controls",
            "_model_module_version": "1.5.0",
            "_model_name": "HTMLModel",
            "_view_count": null,
            "_view_module": "@jupyter-widgets/controls",
            "_view_module_version": "1.5.0",
            "_view_name": "HTMLView",
            "description": "",
            "description_tooltip": null,
            "layout": "IPY_MODEL_1564e4a623644dd88cbf243db467c229",
            "placeholder": "​",
            "style": "IPY_MODEL_7b96decf3690440fb3bfd26db6fd5cf7",
            "value": "vocab.txt: 100%"
          }
        },
        "720c2e0b8a91428da97c048b554e7b02": {
          "model_module": "@jupyter-widgets/controls",
          "model_module_version": "1.5.0",
          "model_name": "HTMLModel",
          "state": {
            "_dom_classes": [],
            "_model_module": "@jupyter-widgets/controls",
            "_model_module_version": "1.5.0",
            "_model_name": "HTMLModel",
            "_view_count": null,
            "_view_module": "@jupyter-widgets/controls",
            "_view_module_version": "1.5.0",
            "_view_name": "HTMLView",
            "description": "",
            "description_tooltip": null,
            "layout": "IPY_MODEL_d673023d6e964b96a93a56108d387cb7",
            "placeholder": "​",
            "style": "IPY_MODEL_cdf8a306457a473ab4a86c826f0ae613",
            "value": "100%"
          }
        },
        "75cb7c97847741129ecb534bb258c7a8": {
          "model_module": "@jupyter-widgets/controls",
          "model_module_version": "1.5.0",
          "model_name": "HBoxModel",
          "state": {
            "_dom_classes": [],
            "_model_module": "@jupyter-widgets/controls",
            "_model_module_version": "1.5.0",
            "_model_name": "HBoxModel",
            "_view_count": null,
            "_view_module": "@jupyter-widgets/controls",
            "_view_module_version": "1.5.0",
            "_view_name": "HBoxView",
            "box_style": "",
            "children": [
              "IPY_MODEL_720c2e0b8a91428da97c048b554e7b02",
              "IPY_MODEL_aded01f48720493d84f9f9dc1b0a9d53",
              "IPY_MODEL_8c2ce2dd461242a2911377f57544ec20"
            ],
            "layout": "IPY_MODEL_cdcd377ee9a344b8943da62c84bc1026"
          }
        },
        "786f4e938d5a488b9911d210d2a0714a": {
          "model_module": "@jupyter-widgets/controls",
          "model_module_version": "1.5.0",
          "model_name": "HBoxModel",
          "state": {
            "_dom_classes": [],
            "_model_module": "@jupyter-widgets/controls",
            "_model_module_version": "1.5.0",
            "_model_name": "HBoxModel",
            "_view_count": null,
            "_view_module": "@jupyter-widgets/controls",
            "_view_module_version": "1.5.0",
            "_view_name": "HBoxView",
            "box_style": "",
            "children": [
              "IPY_MODEL_71e3e1b788a84203a77cc8a5bacef578",
              "IPY_MODEL_cb697483cba442d794870754e6a4c668",
              "IPY_MODEL_994a33589da04091ba89d89e08b1a349"
            ],
            "layout": "IPY_MODEL_0d3f897c2fb94d86b1d74c30d5438262"
          }
        },
        "78bb84efedb440e99403927a50380d9c": {
          "model_module": "@jupyter-widgets/base",
          "model_module_version": "1.2.0",
          "model_name": "LayoutModel",
          "state": {
            "_model_module": "@jupyter-widgets/base",
            "_model_module_version": "1.2.0",
            "_model_name": "LayoutModel",
            "_view_count": null,
            "_view_module": "@jupyter-widgets/base",
            "_view_module_version": "1.2.0",
            "_view_name": "LayoutView",
            "align_content": null,
            "align_items": null,
            "align_self": null,
            "border": null,
            "bottom": null,
            "display": null,
            "flex": null,
            "flex_flow": null,
            "grid_area": null,
            "grid_auto_columns": null,
            "grid_auto_flow": null,
            "grid_auto_rows": null,
            "grid_column": null,
            "grid_gap": null,
            "grid_row": null,
            "grid_template_areas": null,
            "grid_template_columns": null,
            "grid_template_rows": null,
            "height": null,
            "justify_content": null,
            "justify_items": null,
            "left": null,
            "margin": null,
            "max_height": null,
            "max_width": null,
            "min_height": null,
            "min_width": null,
            "object_fit": null,
            "object_position": null,
            "order": null,
            "overflow": null,
            "overflow_x": null,
            "overflow_y": null,
            "padding": null,
            "right": null,
            "top": null,
            "visibility": null,
            "width": null
          }
        },
        "7b96decf3690440fb3bfd26db6fd5cf7": {
          "model_module": "@jupyter-widgets/controls",
          "model_module_version": "1.5.0",
          "model_name": "DescriptionStyleModel",
          "state": {
            "_model_module": "@jupyter-widgets/controls",
            "_model_module_version": "1.5.0",
            "_model_name": "DescriptionStyleModel",
            "_view_count": null,
            "_view_module": "@jupyter-widgets/base",
            "_view_module_version": "1.2.0",
            "_view_name": "StyleView",
            "description_width": ""
          }
        },
        "7c31be304a5a4904a6bfa15461ac0b4c": {
          "model_module": "@jupyter-widgets/base",
          "model_module_version": "1.2.0",
          "model_name": "LayoutModel",
          "state": {
            "_model_module": "@jupyter-widgets/base",
            "_model_module_version": "1.2.0",
            "_model_name": "LayoutModel",
            "_view_count": null,
            "_view_module": "@jupyter-widgets/base",
            "_view_module_version": "1.2.0",
            "_view_name": "LayoutView",
            "align_content": null,
            "align_items": null,
            "align_self": null,
            "border": null,
            "bottom": null,
            "display": null,
            "flex": null,
            "flex_flow": null,
            "grid_area": null,
            "grid_auto_columns": null,
            "grid_auto_flow": null,
            "grid_auto_rows": null,
            "grid_column": null,
            "grid_gap": null,
            "grid_row": null,
            "grid_template_areas": null,
            "grid_template_columns": null,
            "grid_template_rows": null,
            "height": null,
            "justify_content": null,
            "justify_items": null,
            "left": null,
            "margin": null,
            "max_height": null,
            "max_width": null,
            "min_height": null,
            "min_width": null,
            "object_fit": null,
            "object_position": null,
            "order": null,
            "overflow": null,
            "overflow_x": null,
            "overflow_y": null,
            "padding": null,
            "right": null,
            "top": null,
            "visibility": null,
            "width": null
          }
        },
        "7cad6dcbc6344e6e8177b21c13cc0994": {
          "model_module": "@jupyter-widgets/controls",
          "model_module_version": "1.5.0",
          "model_name": "ProgressStyleModel",
          "state": {
            "_model_module": "@jupyter-widgets/controls",
            "_model_module_version": "1.5.0",
            "_model_name": "ProgressStyleModel",
            "_view_count": null,
            "_view_module": "@jupyter-widgets/base",
            "_view_module_version": "1.2.0",
            "_view_name": "StyleView",
            "bar_color": null,
            "description_width": ""
          }
        },
        "7cdae7b4b4cb4a44b0fb5dd40b61646f": {
          "model_module": "@jupyter-widgets/base",
          "model_module_version": "1.2.0",
          "model_name": "LayoutModel",
          "state": {
            "_model_module": "@jupyter-widgets/base",
            "_model_module_version": "1.2.0",
            "_model_name": "LayoutModel",
            "_view_count": null,
            "_view_module": "@jupyter-widgets/base",
            "_view_module_version": "1.2.0",
            "_view_name": "LayoutView",
            "align_content": null,
            "align_items": null,
            "align_self": null,
            "border": null,
            "bottom": null,
            "display": null,
            "flex": null,
            "flex_flow": null,
            "grid_area": null,
            "grid_auto_columns": null,
            "grid_auto_flow": null,
            "grid_auto_rows": null,
            "grid_column": null,
            "grid_gap": null,
            "grid_row": null,
            "grid_template_areas": null,
            "grid_template_columns": null,
            "grid_template_rows": null,
            "height": null,
            "justify_content": null,
            "justify_items": null,
            "left": null,
            "margin": null,
            "max_height": null,
            "max_width": null,
            "min_height": null,
            "min_width": null,
            "object_fit": null,
            "object_position": null,
            "order": null,
            "overflow": null,
            "overflow_x": null,
            "overflow_y": null,
            "padding": null,
            "right": null,
            "top": null,
            "visibility": null,
            "width": null
          }
        },
        "830b7650e0474b6dae88c08d2bedf04a": {
          "model_module": "@jupyter-widgets/base",
          "model_module_version": "1.2.0",
          "model_name": "LayoutModel",
          "state": {
            "_model_module": "@jupyter-widgets/base",
            "_model_module_version": "1.2.0",
            "_model_name": "LayoutModel",
            "_view_count": null,
            "_view_module": "@jupyter-widgets/base",
            "_view_module_version": "1.2.0",
            "_view_name": "LayoutView",
            "align_content": null,
            "align_items": null,
            "align_self": null,
            "border": null,
            "bottom": null,
            "display": null,
            "flex": null,
            "flex_flow": null,
            "grid_area": null,
            "grid_auto_columns": null,
            "grid_auto_flow": null,
            "grid_auto_rows": null,
            "grid_column": null,
            "grid_gap": null,
            "grid_row": null,
            "grid_template_areas": null,
            "grid_template_columns": null,
            "grid_template_rows": null,
            "height": null,
            "justify_content": null,
            "justify_items": null,
            "left": null,
            "margin": null,
            "max_height": null,
            "max_width": null,
            "min_height": null,
            "min_width": null,
            "object_fit": null,
            "object_position": null,
            "order": null,
            "overflow": null,
            "overflow_x": null,
            "overflow_y": null,
            "padding": null,
            "right": null,
            "top": null,
            "visibility": null,
            "width": null
          }
        },
        "887699232fad488fb4503f18b92afd28": {
          "model_module": "@jupyter-widgets/controls",
          "model_module_version": "1.5.0",
          "model_name": "HBoxModel",
          "state": {
            "_dom_classes": [],
            "_model_module": "@jupyter-widgets/controls",
            "_model_module_version": "1.5.0",
            "_model_name": "HBoxModel",
            "_view_count": null,
            "_view_module": "@jupyter-widgets/controls",
            "_view_module_version": "1.5.0",
            "_view_name": "HBoxView",
            "box_style": "",
            "children": [
              "IPY_MODEL_c28cd18e12094f3cbc34711f6e184379",
              "IPY_MODEL_8cc4ab0815a942cb8ea23377c1013f73",
              "IPY_MODEL_b229311f871d4051a244b480ac5360f3"
            ],
            "layout": "IPY_MODEL_f0ec1e4f257d404489e7eeecc58034c6"
          }
        },
        "8c2ce2dd461242a2911377f57544ec20": {
          "model_module": "@jupyter-widgets/controls",
          "model_module_version": "1.5.0",
          "model_name": "HTMLModel",
          "state": {
            "_dom_classes": [],
            "_model_module": "@jupyter-widgets/controls",
            "_model_module_version": "1.5.0",
            "_model_name": "HTMLModel",
            "_view_count": null,
            "_view_module": "@jupyter-widgets/controls",
            "_view_module_version": "1.5.0",
            "_view_name": "HTMLView",
            "description": "",
            "description_tooltip": null,
            "layout": "IPY_MODEL_c478180972114926b89d294db86befee",
            "placeholder": "​",
            "style": "IPY_MODEL_93fc0947c8b14e449bd9ce12ddd9fe88",
            "value": " 3633/3633 [00:00&lt;00:00, 73567.23it/s]"
          }
        },
        "8cc4ab0815a942cb8ea23377c1013f73": {
          "model_module": "@jupyter-widgets/controls",
          "model_module_version": "1.5.0",
          "model_name": "FloatProgressModel",
          "state": {
            "_dom_classes": [],
            "_model_module": "@jupyter-widgets/controls",
            "_model_module_version": "1.5.0",
            "_model_name": "FloatProgressModel",
            "_view_count": null,
            "_view_module": "@jupyter-widgets/controls",
            "_view_module_version": "1.5.0",
            "_view_name": "ProgressView",
            "bar_style": "success",
            "description": "",
            "description_tooltip": null,
            "layout": "IPY_MODEL_ca7fab7d80bb4051a78887070ae93520",
            "max": 133469020,
            "min": 0,
            "orientation": "horizontal",
            "style": "IPY_MODEL_7cad6dcbc6344e6e8177b21c13cc0994",
            "value": 133469020
          }
        },
        "93fc0947c8b14e449bd9ce12ddd9fe88": {
          "model_module": "@jupyter-widgets/controls",
          "model_module_version": "1.5.0",
          "model_name": "DescriptionStyleModel",
          "state": {
            "_model_module": "@jupyter-widgets/controls",
            "_model_module_version": "1.5.0",
            "_model_name": "DescriptionStyleModel",
            "_view_count": null,
            "_view_module": "@jupyter-widgets/base",
            "_view_module_version": "1.2.0",
            "_view_name": "StyleView",
            "description_width": ""
          }
        },
        "96d67ae3f41742198802080bfba139f2": {
          "model_module": "@jupyter-widgets/controls",
          "model_module_version": "1.5.0",
          "model_name": "DescriptionStyleModel",
          "state": {
            "_model_module": "@jupyter-widgets/controls",
            "_model_module_version": "1.5.0",
            "_model_name": "DescriptionStyleModel",
            "_view_count": null,
            "_view_module": "@jupyter-widgets/base",
            "_view_module_version": "1.2.0",
            "_view_name": "StyleView",
            "description_width": ""
          }
        },
        "994a33589da04091ba89d89e08b1a349": {
          "model_module": "@jupyter-widgets/controls",
          "model_module_version": "1.5.0",
          "model_name": "HTMLModel",
          "state": {
            "_dom_classes": [],
            "_model_module": "@jupyter-widgets/controls",
            "_model_module_version": "1.5.0",
            "_model_name": "HTMLModel",
            "_view_count": null,
            "_view_module": "@jupyter-widgets/controls",
            "_view_module_version": "1.5.0",
            "_view_name": "HTMLView",
            "description": "",
            "description_tooltip": null,
            "layout": "IPY_MODEL_830b7650e0474b6dae88c08d2bedf04a",
            "placeholder": "​",
            "style": "IPY_MODEL_ffa70815efa542fa82d67453754f55ea",
            "value": " 232k/232k [00:00&lt;00:00, 2.65MB/s]"
          }
        },
        "9e1cc41cbc3240698e6b575a5feb0215": {
          "model_module": "@jupyter-widgets/controls",
          "model_module_version": "1.5.0",
          "model_name": "HBoxModel",
          "state": {
            "_dom_classes": [],
            "_model_module": "@jupyter-widgets/controls",
            "_model_module_version": "1.5.0",
            "_model_name": "HBoxModel",
            "_view_count": null,
            "_view_module": "@jupyter-widgets/controls",
            "_view_module_version": "1.5.0",
            "_view_name": "HBoxView",
            "box_style": "",
            "children": [
              "IPY_MODEL_cc06c15c93d44eb8b35fc35d3fef0c8f",
              "IPY_MODEL_4e3f52b16bfc4dccb729070c918aeac1",
              "IPY_MODEL_c0f30ed5f5014e838756c424a224d1e9"
            ],
            "layout": "IPY_MODEL_041634e5441a41e09c7b0018495b7c3a"
          }
        },
        "a123fd8770804fd1b49924a1a219da63": {
          "model_module": "@jupyter-widgets/controls",
          "model_module_version": "1.5.0",
          "model_name": "ProgressStyleModel",
          "state": {
            "_model_module": "@jupyter-widgets/controls",
            "_model_module_version": "1.5.0",
            "_model_name": "ProgressStyleModel",
            "_view_count": null,
            "_view_module": "@jupyter-widgets/base",
            "_view_module_version": "1.2.0",
            "_view_name": "StyleView",
            "bar_color": null,
            "description_width": ""
          }
        },
        "aa08c95013ca47f6b33ef34f010e7fc7": {
          "model_module": "@jupyter-widgets/base",
          "model_module_version": "1.2.0",
          "model_name": "LayoutModel",
          "state": {
            "_model_module": "@jupyter-widgets/base",
            "_model_module_version": "1.2.0",
            "_model_name": "LayoutModel",
            "_view_count": null,
            "_view_module": "@jupyter-widgets/base",
            "_view_module_version": "1.2.0",
            "_view_name": "LayoutView",
            "align_content": null,
            "align_items": null,
            "align_self": null,
            "border": null,
            "bottom": null,
            "display": null,
            "flex": null,
            "flex_flow": null,
            "grid_area": null,
            "grid_auto_columns": null,
            "grid_auto_flow": null,
            "grid_auto_rows": null,
            "grid_column": null,
            "grid_gap": null,
            "grid_row": null,
            "grid_template_areas": null,
            "grid_template_columns": null,
            "grid_template_rows": null,
            "height": null,
            "justify_content": null,
            "justify_items": null,
            "left": null,
            "margin": null,
            "max_height": null,
            "max_width": null,
            "min_height": null,
            "min_width": null,
            "object_fit": null,
            "object_position": null,
            "order": null,
            "overflow": null,
            "overflow_x": null,
            "overflow_y": null,
            "padding": null,
            "right": null,
            "top": null,
            "visibility": null,
            "width": null
          }
        },
        "abd7855632ae4e8ab7e34b8656ef9108": {
          "model_module": "@jupyter-widgets/base",
          "model_module_version": "1.2.0",
          "model_name": "LayoutModel",
          "state": {
            "_model_module": "@jupyter-widgets/base",
            "_model_module_version": "1.2.0",
            "_model_name": "LayoutModel",
            "_view_count": null,
            "_view_module": "@jupyter-widgets/base",
            "_view_module_version": "1.2.0",
            "_view_name": "LayoutView",
            "align_content": null,
            "align_items": null,
            "align_self": null,
            "border": null,
            "bottom": null,
            "display": null,
            "flex": null,
            "flex_flow": null,
            "grid_area": null,
            "grid_auto_columns": null,
            "grid_auto_flow": null,
            "grid_auto_rows": null,
            "grid_column": null,
            "grid_gap": null,
            "grid_row": null,
            "grid_template_areas": null,
            "grid_template_columns": null,
            "grid_template_rows": null,
            "height": null,
            "justify_content": null,
            "justify_items": null,
            "left": null,
            "margin": null,
            "max_height": null,
            "max_width": null,
            "min_height": null,
            "min_width": null,
            "object_fit": null,
            "object_position": null,
            "order": null,
            "overflow": null,
            "overflow_x": null,
            "overflow_y": null,
            "padding": null,
            "right": null,
            "top": null,
            "visibility": null,
            "width": null
          }
        },
        "ac370a2abe6a437e9c53bd7c4a0749ce": {
          "model_module": "@jupyter-widgets/base",
          "model_module_version": "1.2.0",
          "model_name": "LayoutModel",
          "state": {
            "_model_module": "@jupyter-widgets/base",
            "_model_module_version": "1.2.0",
            "_model_name": "LayoutModel",
            "_view_count": null,
            "_view_module": "@jupyter-widgets/base",
            "_view_module_version": "1.2.0",
            "_view_name": "LayoutView",
            "align_content": null,
            "align_items": null,
            "align_self": null,
            "border": null,
            "bottom": null,
            "display": null,
            "flex": null,
            "flex_flow": null,
            "grid_area": null,
            "grid_auto_columns": null,
            "grid_auto_flow": null,
            "grid_auto_rows": null,
            "grid_column": null,
            "grid_gap": null,
            "grid_row": null,
            "grid_template_areas": null,
            "grid_template_columns": null,
            "grid_template_rows": null,
            "height": null,
            "justify_content": null,
            "justify_items": null,
            "left": null,
            "margin": null,
            "max_height": null,
            "max_width": null,
            "min_height": null,
            "min_width": null,
            "object_fit": null,
            "object_position": null,
            "order": null,
            "overflow": null,
            "overflow_x": null,
            "overflow_y": null,
            "padding": null,
            "right": null,
            "top": null,
            "visibility": null,
            "width": null
          }
        },
        "acf7a96f63814714a7d9ecdd6aacd5d3": {
          "model_module": "@jupyter-widgets/controls",
          "model_module_version": "1.5.0",
          "model_name": "DescriptionStyleModel",
          "state": {
            "_model_module": "@jupyter-widgets/controls",
            "_model_module_version": "1.5.0",
            "_model_name": "DescriptionStyleModel",
            "_view_count": null,
            "_view_module": "@jupyter-widgets/base",
            "_view_module_version": "1.2.0",
            "_view_name": "StyleView",
            "description_width": ""
          }
        },
        "ad37113992a4494ea4ebbbfb3511276d": {
          "model_module": "@jupyter-widgets/controls",
          "model_module_version": "1.5.0",
          "model_name": "ProgressStyleModel",
          "state": {
            "_model_module": "@jupyter-widgets/controls",
            "_model_module_version": "1.5.0",
            "_model_name": "ProgressStyleModel",
            "_view_count": null,
            "_view_module": "@jupyter-widgets/base",
            "_view_module_version": "1.2.0",
            "_view_name": "StyleView",
            "bar_color": null,
            "description_width": ""
          }
        },
        "aded01f48720493d84f9f9dc1b0a9d53": {
          "model_module": "@jupyter-widgets/controls",
          "model_module_version": "1.5.0",
          "model_name": "FloatProgressModel",
          "state": {
            "_dom_classes": [],
            "_model_module": "@jupyter-widgets/controls",
            "_model_module_version": "1.5.0",
            "_model_name": "FloatProgressModel",
            "_view_count": null,
            "_view_module": "@jupyter-widgets/controls",
            "_view_module_version": "1.5.0",
            "_view_name": "ProgressView",
            "bar_style": "success",
            "description": "",
            "description_tooltip": null,
            "layout": "IPY_MODEL_78bb84efedb440e99403927a50380d9c",
            "max": 3633,
            "min": 0,
            "orientation": "horizontal",
            "style": "IPY_MODEL_24bc17addc184b61b8e236b868237c39",
            "value": 3633
          }
        },
        "b229311f871d4051a244b480ac5360f3": {
          "model_module": "@jupyter-widgets/controls",
          "model_module_version": "1.5.0",
          "model_name": "HTMLModel",
          "state": {
            "_dom_classes": [],
            "_model_module": "@jupyter-widgets/controls",
            "_model_module_version": "1.5.0",
            "_model_name": "HTMLModel",
            "_view_count": null,
            "_view_module": "@jupyter-widgets/controls",
            "_view_module_version": "1.5.0",
            "_view_name": "HTMLView",
            "description": "",
            "description_tooltip": null,
            "layout": "IPY_MODEL_fd16589b0df34424bab7c536b7a91f51",
            "placeholder": "​",
            "style": "IPY_MODEL_4b0b86f6e6ba47d5afe505b1e0a5671e",
            "value": " 133M/133M [00:01&lt;00:00, 138MB/s]"
          }
        },
        "b5e314c1b45e463bb4f1760441b685fb": {
          "model_module": "@jupyter-widgets/base",
          "model_module_version": "1.2.0",
          "model_name": "LayoutModel",
          "state": {
            "_model_module": "@jupyter-widgets/base",
            "_model_module_version": "1.2.0",
            "_model_name": "LayoutModel",
            "_view_count": null,
            "_view_module": "@jupyter-widgets/base",
            "_view_module_version": "1.2.0",
            "_view_name": "LayoutView",
            "align_content": null,
            "align_items": null,
            "align_self": null,
            "border": null,
            "bottom": null,
            "display": null,
            "flex": null,
            "flex_flow": null,
            "grid_area": null,
            "grid_auto_columns": null,
            "grid_auto_flow": null,
            "grid_auto_rows": null,
            "grid_column": null,
            "grid_gap": null,
            "grid_row": null,
            "grid_template_areas": null,
            "grid_template_columns": null,
            "grid_template_rows": null,
            "height": null,
            "justify_content": null,
            "justify_items": null,
            "left": null,
            "margin": null,
            "max_height": null,
            "max_width": null,
            "min_height": null,
            "min_width": null,
            "object_fit": null,
            "object_position": null,
            "order": null,
            "overflow": null,
            "overflow_x": null,
            "overflow_y": null,
            "padding": null,
            "right": null,
            "top": null,
            "visibility": null,
            "width": null
          }
        },
        "ba1bcb8deb8f4599954f3b83d9cb99fe": {
          "model_module": "@jupyter-widgets/base",
          "model_module_version": "1.2.0",
          "model_name": "LayoutModel",
          "state": {
            "_model_module": "@jupyter-widgets/base",
            "_model_module_version": "1.2.0",
            "_model_name": "LayoutModel",
            "_view_count": null,
            "_view_module": "@jupyter-widgets/base",
            "_view_module_version": "1.2.0",
            "_view_name": "LayoutView",
            "align_content": null,
            "align_items": null,
            "align_self": null,
            "border": null,
            "bottom": null,
            "display": null,
            "flex": null,
            "flex_flow": null,
            "grid_area": null,
            "grid_auto_columns": null,
            "grid_auto_flow": null,
            "grid_auto_rows": null,
            "grid_column": null,
            "grid_gap": null,
            "grid_row": null,
            "grid_template_areas": null,
            "grid_template_columns": null,
            "grid_template_rows": null,
            "height": null,
            "justify_content": null,
            "justify_items": null,
            "left": null,
            "margin": null,
            "max_height": null,
            "max_width": null,
            "min_height": null,
            "min_width": null,
            "object_fit": null,
            "object_position": null,
            "order": null,
            "overflow": null,
            "overflow_x": null,
            "overflow_y": null,
            "padding": null,
            "right": null,
            "top": null,
            "visibility": null,
            "width": null
          }
        },
        "bcd5febfb8dd48c7a2dc9d7c9eb7f5c9": {
          "model_module": "@jupyter-widgets/controls",
          "model_module_version": "1.5.0",
          "model_name": "FloatProgressModel",
          "state": {
            "_dom_classes": [],
            "_model_module": "@jupyter-widgets/controls",
            "_model_module_version": "1.5.0",
            "_model_name": "FloatProgressModel",
            "_view_count": null,
            "_view_module": "@jupyter-widgets/controls",
            "_view_module_version": "1.5.0",
            "_view_name": "ProgressView",
            "bar_style": "success",
            "description": "",
            "description_tooltip": null,
            "layout": "IPY_MODEL_aa08c95013ca47f6b33ef34f010e7fc7",
            "max": 112,
            "min": 0,
            "orientation": "horizontal",
            "style": "IPY_MODEL_a123fd8770804fd1b49924a1a219da63",
            "value": 112
          }
        },
        "c0f30ed5f5014e838756c424a224d1e9": {
          "model_module": "@jupyter-widgets/controls",
          "model_module_version": "1.5.0",
          "model_name": "HTMLModel",
          "state": {
            "_dom_classes": [],
            "_model_module": "@jupyter-widgets/controls",
            "_model_module_version": "1.5.0",
            "_model_name": "HTMLModel",
            "_view_count": null,
            "_view_module": "@jupyter-widgets/controls",
            "_view_module_version": "1.5.0",
            "_view_name": "HTMLView",
            "description": "",
            "description_tooltip": null,
            "layout": "IPY_MODEL_e0782c61c1494271ab7f0a341b9d8eed",
            "placeholder": "​",
            "style": "IPY_MODEL_acf7a96f63814714a7d9ecdd6aacd5d3",
            "value": " 313/313 [00:18&lt;00:00, 17.64it/s]"
          }
        },
        "c28125058b704138920875f911a205ac": {
          "model_module": "@jupyter-widgets/controls",
          "model_module_version": "1.5.0",
          "model_name": "HTMLModel",
          "state": {
            "_dom_classes": [],
            "_model_module": "@jupyter-widgets/controls",
            "_model_module_version": "1.5.0",
            "_model_name": "HTMLModel",
            "_view_count": null,
            "_view_module": "@jupyter-widgets/controls",
            "_view_module_version": "1.5.0",
            "_view_name": "HTMLView",
            "description": "",
            "description_tooltip": null,
            "layout": "IPY_MODEL_ac370a2abe6a437e9c53bd7c4a0749ce",
            "placeholder": "​",
            "style": "IPY_MODEL_f9dc3a22f03242a7a78aa29372c955a6",
            "value": "Train:   5%"
          }
        },
        "c28cd18e12094f3cbc34711f6e184379": {
          "model_module": "@jupyter-widgets/controls",
          "model_module_version": "1.5.0",
          "model_name": "HTMLModel",
          "state": {
            "_dom_classes": [],
            "_model_module": "@jupyter-widgets/controls",
            "_model_module_version": "1.5.0",
            "_model_name": "HTMLModel",
            "_view_count": null,
            "_view_module": "@jupyter-widgets/controls",
            "_view_module_version": "1.5.0",
            "_view_name": "HTMLView",
            "description": "",
            "description_tooltip": null,
            "layout": "IPY_MODEL_52995d558f22456999b3be2358ec9c88",
            "placeholder": "​",
            "style": "IPY_MODEL_f94293d93bf7499da49fd8cb154ecb02",
            "value": "model.safetensors: 100%"
          }
        },
        "c2ca473f972748158c73c7b98cbceb37": {
          "model_module": "@jupyter-widgets/controls",
          "model_module_version": "1.5.0",
          "model_name": "HBoxModel",
          "state": {
            "_dom_classes": [],
            "_model_module": "@jupyter-widgets/controls",
            "_model_module_version": "1.5.0",
            "_model_name": "HBoxModel",
            "_view_count": null,
            "_view_module": "@jupyter-widgets/controls",
            "_view_module_version": "1.5.0",
            "_view_name": "HBoxView",
            "box_style": "",
            "children": [
              "IPY_MODEL_0a4c581e26074c7997cecba14e9c9013",
              "IPY_MODEL_5c15d80105c3439db45839ee83d90791",
              "IPY_MODEL_c8da06d8a6e3420f83b034cc39be3161"
            ],
            "layout": "IPY_MODEL_ff47c4c9ac5d4821b980020d5e94d44c"
          }
        },
        "c3f2742ec4f743dd84159dc2de0f6e43": {
          "model_module": "@jupyter-widgets/controls",
          "model_module_version": "1.5.0",
          "model_name": "ProgressStyleModel",
          "state": {
            "_model_module": "@jupyter-widgets/controls",
            "_model_module_version": "1.5.0",
            "_model_name": "ProgressStyleModel",
            "_view_count": null,
            "_view_module": "@jupyter-widgets/base",
            "_view_module_version": "1.2.0",
            "_view_name": "StyleView",
            "bar_color": null,
            "description_width": ""
          }
        },
        "c478180972114926b89d294db86befee": {
          "model_module": "@jupyter-widgets/base",
          "model_module_version": "1.2.0",
          "model_name": "LayoutModel",
          "state": {
            "_model_module": "@jupyter-widgets/base",
            "_model_module_version": "1.2.0",
            "_model_name": "LayoutModel",
            "_view_count": null,
            "_view_module": "@jupyter-widgets/base",
            "_view_module_version": "1.2.0",
            "_view_name": "LayoutView",
            "align_content": null,
            "align_items": null,
            "align_self": null,
            "border": null,
            "bottom": null,
            "display": null,
            "flex": null,
            "flex_flow": null,
            "grid_area": null,
            "grid_auto_columns": null,
            "grid_auto_flow": null,
            "grid_auto_rows": null,
            "grid_column": null,
            "grid_gap": null,
            "grid_row": null,
            "grid_template_areas": null,
            "grid_template_columns": null,
            "grid_template_rows": null,
            "height": null,
            "justify_content": null,
            "justify_items": null,
            "left": null,
            "margin": null,
            "max_height": null,
            "max_width": null,
            "min_height": null,
            "min_width": null,
            "object_fit": null,
            "object_position": null,
            "order": null,
            "overflow": null,
            "overflow_x": null,
            "overflow_y": null,
            "padding": null,
            "right": null,
            "top": null,
            "visibility": null,
            "width": null
          }
        },
        "c4968d0b64554e729217763c3a7a09b6": {
          "model_module": "@jupyter-widgets/controls",
          "model_module_version": "1.5.0",
          "model_name": "HBoxModel",
          "state": {
            "_dom_classes": [],
            "_model_module": "@jupyter-widgets/controls",
            "_model_module_version": "1.5.0",
            "_model_name": "HBoxModel",
            "_view_count": null,
            "_view_module": "@jupyter-widgets/controls",
            "_view_module_version": "1.5.0",
            "_view_name": "HBoxView",
            "box_style": "",
            "children": [
              "IPY_MODEL_e5c888e59ee94b198685dc684745c588",
              "IPY_MODEL_bcd5febfb8dd48c7a2dc9d7c9eb7f5c9",
              "IPY_MODEL_0b00214cd6f34abba8c19e65a7870fe0"
            ],
            "layout": "IPY_MODEL_5380c9e86bcd4680ae08342df9699a74"
          }
        },
        "c5879d5428914af285286498c191eba7": {
          "model_module": "@jupyter-widgets/controls",
          "model_module_version": "1.5.0",
          "model_name": "DescriptionStyleModel",
          "state": {
            "_model_module": "@jupyter-widgets/controls",
            "_model_module_version": "1.5.0",
            "_model_name": "DescriptionStyleModel",
            "_view_count": null,
            "_view_module": "@jupyter-widgets/base",
            "_view_module_version": "1.2.0",
            "_view_name": "StyleView",
            "description_width": ""
          }
        },
        "c88653d015de4111b33979ba07cc477f": {
          "model_module": "@jupyter-widgets/controls",
          "model_module_version": "1.5.0",
          "model_name": "DescriptionStyleModel",
          "state": {
            "_model_module": "@jupyter-widgets/controls",
            "_model_module_version": "1.5.0",
            "_model_name": "DescriptionStyleModel",
            "_view_count": null,
            "_view_module": "@jupyter-widgets/base",
            "_view_module_version": "1.2.0",
            "_view_name": "StyleView",
            "description_width": ""
          }
        },
        "c8b44bd848b04d13b1afdeb17a34ad2c": {
          "model_module": "@jupyter-widgets/controls",
          "model_module_version": "1.5.0",
          "model_name": "HBoxModel",
          "state": {
            "_dom_classes": [],
            "_model_module": "@jupyter-widgets/controls",
            "_model_module_version": "1.5.0",
            "_model_name": "HBoxModel",
            "_view_count": null,
            "_view_module": "@jupyter-widgets/controls",
            "_view_module_version": "1.5.0",
            "_view_name": "HBoxView",
            "box_style": "",
            "children": [
              "IPY_MODEL_c28125058b704138920875f911a205ac",
              "IPY_MODEL_1764723bbbc94a3c91fa96e58e954570",
              "IPY_MODEL_ffe90f937dd141ecae4e70743fdd9bc0"
            ],
            "layout": "IPY_MODEL_e85033dbb45e459580bf7f3154e106e9"
          }
        },
        "c8da06d8a6e3420f83b034cc39be3161": {
          "model_module": "@jupyter-widgets/controls",
          "model_module_version": "1.5.0",
          "model_name": "HTMLModel",
          "state": {
            "_dom_classes": [],
            "_model_module": "@jupyter-widgets/controls",
            "_model_module_version": "1.5.0",
            "_model_name": "HTMLModel",
            "_view_count": null,
            "_view_module": "@jupyter-widgets/controls",
            "_view_module_version": "1.5.0",
            "_view_name": "HTMLView",
            "description": "",
            "description_tooltip": null,
            "layout": "IPY_MODEL_eec4b432c7d1412fbc955da8d84b3c2c",
            "placeholder": "​",
            "style": "IPY_MODEL_4a2802459bc444d788a47c623ade8a54",
            "value": " 791/791 [00:00&lt;00:00, 66.9kB/s]"
          }
        },
        "ca4e4cc69f5743fc95367bcfcfe389b2": {
          "model_module": "@jupyter-widgets/controls",
          "model_module_version": "1.5.0",
          "model_name": "ProgressStyleModel",
          "state": {
            "_model_module": "@jupyter-widgets/controls",
            "_model_module_version": "1.5.0",
            "_model_name": "ProgressStyleModel",
            "_view_count": null,
            "_view_module": "@jupyter-widgets/base",
            "_view_module_version": "1.2.0",
            "_view_name": "StyleView",
            "bar_color": null,
            "description_width": ""
          }
        },
        "ca7fab7d80bb4051a78887070ae93520": {
          "model_module": "@jupyter-widgets/base",
          "model_module_version": "1.2.0",
          "model_name": "LayoutModel",
          "state": {
            "_model_module": "@jupyter-widgets/base",
            "_model_module_version": "1.2.0",
            "_model_name": "LayoutModel",
            "_view_count": null,
            "_view_module": "@jupyter-widgets/base",
            "_view_module_version": "1.2.0",
            "_view_name": "LayoutView",
            "align_content": null,
            "align_items": null,
            "align_self": null,
            "border": null,
            "bottom": null,
            "display": null,
            "flex": null,
            "flex_flow": null,
            "grid_area": null,
            "grid_auto_columns": null,
            "grid_auto_flow": null,
            "grid_auto_rows": null,
            "grid_column": null,
            "grid_gap": null,
            "grid_row": null,
            "grid_template_areas": null,
            "grid_template_columns": null,
            "grid_template_rows": null,
            "height": null,
            "justify_content": null,
            "justify_items": null,
            "left": null,
            "margin": null,
            "max_height": null,
            "max_width": null,
            "min_height": null,
            "min_width": null,
            "object_fit": null,
            "object_position": null,
            "order": null,
            "overflow": null,
            "overflow_x": null,
            "overflow_y": null,
            "padding": null,
            "right": null,
            "top": null,
            "visibility": null,
            "width": null
          }
        },
        "cb697483cba442d794870754e6a4c668": {
          "model_module": "@jupyter-widgets/controls",
          "model_module_version": "1.5.0",
          "model_name": "FloatProgressModel",
          "state": {
            "_dom_classes": [],
            "_model_module": "@jupyter-widgets/controls",
            "_model_module_version": "1.5.0",
            "_model_name": "FloatProgressModel",
            "_view_count": null,
            "_view_module": "@jupyter-widgets/controls",
            "_view_module_version": "1.5.0",
            "_view_name": "ProgressView",
            "bar_style": "success",
            "description": "",
            "description_tooltip": null,
            "layout": "IPY_MODEL_ba1bcb8deb8f4599954f3b83d9cb99fe",
            "max": 231508,
            "min": 0,
            "orientation": "horizontal",
            "style": "IPY_MODEL_47fb9ab401f54632b00ef284c2b3c6d9",
            "value": 231508
          }
        },
        "cc06c15c93d44eb8b35fc35d3fef0c8f": {
          "model_module": "@jupyter-widgets/controls",
          "model_module_version": "1.5.0",
          "model_name": "HTMLModel",
          "state": {
            "_dom_classes": [],
            "_model_module": "@jupyter-widgets/controls",
            "_model_module_version": "1.5.0",
            "_model_name": "HTMLModel",
            "_view_count": null,
            "_view_module": "@jupyter-widgets/controls",
            "_view_module_version": "1.5.0",
            "_view_name": "HTMLView",
            "description": "",
            "description_tooltip": null,
            "layout": "IPY_MODEL_ec7c2ab28df14e6aba9c73313fb1515d",
            "placeholder": "​",
            "style": "IPY_MODEL_96d67ae3f41742198802080bfba139f2",
            "value": "Valid: 100%"
          }
        },
        "cdcd377ee9a344b8943da62c84bc1026": {
          "model_module": "@jupyter-widgets/base",
          "model_module_version": "1.2.0",
          "model_name": "LayoutModel",
          "state": {
            "_model_module": "@jupyter-widgets/base",
            "_model_module_version": "1.2.0",
            "_model_name": "LayoutModel",
            "_view_count": null,
            "_view_module": "@jupyter-widgets/base",
            "_view_module_version": "1.2.0",
            "_view_name": "LayoutView",
            "align_content": null,
            "align_items": null,
            "align_self": null,
            "border": null,
            "bottom": null,
            "display": null,
            "flex": null,
            "flex_flow": null,
            "grid_area": null,
            "grid_auto_columns": null,
            "grid_auto_flow": null,
            "grid_auto_rows": null,
            "grid_column": null,
            "grid_gap": null,
            "grid_row": null,
            "grid_template_areas": null,
            "grid_template_columns": null,
            "grid_template_rows": null,
            "height": null,
            "justify_content": null,
            "justify_items": null,
            "left": null,
            "margin": null,
            "max_height": null,
            "max_width": null,
            "min_height": null,
            "min_width": null,
            "object_fit": null,
            "object_position": null,
            "order": null,
            "overflow": null,
            "overflow_x": null,
            "overflow_y": null,
            "padding": null,
            "right": null,
            "top": null,
            "visibility": null,
            "width": null
          }
        },
        "cdf8a306457a473ab4a86c826f0ae613": {
          "model_module": "@jupyter-widgets/controls",
          "model_module_version": "1.5.0",
          "model_name": "DescriptionStyleModel",
          "state": {
            "_model_module": "@jupyter-widgets/controls",
            "_model_module_version": "1.5.0",
            "_model_name": "DescriptionStyleModel",
            "_view_count": null,
            "_view_module": "@jupyter-widgets/base",
            "_view_module_version": "1.2.0",
            "_view_name": "StyleView",
            "description_width": ""
          }
        },
        "d33498fc530447159f7a27baee88895c": {
          "model_module": "@jupyter-widgets/controls",
          "model_module_version": "1.5.0",
          "model_name": "DescriptionStyleModel",
          "state": {
            "_model_module": "@jupyter-widgets/controls",
            "_model_module_version": "1.5.0",
            "_model_name": "DescriptionStyleModel",
            "_view_count": null,
            "_view_module": "@jupyter-widgets/base",
            "_view_module_version": "1.2.0",
            "_view_name": "StyleView",
            "description_width": ""
          }
        },
        "d673023d6e964b96a93a56108d387cb7": {
          "model_module": "@jupyter-widgets/base",
          "model_module_version": "1.2.0",
          "model_name": "LayoutModel",
          "state": {
            "_model_module": "@jupyter-widgets/base",
            "_model_module_version": "1.2.0",
            "_model_name": "LayoutModel",
            "_view_count": null,
            "_view_module": "@jupyter-widgets/base",
            "_view_module_version": "1.2.0",
            "_view_name": "LayoutView",
            "align_content": null,
            "align_items": null,
            "align_self": null,
            "border": null,
            "bottom": null,
            "display": null,
            "flex": null,
            "flex_flow": null,
            "grid_area": null,
            "grid_auto_columns": null,
            "grid_auto_flow": null,
            "grid_auto_rows": null,
            "grid_column": null,
            "grid_gap": null,
            "grid_row": null,
            "grid_template_areas": null,
            "grid_template_columns": null,
            "grid_template_rows": null,
            "height": null,
            "justify_content": null,
            "justify_items": null,
            "left": null,
            "margin": null,
            "max_height": null,
            "max_width": null,
            "min_height": null,
            "min_width": null,
            "object_fit": null,
            "object_position": null,
            "order": null,
            "overflow": null,
            "overflow_x": null,
            "overflow_y": null,
            "padding": null,
            "right": null,
            "top": null,
            "visibility": null,
            "width": null
          }
        },
        "e0782c61c1494271ab7f0a341b9d8eed": {
          "model_module": "@jupyter-widgets/base",
          "model_module_version": "1.2.0",
          "model_name": "LayoutModel",
          "state": {
            "_model_module": "@jupyter-widgets/base",
            "_model_module_version": "1.2.0",
            "_model_name": "LayoutModel",
            "_view_count": null,
            "_view_module": "@jupyter-widgets/base",
            "_view_module_version": "1.2.0",
            "_view_name": "LayoutView",
            "align_content": null,
            "align_items": null,
            "align_self": null,
            "border": null,
            "bottom": null,
            "display": null,
            "flex": null,
            "flex_flow": null,
            "grid_area": null,
            "grid_auto_columns": null,
            "grid_auto_flow": null,
            "grid_auto_rows": null,
            "grid_column": null,
            "grid_gap": null,
            "grid_row": null,
            "grid_template_areas": null,
            "grid_template_columns": null,
            "grid_template_rows": null,
            "height": null,
            "justify_content": null,
            "justify_items": null,
            "left": null,
            "margin": null,
            "max_height": null,
            "max_width": null,
            "min_height": null,
            "min_width": null,
            "object_fit": null,
            "object_position": null,
            "order": null,
            "overflow": null,
            "overflow_x": null,
            "overflow_y": null,
            "padding": null,
            "right": null,
            "top": null,
            "visibility": null,
            "width": null
          }
        },
        "e5c888e59ee94b198685dc684745c588": {
          "model_module": "@jupyter-widgets/controls",
          "model_module_version": "1.5.0",
          "model_name": "HTMLModel",
          "state": {
            "_dom_classes": [],
            "_model_module": "@jupyter-widgets/controls",
            "_model_module_version": "1.5.0",
            "_model_name": "HTMLModel",
            "_view_count": null,
            "_view_module": "@jupyter-widgets/controls",
            "_view_module_version": "1.5.0",
            "_view_name": "HTMLView",
            "description": "",
            "description_tooltip": null,
            "layout": "IPY_MODEL_412a479c2c8e4692afc79c241bd06fcc",
            "placeholder": "​",
            "style": "IPY_MODEL_d33498fc530447159f7a27baee88895c",
            "value": "special_tokens_map.json: 100%"
          }
        },
        "e85033dbb45e459580bf7f3154e106e9": {
          "model_module": "@jupyter-widgets/base",
          "model_module_version": "1.2.0",
          "model_name": "LayoutModel",
          "state": {
            "_model_module": "@jupyter-widgets/base",
            "_model_module_version": "1.2.0",
            "_model_name": "LayoutModel",
            "_view_count": null,
            "_view_module": "@jupyter-widgets/base",
            "_view_module_version": "1.2.0",
            "_view_name": "LayoutView",
            "align_content": null,
            "align_items": null,
            "align_self": null,
            "border": null,
            "bottom": null,
            "display": null,
            "flex": null,
            "flex_flow": null,
            "grid_area": null,
            "grid_auto_columns": null,
            "grid_auto_flow": null,
            "grid_auto_rows": null,
            "grid_column": null,
            "grid_gap": null,
            "grid_row": null,
            "grid_template_areas": null,
            "grid_template_columns": null,
            "grid_template_rows": null,
            "height": null,
            "justify_content": null,
            "justify_items": null,
            "left": null,
            "margin": null,
            "max_height": null,
            "max_width": null,
            "min_height": null,
            "min_width": null,
            "object_fit": null,
            "object_position": null,
            "order": null,
            "overflow": null,
            "overflow_x": null,
            "overflow_y": null,
            "padding": null,
            "right": null,
            "top": null,
            "visibility": null,
            "width": null
          }
        },
        "e85bba1d0fcc41eaba95b64f8a7995a1": {
          "model_module": "@jupyter-widgets/base",
          "model_module_version": "1.2.0",
          "model_name": "LayoutModel",
          "state": {
            "_model_module": "@jupyter-widgets/base",
            "_model_module_version": "1.2.0",
            "_model_name": "LayoutModel",
            "_view_count": null,
            "_view_module": "@jupyter-widgets/base",
            "_view_module_version": "1.2.0",
            "_view_name": "LayoutView",
            "align_content": null,
            "align_items": null,
            "align_self": null,
            "border": null,
            "bottom": null,
            "display": null,
            "flex": null,
            "flex_flow": null,
            "grid_area": null,
            "grid_auto_columns": null,
            "grid_auto_flow": null,
            "grid_auto_rows": null,
            "grid_column": null,
            "grid_gap": null,
            "grid_row": null,
            "grid_template_areas": null,
            "grid_template_columns": null,
            "grid_template_rows": null,
            "height": null,
            "justify_content": null,
            "justify_items": null,
            "left": null,
            "margin": null,
            "max_height": null,
            "max_width": null,
            "min_height": null,
            "min_width": null,
            "object_fit": null,
            "object_position": null,
            "order": null,
            "overflow": null,
            "overflow_x": null,
            "overflow_y": null,
            "padding": null,
            "right": null,
            "top": null,
            "visibility": null,
            "width": null
          }
        },
        "ec7c2ab28df14e6aba9c73313fb1515d": {
          "model_module": "@jupyter-widgets/base",
          "model_module_version": "1.2.0",
          "model_name": "LayoutModel",
          "state": {
            "_model_module": "@jupyter-widgets/base",
            "_model_module_version": "1.2.0",
            "_model_name": "LayoutModel",
            "_view_count": null,
            "_view_module": "@jupyter-widgets/base",
            "_view_module_version": "1.2.0",
            "_view_name": "LayoutView",
            "align_content": null,
            "align_items": null,
            "align_self": null,
            "border": null,
            "bottom": null,
            "display": null,
            "flex": null,
            "flex_flow": null,
            "grid_area": null,
            "grid_auto_columns": null,
            "grid_auto_flow": null,
            "grid_auto_rows": null,
            "grid_column": null,
            "grid_gap": null,
            "grid_row": null,
            "grid_template_areas": null,
            "grid_template_columns": null,
            "grid_template_rows": null,
            "height": null,
            "justify_content": null,
            "justify_items": null,
            "left": null,
            "margin": null,
            "max_height": null,
            "max_width": null,
            "min_height": null,
            "min_width": null,
            "object_fit": null,
            "object_position": null,
            "order": null,
            "overflow": null,
            "overflow_x": null,
            "overflow_y": null,
            "padding": null,
            "right": null,
            "top": null,
            "visibility": null,
            "width": null
          }
        },
        "eec4b432c7d1412fbc955da8d84b3c2c": {
          "model_module": "@jupyter-widgets/base",
          "model_module_version": "1.2.0",
          "model_name": "LayoutModel",
          "state": {
            "_model_module": "@jupyter-widgets/base",
            "_model_module_version": "1.2.0",
            "_model_name": "LayoutModel",
            "_view_count": null,
            "_view_module": "@jupyter-widgets/base",
            "_view_module_version": "1.2.0",
            "_view_name": "LayoutView",
            "align_content": null,
            "align_items": null,
            "align_self": null,
            "border": null,
            "bottom": null,
            "display": null,
            "flex": null,
            "flex_flow": null,
            "grid_area": null,
            "grid_auto_columns": null,
            "grid_auto_flow": null,
            "grid_auto_rows": null,
            "grid_column": null,
            "grid_gap": null,
            "grid_row": null,
            "grid_template_areas": null,
            "grid_template_columns": null,
            "grid_template_rows": null,
            "height": null,
            "justify_content": null,
            "justify_items": null,
            "left": null,
            "margin": null,
            "max_height": null,
            "max_width": null,
            "min_height": null,
            "min_width": null,
            "object_fit": null,
            "object_position": null,
            "order": null,
            "overflow": null,
            "overflow_x": null,
            "overflow_y": null,
            "padding": null,
            "right": null,
            "top": null,
            "visibility": null,
            "width": null
          }
        },
        "f0ec1e4f257d404489e7eeecc58034c6": {
          "model_module": "@jupyter-widgets/base",
          "model_module_version": "1.2.0",
          "model_name": "LayoutModel",
          "state": {
            "_model_module": "@jupyter-widgets/base",
            "_model_module_version": "1.2.0",
            "_model_name": "LayoutModel",
            "_view_count": null,
            "_view_module": "@jupyter-widgets/base",
            "_view_module_version": "1.2.0",
            "_view_name": "LayoutView",
            "align_content": null,
            "align_items": null,
            "align_self": null,
            "border": null,
            "bottom": null,
            "display": null,
            "flex": null,
            "flex_flow": null,
            "grid_area": null,
            "grid_auto_columns": null,
            "grid_auto_flow": null,
            "grid_auto_rows": null,
            "grid_column": null,
            "grid_gap": null,
            "grid_row": null,
            "grid_template_areas": null,
            "grid_template_columns": null,
            "grid_template_rows": null,
            "height": null,
            "justify_content": null,
            "justify_items": null,
            "left": null,
            "margin": null,
            "max_height": null,
            "max_width": null,
            "min_height": null,
            "min_width": null,
            "object_fit": null,
            "object_position": null,
            "order": null,
            "overflow": null,
            "overflow_x": null,
            "overflow_y": null,
            "padding": null,
            "right": null,
            "top": null,
            "visibility": null,
            "width": null
          }
        },
        "f7df239184754570bd48f33d011d7cc5": {
          "model_module": "@jupyter-widgets/controls",
          "model_module_version": "1.5.0",
          "model_name": "DescriptionStyleModel",
          "state": {
            "_model_module": "@jupyter-widgets/controls",
            "_model_module_version": "1.5.0",
            "_model_name": "DescriptionStyleModel",
            "_view_count": null,
            "_view_module": "@jupyter-widgets/base",
            "_view_module_version": "1.2.0",
            "_view_name": "StyleView",
            "description_width": ""
          }
        },
        "f8e30d1364694ab4bcebc277a6bafce7": {
          "model_module": "@jupyter-widgets/controls",
          "model_module_version": "1.5.0",
          "model_name": "HTMLModel",
          "state": {
            "_dom_classes": [],
            "_model_module": "@jupyter-widgets/controls",
            "_model_module_version": "1.5.0",
            "_model_name": "HTMLModel",
            "_view_count": null,
            "_view_module": "@jupyter-widgets/controls",
            "_view_module_version": "1.5.0",
            "_view_name": "HTMLView",
            "description": "",
            "description_tooltip": null,
            "layout": "IPY_MODEL_e85bba1d0fcc41eaba95b64f8a7995a1",
            "placeholder": "​",
            "style": "IPY_MODEL_64122b10a5f1405cbc2011960ee9edf5",
            "value": "tokenizer_config.json: 100%"
          }
        },
        "f94293d93bf7499da49fd8cb154ecb02": {
          "model_module": "@jupyter-widgets/controls",
          "model_module_version": "1.5.0",
          "model_name": "DescriptionStyleModel",
          "state": {
            "_model_module": "@jupyter-widgets/controls",
            "_model_module_version": "1.5.0",
            "_model_name": "DescriptionStyleModel",
            "_view_count": null,
            "_view_module": "@jupyter-widgets/base",
            "_view_module_version": "1.2.0",
            "_view_name": "StyleView",
            "description_width": ""
          }
        },
        "f9dc3a22f03242a7a78aa29372c955a6": {
          "model_module": "@jupyter-widgets/controls",
          "model_module_version": "1.5.0",
          "model_name": "DescriptionStyleModel",
          "state": {
            "_model_module": "@jupyter-widgets/controls",
            "_model_module_version": "1.5.0",
            "_model_name": "DescriptionStyleModel",
            "_view_count": null,
            "_view_module": "@jupyter-widgets/base",
            "_view_module_version": "1.2.0",
            "_view_name": "StyleView",
            "description_width": ""
          }
        },
        "fa2801dc02b446d7b520408358ac7684": {
          "model_module": "@jupyter-widgets/base",
          "model_module_version": "1.2.0",
          "model_name": "LayoutModel",
          "state": {
            "_model_module": "@jupyter-widgets/base",
            "_model_module_version": "1.2.0",
            "_model_name": "LayoutModel",
            "_view_count": null,
            "_view_module": "@jupyter-widgets/base",
            "_view_module_version": "1.2.0",
            "_view_name": "LayoutView",
            "align_content": null,
            "align_items": null,
            "align_self": null,
            "border": null,
            "bottom": null,
            "display": null,
            "flex": null,
            "flex_flow": null,
            "grid_area": null,
            "grid_auto_columns": null,
            "grid_auto_flow": null,
            "grid_auto_rows": null,
            "grid_column": null,
            "grid_gap": null,
            "grid_row": null,
            "grid_template_areas": null,
            "grid_template_columns": null,
            "grid_template_rows": null,
            "height": null,
            "justify_content": null,
            "justify_items": null,
            "left": null,
            "margin": null,
            "max_height": null,
            "max_width": null,
            "min_height": null,
            "min_width": null,
            "object_fit": null,
            "object_position": null,
            "order": null,
            "overflow": null,
            "overflow_x": null,
            "overflow_y": null,
            "padding": null,
            "right": null,
            "top": null,
            "visibility": null,
            "width": null
          }
        },
        "fd16589b0df34424bab7c536b7a91f51": {
          "model_module": "@jupyter-widgets/base",
          "model_module_version": "1.2.0",
          "model_name": "LayoutModel",
          "state": {
            "_model_module": "@jupyter-widgets/base",
            "_model_module_version": "1.2.0",
            "_model_name": "LayoutModel",
            "_view_count": null,
            "_view_module": "@jupyter-widgets/base",
            "_view_module_version": "1.2.0",
            "_view_name": "LayoutView",
            "align_content": null,
            "align_items": null,
            "align_self": null,
            "border": null,
            "bottom": null,
            "display": null,
            "flex": null,
            "flex_flow": null,
            "grid_area": null,
            "grid_auto_columns": null,
            "grid_auto_flow": null,
            "grid_auto_rows": null,
            "grid_column": null,
            "grid_gap": null,
            "grid_row": null,
            "grid_template_areas": null,
            "grid_template_columns": null,
            "grid_template_rows": null,
            "height": null,
            "justify_content": null,
            "justify_items": null,
            "left": null,
            "margin": null,
            "max_height": null,
            "max_width": null,
            "min_height": null,
            "min_width": null,
            "object_fit": null,
            "object_position": null,
            "order": null,
            "overflow": null,
            "overflow_x": null,
            "overflow_y": null,
            "padding": null,
            "right": null,
            "top": null,
            "visibility": null,
            "width": null
          }
        },
        "ff47c4c9ac5d4821b980020d5e94d44c": {
          "model_module": "@jupyter-widgets/base",
          "model_module_version": "1.2.0",
          "model_name": "LayoutModel",
          "state": {
            "_model_module": "@jupyter-widgets/base",
            "_model_module_version": "1.2.0",
            "_model_name": "LayoutModel",
            "_view_count": null,
            "_view_module": "@jupyter-widgets/base",
            "_view_module_version": "1.2.0",
            "_view_name": "LayoutView",
            "align_content": null,
            "align_items": null,
            "align_self": null,
            "border": null,
            "bottom": null,
            "display": null,
            "flex": null,
            "flex_flow": null,
            "grid_area": null,
            "grid_auto_columns": null,
            "grid_auto_flow": null,
            "grid_auto_rows": null,
            "grid_column": null,
            "grid_gap": null,
            "grid_row": null,
            "grid_template_areas": null,
            "grid_template_columns": null,
            "grid_template_rows": null,
            "height": null,
            "justify_content": null,
            "justify_items": null,
            "left": null,
            "margin": null,
            "max_height": null,
            "max_width": null,
            "min_height": null,
            "min_width": null,
            "object_fit": null,
            "object_position": null,
            "order": null,
            "overflow": null,
            "overflow_x": null,
            "overflow_y": null,
            "padding": null,
            "right": null,
            "top": null,
            "visibility": null,
            "width": null
          }
        },
        "ffa70815efa542fa82d67453754f55ea": {
          "model_module": "@jupyter-widgets/controls",
          "model_module_version": "1.5.0",
          "model_name": "DescriptionStyleModel",
          "state": {
            "_model_module": "@jupyter-widgets/controls",
            "_model_module_version": "1.5.0",
            "_model_name": "DescriptionStyleModel",
            "_view_count": null,
            "_view_module": "@jupyter-widgets/base",
            "_view_module_version": "1.2.0",
            "_view_name": "StyleView",
            "description_width": ""
          }
        },
        "ffe90f937dd141ecae4e70743fdd9bc0": {
          "model_module": "@jupyter-widgets/controls",
          "model_module_version": "1.5.0",
          "model_name": "HTMLModel",
          "state": {
            "_dom_classes": [],
            "_model_module": "@jupyter-widgets/controls",
            "_model_module_version": "1.5.0",
            "_model_name": "HTMLModel",
            "_view_count": null,
            "_view_module": "@jupyter-widgets/controls",
            "_view_module_version": "1.5.0",
            "_view_name": "HTMLView",
            "description": "",
            "description_tooltip": null,
            "layout": "IPY_MODEL_b5e314c1b45e463bb4f1760441b685fb",
            "placeholder": "​",
            "style": "IPY_MODEL_c88653d015de4111b33979ba07cc477f",
            "value": " 170/3125 [00:29&lt;08:28,  5.81it/s]"
          }
        }
      }
    }
  },
  "nbformat": 4,
  "nbformat_minor": 0
}
